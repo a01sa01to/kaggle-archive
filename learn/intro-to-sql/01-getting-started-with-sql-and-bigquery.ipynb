{
 "cells": [
  {
   "cell_type": "markdown",
   "id": "7787e9cb",
   "metadata": {
    "papermill": {
     "duration": 0.006529,
     "end_time": "2022-11-23T16:33:29.590439",
     "exception": false,
     "start_time": "2022-11-23T16:33:29.583910",
     "status": "completed"
    },
    "tags": []
   },
   "source": [
    "**This notebook is an exercise in the [SQL](https://www.kaggle.com/learn/intro-to-sql) course.  You can reference the tutorial at [this link](https://www.kaggle.com/dansbecker/getting-started-with-sql-and-bigquery).**\n",
    "\n",
    "---\n"
   ]
  },
  {
   "cell_type": "markdown",
   "id": "2b767c07",
   "metadata": {
    "papermill": {
     "duration": 0.004918,
     "end_time": "2022-11-23T16:33:29.600703",
     "exception": false,
     "start_time": "2022-11-23T16:33:29.595785",
     "status": "completed"
    },
    "tags": []
   },
   "source": [
    "# Introduction\n",
    "\n",
    "The first test of your new data exploration skills uses data describing crime in the city of Chicago.\n",
    "\n",
    "Before you get started, run the following cell. It sets up the automated feedback system to review your answers."
   ]
  },
  {
   "cell_type": "code",
   "execution_count": 1,
   "id": "c69cd8dc",
   "metadata": {
    "execution": {
     "iopub.execute_input": "2022-11-23T16:33:29.614114Z",
     "iopub.status.busy": "2022-11-23T16:33:29.613072Z",
     "iopub.status.idle": "2022-11-23T16:33:30.645072Z",
     "shell.execute_reply": "2022-11-23T16:33:30.643864Z"
    },
    "papermill": {
     "duration": 1.04183,
     "end_time": "2022-11-23T16:33:30.647707",
     "exception": false,
     "start_time": "2022-11-23T16:33:29.605877",
     "status": "completed"
    },
    "tags": []
   },
   "outputs": [
    {
     "name": "stdout",
     "output_type": "stream",
     "text": [
      "Using Kaggle's public dataset BigQuery integration.\n",
      "Setup Complete\n"
     ]
    }
   ],
   "source": [
    "# Set up feedack system\n",
    "from learntools.core import binder\n",
    "binder.bind(globals())\n",
    "from learntools.sql.ex1 import *\n",
    "print(\"Setup Complete\")"
   ]
  },
  {
   "cell_type": "markdown",
   "id": "d80fb861",
   "metadata": {
    "papermill": {
     "duration": 0.005039,
     "end_time": "2022-11-23T16:33:30.658051",
     "exception": false,
     "start_time": "2022-11-23T16:33:30.653012",
     "status": "completed"
    },
    "tags": []
   },
   "source": [
    "Use the next code cell to fetch the dataset."
   ]
  },
  {
   "cell_type": "code",
   "execution_count": 2,
   "id": "63939cdf",
   "metadata": {
    "execution": {
     "iopub.execute_input": "2022-11-23T16:33:30.670601Z",
     "iopub.status.busy": "2022-11-23T16:33:30.669948Z",
     "iopub.status.idle": "2022-11-23T16:33:31.084600Z",
     "shell.execute_reply": "2022-11-23T16:33:31.083679Z"
    },
    "papermill": {
     "duration": 0.424004,
     "end_time": "2022-11-23T16:33:31.087266",
     "exception": false,
     "start_time": "2022-11-23T16:33:30.663262",
     "status": "completed"
    },
    "tags": []
   },
   "outputs": [
    {
     "name": "stdout",
     "output_type": "stream",
     "text": [
      "Using Kaggle's public dataset BigQuery integration.\n"
     ]
    }
   ],
   "source": [
    "from google.cloud import bigquery\n",
    "\n",
    "# Create a \"Client\" object\n",
    "client = bigquery.Client()\n",
    "\n",
    "# Construct a reference to the \"chicago_crime\" dataset\n",
    "dataset_ref = client.dataset(\"chicago_crime\", project=\"bigquery-public-data\")\n",
    "\n",
    "# API request - fetch the dataset\n",
    "dataset = client.get_dataset(dataset_ref)"
   ]
  },
  {
   "cell_type": "markdown",
   "id": "fa457ea6",
   "metadata": {
    "papermill": {
     "duration": 0.006684,
     "end_time": "2022-11-23T16:33:31.100146",
     "exception": false,
     "start_time": "2022-11-23T16:33:31.093462",
     "status": "completed"
    },
    "tags": []
   },
   "source": [
    "# Exercises\n",
    "\n",
    "### 1) Count tables in the dataset\n",
    "\n",
    "How many tables are in the Chicago Crime dataset?"
   ]
  },
  {
   "cell_type": "code",
   "execution_count": 3,
   "id": "0ebd4f75",
   "metadata": {
    "execution": {
     "iopub.execute_input": "2022-11-23T16:33:31.116798Z",
     "iopub.status.busy": "2022-11-23T16:33:31.115983Z",
     "iopub.status.idle": "2022-11-23T16:33:31.126345Z",
     "shell.execute_reply": "2022-11-23T16:33:31.125017Z"
    },
    "papermill": {
     "duration": 0.022036,
     "end_time": "2022-11-23T16:33:31.129201",
     "exception": false,
     "start_time": "2022-11-23T16:33:31.107165",
     "status": "completed"
    },
    "tags": []
   },
   "outputs": [
    {
     "data": {
      "text/plain": [
       "<google.api_core.page_iterator.HTTPIterator at 0x7f0320c38b90>"
      ]
     },
     "execution_count": 3,
     "metadata": {},
     "output_type": "execute_result"
    }
   ],
   "source": [
    "# Write the code you need here to figure out the answer\n",
    "client.list_tables(dataset)"
   ]
  },
  {
   "cell_type": "code",
   "execution_count": 4,
   "id": "31b93f07",
   "metadata": {
    "execution": {
     "iopub.execute_input": "2022-11-23T16:33:31.146599Z",
     "iopub.status.busy": "2022-11-23T16:33:31.145426Z",
     "iopub.status.idle": "2022-11-23T16:33:31.458164Z",
     "shell.execute_reply": "2022-11-23T16:33:31.457184Z"
    },
    "papermill": {
     "duration": 0.324379,
     "end_time": "2022-11-23T16:33:31.460958",
     "exception": false,
     "start_time": "2022-11-23T16:33:31.136579",
     "status": "completed"
    },
    "tags": []
   },
   "outputs": [
    {
     "data": {
      "application/javascript": [
       "parent.postMessage({\"jupyterEvent\": \"custom.exercise_interaction\", \"data\": {\"outcomeType\": 1, \"valueTowardsCompletion\": 0.3333333333333333, \"interactionType\": 1, \"questionType\": 1, \"questionId\": \"1_CountTables\", \"learnToolsVersion\": \"0.3.4\", \"failureMessage\": \"\", \"exceptionClass\": \"\", \"trace\": \"\"}}, \"*\")"
      ],
      "text/plain": [
       "<IPython.core.display.Javascript object>"
      ]
     },
     "metadata": {},
     "output_type": "display_data"
    },
    {
     "data": {
      "text/markdown": [
       "<span style=\"color:#33cc33\">Correct</span>"
      ],
      "text/plain": [
       "Correct"
      ]
     },
     "metadata": {},
     "output_type": "display_data"
    }
   ],
   "source": [
    "tables = list(client.list_tables(dataset))\n",
    "\n",
    "num_tables = len(tables)  # Store the answer as num_tables and then run this cell\n",
    "\n",
    "# Check your answer\n",
    "q_1.check()"
   ]
  },
  {
   "cell_type": "markdown",
   "id": "cdb8ac0c",
   "metadata": {
    "papermill": {
     "duration": 0.007637,
     "end_time": "2022-11-23T16:33:31.478519",
     "exception": false,
     "start_time": "2022-11-23T16:33:31.470882",
     "status": "completed"
    },
    "tags": []
   },
   "source": [
    "For a hint or the solution, uncomment the appropriate line below."
   ]
  },
  {
   "cell_type": "code",
   "execution_count": 5,
   "id": "55b2e74e",
   "metadata": {
    "execution": {
     "iopub.execute_input": "2022-11-23T16:33:31.495767Z",
     "iopub.status.busy": "2022-11-23T16:33:31.494492Z",
     "iopub.status.idle": "2022-11-23T16:33:31.500475Z",
     "shell.execute_reply": "2022-11-23T16:33:31.499520Z"
    },
    "papermill": {
     "duration": 0.017296,
     "end_time": "2022-11-23T16:33:31.503190",
     "exception": false,
     "start_time": "2022-11-23T16:33:31.485894",
     "status": "completed"
    },
    "tags": []
   },
   "outputs": [],
   "source": [
    "#q_1.hint()\n",
    "#q_1.solution()"
   ]
  },
  {
   "cell_type": "markdown",
   "id": "ffd24c48",
   "metadata": {
    "papermill": {
     "duration": 0.005389,
     "end_time": "2022-11-23T16:33:31.514479",
     "exception": false,
     "start_time": "2022-11-23T16:33:31.509090",
     "status": "completed"
    },
    "tags": []
   },
   "source": [
    "### 2) Explore the table schema\n",
    "\n",
    "How many columns in the `crime` table have `TIMESTAMP` data?"
   ]
  },
  {
   "cell_type": "code",
   "execution_count": 6,
   "id": "ad628d6c",
   "metadata": {
    "execution": {
     "iopub.execute_input": "2022-11-23T16:33:31.528025Z",
     "iopub.status.busy": "2022-11-23T16:33:31.527357Z",
     "iopub.status.idle": "2022-11-23T16:33:31.828875Z",
     "shell.execute_reply": "2022-11-23T16:33:31.827718Z"
    },
    "papermill": {
     "duration": 0.310888,
     "end_time": "2022-11-23T16:33:31.831128",
     "exception": false,
     "start_time": "2022-11-23T16:33:31.520240",
     "status": "completed"
    },
    "tags": []
   },
   "outputs": [
    {
     "data": {
      "text/plain": [
       "[SchemaField('unique_key', 'INTEGER', 'REQUIRED', None, (), None),\n",
       " SchemaField('case_number', 'STRING', 'NULLABLE', None, (), None),\n",
       " SchemaField('date', 'TIMESTAMP', 'NULLABLE', None, (), None),\n",
       " SchemaField('block', 'STRING', 'NULLABLE', None, (), None),\n",
       " SchemaField('iucr', 'STRING', 'NULLABLE', None, (), None),\n",
       " SchemaField('primary_type', 'STRING', 'NULLABLE', None, (), None),\n",
       " SchemaField('description', 'STRING', 'NULLABLE', None, (), None),\n",
       " SchemaField('location_description', 'STRING', 'NULLABLE', None, (), None),\n",
       " SchemaField('arrest', 'BOOLEAN', 'NULLABLE', None, (), None),\n",
       " SchemaField('domestic', 'BOOLEAN', 'NULLABLE', None, (), None),\n",
       " SchemaField('beat', 'INTEGER', 'NULLABLE', None, (), None),\n",
       " SchemaField('district', 'INTEGER', 'NULLABLE', None, (), None),\n",
       " SchemaField('ward', 'INTEGER', 'NULLABLE', None, (), None),\n",
       " SchemaField('community_area', 'INTEGER', 'NULLABLE', None, (), None),\n",
       " SchemaField('fbi_code', 'STRING', 'NULLABLE', None, (), None),\n",
       " SchemaField('x_coordinate', 'FLOAT', 'NULLABLE', None, (), None),\n",
       " SchemaField('y_coordinate', 'FLOAT', 'NULLABLE', None, (), None),\n",
       " SchemaField('year', 'INTEGER', 'NULLABLE', None, (), None),\n",
       " SchemaField('updated_on', 'TIMESTAMP', 'NULLABLE', None, (), None),\n",
       " SchemaField('latitude', 'FLOAT', 'NULLABLE', None, (), None),\n",
       " SchemaField('longitude', 'FLOAT', 'NULLABLE', None, (), None),\n",
       " SchemaField('location', 'STRING', 'NULLABLE', None, (), None)]"
      ]
     },
     "execution_count": 6,
     "metadata": {},
     "output_type": "execute_result"
    }
   ],
   "source": [
    "# Write the code to figure out the answer\n",
    "table_ref = dataset_ref.table(\"crime\")\n",
    "table = client.get_table(table_ref)\n",
    "\n",
    "table.schema"
   ]
  },
  {
   "cell_type": "code",
   "execution_count": 7,
   "id": "5290db8b",
   "metadata": {
    "execution": {
     "iopub.execute_input": "2022-11-23T16:33:31.844715Z",
     "iopub.status.busy": "2022-11-23T16:33:31.844068Z",
     "iopub.status.idle": "2022-11-23T16:33:31.852567Z",
     "shell.execute_reply": "2022-11-23T16:33:31.851685Z"
    },
    "papermill": {
     "duration": 0.017812,
     "end_time": "2022-11-23T16:33:31.854732",
     "exception": false,
     "start_time": "2022-11-23T16:33:31.836920",
     "status": "completed"
    },
    "tags": []
   },
   "outputs": [
    {
     "data": {
      "application/javascript": [
       "parent.postMessage({\"jupyterEvent\": \"custom.exercise_interaction\", \"data\": {\"outcomeType\": 1, \"valueTowardsCompletion\": 0.3333333333333333, \"interactionType\": 1, \"questionType\": 1, \"questionId\": \"2_CountTimestampFields\", \"learnToolsVersion\": \"0.3.4\", \"failureMessage\": \"\", \"exceptionClass\": \"\", \"trace\": \"\"}}, \"*\")"
      ],
      "text/plain": [
       "<IPython.core.display.Javascript object>"
      ]
     },
     "metadata": {},
     "output_type": "display_data"
    },
    {
     "data": {
      "text/markdown": [
       "<span style=\"color:#33cc33\">Correct</span>"
      ],
      "text/plain": [
       "Correct"
      ]
     },
     "metadata": {},
     "output_type": "display_data"
    }
   ],
   "source": [
    "num_timestamp_fields = 2 # Put your answer here\n",
    "\n",
    "# Check your answer\n",
    "q_2.check()"
   ]
  },
  {
   "cell_type": "markdown",
   "id": "ead3089b",
   "metadata": {
    "papermill": {
     "duration": 0.005739,
     "end_time": "2022-11-23T16:33:31.866477",
     "exception": false,
     "start_time": "2022-11-23T16:33:31.860738",
     "status": "completed"
    },
    "tags": []
   },
   "source": [
    "For a hint or the solution, uncomment the appropriate line below."
   ]
  },
  {
   "cell_type": "code",
   "execution_count": 8,
   "id": "67edd207",
   "metadata": {
    "execution": {
     "iopub.execute_input": "2022-11-23T16:33:31.879963Z",
     "iopub.status.busy": "2022-11-23T16:33:31.879597Z",
     "iopub.status.idle": "2022-11-23T16:33:31.883749Z",
     "shell.execute_reply": "2022-11-23T16:33:31.882672Z"
    },
    "papermill": {
     "duration": 0.01349,
     "end_time": "2022-11-23T16:33:31.885779",
     "exception": false,
     "start_time": "2022-11-23T16:33:31.872289",
     "status": "completed"
    },
    "tags": []
   },
   "outputs": [],
   "source": [
    "#q_2.hint()\n",
    "#q_2.solution()"
   ]
  },
  {
   "cell_type": "markdown",
   "id": "39663420",
   "metadata": {
    "papermill": {
     "duration": 0.005649,
     "end_time": "2022-11-23T16:33:31.897378",
     "exception": false,
     "start_time": "2022-11-23T16:33:31.891729",
     "status": "completed"
    },
    "tags": []
   },
   "source": [
    "### 3) Create a crime map\n",
    "\n",
    "If you wanted to create a map with a dot at the location of each crime, what are the names of the two fields you likely need to pull out of the `crime` table to plot the crimes on a map?"
   ]
  },
  {
   "cell_type": "code",
   "execution_count": 9,
   "id": "c0dd896a",
   "metadata": {
    "execution": {
     "iopub.execute_input": "2022-11-23T16:33:31.911604Z",
     "iopub.status.busy": "2022-11-23T16:33:31.910802Z",
     "iopub.status.idle": "2022-11-23T16:33:31.917326Z",
     "shell.execute_reply": "2022-11-23T16:33:31.916537Z"
    },
    "papermill": {
     "duration": 0.015956,
     "end_time": "2022-11-23T16:33:31.919334",
     "exception": false,
     "start_time": "2022-11-23T16:33:31.903378",
     "status": "completed"
    },
    "tags": []
   },
   "outputs": [
    {
     "data": {
      "text/plain": [
       "[SchemaField('unique_key', 'INTEGER', 'REQUIRED', None, (), None),\n",
       " SchemaField('case_number', 'STRING', 'NULLABLE', None, (), None),\n",
       " SchemaField('date', 'TIMESTAMP', 'NULLABLE', None, (), None),\n",
       " SchemaField('block', 'STRING', 'NULLABLE', None, (), None),\n",
       " SchemaField('iucr', 'STRING', 'NULLABLE', None, (), None),\n",
       " SchemaField('primary_type', 'STRING', 'NULLABLE', None, (), None),\n",
       " SchemaField('description', 'STRING', 'NULLABLE', None, (), None),\n",
       " SchemaField('location_description', 'STRING', 'NULLABLE', None, (), None),\n",
       " SchemaField('arrest', 'BOOLEAN', 'NULLABLE', None, (), None),\n",
       " SchemaField('domestic', 'BOOLEAN', 'NULLABLE', None, (), None),\n",
       " SchemaField('beat', 'INTEGER', 'NULLABLE', None, (), None),\n",
       " SchemaField('district', 'INTEGER', 'NULLABLE', None, (), None),\n",
       " SchemaField('ward', 'INTEGER', 'NULLABLE', None, (), None),\n",
       " SchemaField('community_area', 'INTEGER', 'NULLABLE', None, (), None),\n",
       " SchemaField('fbi_code', 'STRING', 'NULLABLE', None, (), None),\n",
       " SchemaField('x_coordinate', 'FLOAT', 'NULLABLE', None, (), None),\n",
       " SchemaField('y_coordinate', 'FLOAT', 'NULLABLE', None, (), None),\n",
       " SchemaField('year', 'INTEGER', 'NULLABLE', None, (), None),\n",
       " SchemaField('updated_on', 'TIMESTAMP', 'NULLABLE', None, (), None),\n",
       " SchemaField('latitude', 'FLOAT', 'NULLABLE', None, (), None),\n",
       " SchemaField('longitude', 'FLOAT', 'NULLABLE', None, (), None),\n",
       " SchemaField('location', 'STRING', 'NULLABLE', None, (), None)]"
      ]
     },
     "execution_count": 9,
     "metadata": {},
     "output_type": "execute_result"
    }
   ],
   "source": [
    "# Write the code here to explore the data so you can find the answer\n",
    "table.schema"
   ]
  },
  {
   "cell_type": "code",
   "execution_count": 10,
   "id": "34c7550e",
   "metadata": {
    "execution": {
     "iopub.execute_input": "2022-11-23T16:33:31.933774Z",
     "iopub.status.busy": "2022-11-23T16:33:31.933136Z",
     "iopub.status.idle": "2022-11-23T16:33:31.940837Z",
     "shell.execute_reply": "2022-11-23T16:33:31.939943Z"
    },
    "papermill": {
     "duration": 0.017261,
     "end_time": "2022-11-23T16:33:31.942865",
     "exception": false,
     "start_time": "2022-11-23T16:33:31.925604",
     "status": "completed"
    },
    "tags": []
   },
   "outputs": [
    {
     "data": {
      "application/javascript": [
       "parent.postMessage({\"jupyterEvent\": \"custom.exercise_interaction\", \"data\": {\"outcomeType\": 1, \"valueTowardsCompletion\": 0.3333333333333333, \"interactionType\": 1, \"questionType\": 2, \"questionId\": \"3_IdentifyFieldsForPlotting\", \"learnToolsVersion\": \"0.3.4\", \"failureMessage\": \"\", \"exceptionClass\": \"\", \"trace\": \"\"}}, \"*\")"
      ],
      "text/plain": [
       "<IPython.core.display.Javascript object>"
      ]
     },
     "metadata": {},
     "output_type": "display_data"
    },
    {
     "data": {
      "text/markdown": [
       "<span style=\"color:#33cc33\">Correct</span>"
      ],
      "text/plain": [
       "Correct"
      ]
     },
     "metadata": {},
     "output_type": "display_data"
    }
   ],
   "source": [
    "fields_for_plotting = [\"latitude\", \"longitude\"] # Put your answers here\n",
    "\n",
    "# Check your answer\n",
    "q_3.check()"
   ]
  },
  {
   "cell_type": "markdown",
   "id": "137e01d8",
   "metadata": {
    "papermill": {
     "duration": 0.006163,
     "end_time": "2022-11-23T16:33:31.955597",
     "exception": false,
     "start_time": "2022-11-23T16:33:31.949434",
     "status": "completed"
    },
    "tags": []
   },
   "source": [
    "For a hint or the solution, uncomment the appropriate line below."
   ]
  },
  {
   "cell_type": "code",
   "execution_count": 11,
   "id": "bea740e8",
   "metadata": {
    "execution": {
     "iopub.execute_input": "2022-11-23T16:33:31.970016Z",
     "iopub.status.busy": "2022-11-23T16:33:31.969619Z",
     "iopub.status.idle": "2022-11-23T16:33:31.973910Z",
     "shell.execute_reply": "2022-11-23T16:33:31.972960Z"
    },
    "papermill": {
     "duration": 0.014188,
     "end_time": "2022-11-23T16:33:31.976171",
     "exception": false,
     "start_time": "2022-11-23T16:33:31.961983",
     "status": "completed"
    },
    "tags": []
   },
   "outputs": [],
   "source": [
    "#q_3.hint()\n",
    "#q_3.solution()"
   ]
  },
  {
   "cell_type": "markdown",
   "id": "f74bfcde",
   "metadata": {
    "papermill": {
     "duration": 0.006264,
     "end_time": "2022-11-23T16:33:31.988981",
     "exception": false,
     "start_time": "2022-11-23T16:33:31.982717",
     "status": "completed"
    },
    "tags": []
   },
   "source": [
    "Thinking about the question above, there are a few columns that appear to have geographic data. Look at a few values (with the `list_rows()` command) to see if you can determine their relationship.  Two columns will still be hard to interpret. But it should be obvious how the `location` column relates to `latitude` and `longitude`."
   ]
  },
  {
   "cell_type": "code",
   "execution_count": 12,
   "id": "06a4c521",
   "metadata": {
    "execution": {
     "iopub.execute_input": "2022-11-23T16:33:32.003856Z",
     "iopub.status.busy": "2022-11-23T16:33:32.003200Z",
     "iopub.status.idle": "2022-11-23T16:33:32.007729Z",
     "shell.execute_reply": "2022-11-23T16:33:32.006718Z"
    },
    "papermill": {
     "duration": 0.014575,
     "end_time": "2022-11-23T16:33:32.009947",
     "exception": false,
     "start_time": "2022-11-23T16:33:31.995372",
     "status": "completed"
    },
    "tags": []
   },
   "outputs": [],
   "source": [
    "# Scratch space for your code"
   ]
  },
  {
   "cell_type": "markdown",
   "id": "a0a85e0b",
   "metadata": {
    "papermill": {
     "duration": 0.006331,
     "end_time": "2022-11-23T16:33:32.022752",
     "exception": false,
     "start_time": "2022-11-23T16:33:32.016421",
     "status": "completed"
    },
    "tags": []
   },
   "source": [
    "# Keep going\n",
    "\n",
    "You've looked at the schema, but you haven't yet done anything exciting with the data itself. Things get more interesting when you get to the data, so keep going to **[write your first SQL query](https://www.kaggle.com/dansbecker/select-from-where).**"
   ]
  },
  {
   "cell_type": "markdown",
   "id": "dbc0980d",
   "metadata": {
    "papermill": {
     "duration": 0.006117,
     "end_time": "2022-11-23T16:33:32.035324",
     "exception": false,
     "start_time": "2022-11-23T16:33:32.029207",
     "status": "completed"
    },
    "tags": []
   },
   "source": [
    "---\n",
    "\n",
    "\n",
    "\n",
    "\n",
    "*Have questions or comments? Visit the [course discussion forum](https://www.kaggle.com/learn/intro-to-sql/discussion) to chat with other learners.*"
   ]
  }
 ],
 "metadata": {
  "kernelspec": {
   "display_name": "Python 3",
   "language": "python",
   "name": "python3"
  },
  "language_info": {
   "codemirror_mode": {
    "name": "ipython",
    "version": 3
   },
   "file_extension": ".py",
   "mimetype": "text/x-python",
   "name": "python",
   "nbconvert_exporter": "python",
   "pygments_lexer": "ipython3",
   "version": "3.7.12"
  },
  "papermill": {
   "default_parameters": {},
   "duration": 11.781624,
   "end_time": "2022-11-23T16:33:32.663698",
   "environment_variables": {},
   "exception": null,
   "input_path": "__notebook__.ipynb",
   "output_path": "__notebook__.ipynb",
   "parameters": {},
   "start_time": "2022-11-23T16:33:20.882074",
   "version": "2.3.4"
  }
 },
 "nbformat": 4,
 "nbformat_minor": 5
}
