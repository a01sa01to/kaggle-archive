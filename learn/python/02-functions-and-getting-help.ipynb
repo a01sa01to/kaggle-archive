{
 "cells": [
  {
   "cell_type": "markdown",
   "id": "7c19bfe7",
   "metadata": {
    "papermill": {
     "duration": 0.004563,
     "end_time": "2022-10-24T04:26:23.478882",
     "exception": false,
     "start_time": "2022-10-24T04:26:23.474319",
     "status": "completed"
    },
    "tags": []
   },
   "source": [
    "**This notebook is an exercise in the [Python](https://www.kaggle.com/learn/python) course.  You can reference the tutorial at [this link](https://www.kaggle.com/colinmorris/functions-and-getting-help).**\n",
    "\n",
    "---\n"
   ]
  },
  {
   "cell_type": "markdown",
   "id": "f9377178",
   "metadata": {
    "papermill": {
     "duration": 0.003413,
     "end_time": "2022-10-24T04:26:23.486001",
     "exception": false,
     "start_time": "2022-10-24T04:26:23.482588",
     "status": "completed"
    },
    "tags": []
   },
   "source": [
    "Functions are powerful. Try writing some yourself.\n",
    "\n",
    "As before, don't forget to run the setup code below before jumping into question 1."
   ]
  },
  {
   "cell_type": "code",
   "execution_count": 1,
   "id": "ef1b4daf",
   "metadata": {
    "_kg_hide-input": true,
    "_kg_hide-output": true,
    "execution": {
     "iopub.execute_input": "2022-10-24T04:26:23.494986Z",
     "iopub.status.busy": "2022-10-24T04:26:23.494591Z",
     "iopub.status.idle": "2022-10-24T04:26:23.541748Z",
     "shell.execute_reply": "2022-10-24T04:26:23.540253Z"
    },
    "papermill": {
     "duration": 0.054692,
     "end_time": "2022-10-24T04:26:23.544306",
     "exception": false,
     "start_time": "2022-10-24T04:26:23.489614",
     "status": "completed"
    },
    "tags": []
   },
   "outputs": [
    {
     "name": "stdout",
     "output_type": "stream",
     "text": [
      "Setup complete.\n"
     ]
    }
   ],
   "source": [
    "# SETUP. You don't need to worry for now about what this code does or how it works.\n",
    "from learntools.core import binder; binder.bind(globals())\n",
    "from learntools.python.ex2 import *\n",
    "print('Setup complete.')"
   ]
  },
  {
   "cell_type": "markdown",
   "id": "3f84b1e7",
   "metadata": {
    "papermill": {
     "duration": 0.003643,
     "end_time": "2022-10-24T04:26:23.551949",
     "exception": false,
     "start_time": "2022-10-24T04:26:23.548306",
     "status": "completed"
    },
    "tags": []
   },
   "source": [
    "# 1.\n",
    "\n",
    "Complete the body of the following function according to its docstring.\n",
    "\n",
    "HINT: Python has a built-in function `round`."
   ]
  },
  {
   "cell_type": "code",
   "execution_count": 2,
   "id": "c2988f61",
   "metadata": {
    "execution": {
     "iopub.execute_input": "2022-10-24T04:26:23.561402Z",
     "iopub.status.busy": "2022-10-24T04:26:23.560426Z",
     "iopub.status.idle": "2022-10-24T04:26:23.571264Z",
     "shell.execute_reply": "2022-10-24T04:26:23.570280Z"
    },
    "papermill": {
     "duration": 0.017942,
     "end_time": "2022-10-24T04:26:23.573588",
     "exception": false,
     "start_time": "2022-10-24T04:26:23.555646",
     "status": "completed"
    },
    "tags": []
   },
   "outputs": [
    {
     "data": {
      "application/javascript": [
       "parent.postMessage({\"jupyterEvent\": \"custom.exercise_interaction\", \"data\": {\"outcomeType\": 1, \"valueTowardsCompletion\": 0.16666666666666666, \"interactionType\": 1, \"questionType\": 2, \"questionId\": \"1_RoundFunctionProblem\", \"learnToolsVersion\": \"0.3.4\", \"failureMessage\": \"\", \"exceptionClass\": \"\", \"trace\": \"\"}}, \"*\")"
      ],
      "text/plain": [
       "<IPython.core.display.Javascript object>"
      ]
     },
     "metadata": {},
     "output_type": "display_data"
    },
    {
     "data": {
      "text/markdown": [
       "<span style=\"color:#33cc33\">Correct</span>"
      ],
      "text/plain": [
       "Correct"
      ]
     },
     "metadata": {},
     "output_type": "display_data"
    }
   ],
   "source": [
    "def round_to_two_places(num):\n",
    "    \"\"\"Return the given number rounded to two decimal places. \n",
    "    \n",
    "    >>> round_to_two_places(3.14159)\n",
    "    3.14\n",
    "    \"\"\"\n",
    "    # Replace this body with your own code.\n",
    "    # (\"pass\" is a keyword that does literally nothing. We used it as a placeholder\n",
    "    # because after we begin a code block, Python requires at least one line of code)\n",
    "    return round(num, 2)\n",
    "\n",
    "# Check your answer\n",
    "q1.check()"
   ]
  },
  {
   "cell_type": "code",
   "execution_count": 3,
   "id": "32efbc20",
   "metadata": {
    "execution": {
     "iopub.execute_input": "2022-10-24T04:26:23.583854Z",
     "iopub.status.busy": "2022-10-24T04:26:23.583546Z",
     "iopub.status.idle": "2022-10-24T04:26:23.587394Z",
     "shell.execute_reply": "2022-10-24T04:26:23.586422Z"
    },
    "papermill": {
     "duration": 0.010796,
     "end_time": "2022-10-24T04:26:23.588985",
     "exception": false,
     "start_time": "2022-10-24T04:26:23.578189",
     "status": "completed"
    },
    "tags": []
   },
   "outputs": [],
   "source": [
    "# Uncomment the following for a hint\n",
    "#q1.hint()\n",
    "# Or uncomment the following to peek at the solution\n",
    "#q1.solution()"
   ]
  },
  {
   "cell_type": "markdown",
   "id": "bbfe6e31",
   "metadata": {
    "papermill": {
     "duration": 0.003701,
     "end_time": "2022-10-24T04:26:23.596872",
     "exception": false,
     "start_time": "2022-10-24T04:26:23.593171",
     "status": "completed"
    },
    "tags": []
   },
   "source": [
    "# 2.\n",
    "The help for `round` says that `ndigits` (the second argument) may be negative.\n",
    "What do you think will happen when it is? Try some examples in the following cell."
   ]
  },
  {
   "cell_type": "code",
   "execution_count": 4,
   "id": "07610756",
   "metadata": {
    "execution": {
     "iopub.execute_input": "2022-10-24T04:26:23.606604Z",
     "iopub.status.busy": "2022-10-24T04:26:23.605749Z",
     "iopub.status.idle": "2022-10-24T04:26:23.610821Z",
     "shell.execute_reply": "2022-10-24T04:26:23.610246Z"
    },
    "papermill": {
     "duration": 0.011586,
     "end_time": "2022-10-24T04:26:23.612301",
     "exception": false,
     "start_time": "2022-10-24T04:26:23.600715",
     "status": "completed"
    },
    "tags": []
   },
   "outputs": [
    {
     "data": {
      "text/plain": [
       "0.0"
      ]
     },
     "execution_count": 4,
     "metadata": {},
     "output_type": "execute_result"
    }
   ],
   "source": [
    "# Put your test code here\n",
    "round(3.14, -2)"
   ]
  },
  {
   "cell_type": "markdown",
   "id": "ebe84e29",
   "metadata": {
    "papermill": {
     "duration": 0.003786,
     "end_time": "2022-10-24T04:26:23.620158",
     "exception": false,
     "start_time": "2022-10-24T04:26:23.616372",
     "status": "completed"
    },
    "tags": []
   },
   "source": [
    "Can you think of a case where this would be useful?  Once you're ready, run the code cell below to see the answer and to receive credit for completing the problem."
   ]
  },
  {
   "cell_type": "code",
   "execution_count": 5,
   "id": "3906a690",
   "metadata": {
    "execution": {
     "iopub.execute_input": "2022-10-24T04:26:23.629698Z",
     "iopub.status.busy": "2022-10-24T04:26:23.629347Z",
     "iopub.status.idle": "2022-10-24T04:26:23.636109Z",
     "shell.execute_reply": "2022-10-24T04:26:23.635228Z"
    },
    "papermill": {
     "duration": 0.013521,
     "end_time": "2022-10-24T04:26:23.637593",
     "exception": false,
     "start_time": "2022-10-24T04:26:23.624072",
     "status": "completed"
    },
    "tags": []
   },
   "outputs": [
    {
     "data": {
      "application/javascript": [
       "parent.postMessage({\"jupyterEvent\": \"custom.exercise_interaction\", \"data\": {\"interactionType\": 3, \"questionType\": 4, \"questionId\": \"2_RoundNdigitsProblem\", \"learnToolsVersion\": \"0.3.4\", \"valueTowardsCompletion\": 0.0, \"failureMessage\": \"\", \"exceptionClass\": \"\", \"trace\": \"\", \"outcomeType\": 4}}, \"*\")"
      ],
      "text/plain": [
       "<IPython.core.display.Javascript object>"
      ]
     },
     "metadata": {},
     "output_type": "display_data"
    },
    {
     "data": {
      "text/markdown": [
       "<span style=\"color:#33cc99\">Solution:</span> As you've seen, `ndigits=-1` rounds to the nearest 10, `ndigits=-2` rounds to the nearest 100 and so on. Where might this be useful? Suppose we're dealing with large numbers:\n",
       "\n",
       "> The area of Finland is 338,424 km²  \n",
       "> The area of Greenland is 2,166,086 km²\n",
       "\n",
       "We probably don't care whether it's really 338,424, or 338,425, or 338,177. All those digits of accuracy are just distracting. We can chop them off by calling `round()` with `ndigits=-3`:\n",
       "\n",
       "> The area of Finland is 338,000 km²  \n",
       "> The area of Greenland is 2,166,000 km²\n",
       "\n",
       "(We'll talk about how we would get the commas later when we talk about string formatting :))\n"
      ],
      "text/plain": [
       "Solution: As you've seen, `ndigits=-1` rounds to the nearest 10, `ndigits=-2` rounds to the nearest 100 and so on. Where might this be useful? Suppose we're dealing with large numbers:\n",
       "\n",
       "> The area of Finland is 338,424 km²  \n",
       "> The area of Greenland is 2,166,086 km²\n",
       "\n",
       "We probably don't care whether it's really 338,424, or 338,425, or 338,177. All those digits of accuracy are just distracting. We can chop them off by calling `round()` with `ndigits=-3`:\n",
       "\n",
       "> The area of Finland is 338,000 km²  \n",
       "> The area of Greenland is 2,166,000 km²\n",
       "\n",
       "(We'll talk about how we would get the commas later when we talk about string formatting :))"
      ]
     },
     "metadata": {},
     "output_type": "display_data"
    }
   ],
   "source": [
    "# Check your answer (Run this code cell to receive credit!)\n",
    "q2.solution()"
   ]
  },
  {
   "cell_type": "markdown",
   "id": "490211c8",
   "metadata": {
    "papermill": {
     "duration": 0.003942,
     "end_time": "2022-10-24T04:26:23.645811",
     "exception": false,
     "start_time": "2022-10-24T04:26:23.641869",
     "status": "completed"
    },
    "tags": []
   },
   "source": [
    "# 3.\n",
    "\n",
    "In the previous exercise, the candy-sharing friends Alice, Bob and Carol tried to split candies evenly. For the sake of their friendship, any candies left over would be smashed. For example, if they collectively bring home 91 candies, they'll take 30 each and smash 1.\n",
    "\n",
    "Below is a simple function that will calculate the number of candies to smash for *any* number of total candies.\n",
    "\n",
    "Modify it so that it optionally takes a second argument representing the number of friends the candies are being split between. If no second argument is provided, it should assume 3 friends, as before.\n",
    "\n",
    "Update the docstring to reflect this new behaviour."
   ]
  },
  {
   "cell_type": "code",
   "execution_count": 6,
   "id": "64a0bdab",
   "metadata": {
    "execution": {
     "iopub.execute_input": "2022-10-24T04:26:23.655588Z",
     "iopub.status.busy": "2022-10-24T04:26:23.655206Z",
     "iopub.status.idle": "2022-10-24T04:26:23.663356Z",
     "shell.execute_reply": "2022-10-24T04:26:23.662502Z"
    },
    "papermill": {
     "duration": 0.015474,
     "end_time": "2022-10-24T04:26:23.665455",
     "exception": false,
     "start_time": "2022-10-24T04:26:23.649981",
     "status": "completed"
    },
    "tags": []
   },
   "outputs": [
    {
     "data": {
      "application/javascript": [
       "parent.postMessage({\"jupyterEvent\": \"custom.exercise_interaction\", \"data\": {\"outcomeType\": 1, \"valueTowardsCompletion\": 0.16666666666666666, \"interactionType\": 1, \"questionType\": 2, \"questionId\": \"3_CandySmashingFunctionProblem\", \"learnToolsVersion\": \"0.3.4\", \"failureMessage\": \"\", \"exceptionClass\": \"\", \"trace\": \"\"}}, \"*\")"
      ],
      "text/plain": [
       "<IPython.core.display.Javascript object>"
      ]
     },
     "metadata": {},
     "output_type": "display_data"
    },
    {
     "data": {
      "text/markdown": [
       "<span style=\"color:#33cc33\">Correct</span>"
      ],
      "text/plain": [
       "Correct"
      ]
     },
     "metadata": {},
     "output_type": "display_data"
    }
   ],
   "source": [
    "def to_smash(total_candies, num = 3):\n",
    "    \"\"\"Return the number of leftover candies that must be smashed after distributing\n",
    "    the given number of candies evenly between 3 friends.\n",
    "    \n",
    "    >>> to_smash(91)\n",
    "    1\n",
    "    \"\"\"\n",
    "    return total_candies % num\n",
    "\n",
    "# Check your answer\n",
    "q3.check()"
   ]
  },
  {
   "cell_type": "code",
   "execution_count": 7,
   "id": "e8c92d29",
   "metadata": {
    "execution": {
     "iopub.execute_input": "2022-10-24T04:26:23.677079Z",
     "iopub.status.busy": "2022-10-24T04:26:23.676497Z",
     "iopub.status.idle": "2022-10-24T04:26:23.679579Z",
     "shell.execute_reply": "2022-10-24T04:26:23.679072Z"
    },
    "papermill": {
     "duration": 0.010736,
     "end_time": "2022-10-24T04:26:23.681318",
     "exception": false,
     "start_time": "2022-10-24T04:26:23.670582",
     "status": "completed"
    },
    "tags": []
   },
   "outputs": [],
   "source": [
    "#q3.hint()"
   ]
  },
  {
   "cell_type": "code",
   "execution_count": 8,
   "id": "fde22880",
   "metadata": {
    "execution": {
     "iopub.execute_input": "2022-10-24T04:26:23.693393Z",
     "iopub.status.busy": "2022-10-24T04:26:23.692840Z",
     "iopub.status.idle": "2022-10-24T04:26:23.695953Z",
     "shell.execute_reply": "2022-10-24T04:26:23.695157Z"
    },
    "papermill": {
     "duration": 0.011344,
     "end_time": "2022-10-24T04:26:23.697530",
     "exception": false,
     "start_time": "2022-10-24T04:26:23.686186",
     "status": "completed"
    },
    "tags": []
   },
   "outputs": [],
   "source": [
    "#q3.solution()"
   ]
  },
  {
   "cell_type": "markdown",
   "id": "581c5d7a",
   "metadata": {
    "papermill": {
     "duration": 0.004151,
     "end_time": "2022-10-24T04:26:23.706443",
     "exception": false,
     "start_time": "2022-10-24T04:26:23.702292",
     "status": "completed"
    },
    "tags": []
   },
   "source": [
    "# 4. (Optional)\n",
    "\n",
    "It may not be fun, but reading and understanding error messages will be an important part of your Python career.\n",
    "\n",
    "Each code cell below contains some commented buggy code. For each cell...\n",
    "\n",
    "1. Read the code and predict what you think will happen when it's run.\n",
    "2. Then uncomment the code and run it to see what happens. (**Tip**: In the kernel editor, you can highlight several lines and press `ctrl`+`/` to toggle commenting.)\n",
    "3. Fix the code (so that it accomplishes its intended purpose without throwing an exception)\n",
    "\n",
    "<!-- TODO: should this be autochecked? Delta is probably pretty small. -->"
   ]
  },
  {
   "cell_type": "code",
   "execution_count": 9,
   "id": "c2fb9ebd",
   "metadata": {
    "execution": {
     "iopub.execute_input": "2022-10-24T04:26:23.716703Z",
     "iopub.status.busy": "2022-10-24T04:26:23.716246Z",
     "iopub.status.idle": "2022-10-24T04:26:23.721313Z",
     "shell.execute_reply": "2022-10-24T04:26:23.720408Z"
    },
    "papermill": {
     "duration": 0.012252,
     "end_time": "2022-10-24T04:26:23.723010",
     "exception": false,
     "start_time": "2022-10-24T04:26:23.710758",
     "status": "completed"
    },
    "tags": []
   },
   "outputs": [
    {
     "data": {
      "text/plain": [
       "10.0"
      ]
     },
     "execution_count": 9,
     "metadata": {},
     "output_type": "execute_result"
    }
   ],
   "source": [
    "round_to_two_places(9.9999)"
   ]
  },
  {
   "cell_type": "code",
   "execution_count": 10,
   "id": "4da07756",
   "metadata": {
    "execution": {
     "iopub.execute_input": "2022-10-24T04:26:23.733357Z",
     "iopub.status.busy": "2022-10-24T04:26:23.732913Z",
     "iopub.status.idle": "2022-10-24T04:26:23.736227Z",
     "shell.execute_reply": "2022-10-24T04:26:23.735727Z"
    },
    "papermill": {
     "duration": 0.009973,
     "end_time": "2022-10-24T04:26:23.737719",
     "exception": false,
     "start_time": "2022-10-24T04:26:23.727746",
     "status": "completed"
    },
    "tags": []
   },
   "outputs": [],
   "source": [
    "x = -10\n",
    "y = 5\n",
    "# Which of the two variables above has the smallest absolute value?\n",
    "smallest_abs = min(abs(x), abs(y))"
   ]
  },
  {
   "cell_type": "code",
   "execution_count": 11,
   "id": "21999590",
   "metadata": {
    "execution": {
     "iopub.execute_input": "2022-10-24T04:26:23.748854Z",
     "iopub.status.busy": "2022-10-24T04:26:23.748562Z",
     "iopub.status.idle": "2022-10-24T04:26:23.753446Z",
     "shell.execute_reply": "2022-10-24T04:26:23.752467Z"
    },
    "papermill": {
     "duration": 0.012563,
     "end_time": "2022-10-24T04:26:23.755342",
     "exception": false,
     "start_time": "2022-10-24T04:26:23.742779",
     "status": "completed"
    },
    "tags": []
   },
   "outputs": [
    {
     "name": "stdout",
     "output_type": "stream",
     "text": [
      "5\n"
     ]
    }
   ],
   "source": [
    "def f(x):\n",
    "    y = abs(x)\n",
    "    return y\n",
    "\n",
    "print(f(5))"
   ]
  },
  {
   "cell_type": "markdown",
   "id": "1f76ee39",
   "metadata": {
    "papermill": {
     "duration": 0.004422,
     "end_time": "2022-10-24T04:26:23.764689",
     "exception": false,
     "start_time": "2022-10-24T04:26:23.760267",
     "status": "completed"
    },
    "tags": []
   },
   "source": [
    "# Keep Going\n",
    "\n",
    "Nice job with the code. Next up, you'll learn about *conditionals*, which you'll need to **[write interesting programs](https://www.kaggle.com/colinmorris/booleans-and-conditionals)**. "
   ]
  },
  {
   "cell_type": "markdown",
   "id": "e384b1a3",
   "metadata": {
    "papermill": {
     "duration": 0.004536,
     "end_time": "2022-10-24T04:26:23.774149",
     "exception": false,
     "start_time": "2022-10-24T04:26:23.769613",
     "status": "completed"
    },
    "tags": []
   },
   "source": [
    "---\n",
    "\n",
    "\n",
    "\n",
    "\n",
    "*Have questions or comments? Visit the [course discussion forum](https://www.kaggle.com/learn/python/discussion) to chat with other learners.*"
   ]
  }
 ],
 "metadata": {
  "kernelspec": {
   "display_name": "Python 3",
   "language": "python",
   "name": "python3"
  },
  "language_info": {
   "codemirror_mode": {
    "name": "ipython",
    "version": 3
   },
   "file_extension": ".py",
   "mimetype": "text/x-python",
   "name": "python",
   "nbconvert_exporter": "python",
   "pygments_lexer": "ipython3",
   "version": "3.7.12"
  },
  "papermill": {
   "default_parameters": {},
   "duration": 7.320654,
   "end_time": "2022-10-24T04:26:24.298396",
   "environment_variables": {},
   "exception": null,
   "input_path": "__notebook__.ipynb",
   "output_path": "__notebook__.ipynb",
   "parameters": {},
   "start_time": "2022-10-24T04:26:16.977742",
   "version": "2.3.4"
  }
 },
 "nbformat": 4,
 "nbformat_minor": 5
}
