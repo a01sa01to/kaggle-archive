{
 "cells": [
  {
   "cell_type": "markdown",
   "id": "35061eaa",
   "metadata": {
    "papermill": {
     "duration": 0.006819,
     "end_time": "2022-10-24T04:25:08.519994",
     "exception": false,
     "start_time": "2022-10-24T04:25:08.513175",
     "status": "completed"
    },
    "tags": []
   },
   "source": [
    "**This notebook is an exercise in the [Python](https://www.kaggle.com/learn/python) course.  You can reference the tutorial at [this link](https://www.kaggle.com/colinmorris/strings-and-dictionaries).**\n",
    "\n",
    "---\n"
   ]
  },
  {
   "cell_type": "markdown",
   "id": "86029ef6",
   "metadata": {
    "papermill": {
     "duration": 0.005237,
     "end_time": "2022-10-24T04:25:08.530944",
     "exception": false,
     "start_time": "2022-10-24T04:25:08.525707",
     "status": "completed"
    },
    "tags": []
   },
   "source": [
    "You are almost done with the course. Nice job!\n",
    "\n",
    "We have a couple more interesting problems for you before you go. \n",
    "\n",
    "As always, run the setup code below before working on the questions."
   ]
  },
  {
   "cell_type": "code",
   "execution_count": 1,
   "id": "f314480f",
   "metadata": {
    "execution": {
     "iopub.execute_input": "2022-10-24T04:25:08.544929Z",
     "iopub.status.busy": "2022-10-24T04:25:08.543495Z",
     "iopub.status.idle": "2022-10-24T04:25:08.601893Z",
     "shell.execute_reply": "2022-10-24T04:25:08.600498Z"
    },
    "papermill": {
     "duration": 0.069091,
     "end_time": "2022-10-24T04:25:08.605751",
     "exception": false,
     "start_time": "2022-10-24T04:25:08.536660",
     "status": "completed"
    },
    "tags": []
   },
   "outputs": [
    {
     "name": "stdout",
     "output_type": "stream",
     "text": [
      "Setup complete.\n"
     ]
    }
   ],
   "source": [
    "from learntools.core import binder; binder.bind(globals())\n",
    "from learntools.python.ex6 import *\n",
    "print('Setup complete.')"
   ]
  },
  {
   "cell_type": "markdown",
   "id": "8970bca7",
   "metadata": {
    "papermill": {
     "duration": 0.005274,
     "end_time": "2022-10-24T04:25:08.617019",
     "exception": false,
     "start_time": "2022-10-24T04:25:08.611745",
     "status": "completed"
    },
    "tags": []
   },
   "source": [
    "Let's start with a string lightning round to warm up. What are the lengths of the strings below?\n",
    "\n",
    "For each of the five strings below, predict what `len()` would return when passed that string. Use the variable `length` to record your answer, then run the cell to check whether you were right.  \n",
    "\n",
    "# 0a."
   ]
  },
  {
   "cell_type": "code",
   "execution_count": 2,
   "id": "4478ef5f",
   "metadata": {
    "execution": {
     "iopub.execute_input": "2022-10-24T04:25:08.629615Z",
     "iopub.status.busy": "2022-10-24T04:25:08.629167Z",
     "iopub.status.idle": "2022-10-24T04:25:08.641229Z",
     "shell.execute_reply": "2022-10-24T04:25:08.640301Z"
    },
    "papermill": {
     "duration": 0.02099,
     "end_time": "2022-10-24T04:25:08.643389",
     "exception": false,
     "start_time": "2022-10-24T04:25:08.622399",
     "status": "completed"
    },
    "tags": []
   },
   "outputs": [
    {
     "data": {
      "application/javascript": [
       "parent.postMessage({\"jupyterEvent\": \"custom.exercise_interaction\", \"data\": {\"outcomeType\": 1, \"valueTowardsCompletion\": 0.3333333333333333, \"interactionType\": 1, \"questionType\": 1, \"questionId\": \"0.1_ZA\", \"learnToolsVersion\": \"0.3.4\", \"failureMessage\": \"\", \"exceptionClass\": \"\", \"trace\": \"\"}}, \"*\")"
      ],
      "text/plain": [
       "<IPython.core.display.Javascript object>"
      ]
     },
     "metadata": {},
     "output_type": "display_data"
    },
    {
     "data": {
      "text/markdown": [
       "<span style=\"color:#33cc33\">Correct:</span> \n",
       "\n",
       "The empty string has length zero. Note that the empty string is also the only string that Python considers as False when converting to boolean."
      ],
      "text/plain": [
       "Correct: \n",
       "\n",
       "The empty string has length zero. Note that the empty string is also the only string that Python considers as False when converting to boolean."
      ]
     },
     "metadata": {},
     "output_type": "display_data"
    }
   ],
   "source": [
    "a = \"\"\n",
    "length = len(a)\n",
    "q0.a.check()"
   ]
  },
  {
   "cell_type": "markdown",
   "id": "5627db26",
   "metadata": {
    "papermill": {
     "duration": 0.005422,
     "end_time": "2022-10-24T04:25:08.654657",
     "exception": false,
     "start_time": "2022-10-24T04:25:08.649235",
     "status": "completed"
    },
    "tags": []
   },
   "source": [
    "# 0b."
   ]
  },
  {
   "cell_type": "code",
   "execution_count": 3,
   "id": "ee057a1b",
   "metadata": {
    "execution": {
     "iopub.execute_input": "2022-10-24T04:25:08.668503Z",
     "iopub.status.busy": "2022-10-24T04:25:08.667770Z",
     "iopub.status.idle": "2022-10-24T04:25:08.676265Z",
     "shell.execute_reply": "2022-10-24T04:25:08.675206Z"
    },
    "papermill": {
     "duration": 0.0178,
     "end_time": "2022-10-24T04:25:08.678407",
     "exception": false,
     "start_time": "2022-10-24T04:25:08.660607",
     "status": "completed"
    },
    "tags": []
   },
   "outputs": [
    {
     "data": {
      "application/javascript": [
       "parent.postMessage({\"jupyterEvent\": \"custom.exercise_interaction\", \"data\": {\"outcomeType\": 1, \"valueTowardsCompletion\": 0.3333333333333333, \"interactionType\": 1, \"questionType\": 1, \"questionId\": \"0.2_ZB\", \"learnToolsVersion\": \"0.3.4\", \"failureMessage\": \"\", \"exceptionClass\": \"\", \"trace\": \"\"}}, \"*\")"
      ],
      "text/plain": [
       "<IPython.core.display.Javascript object>"
      ]
     },
     "metadata": {},
     "output_type": "display_data"
    },
    {
     "data": {
      "text/markdown": [
       "<span style=\"color:#33cc33\">Correct:</span> \n",
       "\n",
       "Keep in mind Python includes spaces (and punctuation) when counting string length."
      ],
      "text/plain": [
       "Correct: \n",
       "\n",
       "Keep in mind Python includes spaces (and punctuation) when counting string length."
      ]
     },
     "metadata": {},
     "output_type": "display_data"
    }
   ],
   "source": [
    "b = \"it's ok\"\n",
    "length = len(b)\n",
    "q0.b.check()"
   ]
  },
  {
   "cell_type": "markdown",
   "id": "f4ab0d65",
   "metadata": {
    "papermill": {
     "duration": 0.00543,
     "end_time": "2022-10-24T04:25:08.689674",
     "exception": false,
     "start_time": "2022-10-24T04:25:08.684244",
     "status": "completed"
    },
    "tags": []
   },
   "source": [
    "# 0c."
   ]
  },
  {
   "cell_type": "code",
   "execution_count": 4,
   "id": "074b7864",
   "metadata": {
    "execution": {
     "iopub.execute_input": "2022-10-24T04:25:08.705029Z",
     "iopub.status.busy": "2022-10-24T04:25:08.704265Z",
     "iopub.status.idle": "2022-10-24T04:25:08.712298Z",
     "shell.execute_reply": "2022-10-24T04:25:08.711352Z"
    },
    "papermill": {
     "duration": 0.017478,
     "end_time": "2022-10-24T04:25:08.714420",
     "exception": false,
     "start_time": "2022-10-24T04:25:08.696942",
     "status": "completed"
    },
    "tags": []
   },
   "outputs": [
    {
     "data": {
      "application/javascript": [
       "parent.postMessage({\"jupyterEvent\": \"custom.exercise_interaction\", \"data\": {\"outcomeType\": 1, \"valueTowardsCompletion\": 0.3333333333333333, \"interactionType\": 1, \"questionType\": 1, \"questionId\": \"0.3_ZC\", \"learnToolsVersion\": \"0.3.4\", \"failureMessage\": \"\", \"exceptionClass\": \"\", \"trace\": \"\"}}, \"*\")"
      ],
      "text/plain": [
       "<IPython.core.display.Javascript object>"
      ]
     },
     "metadata": {},
     "output_type": "display_data"
    },
    {
     "data": {
      "text/markdown": [
       "<span style=\"color:#33cc33\">Correct:</span> \n",
       "\n",
       "Even though we use different syntax to create it, the string `c` is identical to `b`. In particular, note that the backslash is not part of the string, so it doesn't contribute to its length."
      ],
      "text/plain": [
       "Correct: \n",
       "\n",
       "Even though we use different syntax to create it, the string `c` is identical to `b`. In particular, note that the backslash is not part of the string, so it doesn't contribute to its length."
      ]
     },
     "metadata": {},
     "output_type": "display_data"
    }
   ],
   "source": [
    "c = 'it\\'s ok'\n",
    "length = len(c)\n",
    "q0.c.check()"
   ]
  },
  {
   "cell_type": "markdown",
   "id": "7d4ab9a0",
   "metadata": {
    "papermill": {
     "duration": 0.005932,
     "end_time": "2022-10-24T04:25:08.726559",
     "exception": false,
     "start_time": "2022-10-24T04:25:08.720627",
     "status": "completed"
    },
    "tags": []
   },
   "source": [
    "# 0d."
   ]
  },
  {
   "cell_type": "code",
   "execution_count": 5,
   "id": "1e385f7d",
   "metadata": {
    "execution": {
     "iopub.execute_input": "2022-10-24T04:25:08.740722Z",
     "iopub.status.busy": "2022-10-24T04:25:08.740097Z",
     "iopub.status.idle": "2022-10-24T04:25:08.748150Z",
     "shell.execute_reply": "2022-10-24T04:25:08.747309Z"
    },
    "papermill": {
     "duration": 0.017673,
     "end_time": "2022-10-24T04:25:08.750255",
     "exception": false,
     "start_time": "2022-10-24T04:25:08.732582",
     "status": "completed"
    },
    "tags": []
   },
   "outputs": [
    {
     "data": {
      "application/javascript": [
       "parent.postMessage({\"jupyterEvent\": \"custom.exercise_interaction\", \"data\": {\"outcomeType\": 1, \"valueTowardsCompletion\": 0.3333333333333333, \"interactionType\": 1, \"questionType\": 1, \"questionId\": \"0.4_ZD\", \"learnToolsVersion\": \"0.3.4\", \"failureMessage\": \"\", \"exceptionClass\": \"\", \"trace\": \"\"}}, \"*\")"
      ],
      "text/plain": [
       "<IPython.core.display.Javascript object>"
      ]
     },
     "metadata": {},
     "output_type": "display_data"
    },
    {
     "data": {
      "text/markdown": [
       "<span style=\"color:#33cc33\">Correct:</span> \n",
       "\n",
       "The fact that this string was created using triple-quote syntax doesn't make any difference in terms of its content or length. This string is exactly the same as `'hey'`."
      ],
      "text/plain": [
       "Correct: \n",
       "\n",
       "The fact that this string was created using triple-quote syntax doesn't make any difference in terms of its content or length. This string is exactly the same as `'hey'`."
      ]
     },
     "metadata": {},
     "output_type": "display_data"
    }
   ],
   "source": [
    "d = \"\"\"hey\"\"\"\n",
    "length = len(d)\n",
    "q0.d.check()"
   ]
  },
  {
   "cell_type": "markdown",
   "id": "f0bafb5f",
   "metadata": {
    "papermill": {
     "duration": 0.00613,
     "end_time": "2022-10-24T04:25:08.762910",
     "exception": false,
     "start_time": "2022-10-24T04:25:08.756780",
     "status": "completed"
    },
    "tags": []
   },
   "source": [
    "# 0e."
   ]
  },
  {
   "cell_type": "code",
   "execution_count": 6,
   "id": "ba79f435",
   "metadata": {
    "execution": {
     "iopub.execute_input": "2022-10-24T04:25:08.777659Z",
     "iopub.status.busy": "2022-10-24T04:25:08.777044Z",
     "iopub.status.idle": "2022-10-24T04:25:08.784261Z",
     "shell.execute_reply": "2022-10-24T04:25:08.783388Z"
    },
    "papermill": {
     "duration": 0.016983,
     "end_time": "2022-10-24T04:25:08.786242",
     "exception": false,
     "start_time": "2022-10-24T04:25:08.769259",
     "status": "completed"
    },
    "tags": []
   },
   "outputs": [
    {
     "data": {
      "application/javascript": [
       "parent.postMessage({\"jupyterEvent\": \"custom.exercise_interaction\", \"data\": {\"outcomeType\": 1, \"valueTowardsCompletion\": 0.3333333333333333, \"interactionType\": 1, \"questionType\": 1, \"questionId\": \"0.5_ZE\", \"learnToolsVersion\": \"0.3.4\", \"failureMessage\": \"\", \"exceptionClass\": \"\", \"trace\": \"\"}}, \"*\")"
      ],
      "text/plain": [
       "<IPython.core.display.Javascript object>"
      ]
     },
     "metadata": {},
     "output_type": "display_data"
    },
    {
     "data": {
      "text/markdown": [
       "<span style=\"color:#33cc33\">Correct:</span> \n",
       "\n",
       "The newline character is just a single character! (Even though we represent it to Python using a combination of two characters.)"
      ],
      "text/plain": [
       "Correct: \n",
       "\n",
       "The newline character is just a single character! (Even though we represent it to Python using a combination of two characters.)"
      ]
     },
     "metadata": {},
     "output_type": "display_data"
    }
   ],
   "source": [
    "e = '\\n'\n",
    "length = len(e)\n",
    "q0.e.check()"
   ]
  },
  {
   "cell_type": "markdown",
   "id": "1e73ba5b",
   "metadata": {
    "papermill": {
     "duration": 0.006427,
     "end_time": "2022-10-24T04:25:08.799378",
     "exception": false,
     "start_time": "2022-10-24T04:25:08.792951",
     "status": "completed"
    },
    "tags": []
   },
   "source": [
    "# 1.\n",
    "\n",
    "There is a saying that \"Data scientists spend 80% of their time cleaning data, and 20% of their time complaining about cleaning data.\" Let's see if you can write a function to help clean US zip code data. Given a string, it should return whether or not that string represents a valid zip code. For our purposes, a valid zip code is any string consisting of exactly 5 digits.\n",
    "\n",
    "HINT: `str` has a method that will be useful here. Use `help(str)` to review a list of string methods."
   ]
  },
  {
   "cell_type": "code",
   "execution_count": 7,
   "id": "2f55ea6b",
   "metadata": {
    "execution": {
     "iopub.execute_input": "2022-10-24T04:25:08.814994Z",
     "iopub.status.busy": "2022-10-24T04:25:08.814187Z",
     "iopub.status.idle": "2022-10-24T04:25:08.823016Z",
     "shell.execute_reply": "2022-10-24T04:25:08.822009Z"
    },
    "papermill": {
     "duration": 0.019416,
     "end_time": "2022-10-24T04:25:08.825451",
     "exception": false,
     "start_time": "2022-10-24T04:25:08.806035",
     "status": "completed"
    },
    "tags": []
   },
   "outputs": [
    {
     "data": {
      "application/javascript": [
       "parent.postMessage({\"jupyterEvent\": \"custom.exercise_interaction\", \"data\": {\"outcomeType\": 1, \"valueTowardsCompletion\": 0.3333333333333333, \"interactionType\": 1, \"questionType\": 2, \"questionId\": \"1_ZipValidator\", \"learnToolsVersion\": \"0.3.4\", \"failureMessage\": \"\", \"exceptionClass\": \"\", \"trace\": \"\"}}, \"*\")"
      ],
      "text/plain": [
       "<IPython.core.display.Javascript object>"
      ]
     },
     "metadata": {},
     "output_type": "display_data"
    },
    {
     "data": {
      "text/markdown": [
       "<span style=\"color:#33cc33\">Correct</span>"
      ],
      "text/plain": [
       "Correct"
      ]
     },
     "metadata": {},
     "output_type": "display_data"
    }
   ],
   "source": [
    "def is_valid_zip(zip_code):\n",
    "    \"\"\"Returns whether the input string is a valid (5 digit) zip code\n",
    "    \"\"\"\n",
    "    if len(zip_code) != 5:\n",
    "        return False\n",
    "    for c in zip_code:\n",
    "        if not c.isdecimal():\n",
    "            return False\n",
    "    return True\n",
    "\n",
    "# Check your answer\n",
    "q1.check()"
   ]
  },
  {
   "cell_type": "code",
   "execution_count": 8,
   "id": "a2b9f7b3",
   "metadata": {
    "execution": {
     "iopub.execute_input": "2022-10-24T04:25:08.841360Z",
     "iopub.status.busy": "2022-10-24T04:25:08.840689Z",
     "iopub.status.idle": "2022-10-24T04:25:08.845004Z",
     "shell.execute_reply": "2022-10-24T04:25:08.844199Z"
    },
    "papermill": {
     "duration": 0.014704,
     "end_time": "2022-10-24T04:25:08.847076",
     "exception": false,
     "start_time": "2022-10-24T04:25:08.832372",
     "status": "completed"
    },
    "tags": []
   },
   "outputs": [],
   "source": [
    "#q1.hint()\n",
    "#q1.solution()"
   ]
  },
  {
   "cell_type": "markdown",
   "id": "e479ce91",
   "metadata": {
    "papermill": {
     "duration": 0.00665,
     "end_time": "2022-10-24T04:25:08.860528",
     "exception": false,
     "start_time": "2022-10-24T04:25:08.853878",
     "status": "completed"
    },
    "tags": []
   },
   "source": [
    "# 2.\n",
    "\n",
    "A researcher has gathered thousands of news articles. But she wants to focus her attention on articles including a specific word. Complete the function below to help her filter her list of articles.\n",
    "\n",
    "Your function should meet the following criteria:\n",
    "\n",
    "- Do not include documents where the keyword string shows up only as a part of a larger word. For example, if she were looking for the keyword “closed”, you would not include the string “enclosed.” \n",
    "- She does not want you to distinguish upper case from lower case letters. So the phrase “Closed the case.” would be included when the keyword is “closed”\n",
    "- Do not let periods or commas affect what is matched. “It is closed.” would be included when the keyword is “closed”. But you can assume there are no other types of punctuation."
   ]
  },
  {
   "cell_type": "code",
   "execution_count": 9,
   "id": "db6633b9",
   "metadata": {
    "execution": {
     "iopub.execute_input": "2022-10-24T04:25:08.876652Z",
     "iopub.status.busy": "2022-10-24T04:25:08.876020Z",
     "iopub.status.idle": "2022-10-24T04:25:08.888151Z",
     "shell.execute_reply": "2022-10-24T04:25:08.887093Z"
    },
    "papermill": {
     "duration": 0.023011,
     "end_time": "2022-10-24T04:25:08.890636",
     "exception": false,
     "start_time": "2022-10-24T04:25:08.867625",
     "status": "completed"
    },
    "tags": []
   },
   "outputs": [
    {
     "data": {
      "application/javascript": [
       "parent.postMessage({\"jupyterEvent\": \"custom.exercise_interaction\", \"data\": {\"outcomeType\": 1, \"valueTowardsCompletion\": 0.3333333333333333, \"interactionType\": 1, \"questionType\": 2, \"questionId\": \"2_WordSearch\", \"learnToolsVersion\": \"0.3.4\", \"failureMessage\": \"\", \"exceptionClass\": \"\", \"trace\": \"\"}}, \"*\")"
      ],
      "text/plain": [
       "<IPython.core.display.Javascript object>"
      ]
     },
     "metadata": {},
     "output_type": "display_data"
    },
    {
     "data": {
      "text/markdown": [
       "<span style=\"color:#33cc33\">Correct</span>"
      ],
      "text/plain": [
       "Correct"
      ]
     },
     "metadata": {},
     "output_type": "display_data"
    }
   ],
   "source": [
    "def word_search(doc_list, keyword):\n",
    "    \"\"\"\n",
    "    Takes a list of documents (each document is a string) and a keyword. \n",
    "    Returns list of the index values into the original list for all documents \n",
    "    containing the keyword.\n",
    "\n",
    "    Example:\n",
    "    doc_list = [\"The Learn Python Challenge Casino.\", \"They bought a car\", \"Casinoville\"]\n",
    "    >>> word_search(doc_list, 'casino')\n",
    "    >>> [0]\n",
    "    \"\"\"\n",
    "    d = [c.lower().replace(\",\", \"\").replace(\".\", \"\") for c in doc_list]\n",
    "    keyword = keyword.lower()\n",
    "    ret = []\n",
    "    for i in range(len(d)):\n",
    "        k = d[i].split(\" \")\n",
    "        if keyword in k:\n",
    "            ret.append(i)\n",
    "    return ret\n",
    "\n",
    "# Check your answer\n",
    "q2.check()"
   ]
  },
  {
   "cell_type": "code",
   "execution_count": 10,
   "id": "d094c811",
   "metadata": {
    "execution": {
     "iopub.execute_input": "2022-10-24T04:25:08.907521Z",
     "iopub.status.busy": "2022-10-24T04:25:08.906638Z",
     "iopub.status.idle": "2022-10-24T04:25:08.911504Z",
     "shell.execute_reply": "2022-10-24T04:25:08.910613Z"
    },
    "papermill": {
     "duration": 0.015878,
     "end_time": "2022-10-24T04:25:08.913745",
     "exception": false,
     "start_time": "2022-10-24T04:25:08.897867",
     "status": "completed"
    },
    "tags": []
   },
   "outputs": [],
   "source": [
    "#q2.hint()\n",
    "#q2.solution()"
   ]
  },
  {
   "cell_type": "markdown",
   "id": "a5d11667",
   "metadata": {
    "papermill": {
     "duration": 0.006889,
     "end_time": "2022-10-24T04:25:08.928185",
     "exception": false,
     "start_time": "2022-10-24T04:25:08.921296",
     "status": "completed"
    },
    "tags": []
   },
   "source": [
    "# 3.\n",
    "\n",
    "Now the researcher wants to supply multiple keywords to search for. Complete the function below to help her.\n",
    "\n",
    "(You're encouraged to use the `word_search` function you just wrote when implementing this function. Reusing code in this way makes your programs more robust and readable - and it saves typing!)"
   ]
  },
  {
   "cell_type": "code",
   "execution_count": 11,
   "id": "9c9ef0d6",
   "metadata": {
    "execution": {
     "iopub.execute_input": "2022-10-24T04:25:08.944607Z",
     "iopub.status.busy": "2022-10-24T04:25:08.943784Z",
     "iopub.status.idle": "2022-10-24T04:25:08.954261Z",
     "shell.execute_reply": "2022-10-24T04:25:08.953211Z"
    },
    "papermill": {
     "duration": 0.021275,
     "end_time": "2022-10-24T04:25:08.956548",
     "exception": false,
     "start_time": "2022-10-24T04:25:08.935273",
     "status": "completed"
    },
    "tags": []
   },
   "outputs": [
    {
     "data": {
      "application/javascript": [
       "parent.postMessage({\"jupyterEvent\": \"custom.exercise_interaction\", \"data\": {\"outcomeType\": 1, \"valueTowardsCompletion\": 0.3333333333333333, \"interactionType\": 1, \"questionType\": 2, \"questionId\": \"3_MultiWordSearch\", \"learnToolsVersion\": \"0.3.4\", \"failureMessage\": \"\", \"exceptionClass\": \"\", \"trace\": \"\"}}, \"*\")"
      ],
      "text/plain": [
       "<IPython.core.display.Javascript object>"
      ]
     },
     "metadata": {},
     "output_type": "display_data"
    },
    {
     "data": {
      "text/markdown": [
       "<span style=\"color:#33cc33\">Correct</span>"
      ],
      "text/plain": [
       "Correct"
      ]
     },
     "metadata": {},
     "output_type": "display_data"
    }
   ],
   "source": [
    "def multi_word_search(doc_list, keywords):\n",
    "    \"\"\"\n",
    "    Takes list of documents (each document is a string) and a list of keywords.  \n",
    "    Returns a dictionary where each key is a keyword, and the value is a list of indices\n",
    "    (from doc_list) of the documents containing that keyword\n",
    "\n",
    "    >>> doc_list = [\"The Learn Python Challenge Casino.\", \"They bought a car and a casino\", \"Casinoville\"]\n",
    "    >>> keywords = ['casino', 'they']\n",
    "    >>> multi_word_search(doc_list, keywords)\n",
    "    {'casino': [0, 1], 'they': [1]}\n",
    "    \"\"\"\n",
    "    ret = {}\n",
    "    for k in keywords:\n",
    "        ret[k] = word_search(doc_list, k)\n",
    "    return ret\n",
    "\n",
    "# Check your answer\n",
    "q3.check()"
   ]
  },
  {
   "cell_type": "code",
   "execution_count": 12,
   "id": "ec3d3da2",
   "metadata": {
    "execution": {
     "iopub.execute_input": "2022-10-24T04:25:08.973415Z",
     "iopub.status.busy": "2022-10-24T04:25:08.972967Z",
     "iopub.status.idle": "2022-10-24T04:25:08.978563Z",
     "shell.execute_reply": "2022-10-24T04:25:08.977388Z"
    },
    "papermill": {
     "duration": 0.016902,
     "end_time": "2022-10-24T04:25:08.981005",
     "exception": false,
     "start_time": "2022-10-24T04:25:08.964103",
     "status": "completed"
    },
    "tags": []
   },
   "outputs": [],
   "source": [
    "#q3.solution()"
   ]
  },
  {
   "cell_type": "markdown",
   "id": "935052d2",
   "metadata": {
    "papermill": {
     "duration": 0.007066,
     "end_time": "2022-10-24T04:25:08.996211",
     "exception": false,
     "start_time": "2022-10-24T04:25:08.989145",
     "status": "completed"
    },
    "tags": []
   },
   "source": [
    "# Keep Going\n",
    "\n",
    "You've learned a lot. But even the best programmers rely heavily on \"libraries\" of code from other programmers. You'll learn about that in **[the last lesson](https://www.kaggle.com/colinmorris/working-with-external-libraries)**.\n"
   ]
  },
  {
   "cell_type": "markdown",
   "id": "57a95d0e",
   "metadata": {
    "papermill": {
     "duration": 0.006997,
     "end_time": "2022-10-24T04:25:09.010756",
     "exception": false,
     "start_time": "2022-10-24T04:25:09.003759",
     "status": "completed"
    },
    "tags": []
   },
   "source": [
    "---\n",
    "\n",
    "\n",
    "\n",
    "\n",
    "*Have questions or comments? Visit the [course discussion forum](https://www.kaggle.com/learn/python/discussion) to chat with other learners.*"
   ]
  }
 ],
 "metadata": {
  "kernelspec": {
   "display_name": "Python 3",
   "language": "python",
   "name": "python3"
  },
  "language_info": {
   "codemirror_mode": {
    "name": "ipython",
    "version": 3
   },
   "file_extension": ".py",
   "mimetype": "text/x-python",
   "name": "python",
   "nbconvert_exporter": "python",
   "pygments_lexer": "ipython3",
   "version": "3.7.12"
  },
  "papermill": {
   "default_parameters": {},
   "duration": 9.613967,
   "end_time": "2022-10-24T04:25:09.639575",
   "environment_variables": {},
   "exception": null,
   "input_path": "__notebook__.ipynb",
   "output_path": "__notebook__.ipynb",
   "parameters": {},
   "start_time": "2022-10-24T04:25:00.025608",
   "version": "2.3.4"
  }
 },
 "nbformat": 4,
 "nbformat_minor": 5
}
