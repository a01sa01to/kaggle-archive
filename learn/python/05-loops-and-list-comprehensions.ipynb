{
 "cells": [
  {
   "cell_type": "markdown",
   "id": "ada93f00",
   "metadata": {
    "papermill": {
     "duration": 0.007097,
     "end_time": "2022-10-24T04:27:30.098315",
     "exception": false,
     "start_time": "2022-10-24T04:27:30.091218",
     "status": "completed"
    },
    "tags": []
   },
   "source": [
    "**This notebook is an exercise in the [Python](https://www.kaggle.com/learn/python) course.  You can reference the tutorial at [this link](https://www.kaggle.com/colinmorris/loops-and-list-comprehensions).**\n",
    "\n",
    "---\n"
   ]
  },
  {
   "cell_type": "markdown",
   "id": "1157591b",
   "metadata": {
    "papermill": {
     "duration": 0.005493,
     "end_time": "2022-10-24T04:27:30.109658",
     "exception": false,
     "start_time": "2022-10-24T04:27:30.104165",
     "status": "completed"
    },
    "tags": []
   },
   "source": [
    "With all you've learned, you can start writing much more interesting programs. See if you can solve the problems below.\n",
    "\n",
    "As always, run the setup code below before working on the questions."
   ]
  },
  {
   "cell_type": "code",
   "execution_count": 1,
   "id": "3539e62a",
   "metadata": {
    "execution": {
     "iopub.execute_input": "2022-10-24T04:27:30.123170Z",
     "iopub.status.busy": "2022-10-24T04:27:30.122634Z",
     "iopub.status.idle": "2022-10-24T04:27:30.184750Z",
     "shell.execute_reply": "2022-10-24T04:27:30.183488Z"
    },
    "papermill": {
     "duration": 0.072282,
     "end_time": "2022-10-24T04:27:30.187724",
     "exception": false,
     "start_time": "2022-10-24T04:27:30.115442",
     "status": "completed"
    },
    "tags": []
   },
   "outputs": [
    {
     "name": "stdout",
     "output_type": "stream",
     "text": [
      "Setup complete.\n"
     ]
    }
   ],
   "source": [
    "from learntools.core import binder; binder.bind(globals())\n",
    "from learntools.python.ex5 import *\n",
    "print('Setup complete.')"
   ]
  },
  {
   "cell_type": "markdown",
   "id": "b61b6bd1",
   "metadata": {
    "papermill": {
     "duration": 0.005681,
     "end_time": "2022-10-24T04:27:30.200684",
     "exception": false,
     "start_time": "2022-10-24T04:27:30.195003",
     "status": "completed"
    },
    "tags": []
   },
   "source": [
    "# 1.\n",
    "\n",
    "Have you ever felt debugging involved a bit of luck? The following program has a bug. Try to identify the bug and fix it."
   ]
  },
  {
   "cell_type": "code",
   "execution_count": 2,
   "id": "bed18789",
   "metadata": {
    "execution": {
     "iopub.execute_input": "2022-10-24T04:27:30.215790Z",
     "iopub.status.busy": "2022-10-24T04:27:30.214999Z",
     "iopub.status.idle": "2022-10-24T04:27:30.221841Z",
     "shell.execute_reply": "2022-10-24T04:27:30.220434Z"
    },
    "papermill": {
     "duration": 0.018076,
     "end_time": "2022-10-24T04:27:30.224789",
     "exception": false,
     "start_time": "2022-10-24T04:27:30.206713",
     "status": "completed"
    },
    "tags": []
   },
   "outputs": [],
   "source": [
    "def has_lucky_number(nums):\n",
    "    \"\"\"Return whether the given list of numbers is lucky. A lucky list contains\n",
    "    at least one number divisible by 7.\n",
    "    \"\"\"\n",
    "    for num in nums:\n",
    "        if num % 7 == 0:\n",
    "            return True\n",
    "        else:\n",
    "            return False"
   ]
  },
  {
   "cell_type": "markdown",
   "id": "1dbc7153",
   "metadata": {
    "papermill": {
     "duration": 0.005326,
     "end_time": "2022-10-24T04:27:30.238941",
     "exception": false,
     "start_time": "2022-10-24T04:27:30.233615",
     "status": "completed"
    },
    "tags": []
   },
   "source": [
    "Try to identify the bug and fix it in the cell below:"
   ]
  },
  {
   "cell_type": "code",
   "execution_count": 3,
   "id": "a12022d6",
   "metadata": {
    "execution": {
     "iopub.execute_input": "2022-10-24T04:27:30.254869Z",
     "iopub.status.busy": "2022-10-24T04:27:30.253824Z",
     "iopub.status.idle": "2022-10-24T04:27:30.268547Z",
     "shell.execute_reply": "2022-10-24T04:27:30.267445Z"
    },
    "papermill": {
     "duration": 0.025713,
     "end_time": "2022-10-24T04:27:30.270816",
     "exception": false,
     "start_time": "2022-10-24T04:27:30.245103",
     "status": "completed"
    },
    "tags": []
   },
   "outputs": [
    {
     "data": {
      "application/javascript": [
       "parent.postMessage({\"jupyterEvent\": \"custom.exercise_interaction\", \"data\": {\"outcomeType\": 1, \"valueTowardsCompletion\": 0.25, \"interactionType\": 1, \"questionType\": 2, \"questionId\": \"1_EarlyExitDebugging\", \"learnToolsVersion\": \"0.3.4\", \"failureMessage\": \"\", \"exceptionClass\": \"\", \"trace\": \"\"}}, \"*\")"
      ],
      "text/plain": [
       "<IPython.core.display.Javascript object>"
      ]
     },
     "metadata": {},
     "output_type": "display_data"
    },
    {
     "data": {
      "text/markdown": [
       "<span style=\"color:#33cc33\">Correct:</span> \n",
       "\n",
       "Remember that `return` causes a function to exit immediately. So our original implementation always ran for just one iteration. We can only return `False` if we've looked at every element of the list (and confirmed that none of them are lucky). Though we can return early if the answer is `True`:\n",
       "\n",
       "```python\n",
       "def has_lucky_number(nums):\n",
       "    for num in nums:\n",
       "        if num % 7 == 0:\n",
       "            return True\n",
       "    # We've exhausted the list without finding a lucky number\n",
       "    return False\n",
       "```\n",
       "\n",
       "Here's a one-line version using a list comprehension with Python's `any` function (you can read about what it does by calling `help(any)`):\n",
       "\n",
       "```python\n",
       "def has_lucky_number(nums):\n",
       "    return any([num % 7 == 0 for num in nums])\n",
       "```\n"
      ],
      "text/plain": [
       "Correct: \n",
       "\n",
       "Remember that `return` causes a function to exit immediately. So our original implementation always ran for just one iteration. We can only return `False` if we've looked at every element of the list (and confirmed that none of them are lucky). Though we can return early if the answer is `True`:\n",
       "\n",
       "```python\n",
       "def has_lucky_number(nums):\n",
       "    for num in nums:\n",
       "        if num % 7 == 0:\n",
       "            return True\n",
       "    # We've exhausted the list without finding a lucky number\n",
       "    return False\n",
       "```\n",
       "\n",
       "Here's a one-line version using a list comprehension with Python's `any` function (you can read about what it does by calling `help(any)`):\n",
       "\n",
       "```python\n",
       "def has_lucky_number(nums):\n",
       "    return any([num % 7 == 0 for num in nums])\n",
       "```"
      ]
     },
     "metadata": {},
     "output_type": "display_data"
    }
   ],
   "source": [
    "def has_lucky_number(nums):\n",
    "    \"\"\"Return whether the given list of numbers is lucky. A lucky list contains\n",
    "    at least one number divisible by 7.\n",
    "    \"\"\"\n",
    "    for num in nums:\n",
    "        if num % 7 == 0:\n",
    "            return True\n",
    "    return False\n",
    "\n",
    "# Check your answer\n",
    "q1.check()"
   ]
  },
  {
   "cell_type": "code",
   "execution_count": 4,
   "id": "6b1fa703",
   "metadata": {
    "execution": {
     "iopub.execute_input": "2022-10-24T04:27:30.288842Z",
     "iopub.status.busy": "2022-10-24T04:27:30.288010Z",
     "iopub.status.idle": "2022-10-24T04:27:30.293182Z",
     "shell.execute_reply": "2022-10-24T04:27:30.292029Z"
    },
    "papermill": {
     "duration": 0.018758,
     "end_time": "2022-10-24T04:27:30.295680",
     "exception": false,
     "start_time": "2022-10-24T04:27:30.276922",
     "status": "completed"
    },
    "tags": []
   },
   "outputs": [],
   "source": [
    "#q1.hint()\n",
    "#q1.solution()"
   ]
  },
  {
   "cell_type": "markdown",
   "id": "d9ceea7a",
   "metadata": {
    "papermill": {
     "duration": 0.005953,
     "end_time": "2022-10-24T04:27:30.309428",
     "exception": false,
     "start_time": "2022-10-24T04:27:30.303475",
     "status": "completed"
    },
    "tags": []
   },
   "source": [
    "# 2.\n",
    "Look at the Python expression below. What do you think we'll get when we run it? When you've made your prediction, uncomment the code and run the cell to see if you were right."
   ]
  },
  {
   "cell_type": "code",
   "execution_count": 5,
   "id": "bfe8229a",
   "metadata": {
    "execution": {
     "iopub.execute_input": "2022-10-24T04:27:30.323265Z",
     "iopub.status.busy": "2022-10-24T04:27:30.322877Z",
     "iopub.status.idle": "2022-10-24T04:27:30.328280Z",
     "shell.execute_reply": "2022-10-24T04:27:30.326936Z"
    },
    "papermill": {
     "duration": 0.014911,
     "end_time": "2022-10-24T04:27:30.330615",
     "exception": false,
     "start_time": "2022-10-24T04:27:30.315704",
     "status": "completed"
    },
    "tags": []
   },
   "outputs": [],
   "source": [
    "#[1, 2, 3, 4] > 2"
   ]
  },
  {
   "cell_type": "markdown",
   "id": "bc0affce",
   "metadata": {
    "papermill": {
     "duration": 0.005851,
     "end_time": "2022-10-24T04:27:30.342342",
     "exception": false,
     "start_time": "2022-10-24T04:27:30.336491",
     "status": "completed"
    },
    "tags": []
   },
   "source": [
    "R and Python have some libraries (like numpy and pandas) compare each element of the list to 2 (i.e. do an 'element-wise' comparison) and give us a list of booleans like `[False, False, True, True]`. \n",
    "\n",
    "Implement a function that reproduces this behaviour, returning a list of booleans corresponding to whether the corresponding element is greater than n."
   ]
  },
  {
   "cell_type": "code",
   "execution_count": 6,
   "id": "d27235f2",
   "metadata": {
    "execution": {
     "iopub.execute_input": "2022-10-24T04:27:30.356589Z",
     "iopub.status.busy": "2022-10-24T04:27:30.356063Z",
     "iopub.status.idle": "2022-10-24T04:27:30.367403Z",
     "shell.execute_reply": "2022-10-24T04:27:30.365561Z"
    },
    "papermill": {
     "duration": 0.022443,
     "end_time": "2022-10-24T04:27:30.370714",
     "exception": false,
     "start_time": "2022-10-24T04:27:30.348271",
     "status": "completed"
    },
    "tags": []
   },
   "outputs": [
    {
     "data": {
      "application/javascript": [
       "parent.postMessage({\"jupyterEvent\": \"custom.exercise_interaction\", \"data\": {\"outcomeType\": 1, \"valueTowardsCompletion\": 0.25, \"interactionType\": 1, \"questionType\": 2, \"questionId\": \"2_ElementWiseComparison\", \"learnToolsVersion\": \"0.3.4\", \"failureMessage\": \"\", \"exceptionClass\": \"\", \"trace\": \"\"}}, \"*\")"
      ],
      "text/plain": [
       "<IPython.core.display.Javascript object>"
      ]
     },
     "metadata": {},
     "output_type": "display_data"
    },
    {
     "data": {
      "text/markdown": [
       "<span style=\"color:#33cc33\">Correct:</span> \n",
       "\n",
       "Here's one solution:\n",
       "```python\n",
       "def elementwise_greater_than(L, thresh):\n",
       "    res = []\n",
       "    for ele in L:\n",
       "        res.append(ele > thresh)\n",
       "    return res\n",
       "```\n",
       "\n",
       "And here's the list comprehension version:\n",
       "```python\n",
       "def elementwise_greater_than(L, thresh):\n",
       "    return [ele > thresh for ele in L]\n",
       "```\n"
      ],
      "text/plain": [
       "Correct: \n",
       "\n",
       "Here's one solution:\n",
       "```python\n",
       "def elementwise_greater_than(L, thresh):\n",
       "    res = []\n",
       "    for ele in L:\n",
       "        res.append(ele > thresh)\n",
       "    return res\n",
       "```\n",
       "\n",
       "And here's the list comprehension version:\n",
       "```python\n",
       "def elementwise_greater_than(L, thresh):\n",
       "    return [ele > thresh for ele in L]\n",
       "```"
      ]
     },
     "metadata": {},
     "output_type": "display_data"
    }
   ],
   "source": [
    "def elementwise_greater_than(L, thresh):\n",
    "    \"\"\"Return a list with the same length as L, where the value at index i is \n",
    "    True if L[i] is greater than thresh, and False otherwise.\n",
    "    \n",
    "    >>> elementwise_greater_than([1, 2, 3, 4], 2)\n",
    "    [False, False, True, True]\n",
    "    \"\"\"\n",
    "    return [L[i] > thresh for i in range(len(L))]\n",
    "\n",
    "# Check your answer\n",
    "q2.check()"
   ]
  },
  {
   "cell_type": "code",
   "execution_count": 7,
   "id": "42b11335",
   "metadata": {
    "execution": {
     "iopub.execute_input": "2022-10-24T04:27:30.385814Z",
     "iopub.status.busy": "2022-10-24T04:27:30.384794Z",
     "iopub.status.idle": "2022-10-24T04:27:30.389697Z",
     "shell.execute_reply": "2022-10-24T04:27:30.388808Z"
    },
    "papermill": {
     "duration": 0.015569,
     "end_time": "2022-10-24T04:27:30.392468",
     "exception": false,
     "start_time": "2022-10-24T04:27:30.376899",
     "status": "completed"
    },
    "tags": []
   },
   "outputs": [],
   "source": [
    "#q2.solution()"
   ]
  },
  {
   "cell_type": "markdown",
   "id": "123d6efe",
   "metadata": {
    "papermill": {
     "duration": 0.006606,
     "end_time": "2022-10-24T04:27:30.406571",
     "exception": false,
     "start_time": "2022-10-24T04:27:30.399965",
     "status": "completed"
    },
    "tags": []
   },
   "source": [
    "# 3.\n",
    "\n",
    "Complete the body of the function below according to its docstring."
   ]
  },
  {
   "cell_type": "code",
   "execution_count": 8,
   "id": "fa585318",
   "metadata": {
    "execution": {
     "iopub.execute_input": "2022-10-24T04:27:30.423127Z",
     "iopub.status.busy": "2022-10-24T04:27:30.421300Z",
     "iopub.status.idle": "2022-10-24T04:27:30.433123Z",
     "shell.execute_reply": "2022-10-24T04:27:30.432234Z"
    },
    "papermill": {
     "duration": 0.022194,
     "end_time": "2022-10-24T04:27:30.435361",
     "exception": false,
     "start_time": "2022-10-24T04:27:30.413167",
     "status": "completed"
    },
    "tags": []
   },
   "outputs": [
    {
     "data": {
      "application/javascript": [
       "parent.postMessage({\"jupyterEvent\": \"custom.exercise_interaction\", \"data\": {\"outcomeType\": 1, \"valueTowardsCompletion\": 0.25, \"interactionType\": 1, \"questionType\": 2, \"questionId\": \"3_BoringMenu\", \"learnToolsVersion\": \"0.3.4\", \"failureMessage\": \"\", \"exceptionClass\": \"\", \"trace\": \"\"}}, \"*\")"
      ],
      "text/plain": [
       "<IPython.core.display.Javascript object>"
      ]
     },
     "metadata": {},
     "output_type": "display_data"
    },
    {
     "data": {
      "text/markdown": [
       "<span style=\"color:#33cc33\">Correct:</span> \n",
       "\n",
       "\n",
       "\n",
       "```python\n",
       "def menu_is_boring(meals):\n",
       "    # Iterate over all indices of the list, except the last one\n",
       "    for i in range(len(meals)-1):\n",
       "        if meals[i] == meals[i+1]:\n",
       "            return True\n",
       "    return False\n",
       "```\n",
       "\n",
       "The key to our solution is the call to `range`. `range(len(meals))` would give us all the indices of `meals`. If we had used that range, the last iteration of the loop would be comparing the last element to the element after it, which is... `IndexError`! `range(len(meals)-1)` gives us all the indices except the index of the last element.\n",
       "\n",
       "But don't we need to check if `meals` is empty? Turns out that `range(0) == range(-1)` - they're both empty. So if `meals` has length 0 or 1, we just won't do any iterations of our for loop.\n"
      ],
      "text/plain": [
       "Correct: \n",
       "\n",
       "\n",
       "\n",
       "```python\n",
       "def menu_is_boring(meals):\n",
       "    # Iterate over all indices of the list, except the last one\n",
       "    for i in range(len(meals)-1):\n",
       "        if meals[i] == meals[i+1]:\n",
       "            return True\n",
       "    return False\n",
       "```\n",
       "\n",
       "The key to our solution is the call to `range`. `range(len(meals))` would give us all the indices of `meals`. If we had used that range, the last iteration of the loop would be comparing the last element to the element after it, which is... `IndexError`! `range(len(meals)-1)` gives us all the indices except the index of the last element.\n",
       "\n",
       "But don't we need to check if `meals` is empty? Turns out that `range(0) == range(-1)` - they're both empty. So if `meals` has length 0 or 1, we just won't do any iterations of our for loop."
      ]
     },
     "metadata": {},
     "output_type": "display_data"
    }
   ],
   "source": [
    "def menu_is_boring(meals):\n",
    "    \"\"\"Given a list of meals served over some period of time, return True if the\n",
    "    same meal has ever been served two days in a row, and False otherwise.\n",
    "    \"\"\"\n",
    "    prev = \"\"\n",
    "    for i in range(len(meals)):\n",
    "        if prev == meals[i]:\n",
    "            return True\n",
    "        prev = meals[i]\n",
    "    return False\n",
    "\n",
    "# Check your answer\n",
    "q3.check()"
   ]
  },
  {
   "cell_type": "code",
   "execution_count": 9,
   "id": "32ae8684",
   "metadata": {
    "execution": {
     "iopub.execute_input": "2022-10-24T04:27:30.451895Z",
     "iopub.status.busy": "2022-10-24T04:27:30.450940Z",
     "iopub.status.idle": "2022-10-24T04:27:30.455733Z",
     "shell.execute_reply": "2022-10-24T04:27:30.454631Z"
    },
    "papermill": {
     "duration": 0.016023,
     "end_time": "2022-10-24T04:27:30.457896",
     "exception": false,
     "start_time": "2022-10-24T04:27:30.441873",
     "status": "completed"
    },
    "tags": []
   },
   "outputs": [],
   "source": [
    "#q3.hint()\n",
    "#q3.solution()"
   ]
  },
  {
   "cell_type": "markdown",
   "id": "2e8e8470",
   "metadata": {
    "papermill": {
     "duration": 0.00624,
     "end_time": "2022-10-24T04:27:30.470588",
     "exception": false,
     "start_time": "2022-10-24T04:27:30.464348",
     "status": "completed"
    },
    "tags": []
   },
   "source": [
    "# 4. <span title=\"A bit spicy\" style=\"color: darkgreen \">🌶️</span>\n",
    "\n",
    "Next to the Blackjack table, the Python Challenge Casino has a slot machine. You can get a result from the slot machine by calling `play_slot_machine()`. The number it returns is your winnings in dollars. Usually it returns 0.  But sometimes you'll get lucky and get a big payday. Try running it below:"
   ]
  },
  {
   "cell_type": "code",
   "execution_count": 10,
   "id": "c79c25ad",
   "metadata": {
    "execution": {
     "iopub.execute_input": "2022-10-24T04:27:30.485430Z",
     "iopub.status.busy": "2022-10-24T04:27:30.484785Z",
     "iopub.status.idle": "2022-10-24T04:27:30.491815Z",
     "shell.execute_reply": "2022-10-24T04:27:30.490687Z"
    },
    "papermill": {
     "duration": 0.017331,
     "end_time": "2022-10-24T04:27:30.494231",
     "exception": false,
     "start_time": "2022-10-24T04:27:30.476900",
     "status": "completed"
    },
    "tags": []
   },
   "outputs": [
    {
     "data": {
      "text/plain": [
       "0"
      ]
     },
     "execution_count": 10,
     "metadata": {},
     "output_type": "execute_result"
    }
   ],
   "source": [
    "play_slot_machine()"
   ]
  },
  {
   "cell_type": "markdown",
   "id": "ed1ede39",
   "metadata": {
    "papermill": {
     "duration": 0.006254,
     "end_time": "2022-10-24T04:27:30.507247",
     "exception": false,
     "start_time": "2022-10-24T04:27:30.500993",
     "status": "completed"
    },
    "tags": []
   },
   "source": [
    "By the way, did we mention that each play costs $1? Don't worry, we'll send you the bill later.\n",
    "\n",
    "On average, how much money can you expect to gain (or lose) every time you play the machine?  The casino keeps it a secret, but you can estimate the average value of each pull using a technique called the **Monte Carlo method**. To estimate the average outcome, we simulate the scenario many times, and return the average result.\n",
    "\n",
    "Complete the following function to calculate the average value per play of the slot machine."
   ]
  },
  {
   "cell_type": "code",
   "execution_count": 11,
   "id": "601b756a",
   "metadata": {
    "execution": {
     "iopub.execute_input": "2022-10-24T04:27:30.522383Z",
     "iopub.status.busy": "2022-10-24T04:27:30.521985Z",
     "iopub.status.idle": "2022-10-24T04:27:30.527780Z",
     "shell.execute_reply": "2022-10-24T04:27:30.526458Z"
    },
    "papermill": {
     "duration": 0.016261,
     "end_time": "2022-10-24T04:27:30.530196",
     "exception": false,
     "start_time": "2022-10-24T04:27:30.513935",
     "status": "completed"
    },
    "tags": []
   },
   "outputs": [],
   "source": [
    "def estimate_average_slot_payout(n_runs):\n",
    "    \"\"\"Run the slot machine n_runs times and return the average net profit per run.\n",
    "    Example calls (note that return value is nondeterministic!):\n",
    "    >>> estimate_average_slot_payout(1)\n",
    "    -1\n",
    "    >>> estimate_average_slot_payout(1)\n",
    "    0.5\n",
    "    \"\"\"\n",
    "    res = 0\n",
    "    for _ in range(n_runs):\n",
    "        res += play_slot_machine() - 1\n",
    "    return res / n_ruyns"
   ]
  },
  {
   "cell_type": "markdown",
   "id": "9394118d",
   "metadata": {
    "papermill": {
     "duration": 0.006344,
     "end_time": "2022-10-24T04:27:30.543153",
     "exception": false,
     "start_time": "2022-10-24T04:27:30.536809",
     "status": "completed"
    },
    "tags": []
   },
   "source": [
    "When you think you know the expected value per spin, run the code cell below to view the solution and get credit for answering the question."
   ]
  },
  {
   "cell_type": "code",
   "execution_count": 12,
   "id": "d74615fb",
   "metadata": {
    "execution": {
     "iopub.execute_input": "2022-10-24T04:27:30.558955Z",
     "iopub.status.busy": "2022-10-24T04:27:30.558475Z",
     "iopub.status.idle": "2022-10-24T04:27:30.567678Z",
     "shell.execute_reply": "2022-10-24T04:27:30.566656Z"
    },
    "papermill": {
     "duration": 0.019817,
     "end_time": "2022-10-24T04:27:30.569889",
     "exception": false,
     "start_time": "2022-10-24T04:27:30.550072",
     "status": "completed"
    },
    "tags": []
   },
   "outputs": [
    {
     "data": {
      "application/javascript": [
       "parent.postMessage({\"jupyterEvent\": \"custom.exercise_interaction\", \"data\": {\"interactionType\": 3, \"questionType\": 4, \"questionId\": \"4_ExpectedSlotsPayout\", \"learnToolsVersion\": \"0.3.4\", \"valueTowardsCompletion\": 0.0, \"failureMessage\": \"\", \"exceptionClass\": \"\", \"trace\": \"\", \"outcomeType\": 4}}, \"*\")"
      ],
      "text/plain": [
       "<IPython.core.display.Javascript object>"
      ]
     },
     "metadata": {},
     "output_type": "display_data"
    },
    {
     "data": {
      "text/markdown": [
       "<span style=\"color:#33cc99\">Solution:</span> \n",
       "    \n",
       "The exact expected value of one pull of the slot machine is 0.025 - i.e. a little more than 2 cents.  See?  Not every game in the Python Challenge Casino is rigged against the player!\n",
       "\n",
       "In order to get this answer, you'll need to implement the `estimate_average_slot_payout(n_runs)` function to simulate pulling the slot machine `n_runs` times.  It should return the payout averaged over those `n_runs`.\n",
       "\n",
       "Then, once the function is defined, in order to estimate the average slot payout, we need only call the function.\n",
       "\n",
       "Because of the high variance of the outcome (there are some very rare high payout results that significantly affect the average) you might need to run your function with a very high value of `n_runs` to get a stable answer close to the true expectation.  For instance, you might use a value for `n_runs` of 1000000.\n",
       "\n",
       "Here's an example for how the function could look:\n",
       "```python\n",
       "def estimate_average_slot_payout(n_runs):\n",
       "    # Play slot machine n_runs times, calculate payout of each\n",
       "    payouts = [play_slot_machine()-1 for i in range(n_runs)]\n",
       "    # Calculate the average value\n",
       "    avg_payout = sum(payouts) / n_runs\n",
       "    return avg_payout\n",
       "    \n",
       "estimate_average_slot_payout(10000000)\n",
       "\n",
       "```\n",
       "\n",
       "This should return an answer close to 0.025!\n",
       "            \n"
      ],
      "text/plain": [
       "Solution: \n",
       "    \n",
       "The exact expected value of one pull of the slot machine is 0.025 - i.e. a little more than 2 cents.  See?  Not every game in the Python Challenge Casino is rigged against the player!\n",
       "\n",
       "In order to get this answer, you'll need to implement the `estimate_average_slot_payout(n_runs)` function to simulate pulling the slot machine `n_runs` times.  It should return the payout averaged over those `n_runs`.\n",
       "\n",
       "Then, once the function is defined, in order to estimate the average slot payout, we need only call the function.\n",
       "\n",
       "Because of the high variance of the outcome (there are some very rare high payout results that significantly affect the average) you might need to run your function with a very high value of `n_runs` to get a stable answer close to the true expectation.  For instance, you might use a value for `n_runs` of 1000000.\n",
       "\n",
       "Here's an example for how the function could look:\n",
       "```python\n",
       "def estimate_average_slot_payout(n_runs):\n",
       "    # Play slot machine n_runs times, calculate payout of each\n",
       "    payouts = [play_slot_machine()-1 for i in range(n_runs)]\n",
       "    # Calculate the average value\n",
       "    avg_payout = sum(payouts) / n_runs\n",
       "    return avg_payout\n",
       "    \n",
       "estimate_average_slot_payout(10000000)\n",
       "\n",
       "```\n",
       "\n",
       "This should return an answer close to 0.025!\n",
       "            "
      ]
     },
     "metadata": {},
     "output_type": "display_data"
    }
   ],
   "source": [
    "# Check your answer (Run this code cell to receive credit!)\n",
    "q4.solution()"
   ]
  },
  {
   "cell_type": "markdown",
   "id": "82b3bf78",
   "metadata": {
    "papermill": {
     "duration": 0.007352,
     "end_time": "2022-10-24T04:27:30.584159",
     "exception": false,
     "start_time": "2022-10-24T04:27:30.576807",
     "status": "completed"
    },
    "tags": []
   },
   "source": [
    "# Keep Going\n",
    "\n",
    "Many programmers report that dictionaries are their favorite data structure. You'll get to **[learn about them](https://www.kaggle.com/colinmorris/strings-and-dictionaries)** (as well as strings) in the next lesson."
   ]
  },
  {
   "cell_type": "markdown",
   "id": "c49c4514",
   "metadata": {
    "papermill": {
     "duration": 0.006579,
     "end_time": "2022-10-24T04:27:30.597559",
     "exception": false,
     "start_time": "2022-10-24T04:27:30.590980",
     "status": "completed"
    },
    "tags": []
   },
   "source": [
    "---\n",
    "\n",
    "\n",
    "\n",
    "\n",
    "*Have questions or comments? Visit the [course discussion forum](https://www.kaggle.com/learn/python/discussion) to chat with other learners.*"
   ]
  }
 ],
 "metadata": {
  "kernelspec": {
   "display_name": "Python 3",
   "language": "python",
   "name": "python3"
  },
  "language_info": {
   "codemirror_mode": {
    "name": "ipython",
    "version": 3
   },
   "file_extension": ".py",
   "mimetype": "text/x-python",
   "name": "python",
   "nbconvert_exporter": "python",
   "pygments_lexer": "ipython3",
   "version": "3.7.12"
  },
  "papermill": {
   "default_parameters": {},
   "duration": 10.289466,
   "end_time": "2022-10-24T04:27:31.328328",
   "environment_variables": {},
   "exception": null,
   "input_path": "__notebook__.ipynb",
   "output_path": "__notebook__.ipynb",
   "parameters": {},
   "start_time": "2022-10-24T04:27:21.038862",
   "version": "2.3.4"
  }
 },
 "nbformat": 4,
 "nbformat_minor": 5
}
