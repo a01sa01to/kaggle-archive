{
 "cells": [
  {
   "cell_type": "markdown",
   "id": "36018319",
   "metadata": {
    "papermill": {
     "duration": 0.00594,
     "end_time": "2022-10-24T04:26:49.520313",
     "exception": false,
     "start_time": "2022-10-24T04:26:49.514373",
     "status": "completed"
    },
    "tags": []
   },
   "source": [
    "**This notebook is an exercise in the [Python](https://www.kaggle.com/learn/python) course.  You can reference the tutorial at [this link](https://www.kaggle.com/colinmorris/lists).**\n",
    "\n",
    "---\n"
   ]
  },
  {
   "cell_type": "markdown",
   "id": "d28c4760",
   "metadata": {
    "papermill": {
     "duration": 0.004425,
     "end_time": "2022-10-24T04:26:49.529775",
     "exception": false,
     "start_time": "2022-10-24T04:26:49.525350",
     "status": "completed"
    },
    "tags": []
   },
   "source": [
    "Things get more interesting with lists. You'll apply your new knowledge to solve the questions below. Remember to run the following cell first."
   ]
  },
  {
   "cell_type": "code",
   "execution_count": 1,
   "id": "e47f3af5",
   "metadata": {
    "execution": {
     "iopub.execute_input": "2022-10-24T04:26:49.541636Z",
     "iopub.status.busy": "2022-10-24T04:26:49.541204Z",
     "iopub.status.idle": "2022-10-24T04:26:49.591718Z",
     "shell.execute_reply": "2022-10-24T04:26:49.590862Z"
    },
    "papermill": {
     "duration": 0.059695,
     "end_time": "2022-10-24T04:26:49.594563",
     "exception": false,
     "start_time": "2022-10-24T04:26:49.534868",
     "status": "completed"
    },
    "tags": []
   },
   "outputs": [
    {
     "name": "stdout",
     "output_type": "stream",
     "text": [
      "Setup complete.\n"
     ]
    }
   ],
   "source": [
    "from learntools.core import binder; binder.bind(globals())\n",
    "from learntools.python.ex4 import *\n",
    "print('Setup complete.')"
   ]
  },
  {
   "cell_type": "markdown",
   "id": "d6a6e347",
   "metadata": {
    "papermill": {
     "duration": 0.004564,
     "end_time": "2022-10-24T04:26:49.603920",
     "exception": false,
     "start_time": "2022-10-24T04:26:49.599356",
     "status": "completed"
    },
    "tags": []
   },
   "source": [
    "# 1.\n",
    "\n",
    "Complete the function below according to its docstring."
   ]
  },
  {
   "cell_type": "code",
   "execution_count": 2,
   "id": "1e47a17f",
   "metadata": {
    "execution": {
     "iopub.execute_input": "2022-10-24T04:26:49.615875Z",
     "iopub.status.busy": "2022-10-24T04:26:49.615066Z",
     "iopub.status.idle": "2022-10-24T04:26:49.627127Z",
     "shell.execute_reply": "2022-10-24T04:26:49.626032Z"
    },
    "papermill": {
     "duration": 0.020679,
     "end_time": "2022-10-24T04:26:49.629306",
     "exception": false,
     "start_time": "2022-10-24T04:26:49.608627",
     "status": "completed"
    },
    "tags": []
   },
   "outputs": [
    {
     "data": {
      "application/javascript": [
       "parent.postMessage({\"jupyterEvent\": \"custom.exercise_interaction\", \"data\": {\"outcomeType\": 1, \"valueTowardsCompletion\": 0.2, \"interactionType\": 1, \"questionType\": 2, \"questionId\": \"1_SelectSecondItem\", \"learnToolsVersion\": \"0.3.4\", \"failureMessage\": \"\", \"exceptionClass\": \"\", \"trace\": \"\"}}, \"*\")"
      ],
      "text/plain": [
       "<IPython.core.display.Javascript object>"
      ]
     },
     "metadata": {},
     "output_type": "display_data"
    },
    {
     "data": {
      "text/markdown": [
       "<span style=\"color:#33cc33\">Correct</span>"
      ],
      "text/plain": [
       "Correct"
      ]
     },
     "metadata": {},
     "output_type": "display_data"
    }
   ],
   "source": [
    "def select_second(L):\n",
    "    \"\"\"Return the second element of the given list. If the list has no second\n",
    "    element, return None.\n",
    "    \"\"\"\n",
    "    return L[1] if len(L) >= 2 else None\n",
    "\n",
    "# Check your answer\n",
    "q1.check()"
   ]
  },
  {
   "cell_type": "code",
   "execution_count": 3,
   "id": "0823bc05",
   "metadata": {
    "execution": {
     "iopub.execute_input": "2022-10-24T04:26:49.640916Z",
     "iopub.status.busy": "2022-10-24T04:26:49.640528Z",
     "iopub.status.idle": "2022-10-24T04:26:49.645183Z",
     "shell.execute_reply": "2022-10-24T04:26:49.644127Z"
    },
    "papermill": {
     "duration": 0.013025,
     "end_time": "2022-10-24T04:26:49.647390",
     "exception": false,
     "start_time": "2022-10-24T04:26:49.634365",
     "status": "completed"
    },
    "tags": []
   },
   "outputs": [],
   "source": [
    "#q1.hint()\n",
    "#q1.solution()"
   ]
  },
  {
   "cell_type": "markdown",
   "id": "097c49e4",
   "metadata": {
    "papermill": {
     "duration": 0.004818,
     "end_time": "2022-10-24T04:26:49.657424",
     "exception": false,
     "start_time": "2022-10-24T04:26:49.652606",
     "status": "completed"
    },
    "tags": []
   },
   "source": [
    "# 2.\n",
    "\n",
    "You are analyzing sports teams.  Members of each team are stored in a list. The Coach is the first name in the list, the captain is the second name in the list, and other players are listed after that. \n",
    "These lists are stored in another list, which starts with the best team and proceeds through the list to the worst team last.  Complete the function below to select the **captain** of the worst team."
   ]
  },
  {
   "cell_type": "code",
   "execution_count": 4,
   "id": "58a3167f",
   "metadata": {
    "execution": {
     "iopub.execute_input": "2022-10-24T04:26:49.668838Z",
     "iopub.status.busy": "2022-10-24T04:26:49.668442Z",
     "iopub.status.idle": "2022-10-24T04:26:49.677940Z",
     "shell.execute_reply": "2022-10-24T04:26:49.676788Z"
    },
    "papermill": {
     "duration": 0.018083,
     "end_time": "2022-10-24T04:26:49.680431",
     "exception": false,
     "start_time": "2022-10-24T04:26:49.662348",
     "status": "completed"
    },
    "tags": []
   },
   "outputs": [
    {
     "data": {
      "application/javascript": [
       "parent.postMessage({\"jupyterEvent\": \"custom.exercise_interaction\", \"data\": {\"outcomeType\": 1, \"valueTowardsCompletion\": 0.2, \"interactionType\": 1, \"questionType\": 2, \"questionId\": \"2_LosingTeamCaptain\", \"learnToolsVersion\": \"0.3.4\", \"failureMessage\": \"\", \"exceptionClass\": \"\", \"trace\": \"\"}}, \"*\")"
      ],
      "text/plain": [
       "<IPython.core.display.Javascript object>"
      ]
     },
     "metadata": {},
     "output_type": "display_data"
    },
    {
     "data": {
      "text/markdown": [
       "<span style=\"color:#33cc33\">Correct</span>"
      ],
      "text/plain": [
       "Correct"
      ]
     },
     "metadata": {},
     "output_type": "display_data"
    }
   ],
   "source": [
    "def losing_team_captain(teams):\n",
    "    \"\"\"Given a list of teams, where each team is a list of names, return the 2nd player (captain)\n",
    "    from the last listed team\n",
    "    \"\"\"\n",
    "    return teams[-1][1]\n",
    "\n",
    "# Check your answer\n",
    "q2.check()"
   ]
  },
  {
   "cell_type": "code",
   "execution_count": 5,
   "id": "0c5bdcb9",
   "metadata": {
    "execution": {
     "iopub.execute_input": "2022-10-24T04:26:49.693088Z",
     "iopub.status.busy": "2022-10-24T04:26:49.692675Z",
     "iopub.status.idle": "2022-10-24T04:26:49.697102Z",
     "shell.execute_reply": "2022-10-24T04:26:49.695888Z"
    },
    "papermill": {
     "duration": 0.013496,
     "end_time": "2022-10-24T04:26:49.699357",
     "exception": false,
     "start_time": "2022-10-24T04:26:49.685861",
     "status": "completed"
    },
    "tags": []
   },
   "outputs": [],
   "source": [
    "#q2.hint()\n",
    "#q2.solution()"
   ]
  },
  {
   "cell_type": "markdown",
   "id": "50a4ca48",
   "metadata": {
    "papermill": {
     "duration": 0.004997,
     "end_time": "2022-10-24T04:26:49.709811",
     "exception": false,
     "start_time": "2022-10-24T04:26:49.704814",
     "status": "completed"
    },
    "tags": []
   },
   "source": [
    "# 3.\n",
    "\n",
    "The next iteration of Mario Kart will feature an extra-infuriating new item, the *Purple Shell*. When used, it warps the last place racer into first place and the first place racer into last place. Complete the function below to implement the Purple Shell's effect."
   ]
  },
  {
   "cell_type": "code",
   "execution_count": 6,
   "id": "ec513111",
   "metadata": {
    "execution": {
     "iopub.execute_input": "2022-10-24T04:26:49.724224Z",
     "iopub.status.busy": "2022-10-24T04:26:49.723380Z",
     "iopub.status.idle": "2022-10-24T04:26:49.733369Z",
     "shell.execute_reply": "2022-10-24T04:26:49.732466Z"
    },
    "papermill": {
     "duration": 0.018798,
     "end_time": "2022-10-24T04:26:49.735533",
     "exception": false,
     "start_time": "2022-10-24T04:26:49.716735",
     "status": "completed"
    },
    "tags": []
   },
   "outputs": [
    {
     "data": {
      "application/javascript": [
       "parent.postMessage({\"jupyterEvent\": \"custom.exercise_interaction\", \"data\": {\"outcomeType\": 1, \"valueTowardsCompletion\": 0.2, \"interactionType\": 1, \"questionType\": 2, \"questionId\": \"3_PurpleShell\", \"learnToolsVersion\": \"0.3.4\", \"failureMessage\": \"\", \"exceptionClass\": \"\", \"trace\": \"\"}}, \"*\")"
      ],
      "text/plain": [
       "<IPython.core.display.Javascript object>"
      ]
     },
     "metadata": {},
     "output_type": "display_data"
    },
    {
     "data": {
      "text/markdown": [
       "<span style=\"color:#33cc33\">Correct</span>"
      ],
      "text/plain": [
       "Correct"
      ]
     },
     "metadata": {},
     "output_type": "display_data"
    }
   ],
   "source": [
    "def purple_shell(racers):\n",
    "    \"\"\"Given a list of racers, set the first place racer (at the front of the list) to last\n",
    "    place and vice versa.\n",
    "    \n",
    "    >>> r = [\"Mario\", \"Bowser\", \"Luigi\"]\n",
    "    >>> purple_shell(r)\n",
    "    >>> r\n",
    "    [\"Luigi\", \"Bowser\", \"Mario\"]\n",
    "    \"\"\"\n",
    "    racers[0], racers[-1] = racers[-1], racers[0]\n",
    "\n",
    "# Check your answer\n",
    "q3.check()"
   ]
  },
  {
   "cell_type": "code",
   "execution_count": 7,
   "id": "dba4494f",
   "metadata": {
    "execution": {
     "iopub.execute_input": "2022-10-24T04:26:49.748969Z",
     "iopub.status.busy": "2022-10-24T04:26:49.748208Z",
     "iopub.status.idle": "2022-10-24T04:26:49.752724Z",
     "shell.execute_reply": "2022-10-24T04:26:49.751947Z"
    },
    "papermill": {
     "duration": 0.013883,
     "end_time": "2022-10-24T04:26:49.754963",
     "exception": false,
     "start_time": "2022-10-24T04:26:49.741080",
     "status": "completed"
    },
    "tags": []
   },
   "outputs": [],
   "source": [
    "#q3.hint()\n",
    "#q3.solution()"
   ]
  },
  {
   "cell_type": "markdown",
   "id": "3479a0bf",
   "metadata": {
    "papermill": {
     "duration": 0.005274,
     "end_time": "2022-10-24T04:26:49.765762",
     "exception": false,
     "start_time": "2022-10-24T04:26:49.760488",
     "status": "completed"
    },
    "tags": []
   },
   "source": [
    "# 4.\n",
    "\n",
    "What are the lengths of the following lists? Fill in the variable `lengths` with your predictions. (Try to make a prediction for each list *without* just calling `len()` on it.)"
   ]
  },
  {
   "cell_type": "code",
   "execution_count": 8,
   "id": "35ecd74d",
   "metadata": {
    "execution": {
     "iopub.execute_input": "2022-10-24T04:26:49.778839Z",
     "iopub.status.busy": "2022-10-24T04:26:49.778093Z",
     "iopub.status.idle": "2022-10-24T04:26:49.788564Z",
     "shell.execute_reply": "2022-10-24T04:26:49.787654Z"
    },
    "papermill": {
     "duration": 0.019596,
     "end_time": "2022-10-24T04:26:49.790879",
     "exception": false,
     "start_time": "2022-10-24T04:26:49.771283",
     "status": "completed"
    },
    "tags": []
   },
   "outputs": [
    {
     "data": {
      "application/javascript": [
       "parent.postMessage({\"jupyterEvent\": \"custom.exercise_interaction\", \"data\": {\"outcomeType\": 1, \"valueTowardsCompletion\": 0.2, \"interactionType\": 1, \"questionType\": 1, \"questionId\": \"4_UnderstandLen\", \"learnToolsVersion\": \"0.3.4\", \"failureMessage\": \"\", \"exceptionClass\": \"\", \"trace\": \"\"}}, \"*\")"
      ],
      "text/plain": [
       "<IPython.core.display.Javascript object>"
      ]
     },
     "metadata": {},
     "output_type": "display_data"
    },
    {
     "data": {
      "text/markdown": [
       "<span style=\"color:#33cc33\">Correct:</span> \n",
       "\n",
       "\n",
       "- a: There are three items in this list. Nothing tricky yet.\n",
       "- b: The list `[2, 3]` counts as a single item. It has one item before it. So we have 2 items in the list\n",
       "- c: The empty list has 0 items\n",
       "- d: The expression is the same as the list `[2, 3]`, which has length 2."
      ],
      "text/plain": [
       "Correct: \n",
       "\n",
       "\n",
       "- a: There are three items in this list. Nothing tricky yet.\n",
       "- b: The list `[2, 3]` counts as a single item. It has one item before it. So we have 2 items in the list\n",
       "- c: The empty list has 0 items\n",
       "- d: The expression is the same as the list `[2, 3]`, which has length 2."
      ]
     },
     "metadata": {},
     "output_type": "display_data"
    }
   ],
   "source": [
    "a = [1, 2, 3]\n",
    "b = [1, [2, 3]]\n",
    "c = []\n",
    "d = [1, 2, 3][1:]\n",
    "\n",
    "# Put your predictions in the list below. Lengths should contain 4 numbers, the\n",
    "# first being the length of a, the second being the length of b and so on.\n",
    "lengths = [3, 2, 0, 2]\n",
    "\n",
    "# Check your answer\n",
    "q4.check()"
   ]
  },
  {
   "cell_type": "code",
   "execution_count": 9,
   "id": "ea1d0d75",
   "metadata": {
    "execution": {
     "iopub.execute_input": "2022-10-24T04:26:49.804666Z",
     "iopub.status.busy": "2022-10-24T04:26:49.803888Z",
     "iopub.status.idle": "2022-10-24T04:26:49.808409Z",
     "shell.execute_reply": "2022-10-24T04:26:49.807603Z"
    },
    "papermill": {
     "duration": 0.013891,
     "end_time": "2022-10-24T04:26:49.810616",
     "exception": false,
     "start_time": "2022-10-24T04:26:49.796725",
     "status": "completed"
    },
    "tags": []
   },
   "outputs": [],
   "source": [
    "# line below provides some explanation\n",
    "#q4.solution()"
   ]
  },
  {
   "cell_type": "markdown",
   "id": "5c3dd1bf",
   "metadata": {
    "papermill": {
     "duration": 0.005342,
     "end_time": "2022-10-24T04:26:49.821674",
     "exception": false,
     "start_time": "2022-10-24T04:26:49.816332",
     "status": "completed"
    },
    "tags": []
   },
   "source": [
    "# 5. <span title=\"A bit spicy\" style=\"color: darkgreen \">🌶️</span>\n",
    "\n",
    "We're using lists to record people who attended our party and what order they arrived in. For example, the following list represents a party with 7 guests, in which Adela showed up first and Ford was the last to arrive:\n",
    "\n",
    "    party_attendees = ['Adela', 'Fleda', 'Owen', 'May', 'Mona', 'Gilbert', 'Ford']\n",
    "\n",
    "A guest is considered 'fashionably late' if they arrived after at least half of the party's guests. However, they must not be the very last guest (that's taking it too far). In the above example, Mona and Gilbert are the only guests who were fashionably late.\n",
    "\n",
    "Complete the function below which takes a list of party attendees as well as a person, and tells us whether that person is fashionably late."
   ]
  },
  {
   "cell_type": "code",
   "execution_count": 10,
   "id": "d7c33b9b",
   "metadata": {
    "execution": {
     "iopub.execute_input": "2022-10-24T04:26:49.834841Z",
     "iopub.status.busy": "2022-10-24T04:26:49.834329Z",
     "iopub.status.idle": "2022-10-24T04:26:49.843727Z",
     "shell.execute_reply": "2022-10-24T04:26:49.842680Z"
    },
    "papermill": {
     "duration": 0.018436,
     "end_time": "2022-10-24T04:26:49.845768",
     "exception": false,
     "start_time": "2022-10-24T04:26:49.827332",
     "status": "completed"
    },
    "tags": []
   },
   "outputs": [
    {
     "data": {
      "application/javascript": [
       "parent.postMessage({\"jupyterEvent\": \"custom.exercise_interaction\", \"data\": {\"outcomeType\": 1, \"valueTowardsCompletion\": 0.2, \"interactionType\": 1, \"questionType\": 2, \"questionId\": \"5_FashionablyLate\", \"learnToolsVersion\": \"0.3.4\", \"failureMessage\": \"\", \"exceptionClass\": \"\", \"trace\": \"\"}}, \"*\")"
      ],
      "text/plain": [
       "<IPython.core.display.Javascript object>"
      ]
     },
     "metadata": {},
     "output_type": "display_data"
    },
    {
     "data": {
      "text/markdown": [
       "<span style=\"color:#33cc33\">Correct</span>"
      ],
      "text/plain": [
       "Correct"
      ]
     },
     "metadata": {},
     "output_type": "display_data"
    }
   ],
   "source": [
    "def fashionably_late(arrivals, name):\n",
    "    \"\"\"Given an ordered list of arrivals to the party and a name, return whether the guest with that\n",
    "    name was fashionably late.\n",
    "    \"\"\"\n",
    "    return name in arrivals[((len(arrivals)+1) // 2):-1]\n",
    "\n",
    "# Check your answer\n",
    "q5.check()"
   ]
  },
  {
   "cell_type": "code",
   "execution_count": 11,
   "id": "4af105e9",
   "metadata": {
    "execution": {
     "iopub.execute_input": "2022-10-24T04:26:49.859550Z",
     "iopub.status.busy": "2022-10-24T04:26:49.859147Z",
     "iopub.status.idle": "2022-10-24T04:26:49.863500Z",
     "shell.execute_reply": "2022-10-24T04:26:49.862377Z"
    },
    "papermill": {
     "duration": 0.01367,
     "end_time": "2022-10-24T04:26:49.865602",
     "exception": false,
     "start_time": "2022-10-24T04:26:49.851932",
     "status": "completed"
    },
    "tags": []
   },
   "outputs": [],
   "source": [
    "#q5.hint()\n",
    "#q5.solution()"
   ]
  },
  {
   "cell_type": "markdown",
   "id": "4317e673",
   "metadata": {
    "papermill": {
     "duration": 0.005929,
     "end_time": "2022-10-24T04:26:49.877558",
     "exception": false,
     "start_time": "2022-10-24T04:26:49.871629",
     "status": "completed"
    },
    "tags": []
   },
   "source": [
    "# Keep Going\n",
    "\n",
    "That's it for lists and tuples! Now you have the baseline knowledge to **[learn about loops](https://www.kaggle.com/colinmorris/loops-and-list-comprehensions)**, which is where lists and tuples get really interesting. "
   ]
  },
  {
   "cell_type": "markdown",
   "id": "23c0d156",
   "metadata": {
    "papermill": {
     "duration": 0.005688,
     "end_time": "2022-10-24T04:26:49.889241",
     "exception": false,
     "start_time": "2022-10-24T04:26:49.883553",
     "status": "completed"
    },
    "tags": []
   },
   "source": [
    "---\n",
    "\n",
    "\n",
    "\n",
    "\n",
    "*Have questions or comments? Visit the [course discussion forum](https://www.kaggle.com/learn/python/discussion) to chat with other learners.*"
   ]
  }
 ],
 "metadata": {
  "kernelspec": {
   "display_name": "Python 3",
   "language": "python",
   "name": "python3"
  },
  "language_info": {
   "codemirror_mode": {
    "name": "ipython",
    "version": 3
   },
   "file_extension": ".py",
   "mimetype": "text/x-python",
   "name": "python",
   "nbconvert_exporter": "python",
   "pygments_lexer": "ipython3",
   "version": "3.7.12"
  },
  "papermill": {
   "default_parameters": {},
   "duration": 9.505195,
   "end_time": "2022-10-24T04:26:50.516199",
   "environment_variables": {},
   "exception": null,
   "input_path": "__notebook__.ipynb",
   "output_path": "__notebook__.ipynb",
   "parameters": {},
   "start_time": "2022-10-24T04:26:41.011004",
   "version": "2.3.4"
  }
 },
 "nbformat": 4,
 "nbformat_minor": 5
}
