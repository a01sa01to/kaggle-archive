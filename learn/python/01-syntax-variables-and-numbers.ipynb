{
 "cells": [
  {
   "cell_type": "markdown",
   "id": "85c4a44c",
   "metadata": {
    "papermill": {
     "duration": 0.007856,
     "end_time": "2022-10-24T04:22:35.600076",
     "exception": false,
     "start_time": "2022-10-24T04:22:35.592220",
     "status": "completed"
    },
    "tags": []
   },
   "source": [
    "**This notebook is an exercise in the [Python](https://www.kaggle.com/learn/python) course.  You can reference the tutorial at [this link](https://www.kaggle.com/colinmorris/hello-python).**\n",
    "\n",
    "---\n"
   ]
  },
  {
   "cell_type": "markdown",
   "id": "dc7d976f",
   "metadata": {
    "papermill": {
     "duration": 0.006032,
     "end_time": "2022-10-24T04:22:35.612391",
     "exception": false,
     "start_time": "2022-10-24T04:22:35.606359",
     "status": "completed"
    },
    "tags": []
   },
   "source": [
    "Welcome to your first set of Python coding problems.  If this is your first time using Kaggle Notebooks, welcome! \n",
    "\n",
    "Notebooks are composed of blocks (called \"cells\") of text and code. Each of these is editable, though you'll mainly be editing the code cells to answer some questions.\n",
    "\n",
    "To get started, try running the code cell below (by pressing the ► button, or clicking on the cell and pressing ctrl+enter on your keyboard)."
   ]
  },
  {
   "cell_type": "code",
   "execution_count": 1,
   "id": "1a8a86c3",
   "metadata": {
    "execution": {
     "iopub.execute_input": "2022-10-24T04:22:35.626506Z",
     "iopub.status.busy": "2022-10-24T04:22:35.626079Z",
     "iopub.status.idle": "2022-10-24T04:22:35.636928Z",
     "shell.execute_reply": "2022-10-24T04:22:35.635720Z"
    },
    "papermill": {
     "duration": 0.020813,
     "end_time": "2022-10-24T04:22:35.639267",
     "exception": false,
     "start_time": "2022-10-24T04:22:35.618454",
     "status": "completed"
    },
    "tags": []
   },
   "outputs": [
    {
     "name": "stdout",
     "output_type": "stream",
     "text": [
      "You've successfully run some Python code\n",
      "Congratulations!\n"
     ]
    }
   ],
   "source": [
    "print(\"You've successfully run some Python code\")\n",
    "print(\"Congratulations!\")"
   ]
  },
  {
   "cell_type": "markdown",
   "id": "618a299b",
   "metadata": {
    "papermill": {
     "duration": 0.005779,
     "end_time": "2022-10-24T04:22:35.651597",
     "exception": false,
     "start_time": "2022-10-24T04:22:35.645818",
     "status": "completed"
    },
    "tags": []
   },
   "source": [
    "Try adding another line of code in the cell above and re-running it. \n",
    "\n",
    "Now let's get a little fancier:  Add a new code cell by clicking on an existing code cell, hitting the escape key, and then hitting the `a` or `b` key.  The `a` key will add a cell above the current cell, and `b` adds a cell below.\n",
    "\n",
    "Great! Now you know how to use Notebooks.\n",
    "\n",
    "Each hands-on exercise starts by setting up our feedback and code checking mechanism. Run the code cell below to do that. Then you'll be ready to move on to question 0."
   ]
  },
  {
   "cell_type": "code",
   "execution_count": 2,
   "id": "a9b621ea",
   "metadata": {
    "_kg_hide-input": true,
    "_kg_hide-output": true,
    "execution": {
     "iopub.execute_input": "2022-10-24T04:22:35.665727Z",
     "iopub.status.busy": "2022-10-24T04:22:35.665038Z",
     "iopub.status.idle": "2022-10-24T04:22:35.713723Z",
     "shell.execute_reply": "2022-10-24T04:22:35.712235Z"
    },
    "papermill": {
     "duration": 0.058841,
     "end_time": "2022-10-24T04:22:35.716498",
     "exception": false,
     "start_time": "2022-10-24T04:22:35.657657",
     "status": "completed"
    },
    "tags": []
   },
   "outputs": [
    {
     "name": "stdout",
     "output_type": "stream",
     "text": [
      "Setup complete! You're ready to start question 0.\n"
     ]
    }
   ],
   "source": [
    "from learntools.core import binder; binder.bind(globals())\n",
    "from learntools.python.ex1 import *\n",
    "print(\"Setup complete! You're ready to start question 0.\")"
   ]
  },
  {
   "cell_type": "markdown",
   "id": "b2359aae",
   "metadata": {
    "papermill": {
     "duration": 0.006096,
     "end_time": "2022-10-24T04:22:35.729614",
     "exception": false,
     "start_time": "2022-10-24T04:22:35.723518",
     "status": "completed"
    },
    "tags": []
   },
   "source": [
    "# 0.\n",
    "\n",
    "*This is a silly question intended as an introduction to the format we use for hands-on exercises throughout all Kaggle courses.*\n",
    "\n",
    "**What is your favorite color? **\n",
    "\n",
    "To complete this question, create a variable called `color` in the cell below with an appropriate value. The function call `q0.check()` (which we've already provided in the cell below) will check your answer."
   ]
  },
  {
   "cell_type": "code",
   "execution_count": 3,
   "id": "3912ec4e",
   "metadata": {
    "execution": {
     "iopub.execute_input": "2022-10-24T04:22:35.744018Z",
     "iopub.status.busy": "2022-10-24T04:22:35.743405Z",
     "iopub.status.idle": "2022-10-24T04:22:35.755928Z",
     "shell.execute_reply": "2022-10-24T04:22:35.754818Z"
    },
    "papermill": {
     "duration": 0.022215,
     "end_time": "2022-10-24T04:22:35.758182",
     "exception": false,
     "start_time": "2022-10-24T04:22:35.735967",
     "status": "completed"
    },
    "tags": []
   },
   "outputs": [
    {
     "data": {
      "application/javascript": [
       "parent.postMessage({\"jupyterEvent\": \"custom.exercise_interaction\", \"data\": {\"outcomeType\": 1, \"valueTowardsCompletion\": 0.25, \"interactionType\": 1, \"questionType\": 2, \"questionId\": \"0_ExerciseFormatTutorial\", \"learnToolsVersion\": \"0.3.4\", \"failureMessage\": \"\", \"exceptionClass\": \"\", \"trace\": \"\"}}, \"*\")"
      ],
      "text/plain": [
       "<IPython.core.display.Javascript object>"
      ]
     },
     "metadata": {},
     "output_type": "display_data"
    },
    {
     "data": {
      "text/markdown": [
       "<span style=\"color:#33cc33\">Correct:</span> What?! You got it right without needing a hint or anything? Drats. Well hey, you should still continue to the next step to get some practice asking for a hint and checking solutions. (Even though you obviously don't need any help here.)"
      ],
      "text/plain": [
       "Correct: What?! You got it right without needing a hint or anything? Drats. Well hey, you should still continue to the next step to get some practice asking for a hint and checking solutions. (Even though you obviously don't need any help here.)"
      ]
     },
     "metadata": {},
     "output_type": "display_data"
    }
   ],
   "source": [
    "# create a variable called color with an appropriate value on the line below\n",
    "# (Remember, strings in Python must be enclosed in 'single' or \"double\" quotes)\n",
    "color = \"blue\"\n",
    "\n",
    "# Check your answer\n",
    "q0.check()"
   ]
  },
  {
   "cell_type": "markdown",
   "id": "bb22206d",
   "metadata": {
    "papermill": {
     "duration": 0.00796,
     "end_time": "2022-10-24T04:22:35.772664",
     "exception": false,
     "start_time": "2022-10-24T04:22:35.764704",
     "status": "completed"
    },
    "tags": []
   },
   "source": [
    "Didn't get the right answer? How do you not even know your own favorite color?!\n",
    "\n",
    "Delete the `#` in the line below to make one of the lines run. You can choose between getting a hint or the full answer by choosing which line to remove the `#` from. \n",
    "\n",
    "Removing the `#` is called uncommenting, because it changes that line from a \"comment\" which Python doesn't run to code, which Python does run."
   ]
  },
  {
   "cell_type": "code",
   "execution_count": 4,
   "id": "f6d66cb6",
   "metadata": {
    "execution": {
     "iopub.execute_input": "2022-10-24T04:22:35.787713Z",
     "iopub.status.busy": "2022-10-24T04:22:35.786692Z",
     "iopub.status.idle": "2022-10-24T04:22:35.791709Z",
     "shell.execute_reply": "2022-10-24T04:22:35.790671Z"
    },
    "papermill": {
     "duration": 0.014823,
     "end_time": "2022-10-24T04:22:35.793920",
     "exception": false,
     "start_time": "2022-10-24T04:22:35.779097",
     "status": "completed"
    },
    "tags": []
   },
   "outputs": [],
   "source": [
    "#q0.hint()\n",
    "#q0.solution()"
   ]
  },
  {
   "cell_type": "markdown",
   "id": "c97f8e3c",
   "metadata": {
    "papermill": {
     "duration": 0.006214,
     "end_time": "2022-10-24T04:22:35.806601",
     "exception": false,
     "start_time": "2022-10-24T04:22:35.800387",
     "status": "completed"
    },
    "tags": []
   },
   "source": [
    "The upcoming questions work the same way. The only thing that will change are the question numbers. For the next question, you'll call `q1.check()`, `q1.hint()`, `q1.solution()`, for question 2, you'll call `q2.check()`, and so on."
   ]
  },
  {
   "cell_type": "markdown",
   "id": "def94859",
   "metadata": {
    "papermill": {
     "duration": 0.006077,
     "end_time": "2022-10-24T04:22:35.819043",
     "exception": false,
     "start_time": "2022-10-24T04:22:35.812966",
     "status": "completed"
    },
    "tags": []
   },
   "source": [
    "<hr/>\n",
    "\n",
    "# 1.\n",
    "\n",
    "Complete the code below. In case it's helpful, here is the table of available arithmetic operations:\n",
    "\n",
    "\n",
    "\n",
    "| Operator     | Name           | Description                                            |\n",
    "|--------------|----------------|--------------------------------------------------------|\n",
    "| ``a + b``    | Addition       | Sum of ``a`` and ``b``                                 |\n",
    "| ``a - b``    | Subtraction    | Difference of ``a`` and ``b``                          |\n",
    "| ``a * b``    | Multiplication | Product of ``a`` and ``b``                             |\n",
    "| ``a / b``    | True division  | Quotient of ``a`` and ``b``                            |\n",
    "| ``a // b``   | Floor division | Quotient of ``a`` and ``b``, removing fractional parts |\n",
    "| ``a % b``    | Modulus        | Integer remainder after division of ``a`` by ``b``     |\n",
    "| ``a ** b``   | Exponentiation | ``a`` raised to the power of ``b``                     |\n",
    "| ``-a``       | Negation       | The negative of ``a``                                  |\n",
    "\n",
    "<span style=\"display:none\"></span>\n"
   ]
  },
  {
   "cell_type": "code",
   "execution_count": 5,
   "id": "2b5240ec",
   "metadata": {
    "execution": {
     "iopub.execute_input": "2022-10-24T04:22:35.833965Z",
     "iopub.status.busy": "2022-10-24T04:22:35.833213Z",
     "iopub.status.idle": "2022-10-24T04:22:35.842805Z",
     "shell.execute_reply": "2022-10-24T04:22:35.841639Z"
    },
    "papermill": {
     "duration": 0.019535,
     "end_time": "2022-10-24T04:22:35.845042",
     "exception": false,
     "start_time": "2022-10-24T04:22:35.825507",
     "status": "completed"
    },
    "tags": []
   },
   "outputs": [
    {
     "data": {
      "application/javascript": [
       "parent.postMessage({\"jupyterEvent\": \"custom.exercise_interaction\", \"data\": {\"outcomeType\": 1, \"valueTowardsCompletion\": 0.25, \"interactionType\": 1, \"questionType\": 1, \"questionId\": \"1_CircleArea\", \"learnToolsVersion\": \"0.3.4\", \"failureMessage\": \"\", \"exceptionClass\": \"\", \"trace\": \"\"}}, \"*\")"
      ],
      "text/plain": [
       "<IPython.core.display.Javascript object>"
      ]
     },
     "metadata": {},
     "output_type": "display_data"
    },
    {
     "data": {
      "text/markdown": [
       "<span style=\"color:#33cc33\">Correct</span>"
      ],
      "text/plain": [
       "Correct"
      ]
     },
     "metadata": {},
     "output_type": "display_data"
    }
   ],
   "source": [
    "pi = 3.14159 # approximate\n",
    "diameter = 3\n",
    "\n",
    "# Create a variable called 'radius' equal to half the diameter\n",
    "radius = diameter / 2\n",
    "\n",
    "# Create a variable called 'area', using the formula for the area of a circle: pi times the radius squared\n",
    "area = pi * radius * radius\n",
    "\n",
    "# Check your answer\n",
    "q1.check()"
   ]
  },
  {
   "cell_type": "code",
   "execution_count": 6,
   "id": "ed193732",
   "metadata": {
    "execution": {
     "iopub.execute_input": "2022-10-24T04:22:35.860373Z",
     "iopub.status.busy": "2022-10-24T04:22:35.860003Z",
     "iopub.status.idle": "2022-10-24T04:22:35.864393Z",
     "shell.execute_reply": "2022-10-24T04:22:35.863302Z"
    },
    "papermill": {
     "duration": 0.014551,
     "end_time": "2022-10-24T04:22:35.866447",
     "exception": false,
     "start_time": "2022-10-24T04:22:35.851896",
     "status": "completed"
    },
    "tags": []
   },
   "outputs": [],
   "source": [
    "# Uncomment and run the lines below if you need help.\n",
    "#q1.hint()\n",
    "#q1.solution()"
   ]
  },
  {
   "cell_type": "markdown",
   "id": "30d17f7c",
   "metadata": {
    "papermill": {
     "duration": 0.006372,
     "end_time": "2022-10-24T04:22:35.879735",
     "exception": false,
     "start_time": "2022-10-24T04:22:35.873363",
     "status": "completed"
    },
    "tags": []
   },
   "source": [
    "<hr/>\n",
    "\n",
    "# 2.\n",
    "\n",
    "Add code to the following cell to swap variables `a` and `b` (so that `a` refers to the object previously referred to by `b` and vice versa)."
   ]
  },
  {
   "cell_type": "code",
   "execution_count": 7,
   "id": "12e8f037",
   "metadata": {
    "execution": {
     "iopub.execute_input": "2022-10-24T04:22:35.895635Z",
     "iopub.status.busy": "2022-10-24T04:22:35.894941Z",
     "iopub.status.idle": "2022-10-24T04:22:35.903140Z",
     "shell.execute_reply": "2022-10-24T04:22:35.902388Z"
    },
    "papermill": {
     "duration": 0.01851,
     "end_time": "2022-10-24T04:22:35.905060",
     "exception": false,
     "start_time": "2022-10-24T04:22:35.886550",
     "status": "completed"
    },
    "tags": []
   },
   "outputs": [
    {
     "data": {
      "application/javascript": [
       "parent.postMessage({\"jupyterEvent\": \"custom.exercise_interaction\", \"data\": {\"outcomeType\": 1, \"valueTowardsCompletion\": 0.25, \"interactionType\": 1, \"questionType\": 2, \"questionId\": \"2_VariableSwap\", \"learnToolsVersion\": \"0.3.4\", \"failureMessage\": \"\", \"exceptionClass\": \"\", \"trace\": \"\"}}, \"*\")"
      ],
      "text/plain": [
       "<IPython.core.display.Javascript object>"
      ]
     },
     "metadata": {},
     "output_type": "display_data"
    },
    {
     "data": {
      "text/markdown": [
       "<span style=\"color:#33cc33\">Correct:</span> \n",
       "\n",
       "The most straightforward solution is to use a third variable to temporarily store one of the old values. e.g.:\n",
       "\n",
       "    tmp = a\n",
       "    a = b\n",
       "    b = tmp\n",
       "\n",
       "If you've read lots of Python code, you might have seen the following trick to swap two variables in one line:\n",
       "\n",
       "    a, b = b, a\n",
       "\n",
       "We'll demystify this bit of Python magic later when we talk about *tuples*."
      ],
      "text/plain": [
       "Correct: \n",
       "\n",
       "The most straightforward solution is to use a third variable to temporarily store one of the old values. e.g.:\n",
       "\n",
       "    tmp = a\n",
       "    a = b\n",
       "    b = tmp\n",
       "\n",
       "If you've read lots of Python code, you might have seen the following trick to swap two variables in one line:\n",
       "\n",
       "    a, b = b, a\n",
       "\n",
       "We'll demystify this bit of Python magic later when we talk about *tuples*."
      ]
     },
     "metadata": {},
     "output_type": "display_data"
    }
   ],
   "source": [
    "########### Setup code - don't touch this part ######################\n",
    "# If you're curious, these are examples of lists. We'll talk about \n",
    "# them in depth a few lessons from now. For now, just know that they're\n",
    "# yet another type of Python object, like int or float.\n",
    "a = [1, 2, 3]\n",
    "b = [3, 2, 1]\n",
    "q2.store_original_ids()\n",
    "######################################################################\n",
    "\n",
    "# Your code goes here. Swap the values to which a and b refer.\n",
    "# If you get stuck, you can always uncomment one or both of the lines in\n",
    "# the next cell for a hint, or to peek at the solution.\n",
    "\n",
    "######################################################################\n",
    "a, b = b, a\n",
    "\n",
    "# Check your answer\n",
    "q2.check()"
   ]
  },
  {
   "cell_type": "code",
   "execution_count": 8,
   "id": "2f1773bf",
   "metadata": {
    "execution": {
     "iopub.execute_input": "2022-10-24T04:22:35.920804Z",
     "iopub.status.busy": "2022-10-24T04:22:35.920417Z",
     "iopub.status.idle": "2022-10-24T04:22:35.924601Z",
     "shell.execute_reply": "2022-10-24T04:22:35.923775Z"
    },
    "papermill": {
     "duration": 0.014487,
     "end_time": "2022-10-24T04:22:35.926652",
     "exception": false,
     "start_time": "2022-10-24T04:22:35.912165",
     "status": "completed"
    },
    "tags": []
   },
   "outputs": [],
   "source": [
    "#q2.hint()"
   ]
  },
  {
   "cell_type": "code",
   "execution_count": 9,
   "id": "65a1e59a",
   "metadata": {
    "execution": {
     "iopub.execute_input": "2022-10-24T04:22:35.942349Z",
     "iopub.status.busy": "2022-10-24T04:22:35.941967Z",
     "iopub.status.idle": "2022-10-24T04:22:35.945933Z",
     "shell.execute_reply": "2022-10-24T04:22:35.945168Z"
    },
    "papermill": {
     "duration": 0.013858,
     "end_time": "2022-10-24T04:22:35.947812",
     "exception": false,
     "start_time": "2022-10-24T04:22:35.933954",
     "status": "completed"
    },
    "tags": []
   },
   "outputs": [],
   "source": [
    "#q2.solution()"
   ]
  },
  {
   "cell_type": "markdown",
   "id": "5053cc08",
   "metadata": {
    "papermill": {
     "duration": 0.006704,
     "end_time": "2022-10-24T04:22:35.961662",
     "exception": false,
     "start_time": "2022-10-24T04:22:35.954958",
     "status": "completed"
    },
    "tags": []
   },
   "source": [
    "<hr/>\n",
    "\n",
    "# 3a.\n",
    "\n",
    "Add parentheses to the following expression so that it evaluates to 1."
   ]
  },
  {
   "cell_type": "code",
   "execution_count": 10,
   "id": "6debe93c",
   "metadata": {
    "execution": {
     "iopub.execute_input": "2022-10-24T04:22:35.977571Z",
     "iopub.status.busy": "2022-10-24T04:22:35.976751Z",
     "iopub.status.idle": "2022-10-24T04:22:35.982812Z",
     "shell.execute_reply": "2022-10-24T04:22:35.982097Z"
    },
    "papermill": {
     "duration": 0.016015,
     "end_time": "2022-10-24T04:22:35.984644",
     "exception": false,
     "start_time": "2022-10-24T04:22:35.968629",
     "status": "completed"
    },
    "tags": []
   },
   "outputs": [
    {
     "data": {
      "text/plain": [
       "1"
      ]
     },
     "execution_count": 10,
     "metadata": {},
     "output_type": "execute_result"
    }
   ],
   "source": [
    "(5 - 3) // 2"
   ]
  },
  {
   "cell_type": "code",
   "execution_count": 11,
   "id": "ee4c8d5a",
   "metadata": {
    "execution": {
     "iopub.execute_input": "2022-10-24T04:22:36.000213Z",
     "iopub.status.busy": "2022-10-24T04:22:35.999846Z",
     "iopub.status.idle": "2022-10-24T04:22:36.004409Z",
     "shell.execute_reply": "2022-10-24T04:22:36.003391Z"
    },
    "papermill": {
     "duration": 0.014674,
     "end_time": "2022-10-24T04:22:36.006511",
     "exception": false,
     "start_time": "2022-10-24T04:22:35.991837",
     "status": "completed"
    },
    "tags": []
   },
   "outputs": [],
   "source": [
    "#q3.a.hint()"
   ]
  },
  {
   "cell_type": "code",
   "execution_count": 12,
   "id": "d1cd0eb6",
   "metadata": {
    "execution": {
     "iopub.execute_input": "2022-10-24T04:22:36.022506Z",
     "iopub.status.busy": "2022-10-24T04:22:36.022136Z",
     "iopub.status.idle": "2022-10-24T04:22:36.032849Z",
     "shell.execute_reply": "2022-10-24T04:22:36.032119Z"
    },
    "papermill": {
     "duration": 0.020932,
     "end_time": "2022-10-24T04:22:36.034744",
     "exception": false,
     "start_time": "2022-10-24T04:22:36.013812",
     "status": "completed"
    },
    "tags": []
   },
   "outputs": [
    {
     "data": {
      "application/javascript": [
       "parent.postMessage({\"jupyterEvent\": \"custom.exercise_interaction\", \"data\": {\"interactionType\": 3, \"questionType\": 4, \"questionId\": \"3.1_ArithmeticParensEasy\", \"learnToolsVersion\": \"0.3.4\", \"valueTowardsCompletion\": 0.0, \"failureMessage\": \"\", \"exceptionClass\": \"\", \"trace\": \"\", \"outcomeType\": 4}}, \"*\")"
      ],
      "text/plain": [
       "<IPython.core.display.Javascript object>"
      ]
     },
     "metadata": {},
     "output_type": "display_data"
    },
    {
     "data": {
      "text/markdown": [
       "<span style=\"color:#33cc99\">Solution:</span> \n",
       "```python\n",
       "(5 - 3) // 2\n",
       "```"
      ],
      "text/plain": [
       "Solution: \n",
       "```python\n",
       "(5 - 3) // 2\n",
       "```"
      ]
     },
     "metadata": {},
     "output_type": "display_data"
    }
   ],
   "source": [
    "# Check your answer (Run this code cell to receive credit!)\n",
    "q3.a.solution()"
   ]
  },
  {
   "cell_type": "markdown",
   "id": "ee90095e",
   "metadata": {
    "papermill": {
     "duration": 0.007097,
     "end_time": "2022-10-24T04:22:36.049607",
     "exception": false,
     "start_time": "2022-10-24T04:22:36.042510",
     "status": "completed"
    },
    "tags": []
   },
   "source": [
    "# 3b.  <span title=\"A bit spicy\" style=\"color: darkgreen \">🌶️</span>\n",
    "\n",
    "<small>Questions, like this one, marked a spicy pepper are a bit harder.</small>\n",
    "\n",
    "Add parentheses to the following expression so that it evaluates to 0."
   ]
  },
  {
   "cell_type": "code",
   "execution_count": 13,
   "id": "dc949c59",
   "metadata": {
    "execution": {
     "iopub.execute_input": "2022-10-24T04:22:36.066295Z",
     "iopub.status.busy": "2022-10-24T04:22:36.065632Z",
     "iopub.status.idle": "2022-10-24T04:22:36.071962Z",
     "shell.execute_reply": "2022-10-24T04:22:36.070847Z"
    },
    "papermill": {
     "duration": 0.017363,
     "end_time": "2022-10-24T04:22:36.074319",
     "exception": false,
     "start_time": "2022-10-24T04:22:36.056956",
     "status": "completed"
    },
    "tags": []
   },
   "outputs": [
    {
     "data": {
      "text/plain": [
       "0"
      ]
     },
     "execution_count": 13,
     "metadata": {},
     "output_type": "execute_result"
    }
   ],
   "source": [
    "8 - (3 * 2) - (1 + 1)"
   ]
  },
  {
   "cell_type": "code",
   "execution_count": 14,
   "id": "5b3aee6c",
   "metadata": {
    "execution": {
     "iopub.execute_input": "2022-10-24T04:22:36.090946Z",
     "iopub.status.busy": "2022-10-24T04:22:36.090542Z",
     "iopub.status.idle": "2022-10-24T04:22:36.095141Z",
     "shell.execute_reply": "2022-10-24T04:22:36.094112Z"
    },
    "papermill": {
     "duration": 0.015305,
     "end_time": "2022-10-24T04:22:36.097186",
     "exception": false,
     "start_time": "2022-10-24T04:22:36.081881",
     "status": "completed"
    },
    "tags": []
   },
   "outputs": [],
   "source": [
    "#q3.b.hint()"
   ]
  },
  {
   "cell_type": "code",
   "execution_count": 15,
   "id": "b5dac022",
   "metadata": {
    "execution": {
     "iopub.execute_input": "2022-10-24T04:22:36.114225Z",
     "iopub.status.busy": "2022-10-24T04:22:36.113616Z",
     "iopub.status.idle": "2022-10-24T04:22:36.120542Z",
     "shell.execute_reply": "2022-10-24T04:22:36.119826Z"
    },
    "papermill": {
     "duration": 0.017653,
     "end_time": "2022-10-24T04:22:36.122493",
     "exception": false,
     "start_time": "2022-10-24T04:22:36.104840",
     "status": "completed"
    },
    "tags": []
   },
   "outputs": [
    {
     "data": {
      "application/javascript": [
       "parent.postMessage({\"jupyterEvent\": \"custom.exercise_interaction\", \"data\": {\"interactionType\": 3, \"questionType\": 4, \"questionId\": \"3.2_ArithmeticParensHard\", \"learnToolsVersion\": \"0.3.4\", \"valueTowardsCompletion\": 0.0, \"failureMessage\": \"\", \"exceptionClass\": \"\", \"trace\": \"\", \"outcomeType\": 4}}, \"*\")"
      ],
      "text/plain": [
       "<IPython.core.display.Javascript object>"
      ]
     },
     "metadata": {},
     "output_type": "display_data"
    },
    {
     "data": {
      "text/markdown": [
       "<span style=\"color:#33cc99\">Solution:</span> `(8 - 3) * (2 - (1 + 1))` is one solution. There may be others."
      ],
      "text/plain": [
       "Solution: `(8 - 3) * (2 - (1 + 1))` is one solution. There may be others."
      ]
     },
     "metadata": {},
     "output_type": "display_data"
    }
   ],
   "source": [
    "# Check your answer (Run this code cell to receive credit!)\n",
    "q3.b.solution()"
   ]
  },
  {
   "cell_type": "markdown",
   "id": "090a498f",
   "metadata": {
    "papermill": {
     "duration": 0.007753,
     "end_time": "2022-10-24T04:22:36.138306",
     "exception": false,
     "start_time": "2022-10-24T04:22:36.130553",
     "status": "completed"
    },
    "tags": []
   },
   "source": [
    "<hr/>\n",
    "\n",
    "# 4. \n",
    "Alice, Bob and Carol have agreed to pool their Halloween candy and split it evenly among themselves.\n",
    "For the sake of their friendship, any candies left over will be smashed. For example, if they collectively\n",
    "bring home 91 candies, they'll take 30 each and smash 1.\n",
    "\n",
    "Write an arithmetic expression below to calculate how many candies they must smash for a given haul."
   ]
  },
  {
   "cell_type": "code",
   "execution_count": 16,
   "id": "98b513df",
   "metadata": {
    "execution": {
     "iopub.execute_input": "2022-10-24T04:22:36.157352Z",
     "iopub.status.busy": "2022-10-24T04:22:36.156429Z",
     "iopub.status.idle": "2022-10-24T04:22:36.164497Z",
     "shell.execute_reply": "2022-10-24T04:22:36.163745Z"
    },
    "papermill": {
     "duration": 0.02027,
     "end_time": "2022-10-24T04:22:36.166475",
     "exception": false,
     "start_time": "2022-10-24T04:22:36.146205",
     "status": "completed"
    },
    "tags": []
   },
   "outputs": [
    {
     "data": {
      "application/javascript": [
       "parent.postMessage({\"jupyterEvent\": \"custom.exercise_interaction\", \"data\": {\"outcomeType\": 2, \"failureMessage\": \"Incorrect value for `to_smash`: `10.233333333333333`\", \"interactionType\": 1, \"questionType\": 1, \"questionId\": \"4_CandySplitting\", \"learnToolsVersion\": \"0.3.4\", \"valueTowardsCompletion\": 0.0, \"exceptionClass\": \"\", \"trace\": \"\"}}, \"*\")"
      ],
      "text/plain": [
       "<IPython.core.display.Javascript object>"
      ]
     },
     "metadata": {},
     "output_type": "display_data"
    },
    {
     "data": {
      "text/markdown": [
       "<span style=\"color:#cc3333\">Incorrect:</span> Incorrect value for `to_smash`: `10.233333333333333`"
      ],
      "text/plain": [
       "Incorrect: Incorrect value for `to_smash`: `10.233333333333333`"
      ]
     },
     "metadata": {},
     "output_type": "display_data"
    }
   ],
   "source": [
    "# Variables representing the number of candies collected by alice, bob, and carol\n",
    "alice_candies = 121\n",
    "bob_candies = 77\n",
    "carol_candies = 109\n",
    "\n",
    "# Your code goes here! Replace the right-hand side of this assignment with an expression\n",
    "# involving alice_candies, bob_candies, and carol_candies\n",
    "to_smash = (alice_candies + bob_candies + carol_candies) / 30\n",
    "\n",
    "# Check your answer\n",
    "q4.check()"
   ]
  },
  {
   "cell_type": "code",
   "execution_count": 17,
   "id": "8b0e8584",
   "metadata": {
    "execution": {
     "iopub.execute_input": "2022-10-24T04:22:36.184996Z",
     "iopub.status.busy": "2022-10-24T04:22:36.184551Z",
     "iopub.status.idle": "2022-10-24T04:22:36.188546Z",
     "shell.execute_reply": "2022-10-24T04:22:36.187701Z"
    },
    "papermill": {
     "duration": 0.015915,
     "end_time": "2022-10-24T04:22:36.190667",
     "exception": false,
     "start_time": "2022-10-24T04:22:36.174752",
     "status": "completed"
    },
    "tags": []
   },
   "outputs": [],
   "source": [
    "#q4.hint()\n",
    "#q4.solution()"
   ]
  },
  {
   "cell_type": "markdown",
   "id": "a5f69953",
   "metadata": {
    "papermill": {
     "duration": 0.008143,
     "end_time": "2022-10-24T04:22:36.207489",
     "exception": false,
     "start_time": "2022-10-24T04:22:36.199346",
     "status": "completed"
    },
    "tags": []
   },
   "source": [
    "# Keep Going\n",
    "\n",
    "Next up, you'll **[learn to write new functions and understand functions others write](https://www.kaggle.com/colinmorris/functions-and-getting-help)**. This will make you at least 10 times more productive as a Python programmer. "
   ]
  },
  {
   "cell_type": "markdown",
   "id": "71b08b81",
   "metadata": {
    "papermill": {
     "duration": 0.00845,
     "end_time": "2022-10-24T04:22:36.224142",
     "exception": false,
     "start_time": "2022-10-24T04:22:36.215692",
     "status": "completed"
    },
    "tags": []
   },
   "source": [
    "---\n",
    "\n",
    "\n",
    "\n",
    "\n",
    "*Have questions or comments? Visit the [course discussion forum](https://www.kaggle.com/learn/python/discussion) to chat with other learners.*"
   ]
  }
 ],
 "metadata": {
  "kernelspec": {
   "display_name": "Python 3",
   "language": "python",
   "name": "python3"
  },
  "language_info": {
   "codemirror_mode": {
    "name": "ipython",
    "version": 3
   },
   "file_extension": ".py",
   "mimetype": "text/x-python",
   "name": "python",
   "nbconvert_exporter": "python",
   "pygments_lexer": "ipython3",
   "version": "3.7.12"
  },
  "papermill": {
   "default_parameters": {},
   "duration": 9.452324,
   "end_time": "2022-10-24T04:22:36.853861",
   "environment_variables": {},
   "exception": null,
   "input_path": "__notebook__.ipynb",
   "output_path": "__notebook__.ipynb",
   "parameters": {},
   "start_time": "2022-10-24T04:22:27.401537",
   "version": "2.3.4"
  }
 },
 "nbformat": 4,
 "nbformat_minor": 5
}
