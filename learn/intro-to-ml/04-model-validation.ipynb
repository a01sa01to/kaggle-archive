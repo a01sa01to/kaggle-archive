{
 "cells": [
  {
   "cell_type": "markdown",
   "id": "6b729361",
   "metadata": {
    "papermill": {
     "duration": 0.003914,
     "end_time": "2022-11-15T04:54:21.323684",
     "exception": false,
     "start_time": "2022-11-15T04:54:21.319770",
     "status": "completed"
    },
    "tags": []
   },
   "source": [
    "**This notebook is an exercise in the [Introduction to Machine Learning](https://www.kaggle.com/learn/intro-to-machine-learning) course.  You can reference the tutorial at [this link](https://www.kaggle.com/dansbecker/model-validation).**\n",
    "\n",
    "---\n"
   ]
  },
  {
   "cell_type": "markdown",
   "id": "c141f9b0",
   "metadata": {
    "papermill": {
     "duration": 0.002859,
     "end_time": "2022-11-15T04:54:21.329604",
     "exception": false,
     "start_time": "2022-11-15T04:54:21.326745",
     "status": "completed"
    },
    "tags": []
   },
   "source": [
    "## Recap\n",
    "You've built a model. In this exercise you will test how good your model is.\n",
    "\n",
    "Run the cell below to set up your coding environment where the previous exercise left off."
   ]
  },
  {
   "cell_type": "code",
   "execution_count": 1,
   "id": "a8531244",
   "metadata": {
    "execution": {
     "iopub.execute_input": "2022-11-15T04:54:21.337358Z",
     "iopub.status.busy": "2022-11-15T04:54:21.336978Z",
     "iopub.status.idle": "2022-11-15T04:54:22.864424Z",
     "shell.execute_reply": "2022-11-15T04:54:22.862571Z"
    },
    "papermill": {
     "duration": 1.535764,
     "end_time": "2022-11-15T04:54:22.868310",
     "exception": false,
     "start_time": "2022-11-15T04:54:21.332546",
     "status": "completed"
    },
    "tags": []
   },
   "outputs": [
    {
     "name": "stdout",
     "output_type": "stream",
     "text": [
      "First in-sample predictions: [208500. 181500. 223500. 140000. 250000.]\n",
      "Actual target values for those homes: [208500, 181500, 223500, 140000, 250000]\n",
      "Setup Complete\n"
     ]
    }
   ],
   "source": [
    "# Code you have previously used to load data\n",
    "import pandas as pd\n",
    "from sklearn.tree import DecisionTreeRegressor\n",
    "\n",
    "# Path of the file to read\n",
    "iowa_file_path = '../input/home-data-for-ml-course/train.csv'\n",
    "\n",
    "home_data = pd.read_csv(iowa_file_path)\n",
    "y = home_data.SalePrice\n",
    "feature_columns = ['LotArea', 'YearBuilt', '1stFlrSF', '2ndFlrSF', 'FullBath', 'BedroomAbvGr', 'TotRmsAbvGrd']\n",
    "X = home_data[feature_columns]\n",
    "\n",
    "# Specify Model\n",
    "iowa_model = DecisionTreeRegressor()\n",
    "# Fit Model\n",
    "iowa_model.fit(X, y)\n",
    "\n",
    "print(\"First in-sample predictions:\", iowa_model.predict(X.head()))\n",
    "print(\"Actual target values for those homes:\", y.head().tolist())\n",
    "\n",
    "# Set up code checking\n",
    "from learntools.core import binder\n",
    "binder.bind(globals())\n",
    "from learntools.machine_learning.ex4 import *\n",
    "print(\"Setup Complete\")"
   ]
  },
  {
   "cell_type": "markdown",
   "id": "9ff1d04d",
   "metadata": {
    "papermill": {
     "duration": 0.00345,
     "end_time": "2022-11-15T04:54:22.875940",
     "exception": false,
     "start_time": "2022-11-15T04:54:22.872490",
     "status": "completed"
    },
    "tags": []
   },
   "source": [
    "# Exercises\n",
    "\n",
    "## Step 1: Split Your Data\n",
    "Use the `train_test_split` function to split up your data.\n",
    "\n",
    "Give it the argument `random_state=1` so the `check` functions know what to expect when verifying your code.\n",
    "\n",
    "Recall, your features are loaded in the DataFrame **X** and your target is loaded in **y**.\n"
   ]
  },
  {
   "cell_type": "code",
   "execution_count": 2,
   "id": "6856470e",
   "metadata": {
    "execution": {
     "iopub.execute_input": "2022-11-15T04:54:22.884343Z",
     "iopub.status.busy": "2022-11-15T04:54:22.884043Z",
     "iopub.status.idle": "2022-11-15T04:54:22.893918Z",
     "shell.execute_reply": "2022-11-15T04:54:22.892747Z"
    },
    "papermill": {
     "duration": 0.016229,
     "end_time": "2022-11-15T04:54:22.895697",
     "exception": false,
     "start_time": "2022-11-15T04:54:22.879468",
     "status": "completed"
    },
    "tags": []
   },
   "outputs": [
    {
     "data": {
      "application/javascript": [
       "parent.postMessage({\"jupyterEvent\": \"custom.exercise_interaction\", \"data\": {\"outcomeType\": 2, \"failureMessage\": \"You still need to define the following variables: `train_X`, `train_y`, `val_X`, `val_y`\", \"interactionType\": 1, \"questionType\": 2, \"questionId\": \"1_SplitData\", \"learnToolsVersion\": \"0.3.4\", \"valueTowardsCompletion\": 0.0, \"exceptionClass\": \"\", \"trace\": \"\"}}, \"*\")"
      ],
      "text/plain": [
       "<IPython.core.display.Javascript object>"
      ]
     },
     "metadata": {},
     "output_type": "display_data"
    },
    {
     "data": {
      "text/markdown": [
       "<span style=\"color:#cc3333\">Incorrect:</span> You still need to define the following variables: `train_X`, `train_y`, `val_X`, `val_y`"
      ],
      "text/plain": [
       "Incorrect: You still need to define the following variables: `train_X`, `train_y`, `val_X`, `val_y`"
      ]
     },
     "metadata": {},
     "output_type": "display_data"
    }
   ],
   "source": [
    "# Import the train_test_split function and uncomment\n",
    "# from _ import _\n",
    "\n",
    "# fill in and uncomment\n",
    "# train_X, val_X, train_y, val_y = ____\n",
    "\n",
    "# Check your answer\n",
    "step_1.check()"
   ]
  },
  {
   "cell_type": "code",
   "execution_count": 3,
   "id": "a4b84b2e",
   "metadata": {
    "execution": {
     "iopub.execute_input": "2022-11-15T04:54:22.904836Z",
     "iopub.status.busy": "2022-11-15T04:54:22.904152Z",
     "iopub.status.idle": "2022-11-15T04:54:22.907959Z",
     "shell.execute_reply": "2022-11-15T04:54:22.907092Z"
    },
    "papermill": {
     "duration": 0.010701,
     "end_time": "2022-11-15T04:54:22.910149",
     "exception": false,
     "start_time": "2022-11-15T04:54:22.899448",
     "status": "completed"
    },
    "tags": []
   },
   "outputs": [],
   "source": [
    "# The lines below will show you a hint or the solution.\n",
    "# step_1.hint() \n",
    "# step_1.solution()\n"
   ]
  },
  {
   "cell_type": "markdown",
   "id": "29070627",
   "metadata": {
    "papermill": {
     "duration": 0.003382,
     "end_time": "2022-11-15T04:54:22.917466",
     "exception": false,
     "start_time": "2022-11-15T04:54:22.914084",
     "status": "completed"
    },
    "tags": []
   },
   "source": [
    "## Step 2: Specify and Fit the Model\n",
    "\n",
    "Create a `DecisionTreeRegressor` model and fit it to the relevant data.\n",
    "Set `random_state` to 1 again when creating the model."
   ]
  },
  {
   "cell_type": "code",
   "execution_count": 4,
   "id": "b6589bf3",
   "metadata": {
    "execution": {
     "iopub.execute_input": "2022-11-15T04:54:22.926047Z",
     "iopub.status.busy": "2022-11-15T04:54:22.925714Z",
     "iopub.status.idle": "2022-11-15T04:54:22.935050Z",
     "shell.execute_reply": "2022-11-15T04:54:22.934276Z"
    },
    "papermill": {
     "duration": 0.015844,
     "end_time": "2022-11-15T04:54:22.936856",
     "exception": false,
     "start_time": "2022-11-15T04:54:22.921012",
     "status": "completed"
    },
    "tags": []
   },
   "outputs": [
    {
     "data": {
      "application/javascript": [
       "parent.postMessage({\"jupyterEvent\": \"custom.exercise_interaction\", \"data\": {\"outcomeType\": 2, \"failureMessage\": \"You still need to define the following variables: `train_X`, `train_y`, `val_X`\", \"interactionType\": 1, \"questionType\": 2, \"questionId\": \"2_FitModelWithTrain\", \"learnToolsVersion\": \"0.3.4\", \"valueTowardsCompletion\": 0.0, \"exceptionClass\": \"\", \"trace\": \"\"}}, \"*\")"
      ],
      "text/plain": [
       "<IPython.core.display.Javascript object>"
      ]
     },
     "metadata": {},
     "output_type": "display_data"
    },
    {
     "data": {
      "text/markdown": [
       "<span style=\"color:#cc3333\">Incorrect:</span> You still need to define the following variables: `train_X`, `train_y`, `val_X`"
      ],
      "text/plain": [
       "Incorrect: You still need to define the following variables: `train_X`, `train_y`, `val_X`"
      ]
     },
     "metadata": {},
     "output_type": "display_data"
    }
   ],
   "source": [
    "# You imported DecisionTreeRegressor in your last exercise\n",
    "# and that code has been copied to the setup code above. So, no need to\n",
    "# import it again\n",
    "\n",
    "# Specify the model\n",
    "iowa_model = ____\n",
    "\n",
    "# Fit iowa_model with the training data.\n",
    "____\n",
    "\n",
    "# Check your answer\n",
    "step_2.check()"
   ]
  },
  {
   "cell_type": "code",
   "execution_count": 5,
   "id": "b51fa3f4",
   "metadata": {
    "execution": {
     "iopub.execute_input": "2022-11-15T04:54:22.946665Z",
     "iopub.status.busy": "2022-11-15T04:54:22.946324Z",
     "iopub.status.idle": "2022-11-15T04:54:22.949754Z",
     "shell.execute_reply": "2022-11-15T04:54:22.948794Z"
    },
    "papermill": {
     "duration": 0.010259,
     "end_time": "2022-11-15T04:54:22.951314",
     "exception": false,
     "start_time": "2022-11-15T04:54:22.941055",
     "status": "completed"
    },
    "tags": []
   },
   "outputs": [],
   "source": [
    "# step_2.hint()\n",
    "# step_2.solution()"
   ]
  },
  {
   "cell_type": "markdown",
   "id": "a5a9d214",
   "metadata": {
    "papermill": {
     "duration": 0.003777,
     "end_time": "2022-11-15T04:54:22.959249",
     "exception": false,
     "start_time": "2022-11-15T04:54:22.955472",
     "status": "completed"
    },
    "tags": []
   },
   "source": [
    "## Step 3: Make Predictions with Validation data\n"
   ]
  },
  {
   "cell_type": "code",
   "execution_count": 6,
   "id": "f7abd0a5",
   "metadata": {
    "execution": {
     "iopub.execute_input": "2022-11-15T04:54:22.969529Z",
     "iopub.status.busy": "2022-11-15T04:54:22.968993Z",
     "iopub.status.idle": "2022-11-15T04:54:22.975020Z",
     "shell.execute_reply": "2022-11-15T04:54:22.974312Z"
    },
    "papermill": {
     "duration": 0.013503,
     "end_time": "2022-11-15T04:54:22.976944",
     "exception": false,
     "start_time": "2022-11-15T04:54:22.963441",
     "status": "completed"
    },
    "tags": []
   },
   "outputs": [
    {
     "data": {
      "application/javascript": [
       "parent.postMessage({\"jupyterEvent\": \"custom.exercise_interaction\", \"data\": {\"outcomeType\": 2, \"failureMessage\": \"You still need to define the following variables: `val_X`\", \"interactionType\": 1, \"questionType\": 2, \"questionId\": \"3_ValPreds\", \"learnToolsVersion\": \"0.3.4\", \"valueTowardsCompletion\": 0.0, \"exceptionClass\": \"\", \"trace\": \"\"}}, \"*\")"
      ],
      "text/plain": [
       "<IPython.core.display.Javascript object>"
      ]
     },
     "metadata": {},
     "output_type": "display_data"
    },
    {
     "data": {
      "text/markdown": [
       "<span style=\"color:#cc3333\">Incorrect:</span> You still need to define the following variables: `val_X`"
      ],
      "text/plain": [
       "Incorrect: You still need to define the following variables: `val_X`"
      ]
     },
     "metadata": {},
     "output_type": "display_data"
    }
   ],
   "source": [
    "# Predict with all validation observations\n",
    "val_predictions = ____\n",
    "\n",
    "# Check your answer\n",
    "step_3.check()"
   ]
  },
  {
   "cell_type": "code",
   "execution_count": 7,
   "id": "3c77aa9a",
   "metadata": {
    "execution": {
     "iopub.execute_input": "2022-11-15T04:54:22.987383Z",
     "iopub.status.busy": "2022-11-15T04:54:22.986845Z",
     "iopub.status.idle": "2022-11-15T04:54:22.989901Z",
     "shell.execute_reply": "2022-11-15T04:54:22.989292Z"
    },
    "papermill": {
     "duration": 0.010589,
     "end_time": "2022-11-15T04:54:22.991965",
     "exception": false,
     "start_time": "2022-11-15T04:54:22.981376",
     "status": "completed"
    },
    "tags": []
   },
   "outputs": [],
   "source": [
    "# step_3.hint()\n",
    "# step_3.solution()"
   ]
  },
  {
   "cell_type": "markdown",
   "id": "50359779",
   "metadata": {
    "papermill": {
     "duration": 0.004133,
     "end_time": "2022-11-15T04:54:23.000743",
     "exception": false,
     "start_time": "2022-11-15T04:54:22.996610",
     "status": "completed"
    },
    "tags": []
   },
   "source": [
    "Inspect your predictions and actual values from validation data."
   ]
  },
  {
   "cell_type": "code",
   "execution_count": 8,
   "id": "41d8531d",
   "metadata": {
    "execution": {
     "iopub.execute_input": "2022-11-15T04:54:23.011606Z",
     "iopub.status.busy": "2022-11-15T04:54:23.011042Z",
     "iopub.status.idle": "2022-11-15T04:54:23.015885Z",
     "shell.execute_reply": "2022-11-15T04:54:23.014354Z"
    },
    "papermill": {
     "duration": 0.01322,
     "end_time": "2022-11-15T04:54:23.018361",
     "exception": false,
     "start_time": "2022-11-15T04:54:23.005141",
     "status": "completed"
    },
    "tags": []
   },
   "outputs": [
    {
     "name": "stdout",
     "output_type": "stream",
     "text": [
      "<learntools.core.constants.PlaceholderValue object at 0x7f37d8d39950>\n",
      "<learntools.core.constants.PlaceholderValue object at 0x7f37d8d39950>\n"
     ]
    }
   ],
   "source": [
    "# print the top few validation predictions\n",
    "print(____)\n",
    "# print the top few actual prices from validation data\n",
    "print(____)"
   ]
  },
  {
   "cell_type": "markdown",
   "id": "560f2389",
   "metadata": {
    "papermill": {
     "duration": 0.004205,
     "end_time": "2022-11-15T04:54:23.027976",
     "exception": false,
     "start_time": "2022-11-15T04:54:23.023771",
     "status": "completed"
    },
    "tags": []
   },
   "source": [
    "What do you notice that is different from what you saw with in-sample predictions (which are printed after the top code cell in this page).\n",
    "\n",
    "Do you remember why validation predictions differ from in-sample (or training) predictions? This is an important idea from the last lesson.\n",
    "\n",
    "## Step 4: Calculate the Mean Absolute Error in Validation Data\n"
   ]
  },
  {
   "cell_type": "code",
   "execution_count": 9,
   "id": "f27eb195",
   "metadata": {
    "execution": {
     "iopub.execute_input": "2022-11-15T04:54:23.038815Z",
     "iopub.status.busy": "2022-11-15T04:54:23.038165Z",
     "iopub.status.idle": "2022-11-15T04:54:23.044545Z",
     "shell.execute_reply": "2022-11-15T04:54:23.043971Z"
    },
    "papermill": {
     "duration": 0.013495,
     "end_time": "2022-11-15T04:54:23.046057",
     "exception": false,
     "start_time": "2022-11-15T04:54:23.032562",
     "status": "completed"
    },
    "tags": []
   },
   "outputs": [
    {
     "data": {
      "application/javascript": [
       "parent.postMessage({\"jupyterEvent\": \"custom.exercise_interaction\", \"data\": {\"outcomeType\": 4, \"interactionType\": 1, \"questionType\": 1, \"questionId\": \"4_MAE\", \"learnToolsVersion\": \"0.3.4\", \"valueTowardsCompletion\": 0.0, \"failureMessage\": \"\", \"exceptionClass\": \"\", \"trace\": \"\"}}, \"*\")"
      ],
      "text/plain": [
       "<IPython.core.display.Javascript object>"
      ]
     },
     "metadata": {},
     "output_type": "display_data"
    },
    {
     "data": {
      "text/markdown": [
       "<span style=\"color:#ccaa33\">Check:</span> When you've updated the starter code, `check()` will tell you whether your code is correct. You need to update the code that creates variable `val_mae`"
      ],
      "text/plain": [
       "Check: When you've updated the starter code, `check()` will tell you whether your code is correct. You need to update the code that creates variable `val_mae`"
      ]
     },
     "metadata": {},
     "output_type": "display_data"
    }
   ],
   "source": [
    "from sklearn.metrics import mean_absolute_error\n",
    "val_mae = ____\n",
    "\n",
    "# uncomment following line to see the validation_mae\n",
    "#print(val_mae)\n",
    "\n",
    "# Check your answer\n",
    "step_4.check()"
   ]
  },
  {
   "cell_type": "code",
   "execution_count": 10,
   "id": "b3fd3074",
   "metadata": {
    "execution": {
     "iopub.execute_input": "2022-11-15T04:54:23.057435Z",
     "iopub.status.busy": "2022-11-15T04:54:23.056896Z",
     "iopub.status.idle": "2022-11-15T04:54:23.061268Z",
     "shell.execute_reply": "2022-11-15T04:54:23.059902Z"
    },
    "papermill": {
     "duration": 0.012553,
     "end_time": "2022-11-15T04:54:23.063429",
     "exception": false,
     "start_time": "2022-11-15T04:54:23.050876",
     "status": "completed"
    },
    "tags": []
   },
   "outputs": [],
   "source": [
    "# step_4.hint()\n",
    "# step_4.solution()"
   ]
  },
  {
   "cell_type": "markdown",
   "id": "43faecb6",
   "metadata": {
    "papermill": {
     "duration": 0.004538,
     "end_time": "2022-11-15T04:54:23.072927",
     "exception": false,
     "start_time": "2022-11-15T04:54:23.068389",
     "status": "completed"
    },
    "tags": []
   },
   "source": [
    "Is that MAE good?  There isn't a general rule for what values are good that applies across applications. But you'll see how to use (and improve) this number in the next step.\n",
    "\n",
    "# Keep Going\n",
    "\n",
    "You are ready for **[Underfitting and Overfitting](https://www.kaggle.com/dansbecker/underfitting-and-overfitting).**\n"
   ]
  },
  {
   "cell_type": "markdown",
   "id": "043c693a",
   "metadata": {
    "papermill": {
     "duration": 0.004484,
     "end_time": "2022-11-15T04:54:23.082171",
     "exception": false,
     "start_time": "2022-11-15T04:54:23.077687",
     "status": "completed"
    },
    "tags": []
   },
   "source": [
    "---\n",
    "\n",
    "\n",
    "\n",
    "\n",
    "*Have questions or comments? Visit the [course discussion forum](https://www.kaggle.com/learn/intro-to-machine-learning/discussion) to chat with other learners.*"
   ]
  }
 ],
 "metadata": {
  "kernelspec": {
   "display_name": "Python 3",
   "language": "python",
   "name": "python3"
  },
  "language_info": {
   "codemirror_mode": {
    "name": "ipython",
    "version": 3
   },
   "file_extension": ".py",
   "mimetype": "text/x-python",
   "name": "python",
   "nbconvert_exporter": "python",
   "pygments_lexer": "ipython3",
   "version": "3.7.12"
  },
  "papermill": {
   "default_parameters": {},
   "duration": 10.120842,
   "end_time": "2022-11-15T04:54:23.807581",
   "environment_variables": {},
   "exception": null,
   "input_path": "__notebook__.ipynb",
   "output_path": "__notebook__.ipynb",
   "parameters": {},
   "start_time": "2022-11-15T04:54:13.686739",
   "version": "2.3.4"
  }
 },
 "nbformat": 4,
 "nbformat_minor": 5
}
