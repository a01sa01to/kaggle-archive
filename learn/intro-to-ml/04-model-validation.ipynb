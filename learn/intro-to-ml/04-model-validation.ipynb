{
 "cells": [
  {
   "cell_type": "markdown",
   "id": "81d943ab",
   "metadata": {
    "papermill": {
     "duration": 0.004558,
     "end_time": "2022-11-15T05:05:32.357008",
     "exception": false,
     "start_time": "2022-11-15T05:05:32.352450",
     "status": "completed"
    },
    "tags": []
   },
   "source": [
    "**This notebook is an exercise in the [Introduction to Machine Learning](https://www.kaggle.com/learn/intro-to-machine-learning) course.  You can reference the tutorial at [this link](https://www.kaggle.com/dansbecker/model-validation).**\n",
    "\n",
    "---\n"
   ]
  },
  {
   "cell_type": "markdown",
   "id": "0f738977",
   "metadata": {
    "papermill": {
     "duration": 0.003335,
     "end_time": "2022-11-15T05:05:32.364048",
     "exception": false,
     "start_time": "2022-11-15T05:05:32.360713",
     "status": "completed"
    },
    "tags": []
   },
   "source": [
    "## Recap\n",
    "You've built a model. In this exercise you will test how good your model is.\n",
    "\n",
    "Run the cell below to set up your coding environment where the previous exercise left off."
   ]
  },
  {
   "cell_type": "code",
   "execution_count": 1,
   "id": "6a4ce888",
   "metadata": {
    "execution": {
     "iopub.execute_input": "2022-11-15T05:05:32.373747Z",
     "iopub.status.busy": "2022-11-15T05:05:32.373011Z",
     "iopub.status.idle": "2022-11-15T05:05:33.737183Z",
     "shell.execute_reply": "2022-11-15T05:05:33.736202Z"
    },
    "papermill": {
     "duration": 1.372442,
     "end_time": "2022-11-15T05:05:33.740134",
     "exception": false,
     "start_time": "2022-11-15T05:05:32.367692",
     "status": "completed"
    },
    "tags": []
   },
   "outputs": [
    {
     "name": "stdout",
     "output_type": "stream",
     "text": [
      "First in-sample predictions: [208500. 181500. 223500. 140000. 250000.]\n",
      "Actual target values for those homes: [208500, 181500, 223500, 140000, 250000]\n",
      "Setup Complete\n"
     ]
    }
   ],
   "source": [
    "# Code you have previously used to load data\n",
    "import pandas as pd\n",
    "from sklearn.tree import DecisionTreeRegressor\n",
    "\n",
    "# Path of the file to read\n",
    "iowa_file_path = '../input/home-data-for-ml-course/train.csv'\n",
    "\n",
    "home_data = pd.read_csv(iowa_file_path)\n",
    "y = home_data.SalePrice\n",
    "feature_columns = ['LotArea', 'YearBuilt', '1stFlrSF', '2ndFlrSF', 'FullBath', 'BedroomAbvGr', 'TotRmsAbvGrd']\n",
    "X = home_data[feature_columns]\n",
    "\n",
    "# Specify Model\n",
    "iowa_model = DecisionTreeRegressor()\n",
    "# Fit Model\n",
    "iowa_model.fit(X, y)\n",
    "\n",
    "print(\"First in-sample predictions:\", iowa_model.predict(X.head()))\n",
    "print(\"Actual target values for those homes:\", y.head().tolist())\n",
    "\n",
    "# Set up code checking\n",
    "from learntools.core import binder\n",
    "binder.bind(globals())\n",
    "from learntools.machine_learning.ex4 import *\n",
    "print(\"Setup Complete\")"
   ]
  },
  {
   "cell_type": "markdown",
   "id": "b9aef5e7",
   "metadata": {
    "papermill": {
     "duration": 0.003952,
     "end_time": "2022-11-15T05:05:33.750388",
     "exception": false,
     "start_time": "2022-11-15T05:05:33.746436",
     "status": "completed"
    },
    "tags": []
   },
   "source": [
    "# Exercises\n",
    "\n",
    "## Step 1: Split Your Data\n",
    "Use the `train_test_split` function to split up your data.\n",
    "\n",
    "Give it the argument `random_state=1` so the `check` functions know what to expect when verifying your code.\n",
    "\n",
    "Recall, your features are loaded in the DataFrame **X** and your target is loaded in **y**.\n"
   ]
  },
  {
   "cell_type": "code",
   "execution_count": 2,
   "id": "0b8a95de",
   "metadata": {
    "execution": {
     "iopub.execute_input": "2022-11-15T05:05:33.760914Z",
     "iopub.status.busy": "2022-11-15T05:05:33.760227Z",
     "iopub.status.idle": "2022-11-15T05:05:33.772789Z",
     "shell.execute_reply": "2022-11-15T05:05:33.771446Z"
    },
    "papermill": {
     "duration": 0.020118,
     "end_time": "2022-11-15T05:05:33.775028",
     "exception": false,
     "start_time": "2022-11-15T05:05:33.754910",
     "status": "completed"
    },
    "tags": []
   },
   "outputs": [
    {
     "data": {
      "application/javascript": [
       "parent.postMessage({\"jupyterEvent\": \"custom.exercise_interaction\", \"data\": {\"outcomeType\": 1, \"valueTowardsCompletion\": 0.25, \"interactionType\": 1, \"questionType\": 2, \"questionId\": \"1_SplitData\", \"learnToolsVersion\": \"0.3.4\", \"failureMessage\": \"\", \"exceptionClass\": \"\", \"trace\": \"\"}}, \"*\")"
      ],
      "text/plain": [
       "<IPython.core.display.Javascript object>"
      ]
     },
     "metadata": {},
     "output_type": "display_data"
    },
    {
     "data": {
      "text/markdown": [
       "<span style=\"color:#33cc33\">Correct</span>"
      ],
      "text/plain": [
       "Correct"
      ]
     },
     "metadata": {},
     "output_type": "display_data"
    }
   ],
   "source": [
    "# Import the train_test_split function and uncomment\n",
    "from sklearn.model_selection import train_test_split\n",
    "\n",
    "# fill in and uncomment\n",
    "train_X, val_X, train_y, val_y = train_test_split(X, y, random_state=1)\n",
    "\n",
    "# Check your answer\n",
    "step_1.check()"
   ]
  },
  {
   "cell_type": "code",
   "execution_count": 3,
   "id": "5d76805a",
   "metadata": {
    "execution": {
     "iopub.execute_input": "2022-11-15T05:05:33.785902Z",
     "iopub.status.busy": "2022-11-15T05:05:33.784817Z",
     "iopub.status.idle": "2022-11-15T05:05:33.789965Z",
     "shell.execute_reply": "2022-11-15T05:05:33.788536Z"
    },
    "papermill": {
     "duration": 0.012768,
     "end_time": "2022-11-15T05:05:33.792229",
     "exception": false,
     "start_time": "2022-11-15T05:05:33.779461",
     "status": "completed"
    },
    "tags": []
   },
   "outputs": [],
   "source": [
    "# The lines below will show you a hint or the solution.\n",
    "# step_1.hint() \n",
    "# step_1.solution()\n"
   ]
  },
  {
   "cell_type": "markdown",
   "id": "0c7cb7a1",
   "metadata": {
    "papermill": {
     "duration": 0.003883,
     "end_time": "2022-11-15T05:05:33.800540",
     "exception": false,
     "start_time": "2022-11-15T05:05:33.796657",
     "status": "completed"
    },
    "tags": []
   },
   "source": [
    "## Step 2: Specify and Fit the Model\n",
    "\n",
    "Create a `DecisionTreeRegressor` model and fit it to the relevant data.\n",
    "Set `random_state` to 1 again when creating the model."
   ]
  },
  {
   "cell_type": "code",
   "execution_count": 4,
   "id": "c01d6fe7",
   "metadata": {
    "execution": {
     "iopub.execute_input": "2022-11-15T05:05:33.810784Z",
     "iopub.status.busy": "2022-11-15T05:05:33.810391Z",
     "iopub.status.idle": "2022-11-15T05:05:33.835428Z",
     "shell.execute_reply": "2022-11-15T05:05:33.834075Z"
    },
    "papermill": {
     "duration": 0.034011,
     "end_time": "2022-11-15T05:05:33.838686",
     "exception": false,
     "start_time": "2022-11-15T05:05:33.804675",
     "status": "completed"
    },
    "tags": []
   },
   "outputs": [
    {
     "name": "stdout",
     "output_type": "stream",
     "text": [
      "[186500. 184000. 130000.  92000. 164500. 220000. 335000. 144152. 215000.\n",
      " 262000.]\n",
      "[186500. 184000. 130000.  92000. 164500. 220000. 335000. 144152. 215000.\n",
      " 262000.]\n"
     ]
    },
    {
     "data": {
      "application/javascript": [
       "parent.postMessage({\"jupyterEvent\": \"custom.exercise_interaction\", \"data\": {\"outcomeType\": 1, \"valueTowardsCompletion\": 0.25, \"interactionType\": 1, \"questionType\": 2, \"questionId\": \"2_FitModelWithTrain\", \"learnToolsVersion\": \"0.3.4\", \"failureMessage\": \"\", \"exceptionClass\": \"\", \"trace\": \"\"}}, \"*\")"
      ],
      "text/plain": [
       "<IPython.core.display.Javascript object>"
      ]
     },
     "metadata": {},
     "output_type": "display_data"
    },
    {
     "data": {
      "text/markdown": [
       "<span style=\"color:#33cc33\">Correct</span>"
      ],
      "text/plain": [
       "Correct"
      ]
     },
     "metadata": {},
     "output_type": "display_data"
    }
   ],
   "source": [
    "# You imported DecisionTreeRegressor in your last exercise\n",
    "# and that code has been copied to the setup code above. So, no need to\n",
    "# import it again\n",
    "\n",
    "# Specify the model\n",
    "iowa_model = DecisionTreeRegressor(random_state=1)\n",
    "\n",
    "# Fit iowa_model with the training data.\n",
    "iowa_model.fit(train_X, train_y)\n",
    "\n",
    "# Check your answer\n",
    "step_2.check()"
   ]
  },
  {
   "cell_type": "code",
   "execution_count": 5,
   "id": "0692713d",
   "metadata": {
    "execution": {
     "iopub.execute_input": "2022-11-15T05:05:33.849421Z",
     "iopub.status.busy": "2022-11-15T05:05:33.849028Z",
     "iopub.status.idle": "2022-11-15T05:05:33.853602Z",
     "shell.execute_reply": "2022-11-15T05:05:33.852504Z"
    },
    "papermill": {
     "duration": 0.012129,
     "end_time": "2022-11-15T05:05:33.855458",
     "exception": false,
     "start_time": "2022-11-15T05:05:33.843329",
     "status": "completed"
    },
    "tags": []
   },
   "outputs": [],
   "source": [
    "# step_2.hint()\n",
    "# step_2.solution()"
   ]
  },
  {
   "cell_type": "markdown",
   "id": "c97e6816",
   "metadata": {
    "papermill": {
     "duration": 0.004185,
     "end_time": "2022-11-15T05:05:33.864281",
     "exception": false,
     "start_time": "2022-11-15T05:05:33.860096",
     "status": "completed"
    },
    "tags": []
   },
   "source": [
    "## Step 3: Make Predictions with Validation data\n"
   ]
  },
  {
   "cell_type": "code",
   "execution_count": 6,
   "id": "a5f4bcdf",
   "metadata": {
    "execution": {
     "iopub.execute_input": "2022-11-15T05:05:33.875363Z",
     "iopub.status.busy": "2022-11-15T05:05:33.874660Z",
     "iopub.status.idle": "2022-11-15T05:05:33.885923Z",
     "shell.execute_reply": "2022-11-15T05:05:33.884762Z"
    },
    "papermill": {
     "duration": 0.019331,
     "end_time": "2022-11-15T05:05:33.888126",
     "exception": false,
     "start_time": "2022-11-15T05:05:33.868795",
     "status": "completed"
    },
    "tags": []
   },
   "outputs": [
    {
     "data": {
      "application/javascript": [
       "parent.postMessage({\"jupyterEvent\": \"custom.exercise_interaction\", \"data\": {\"outcomeType\": 1, \"valueTowardsCompletion\": 0.25, \"interactionType\": 1, \"questionType\": 2, \"questionId\": \"3_ValPreds\", \"learnToolsVersion\": \"0.3.4\", \"failureMessage\": \"\", \"exceptionClass\": \"\", \"trace\": \"\"}}, \"*\")"
      ],
      "text/plain": [
       "<IPython.core.display.Javascript object>"
      ]
     },
     "metadata": {},
     "output_type": "display_data"
    },
    {
     "data": {
      "text/markdown": [
       "<span style=\"color:#33cc33\">Correct</span>"
      ],
      "text/plain": [
       "Correct"
      ]
     },
     "metadata": {},
     "output_type": "display_data"
    }
   ],
   "source": [
    "# Predict with all validation observations\n",
    "val_predictions = iowa_model.predict(val_X)\n",
    "\n",
    "# Check your answer\n",
    "step_3.check()"
   ]
  },
  {
   "cell_type": "code",
   "execution_count": 7,
   "id": "c30cd8e9",
   "metadata": {
    "execution": {
     "iopub.execute_input": "2022-11-15T05:05:33.899304Z",
     "iopub.status.busy": "2022-11-15T05:05:33.898940Z",
     "iopub.status.idle": "2022-11-15T05:05:33.903162Z",
     "shell.execute_reply": "2022-11-15T05:05:33.902184Z"
    },
    "papermill": {
     "duration": 0.01239,
     "end_time": "2022-11-15T05:05:33.905393",
     "exception": false,
     "start_time": "2022-11-15T05:05:33.893003",
     "status": "completed"
    },
    "tags": []
   },
   "outputs": [],
   "source": [
    "# step_3.hint()\n",
    "# step_3.solution()"
   ]
  },
  {
   "cell_type": "markdown",
   "id": "c77c59bb",
   "metadata": {
    "papermill": {
     "duration": 0.004567,
     "end_time": "2022-11-15T05:05:33.915079",
     "exception": false,
     "start_time": "2022-11-15T05:05:33.910512",
     "status": "completed"
    },
    "tags": []
   },
   "source": [
    "Inspect your predictions and actual values from validation data."
   ]
  },
  {
   "cell_type": "code",
   "execution_count": 8,
   "id": "fa1827b9",
   "metadata": {
    "execution": {
     "iopub.execute_input": "2022-11-15T05:05:33.927366Z",
     "iopub.status.busy": "2022-11-15T05:05:33.926984Z",
     "iopub.status.idle": "2022-11-15T05:05:33.934520Z",
     "shell.execute_reply": "2022-11-15T05:05:33.933644Z"
    },
    "papermill": {
     "duration": 0.017737,
     "end_time": "2022-11-15T05:05:33.937735",
     "exception": false,
     "start_time": "2022-11-15T05:05:33.919998",
     "status": "completed"
    },
    "tags": []
   },
   "outputs": [
    {
     "name": "stdout",
     "output_type": "stream",
     "text": [
      "[186500. 184000. 130000.  92000. 164500.]\n",
      "[231500, 179500, 122000, 84500, 142000]\n"
     ]
    }
   ],
   "source": [
    "# print the top few validation predictions\n",
    "print(iowa_model.predict(val_X.head()))\n",
    "# print the top few actual prices from validation data\n",
    "print(val_y.head().tolist())"
   ]
  },
  {
   "cell_type": "markdown",
   "id": "be1fc298",
   "metadata": {
    "papermill": {
     "duration": 0.004587,
     "end_time": "2022-11-15T05:05:33.947500",
     "exception": false,
     "start_time": "2022-11-15T05:05:33.942913",
     "status": "completed"
    },
    "tags": []
   },
   "source": [
    "What do you notice that is different from what you saw with in-sample predictions (which are printed after the top code cell in this page).\n",
    "\n",
    "Do you remember why validation predictions differ from in-sample (or training) predictions? This is an important idea from the last lesson.\n",
    "\n",
    "## Step 4: Calculate the Mean Absolute Error in Validation Data\n"
   ]
  },
  {
   "cell_type": "code",
   "execution_count": 9,
   "id": "904e7d2b",
   "metadata": {
    "execution": {
     "iopub.execute_input": "2022-11-15T05:05:33.958975Z",
     "iopub.status.busy": "2022-11-15T05:05:33.958561Z",
     "iopub.status.idle": "2022-11-15T05:05:33.969245Z",
     "shell.execute_reply": "2022-11-15T05:05:33.968124Z"
    },
    "papermill": {
     "duration": 0.01883,
     "end_time": "2022-11-15T05:05:33.971124",
     "exception": false,
     "start_time": "2022-11-15T05:05:33.952294",
     "status": "completed"
    },
    "tags": []
   },
   "outputs": [
    {
     "name": "stdout",
     "output_type": "stream",
     "text": [
      "29652.931506849316\n"
     ]
    },
    {
     "data": {
      "application/javascript": [
       "parent.postMessage({\"jupyterEvent\": \"custom.exercise_interaction\", \"data\": {\"outcomeType\": 1, \"valueTowardsCompletion\": 0.25, \"interactionType\": 1, \"questionType\": 1, \"questionId\": \"4_MAE\", \"learnToolsVersion\": \"0.3.4\", \"failureMessage\": \"\", \"exceptionClass\": \"\", \"trace\": \"\"}}, \"*\")"
      ],
      "text/plain": [
       "<IPython.core.display.Javascript object>"
      ]
     },
     "metadata": {},
     "output_type": "display_data"
    },
    {
     "data": {
      "text/markdown": [
       "<span style=\"color:#33cc33\">Correct</span>"
      ],
      "text/plain": [
       "Correct"
      ]
     },
     "metadata": {},
     "output_type": "display_data"
    }
   ],
   "source": [
    "from sklearn.metrics import mean_absolute_error\n",
    "val_mae = mean_absolute_error(val_y, val_predictions)\n",
    "\n",
    "# uncomment following line to see the validation_mae\n",
    "print(val_mae)\n",
    "\n",
    "# Check your answer\n",
    "step_4.check()"
   ]
  },
  {
   "cell_type": "code",
   "execution_count": 10,
   "id": "373bf3a0",
   "metadata": {
    "execution": {
     "iopub.execute_input": "2022-11-15T05:05:33.984134Z",
     "iopub.status.busy": "2022-11-15T05:05:33.983770Z",
     "iopub.status.idle": "2022-11-15T05:05:33.987351Z",
     "shell.execute_reply": "2022-11-15T05:05:33.986431Z"
    },
    "papermill": {
     "duration": 0.012407,
     "end_time": "2022-11-15T05:05:33.989170",
     "exception": false,
     "start_time": "2022-11-15T05:05:33.976763",
     "status": "completed"
    },
    "tags": []
   },
   "outputs": [],
   "source": [
    "# step_4.hint()\n",
    "# step_4.solution()"
   ]
  },
  {
   "cell_type": "markdown",
   "id": "2e66d61d",
   "metadata": {
    "papermill": {
     "duration": 0.004986,
     "end_time": "2022-11-15T05:05:33.999514",
     "exception": false,
     "start_time": "2022-11-15T05:05:33.994528",
     "status": "completed"
    },
    "tags": []
   },
   "source": [
    "Is that MAE good?  There isn't a general rule for what values are good that applies across applications. But you'll see how to use (and improve) this number in the next step.\n",
    "\n",
    "# Keep Going\n",
    "\n",
    "You are ready for **[Underfitting and Overfitting](https://www.kaggle.com/dansbecker/underfitting-and-overfitting).**\n"
   ]
  },
  {
   "cell_type": "markdown",
   "id": "196e2026",
   "metadata": {
    "papermill": {
     "duration": 0.004924,
     "end_time": "2022-11-15T05:05:34.009616",
     "exception": false,
     "start_time": "2022-11-15T05:05:34.004692",
     "status": "completed"
    },
    "tags": []
   },
   "source": [
    "---\n",
    "\n",
    "\n",
    "\n",
    "\n",
    "*Have questions or comments? Visit the [course discussion forum](https://www.kaggle.com/learn/intro-to-machine-learning/discussion) to chat with other learners.*"
   ]
  }
 ],
 "metadata": {
  "kernelspec": {
   "display_name": "Python 3",
   "language": "python",
   "name": "python3"
  },
  "language_info": {
   "codemirror_mode": {
    "name": "ipython",
    "version": 3
   },
   "file_extension": ".py",
   "mimetype": "text/x-python",
   "name": "python",
   "nbconvert_exporter": "python",
   "pygments_lexer": "ipython3",
   "version": "3.7.12"
  },
  "papermill": {
   "default_parameters": {},
   "duration": 12.015238,
   "end_time": "2022-11-15T05:05:36.756311",
   "environment_variables": {},
   "exception": null,
   "input_path": "__notebook__.ipynb",
   "output_path": "__notebook__.ipynb",
   "parameters": {},
   "start_time": "2022-11-15T05:05:24.741073",
   "version": "2.3.4"
  }
 },
 "nbformat": 4,
 "nbformat_minor": 5
}
