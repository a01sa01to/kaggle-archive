{
 "cells": [
  {
   "cell_type": "markdown",
   "id": "66c63eea",
   "metadata": {
    "papermill": {
     "duration": 0.007733,
     "end_time": "2022-11-11T07:59:56.320105",
     "exception": false,
     "start_time": "2022-11-11T07:59:56.312372",
     "status": "completed"
    },
    "tags": []
   },
   "source": [
    "**This notebook is an exercise in the [Introduction to Machine Learning](https://www.kaggle.com/learn/intro-to-machine-learning) course.  You can reference the tutorial at [this link](https://www.kaggle.com/dansbecker/your-first-machine-learning-model).**\n",
    "\n",
    "---\n"
   ]
  },
  {
   "cell_type": "markdown",
   "id": "af1f00fb",
   "metadata": {
    "papermill": {
     "duration": 0.005565,
     "end_time": "2022-11-11T07:59:56.331436",
     "exception": false,
     "start_time": "2022-11-11T07:59:56.325871",
     "status": "completed"
    },
    "tags": []
   },
   "source": [
    "## Recap\n",
    "So far, you have loaded your data and reviewed it with the following code. Run this cell to set up your coding environment where the previous step left off."
   ]
  },
  {
   "cell_type": "code",
   "execution_count": 1,
   "id": "0ea08807",
   "metadata": {
    "execution": {
     "iopub.execute_input": "2022-11-11T07:59:56.346011Z",
     "iopub.status.busy": "2022-11-11T07:59:56.344259Z",
     "iopub.status.idle": "2022-11-11T07:59:57.768855Z",
     "shell.execute_reply": "2022-11-11T07:59:57.767101Z"
    },
    "papermill": {
     "duration": 1.435853,
     "end_time": "2022-11-11T07:59:57.772957",
     "exception": false,
     "start_time": "2022-11-11T07:59:56.337104",
     "status": "completed"
    },
    "tags": []
   },
   "outputs": [
    {
     "name": "stdout",
     "output_type": "stream",
     "text": [
      "Setup Complete\n"
     ]
    }
   ],
   "source": [
    "# Code you have previously used to load data\n",
    "import pandas as pd\n",
    "\n",
    "# Path of the file to read\n",
    "iowa_file_path = '../input/home-data-for-ml-course/train.csv'\n",
    "\n",
    "home_data = pd.read_csv(iowa_file_path)\n",
    "\n",
    "# Set up code checking\n",
    "from learntools.core import binder\n",
    "binder.bind(globals())\n",
    "from learntools.machine_learning.ex3 import *\n",
    "\n",
    "print(\"Setup Complete\")"
   ]
  },
  {
   "cell_type": "markdown",
   "id": "3fa48422",
   "metadata": {
    "papermill": {
     "duration": 0.005658,
     "end_time": "2022-11-11T07:59:57.788583",
     "exception": false,
     "start_time": "2022-11-11T07:59:57.782925",
     "status": "completed"
    },
    "tags": []
   },
   "source": [
    "# Exercises\n",
    "\n",
    "## Step 1: Specify Prediction Target\n",
    "Select the target variable, which corresponds to the sales price. Save this to a new variable called `y`. You'll need to print a list of the columns to find the name of the column you need.\n"
   ]
  },
  {
   "cell_type": "code",
   "execution_count": 2,
   "id": "a3bc540d",
   "metadata": {
    "execution": {
     "iopub.execute_input": "2022-11-11T07:59:57.800887Z",
     "iopub.status.busy": "2022-11-11T07:59:57.800478Z",
     "iopub.status.idle": "2022-11-11T07:59:57.811379Z",
     "shell.execute_reply": "2022-11-11T07:59:57.809926Z"
    },
    "papermill": {
     "duration": 0.020102,
     "end_time": "2022-11-11T07:59:57.813845",
     "exception": false,
     "start_time": "2022-11-11T07:59:57.793743",
     "status": "completed"
    },
    "tags": []
   },
   "outputs": [
    {
     "data": {
      "text/plain": [
       "Index(['Id', 'MSSubClass', 'MSZoning', 'LotFrontage', 'LotArea', 'Street',\n",
       "       'Alley', 'LotShape', 'LandContour', 'Utilities', 'LotConfig',\n",
       "       'LandSlope', 'Neighborhood', 'Condition1', 'Condition2', 'BldgType',\n",
       "       'HouseStyle', 'OverallQual', 'OverallCond', 'YearBuilt', 'YearRemodAdd',\n",
       "       'RoofStyle', 'RoofMatl', 'Exterior1st', 'Exterior2nd', 'MasVnrType',\n",
       "       'MasVnrArea', 'ExterQual', 'ExterCond', 'Foundation', 'BsmtQual',\n",
       "       'BsmtCond', 'BsmtExposure', 'BsmtFinType1', 'BsmtFinSF1',\n",
       "       'BsmtFinType2', 'BsmtFinSF2', 'BsmtUnfSF', 'TotalBsmtSF', 'Heating',\n",
       "       'HeatingQC', 'CentralAir', 'Electrical', '1stFlrSF', '2ndFlrSF',\n",
       "       'LowQualFinSF', 'GrLivArea', 'BsmtFullBath', 'BsmtHalfBath', 'FullBath',\n",
       "       'HalfBath', 'BedroomAbvGr', 'KitchenAbvGr', 'KitchenQual',\n",
       "       'TotRmsAbvGrd', 'Functional', 'Fireplaces', 'FireplaceQu', 'GarageType',\n",
       "       'GarageYrBlt', 'GarageFinish', 'GarageCars', 'GarageArea', 'GarageQual',\n",
       "       'GarageCond', 'PavedDrive', 'WoodDeckSF', 'OpenPorchSF',\n",
       "       'EnclosedPorch', '3SsnPorch', 'ScreenPorch', 'PoolArea', 'PoolQC',\n",
       "       'Fence', 'MiscFeature', 'MiscVal', 'MoSold', 'YrSold', 'SaleType',\n",
       "       'SaleCondition', 'SalePrice'],\n",
       "      dtype='object')"
      ]
     },
     "execution_count": 2,
     "metadata": {},
     "output_type": "execute_result"
    }
   ],
   "source": [
    "# print the list of columns in the dataset to find the name of the prediction target\n",
    "home_data.columns"
   ]
  },
  {
   "cell_type": "code",
   "execution_count": 3,
   "id": "1de573f0",
   "metadata": {
    "execution": {
     "iopub.execute_input": "2022-11-11T07:59:57.828042Z",
     "iopub.status.busy": "2022-11-11T07:59:57.827311Z",
     "iopub.status.idle": "2022-11-11T07:59:57.843962Z",
     "shell.execute_reply": "2022-11-11T07:59:57.842582Z"
    },
    "papermill": {
     "duration": 0.027215,
     "end_time": "2022-11-11T07:59:57.847420",
     "exception": false,
     "start_time": "2022-11-11T07:59:57.820205",
     "status": "completed"
    },
    "tags": []
   },
   "outputs": [
    {
     "data": {
      "application/javascript": [
       "parent.postMessage({\"jupyterEvent\": \"custom.exercise_interaction\", \"data\": {\"outcomeType\": 1, \"valueTowardsCompletion\": 0.25, \"interactionType\": 1, \"questionType\": 2, \"questionId\": \"1_SetTarget\", \"learnToolsVersion\": \"0.3.4\", \"failureMessage\": \"\", \"exceptionClass\": \"\", \"trace\": \"\"}}, \"*\")"
      ],
      "text/plain": [
       "<IPython.core.display.Javascript object>"
      ]
     },
     "metadata": {},
     "output_type": "display_data"
    },
    {
     "data": {
      "text/markdown": [
       "<span style=\"color:#33cc33\">Correct</span>"
      ],
      "text/plain": [
       "Correct"
      ]
     },
     "metadata": {},
     "output_type": "display_data"
    }
   ],
   "source": [
    "y = home_data.SalePrice\n",
    "\n",
    "# Check your answer\n",
    "step_1.check()"
   ]
  },
  {
   "cell_type": "code",
   "execution_count": 4,
   "id": "8a13c739",
   "metadata": {
    "collapsed": true,
    "execution": {
     "iopub.execute_input": "2022-11-11T07:59:57.862472Z",
     "iopub.status.busy": "2022-11-11T07:59:57.862044Z",
     "iopub.status.idle": "2022-11-11T07:59:57.867816Z",
     "shell.execute_reply": "2022-11-11T07:59:57.866171Z"
    },
    "jupyter": {
     "outputs_hidden": true
    },
    "papermill": {
     "duration": 0.016049,
     "end_time": "2022-11-11T07:59:57.870464",
     "exception": false,
     "start_time": "2022-11-11T07:59:57.854415",
     "status": "completed"
    },
    "tags": []
   },
   "outputs": [],
   "source": [
    "# The lines below will show you a hint or the solution.\n",
    "# step_1.hint() \n",
    "# step_1.solution()"
   ]
  },
  {
   "cell_type": "markdown",
   "id": "eb65a708",
   "metadata": {
    "papermill": {
     "duration": 0.00637,
     "end_time": "2022-11-11T07:59:57.883564",
     "exception": false,
     "start_time": "2022-11-11T07:59:57.877194",
     "status": "completed"
    },
    "tags": []
   },
   "source": [
    "## Step 2: Create X\n",
    "Now you will create a DataFrame called `X` holding the predictive features.\n",
    "\n",
    "Since you want only some columns from the original data, you'll first create a list with the names of the columns you want in `X`.\n",
    "\n",
    "You'll use just the following columns in the list (you can copy and paste the whole list to save some typing, though you'll still need to add quotes):\n",
    "  * LotArea\n",
    "  * YearBuilt\n",
    "  * 1stFlrSF\n",
    "  * 2ndFlrSF\n",
    "  * FullBath\n",
    "  * BedroomAbvGr\n",
    "  * TotRmsAbvGrd\n",
    "\n",
    "After you've created that list of features, use it to create the DataFrame that you'll use to fit the model."
   ]
  },
  {
   "cell_type": "code",
   "execution_count": 5,
   "id": "7bcb03d5",
   "metadata": {
    "execution": {
     "iopub.execute_input": "2022-11-11T07:59:57.900067Z",
     "iopub.status.busy": "2022-11-11T07:59:57.899668Z",
     "iopub.status.idle": "2022-11-11T07:59:57.915531Z",
     "shell.execute_reply": "2022-11-11T07:59:57.914305Z"
    },
    "papermill": {
     "duration": 0.026878,
     "end_time": "2022-11-11T07:59:57.918624",
     "exception": false,
     "start_time": "2022-11-11T07:59:57.891746",
     "status": "completed"
    },
    "tags": []
   },
   "outputs": [
    {
     "data": {
      "application/javascript": [
       "parent.postMessage({\"jupyterEvent\": \"custom.exercise_interaction\", \"data\": {\"outcomeType\": 1, \"valueTowardsCompletion\": 0.25, \"interactionType\": 1, \"questionType\": 2, \"questionId\": \"2_SelectPredictionData\", \"learnToolsVersion\": \"0.3.4\", \"failureMessage\": \"\", \"exceptionClass\": \"\", \"trace\": \"\"}}, \"*\")"
      ],
      "text/plain": [
       "<IPython.core.display.Javascript object>"
      ]
     },
     "metadata": {},
     "output_type": "display_data"
    },
    {
     "data": {
      "text/markdown": [
       "<span style=\"color:#33cc33\">Correct</span>"
      ],
      "text/plain": [
       "Correct"
      ]
     },
     "metadata": {},
     "output_type": "display_data"
    }
   ],
   "source": [
    "# Create the list of features below\n",
    "feature_names = [\"LotArea\", \"YearBuilt\", \"1stFlrSF\", \"2ndFlrSF\", \"FullBath\", \"BedroomAbvGr\", \"TotRmsAbvGrd\"]\n",
    "\n",
    "# Select data corresponding to features in feature_names\n",
    "X = home_data[feature_names]\n",
    "\n",
    "# Check your answer\n",
    "step_2.check()"
   ]
  },
  {
   "cell_type": "code",
   "execution_count": 6,
   "id": "bffb880e",
   "metadata": {
    "collapsed": true,
    "execution": {
     "iopub.execute_input": "2022-11-11T07:59:57.933869Z",
     "iopub.status.busy": "2022-11-11T07:59:57.933407Z",
     "iopub.status.idle": "2022-11-11T07:59:57.938501Z",
     "shell.execute_reply": "2022-11-11T07:59:57.937107Z"
    },
    "jupyter": {
     "outputs_hidden": true
    },
    "papermill": {
     "duration": 0.016131,
     "end_time": "2022-11-11T07:59:57.941258",
     "exception": false,
     "start_time": "2022-11-11T07:59:57.925127",
     "status": "completed"
    },
    "tags": []
   },
   "outputs": [],
   "source": [
    "# step_2.hint()\n",
    "# step_2.solution()"
   ]
  },
  {
   "cell_type": "markdown",
   "id": "7fe86d95",
   "metadata": {
    "papermill": {
     "duration": 0.006318,
     "end_time": "2022-11-11T07:59:57.953787",
     "exception": false,
     "start_time": "2022-11-11T07:59:57.947469",
     "status": "completed"
    },
    "tags": []
   },
   "source": [
    "## Review Data\n",
    "Before building a model, take a quick look at **X** to verify it looks sensible"
   ]
  },
  {
   "cell_type": "code",
   "execution_count": 7,
   "id": "b293a4ed",
   "metadata": {
    "execution": {
     "iopub.execute_input": "2022-11-11T07:59:57.969633Z",
     "iopub.status.busy": "2022-11-11T07:59:57.969171Z",
     "iopub.status.idle": "2022-11-11T07:59:58.008052Z",
     "shell.execute_reply": "2022-11-11T07:59:58.005668Z"
    },
    "papermill": {
     "duration": 0.05043,
     "end_time": "2022-11-11T07:59:58.011356",
     "exception": false,
     "start_time": "2022-11-11T07:59:57.960926",
     "status": "completed"
    },
    "tags": []
   },
   "outputs": [
    {
     "name": "stdout",
     "output_type": "stream",
     "text": [
      "             LotArea    YearBuilt     1stFlrSF     2ndFlrSF     FullBath  \\\n",
      "count    1460.000000  1460.000000  1460.000000  1460.000000  1460.000000   \n",
      "mean    10516.828082  1971.267808  1162.626712   346.992466     1.565068   \n",
      "std      9981.264932    30.202904   386.587738   436.528436     0.550916   \n",
      "min      1300.000000  1872.000000   334.000000     0.000000     0.000000   \n",
      "25%      7553.500000  1954.000000   882.000000     0.000000     1.000000   \n",
      "50%      9478.500000  1973.000000  1087.000000     0.000000     2.000000   \n",
      "75%     11601.500000  2000.000000  1391.250000   728.000000     2.000000   \n",
      "max    215245.000000  2010.000000  4692.000000  2065.000000     3.000000   \n",
      "\n",
      "       BedroomAbvGr  TotRmsAbvGrd  \n",
      "count   1460.000000   1460.000000  \n",
      "mean       2.866438      6.517808  \n",
      "std        0.815778      1.625393  \n",
      "min        0.000000      2.000000  \n",
      "25%        2.000000      5.000000  \n",
      "50%        3.000000      6.000000  \n",
      "75%        3.000000      7.000000  \n",
      "max        8.000000     14.000000  \n",
      "   LotArea  YearBuilt  1stFlrSF  2ndFlrSF  FullBath  BedroomAbvGr  \\\n",
      "0     8450       2003       856       854         2             3   \n",
      "1     9600       1976      1262         0         2             3   \n",
      "2    11250       2001       920       866         2             3   \n",
      "3     9550       1915       961       756         1             3   \n",
      "4    14260       2000      1145      1053         2             4   \n",
      "\n",
      "   TotRmsAbvGrd  \n",
      "0             8  \n",
      "1             6  \n",
      "2             6  \n",
      "3             7  \n",
      "4             9  \n"
     ]
    }
   ],
   "source": [
    "# Review data\n",
    "# print description or statistics from X\n",
    "print(X.describe())\n",
    "\n",
    "# print the top few lines\n",
    "print(X.head())"
   ]
  },
  {
   "cell_type": "markdown",
   "id": "98c91c60",
   "metadata": {
    "papermill": {
     "duration": 0.005872,
     "end_time": "2022-11-11T07:59:58.023760",
     "exception": false,
     "start_time": "2022-11-11T07:59:58.017888",
     "status": "completed"
    },
    "tags": []
   },
   "source": [
    "## Step 3: Specify and Fit Model\n",
    "Create a `DecisionTreeRegressor` and save it iowa_model. Ensure you've done the relevant import from sklearn to run this command.\n",
    "\n",
    "Then fit the model you just created using the data in `X` and `y` that you saved above."
   ]
  },
  {
   "cell_type": "code",
   "execution_count": 8,
   "id": "ff93a0d0",
   "metadata": {
    "execution": {
     "iopub.execute_input": "2022-11-11T07:59:58.039007Z",
     "iopub.status.busy": "2022-11-11T07:59:58.038606Z",
     "iopub.status.idle": "2022-11-11T07:59:58.058558Z",
     "shell.execute_reply": "2022-11-11T07:59:58.057303Z"
    },
    "papermill": {
     "duration": 0.030753,
     "end_time": "2022-11-11T07:59:58.061372",
     "exception": false,
     "start_time": "2022-11-11T07:59:58.030619",
     "status": "completed"
    },
    "tags": []
   },
   "outputs": [
    {
     "data": {
      "application/javascript": [
       "parent.postMessage({\"jupyterEvent\": \"custom.exercise_interaction\", \"data\": {\"outcomeType\": 1, \"valueTowardsCompletion\": 0.25, \"interactionType\": 1, \"questionType\": 2, \"questionId\": \"3_CreateModel\", \"learnToolsVersion\": \"0.3.4\", \"failureMessage\": \"\", \"exceptionClass\": \"\", \"trace\": \"\"}}, \"*\")"
      ],
      "text/plain": [
       "<IPython.core.display.Javascript object>"
      ]
     },
     "metadata": {},
     "output_type": "display_data"
    },
    {
     "data": {
      "text/markdown": [
       "<span style=\"color:#33cc33\">Correct</span>"
      ],
      "text/plain": [
       "Correct"
      ]
     },
     "metadata": {},
     "output_type": "display_data"
    }
   ],
   "source": [
    "from sklearn.tree import DecisionTreeRegressor\n",
    "\n",
    "#specify the model. \n",
    "#For model reproducibility, set a numeric value for random_state when specifying the model\n",
    "iowa_model = DecisionTreeRegressor(random_state=1)\n",
    "\n",
    "# Fit the model\n",
    "iowa_model.fit(X, y)\n",
    "\n",
    "# Check your answer\n",
    "step_3.check()"
   ]
  },
  {
   "cell_type": "code",
   "execution_count": 9,
   "id": "defa399f",
   "metadata": {
    "collapsed": true,
    "execution": {
     "iopub.execute_input": "2022-11-11T07:59:58.077960Z",
     "iopub.status.busy": "2022-11-11T07:59:58.077312Z",
     "iopub.status.idle": "2022-11-11T07:59:58.084296Z",
     "shell.execute_reply": "2022-11-11T07:59:58.082055Z"
    },
    "jupyter": {
     "outputs_hidden": true
    },
    "papermill": {
     "duration": 0.019142,
     "end_time": "2022-11-11T07:59:58.087862",
     "exception": false,
     "start_time": "2022-11-11T07:59:58.068720",
     "status": "completed"
    },
    "tags": []
   },
   "outputs": [],
   "source": [
    "# step_3.hint()\n",
    "# step_3.solution()"
   ]
  },
  {
   "cell_type": "markdown",
   "id": "63c44b6b",
   "metadata": {
    "papermill": {
     "duration": 0.008853,
     "end_time": "2022-11-11T07:59:58.109186",
     "exception": false,
     "start_time": "2022-11-11T07:59:58.100333",
     "status": "completed"
    },
    "tags": []
   },
   "source": [
    "## Step 4: Make Predictions\n",
    "Make predictions with the model's `predict` command using `X` as the data. Save the results to a variable called `predictions`."
   ]
  },
  {
   "cell_type": "code",
   "execution_count": 10,
   "id": "5eecafae",
   "metadata": {
    "execution": {
     "iopub.execute_input": "2022-11-11T07:59:58.125698Z",
     "iopub.status.busy": "2022-11-11T07:59:58.124868Z",
     "iopub.status.idle": "2022-11-11T07:59:58.144217Z",
     "shell.execute_reply": "2022-11-11T07:59:58.142470Z"
    },
    "papermill": {
     "duration": 0.031712,
     "end_time": "2022-11-11T07:59:58.147779",
     "exception": false,
     "start_time": "2022-11-11T07:59:58.116067",
     "status": "completed"
    },
    "tags": []
   },
   "outputs": [
    {
     "name": "stdout",
     "output_type": "stream",
     "text": [
      "[208500. 181500. 223500. ... 266500. 142125. 147500.]\n"
     ]
    },
    {
     "data": {
      "application/javascript": [
       "parent.postMessage({\"jupyterEvent\": \"custom.exercise_interaction\", \"data\": {\"outcomeType\": 1, \"valueTowardsCompletion\": 0.25, \"interactionType\": 1, \"questionType\": 2, \"questionId\": \"4_MakePredictions\", \"learnToolsVersion\": \"0.3.4\", \"failureMessage\": \"\", \"exceptionClass\": \"\", \"trace\": \"\"}}, \"*\")"
      ],
      "text/plain": [
       "<IPython.core.display.Javascript object>"
      ]
     },
     "metadata": {},
     "output_type": "display_data"
    },
    {
     "data": {
      "text/markdown": [
       "<span style=\"color:#33cc33\">Correct</span>"
      ],
      "text/plain": [
       "Correct"
      ]
     },
     "metadata": {},
     "output_type": "display_data"
    }
   ],
   "source": [
    "predictions = iowa_model.predict(X)\n",
    "print(predictions)\n",
    "\n",
    "# Check your answer\n",
    "step_4.check()"
   ]
  },
  {
   "cell_type": "code",
   "execution_count": 11,
   "id": "52a776de",
   "metadata": {
    "collapsed": true,
    "execution": {
     "iopub.execute_input": "2022-11-11T07:59:58.164187Z",
     "iopub.status.busy": "2022-11-11T07:59:58.163377Z",
     "iopub.status.idle": "2022-11-11T07:59:58.170661Z",
     "shell.execute_reply": "2022-11-11T07:59:58.169190Z"
    },
    "jupyter": {
     "outputs_hidden": true
    },
    "papermill": {
     "duration": 0.019052,
     "end_time": "2022-11-11T07:59:58.173857",
     "exception": false,
     "start_time": "2022-11-11T07:59:58.154805",
     "status": "completed"
    },
    "tags": []
   },
   "outputs": [],
   "source": [
    "# step_4.hint()\n",
    "# step_4.solution()"
   ]
  },
  {
   "cell_type": "markdown",
   "id": "6c68d70a",
   "metadata": {
    "papermill": {
     "duration": 0.008017,
     "end_time": "2022-11-11T07:59:58.191469",
     "exception": false,
     "start_time": "2022-11-11T07:59:58.183452",
     "status": "completed"
    },
    "tags": []
   },
   "source": [
    "## Think About Your Results\n",
    "\n",
    "Use the `head` method to compare the top few predictions to the actual home values (in `y`) for those same homes. Anything surprising?\n"
   ]
  },
  {
   "cell_type": "code",
   "execution_count": 12,
   "id": "9f2e1160",
   "metadata": {
    "execution": {
     "iopub.execute_input": "2022-11-11T07:59:58.212283Z",
     "iopub.status.busy": "2022-11-11T07:59:58.210635Z",
     "iopub.status.idle": "2022-11-11T07:59:58.224465Z",
     "shell.execute_reply": "2022-11-11T07:59:58.222248Z"
    },
    "papermill": {
     "duration": 0.027188,
     "end_time": "2022-11-11T07:59:58.227318",
     "exception": false,
     "start_time": "2022-11-11T07:59:58.200130",
     "status": "completed"
    },
    "tags": []
   },
   "outputs": [
    {
     "name": "stdout",
     "output_type": "stream",
     "text": [
      "208500.0 208500\n",
      "181500.0 181500\n",
      "223500.0 223500\n",
      "140000.0 140000\n",
      "250000.0 250000\n"
     ]
    }
   ],
   "source": [
    "# You can write code in this cell\n",
    "a = iowa_model.predict(X)\n",
    "b = y.head()\n",
    "for i in range(min(len(a), len(b))):\n",
    "    print(a[i], b[i])"
   ]
  },
  {
   "cell_type": "markdown",
   "id": "a0b84409",
   "metadata": {
    "papermill": {
     "duration": 0.00648,
     "end_time": "2022-11-11T07:59:58.241166",
     "exception": false,
     "start_time": "2022-11-11T07:59:58.234686",
     "status": "completed"
    },
    "tags": []
   },
   "source": [
    "It's natural to ask how accurate the model's predictions will be and how you can improve that. That will be you're next step.\n",
    "\n",
    "# Keep Going\n",
    "\n",
    "You are ready for **[Model Validation](https://www.kaggle.com/dansbecker/model-validation).**\n"
   ]
  },
  {
   "cell_type": "markdown",
   "id": "b9726ea8",
   "metadata": {
    "papermill": {
     "duration": 0.006202,
     "end_time": "2022-11-11T07:59:58.253936",
     "exception": false,
     "start_time": "2022-11-11T07:59:58.247734",
     "status": "completed"
    },
    "tags": []
   },
   "source": [
    "---\n",
    "\n",
    "\n",
    "\n",
    "\n",
    "*Have questions or comments? Visit the [course discussion forum](https://www.kaggle.com/learn/intro-to-machine-learning/discussion) to chat with other learners.*"
   ]
  }
 ],
 "metadata": {
  "kernelspec": {
   "display_name": "Python 3",
   "language": "python",
   "name": "python3"
  },
  "language_info": {
   "codemirror_mode": {
    "name": "ipython",
    "version": 3
   },
   "file_extension": ".py",
   "mimetype": "text/x-python",
   "name": "python",
   "nbconvert_exporter": "python",
   "pygments_lexer": "ipython3",
   "version": "3.7.12"
  },
  "papermill": {
   "default_parameters": {},
   "duration": 11.95887,
   "end_time": "2022-11-11T07:59:59.386725",
   "environment_variables": {},
   "exception": null,
   "input_path": "__notebook__.ipynb",
   "output_path": "__notebook__.ipynb",
   "parameters": {},
   "start_time": "2022-11-11T07:59:47.427855",
   "version": "2.3.4"
  }
 },
 "nbformat": 4,
 "nbformat_minor": 5
}
