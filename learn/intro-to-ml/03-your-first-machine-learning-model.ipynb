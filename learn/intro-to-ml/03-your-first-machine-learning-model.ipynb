{
 "cells": [
  {
   "cell_type": "markdown",
   "id": "9d31f3b6",
   "metadata": {
    "papermill": {
     "duration": 0.006063,
     "end_time": "2022-11-11T07:51:39.098601",
     "exception": false,
     "start_time": "2022-11-11T07:51:39.092538",
     "status": "completed"
    },
    "tags": []
   },
   "source": [
    "**This notebook is an exercise in the [Introduction to Machine Learning](https://www.kaggle.com/learn/intro-to-machine-learning) course.  You can reference the tutorial at [this link](https://www.kaggle.com/dansbecker/your-first-machine-learning-model).**\n",
    "\n",
    "---\n"
   ]
  },
  {
   "cell_type": "markdown",
   "id": "90e7f183",
   "metadata": {
    "papermill": {
     "duration": 0.004579,
     "end_time": "2022-11-11T07:51:39.108429",
     "exception": false,
     "start_time": "2022-11-11T07:51:39.103850",
     "status": "completed"
    },
    "tags": []
   },
   "source": [
    "## Recap\n",
    "So far, you have loaded your data and reviewed it with the following code. Run this cell to set up your coding environment where the previous step left off."
   ]
  },
  {
   "cell_type": "code",
   "execution_count": 1,
   "id": "2967387f",
   "metadata": {
    "collapsed": true,
    "execution": {
     "iopub.execute_input": "2022-11-11T07:51:39.121244Z",
     "iopub.status.busy": "2022-11-11T07:51:39.120465Z",
     "iopub.status.idle": "2022-11-11T07:51:40.726505Z",
     "shell.execute_reply": "2022-11-11T07:51:40.723789Z"
    },
    "jupyter": {
     "outputs_hidden": true
    },
    "papermill": {
     "duration": 1.616159,
     "end_time": "2022-11-11T07:51:40.729673",
     "exception": false,
     "start_time": "2022-11-11T07:51:39.113514",
     "status": "completed"
    },
    "tags": []
   },
   "outputs": [
    {
     "name": "stdout",
     "output_type": "stream",
     "text": [
      "Setup Complete\n"
     ]
    }
   ],
   "source": [
    "# Code you have previously used to load data\n",
    "import pandas as pd\n",
    "\n",
    "# Path of the file to read\n",
    "iowa_file_path = '../input/home-data-for-ml-course/train.csv'\n",
    "\n",
    "home_data = pd.read_csv(iowa_file_path)\n",
    "\n",
    "# Set up code checking\n",
    "from learntools.core import binder\n",
    "binder.bind(globals())\n",
    "from learntools.machine_learning.ex3 import *\n",
    "\n",
    "print(\"Setup Complete\")"
   ]
  },
  {
   "cell_type": "markdown",
   "id": "c64e822d",
   "metadata": {
    "papermill": {
     "duration": 0.004901,
     "end_time": "2022-11-11T07:51:40.740013",
     "exception": false,
     "start_time": "2022-11-11T07:51:40.735112",
     "status": "completed"
    },
    "tags": []
   },
   "source": [
    "# Exercises\n",
    "\n",
    "## Step 1: Specify Prediction Target\n",
    "Select the target variable, which corresponds to the sales price. Save this to a new variable called `y`. You'll need to print a list of the columns to find the name of the column you need.\n"
   ]
  },
  {
   "cell_type": "code",
   "execution_count": 2,
   "id": "8380fd4c",
   "metadata": {
    "collapsed": true,
    "execution": {
     "iopub.execute_input": "2022-11-11T07:51:40.753171Z",
     "iopub.status.busy": "2022-11-11T07:51:40.752199Z",
     "iopub.status.idle": "2022-11-11T07:51:40.757316Z",
     "shell.execute_reply": "2022-11-11T07:51:40.756421Z"
    },
    "jupyter": {
     "outputs_hidden": true
    },
    "papermill": {
     "duration": 0.014252,
     "end_time": "2022-11-11T07:51:40.759782",
     "exception": false,
     "start_time": "2022-11-11T07:51:40.745530",
     "status": "completed"
    },
    "tags": []
   },
   "outputs": [],
   "source": [
    "# print the list of columns in the dataset to find the name of the prediction target\n"
   ]
  },
  {
   "cell_type": "code",
   "execution_count": 3,
   "id": "2000da08",
   "metadata": {
    "collapsed": true,
    "execution": {
     "iopub.execute_input": "2022-11-11T07:51:40.772987Z",
     "iopub.status.busy": "2022-11-11T07:51:40.772223Z",
     "iopub.status.idle": "2022-11-11T07:51:40.783932Z",
     "shell.execute_reply": "2022-11-11T07:51:40.782748Z"
    },
    "jupyter": {
     "outputs_hidden": true
    },
    "papermill": {
     "duration": 0.021195,
     "end_time": "2022-11-11T07:51:40.786461",
     "exception": false,
     "start_time": "2022-11-11T07:51:40.765266",
     "status": "completed"
    },
    "tags": []
   },
   "outputs": [
    {
     "data": {
      "application/javascript": [
       "parent.postMessage({\"jupyterEvent\": \"custom.exercise_interaction\", \"data\": {\"outcomeType\": 4, \"interactionType\": 1, \"questionType\": 2, \"questionId\": \"1_SetTarget\", \"learnToolsVersion\": \"0.3.4\", \"valueTowardsCompletion\": 0.0, \"failureMessage\": \"\", \"exceptionClass\": \"\", \"trace\": \"\"}}, \"*\")"
      ],
      "text/plain": [
       "<IPython.core.display.Javascript object>"
      ]
     },
     "metadata": {},
     "output_type": "display_data"
    },
    {
     "data": {
      "text/markdown": [
       "<span style=\"color:#ccaa33\">Check:</span> When you've updated the starter code, `check()` will tell you whether your code is correct. You need to update the code that creates variable `y`"
      ],
      "text/plain": [
       "Check: When you've updated the starter code, `check()` will tell you whether your code is correct. You need to update the code that creates variable `y`"
      ]
     },
     "metadata": {},
     "output_type": "display_data"
    }
   ],
   "source": [
    "y = ____\n",
    "\n",
    "# Check your answer\n",
    "step_1.check()"
   ]
  },
  {
   "cell_type": "code",
   "execution_count": 4,
   "id": "b88bca25",
   "metadata": {
    "collapsed": true,
    "execution": {
     "iopub.execute_input": "2022-11-11T07:51:40.799554Z",
     "iopub.status.busy": "2022-11-11T07:51:40.798753Z",
     "iopub.status.idle": "2022-11-11T07:51:40.803919Z",
     "shell.execute_reply": "2022-11-11T07:51:40.802593Z"
    },
    "jupyter": {
     "outputs_hidden": true
    },
    "papermill": {
     "duration": 0.014366,
     "end_time": "2022-11-11T07:51:40.806372",
     "exception": false,
     "start_time": "2022-11-11T07:51:40.792006",
     "status": "completed"
    },
    "tags": []
   },
   "outputs": [],
   "source": [
    "# The lines below will show you a hint or the solution.\n",
    "# step_1.hint() \n",
    "# step_1.solution()"
   ]
  },
  {
   "cell_type": "markdown",
   "id": "680f7a98",
   "metadata": {
    "papermill": {
     "duration": 0.005082,
     "end_time": "2022-11-11T07:51:40.816981",
     "exception": false,
     "start_time": "2022-11-11T07:51:40.811899",
     "status": "completed"
    },
    "tags": []
   },
   "source": [
    "## Step 2: Create X\n",
    "Now you will create a DataFrame called `X` holding the predictive features.\n",
    "\n",
    "Since you want only some columns from the original data, you'll first create a list with the names of the columns you want in `X`.\n",
    "\n",
    "You'll use just the following columns in the list (you can copy and paste the whole list to save some typing, though you'll still need to add quotes):\n",
    "  * LotArea\n",
    "  * YearBuilt\n",
    "  * 1stFlrSF\n",
    "  * 2ndFlrSF\n",
    "  * FullBath\n",
    "  * BedroomAbvGr\n",
    "  * TotRmsAbvGrd\n",
    "\n",
    "After you've created that list of features, use it to create the DataFrame that you'll use to fit the model."
   ]
  },
  {
   "cell_type": "code",
   "execution_count": 5,
   "id": "7c91fb65",
   "metadata": {
    "collapsed": true,
    "execution": {
     "iopub.execute_input": "2022-11-11T07:51:40.831772Z",
     "iopub.status.busy": "2022-11-11T07:51:40.830897Z",
     "iopub.status.idle": "2022-11-11T07:51:40.840832Z",
     "shell.execute_reply": "2022-11-11T07:51:40.839754Z"
    },
    "jupyter": {
     "outputs_hidden": true
    },
    "papermill": {
     "duration": 0.021126,
     "end_time": "2022-11-11T07:51:40.843453",
     "exception": false,
     "start_time": "2022-11-11T07:51:40.822327",
     "status": "completed"
    },
    "tags": []
   },
   "outputs": [
    {
     "data": {
      "application/javascript": [
       "parent.postMessage({\"jupyterEvent\": \"custom.exercise_interaction\", \"data\": {\"outcomeType\": 4, \"interactionType\": 1, \"questionType\": 2, \"questionId\": \"2_SelectPredictionData\", \"learnToolsVersion\": \"0.3.4\", \"valueTowardsCompletion\": 0.0, \"failureMessage\": \"\", \"exceptionClass\": \"\", \"trace\": \"\"}}, \"*\")"
      ],
      "text/plain": [
       "<IPython.core.display.Javascript object>"
      ]
     },
     "metadata": {},
     "output_type": "display_data"
    },
    {
     "data": {
      "text/markdown": [
       "<span style=\"color:#ccaa33\">Check:</span> When you've updated the starter code, `check()` will tell you whether your code is correct. You need to update the code that creates variable `X`"
      ],
      "text/plain": [
       "Check: When you've updated the starter code, `check()` will tell you whether your code is correct. You need to update the code that creates variable `X`"
      ]
     },
     "metadata": {},
     "output_type": "display_data"
    }
   ],
   "source": [
    "# Create the list of features below\n",
    "feature_names = ___\n",
    "\n",
    "# Select data corresponding to features in feature_names\n",
    "X = ____\n",
    "\n",
    "# Check your answer\n",
    "step_2.check()"
   ]
  },
  {
   "cell_type": "code",
   "execution_count": 6,
   "id": "6445340b",
   "metadata": {
    "collapsed": true,
    "execution": {
     "iopub.execute_input": "2022-11-11T07:51:40.857517Z",
     "iopub.status.busy": "2022-11-11T07:51:40.856828Z",
     "iopub.status.idle": "2022-11-11T07:51:40.861566Z",
     "shell.execute_reply": "2022-11-11T07:51:40.860665Z"
    },
    "jupyter": {
     "outputs_hidden": true
    },
    "papermill": {
     "duration": 0.014636,
     "end_time": "2022-11-11T07:51:40.863919",
     "exception": false,
     "start_time": "2022-11-11T07:51:40.849283",
     "status": "completed"
    },
    "tags": []
   },
   "outputs": [],
   "source": [
    "# step_2.hint()\n",
    "# step_2.solution()"
   ]
  },
  {
   "cell_type": "markdown",
   "id": "b539cea9",
   "metadata": {
    "papermill": {
     "duration": 0.005516,
     "end_time": "2022-11-11T07:51:40.875375",
     "exception": false,
     "start_time": "2022-11-11T07:51:40.869859",
     "status": "completed"
    },
    "tags": []
   },
   "source": [
    "## Review Data\n",
    "Before building a model, take a quick look at **X** to verify it looks sensible"
   ]
  },
  {
   "cell_type": "code",
   "execution_count": 7,
   "id": "bb7384ed",
   "metadata": {
    "collapsed": true,
    "execution": {
     "iopub.execute_input": "2022-11-11T07:51:40.890283Z",
     "iopub.status.busy": "2022-11-11T07:51:40.889840Z",
     "iopub.status.idle": "2022-11-11T07:51:40.894848Z",
     "shell.execute_reply": "2022-11-11T07:51:40.893629Z"
    },
    "jupyter": {
     "outputs_hidden": true
    },
    "papermill": {
     "duration": 0.015289,
     "end_time": "2022-11-11T07:51:40.897146",
     "exception": false,
     "start_time": "2022-11-11T07:51:40.881857",
     "status": "completed"
    },
    "tags": []
   },
   "outputs": [],
   "source": [
    "# Review data\n",
    "# print description or statistics from X\n",
    "#print(_)\n",
    "\n",
    "# print the top few lines\n",
    "#print(_)"
   ]
  },
  {
   "cell_type": "markdown",
   "id": "d283fb9a",
   "metadata": {
    "papermill": {
     "duration": 0.005497,
     "end_time": "2022-11-11T07:51:40.908608",
     "exception": false,
     "start_time": "2022-11-11T07:51:40.903111",
     "status": "completed"
    },
    "tags": []
   },
   "source": [
    "## Step 3: Specify and Fit Model\n",
    "Create a `DecisionTreeRegressor` and save it iowa_model. Ensure you've done the relevant import from sklearn to run this command.\n",
    "\n",
    "Then fit the model you just created using the data in `X` and `y` that you saved above."
   ]
  },
  {
   "cell_type": "code",
   "execution_count": 8,
   "id": "5cea5f60",
   "metadata": {
    "collapsed": true,
    "execution": {
     "iopub.execute_input": "2022-11-11T07:51:40.922648Z",
     "iopub.status.busy": "2022-11-11T07:51:40.921949Z",
     "iopub.status.idle": "2022-11-11T07:51:40.931547Z",
     "shell.execute_reply": "2022-11-11T07:51:40.930437Z"
    },
    "jupyter": {
     "outputs_hidden": true
    },
    "papermill": {
     "duration": 0.019461,
     "end_time": "2022-11-11T07:51:40.933894",
     "exception": false,
     "start_time": "2022-11-11T07:51:40.914433",
     "status": "completed"
    },
    "tags": []
   },
   "outputs": [
    {
     "data": {
      "application/javascript": [
       "parent.postMessage({\"jupyterEvent\": \"custom.exercise_interaction\", \"data\": {\"outcomeType\": 4, \"interactionType\": 1, \"questionType\": 2, \"questionId\": \"3_CreateModel\", \"learnToolsVersion\": \"0.3.4\", \"valueTowardsCompletion\": 0.0, \"failureMessage\": \"\", \"exceptionClass\": \"\", \"trace\": \"\"}}, \"*\")"
      ],
      "text/plain": [
       "<IPython.core.display.Javascript object>"
      ]
     },
     "metadata": {},
     "output_type": "display_data"
    },
    {
     "data": {
      "text/markdown": [
       "<span style=\"color:#ccaa33\">Check:</span> When you've updated the starter code, `check()` will tell you whether your code is correct. You need to update the code that creates variable `iowa_model`"
      ],
      "text/plain": [
       "Check: When you've updated the starter code, `check()` will tell you whether your code is correct. You need to update the code that creates variable `iowa_model`"
      ]
     },
     "metadata": {},
     "output_type": "display_data"
    }
   ],
   "source": [
    "# from _ import _\n",
    "#specify the model. \n",
    "#For model reproducibility, set a numeric value for random_state when specifying the model\n",
    "iowa_model = ____\n",
    "\n",
    "# Fit the model\n",
    "____\n",
    "\n",
    "# Check your answer\n",
    "step_3.check()"
   ]
  },
  {
   "cell_type": "code",
   "execution_count": 9,
   "id": "9684596b",
   "metadata": {
    "collapsed": true,
    "execution": {
     "iopub.execute_input": "2022-11-11T07:51:40.948421Z",
     "iopub.status.busy": "2022-11-11T07:51:40.947706Z",
     "iopub.status.idle": "2022-11-11T07:51:40.952432Z",
     "shell.execute_reply": "2022-11-11T07:51:40.951560Z"
    },
    "jupyter": {
     "outputs_hidden": true
    },
    "papermill": {
     "duration": 0.014887,
     "end_time": "2022-11-11T07:51:40.954792",
     "exception": false,
     "start_time": "2022-11-11T07:51:40.939905",
     "status": "completed"
    },
    "tags": []
   },
   "outputs": [],
   "source": [
    "# step_3.hint()\n",
    "# step_3.solution()"
   ]
  },
  {
   "cell_type": "markdown",
   "id": "69f1fdb2",
   "metadata": {
    "papermill": {
     "duration": 0.005989,
     "end_time": "2022-11-11T07:51:40.967165",
     "exception": false,
     "start_time": "2022-11-11T07:51:40.961176",
     "status": "completed"
    },
    "tags": []
   },
   "source": [
    "## Step 4: Make Predictions\n",
    "Make predictions with the model's `predict` command using `X` as the data. Save the results to a variable called `predictions`."
   ]
  },
  {
   "cell_type": "code",
   "execution_count": 10,
   "id": "d04109f6",
   "metadata": {
    "collapsed": true,
    "execution": {
     "iopub.execute_input": "2022-11-11T07:51:40.982621Z",
     "iopub.status.busy": "2022-11-11T07:51:40.981788Z",
     "iopub.status.idle": "2022-11-11T07:51:40.993035Z",
     "shell.execute_reply": "2022-11-11T07:51:40.991584Z"
    },
    "jupyter": {
     "outputs_hidden": true
    },
    "papermill": {
     "duration": 0.021904,
     "end_time": "2022-11-11T07:51:40.995608",
     "exception": false,
     "start_time": "2022-11-11T07:51:40.973704",
     "status": "completed"
    },
    "tags": []
   },
   "outputs": [
    {
     "name": "stdout",
     "output_type": "stream",
     "text": [
      "<learntools.core.constants.PlaceholderValue object at 0x7f3ea6cc55d0>\n"
     ]
    },
    {
     "data": {
      "application/javascript": [
       "parent.postMessage({\"jupyterEvent\": \"custom.exercise_interaction\", \"data\": {\"outcomeType\": 4, \"interactionType\": 1, \"questionType\": 2, \"questionId\": \"4_MakePredictions\", \"learnToolsVersion\": \"0.3.4\", \"valueTowardsCompletion\": 0.0, \"failureMessage\": \"\", \"exceptionClass\": \"\", \"trace\": \"\"}}, \"*\")"
      ],
      "text/plain": [
       "<IPython.core.display.Javascript object>"
      ]
     },
     "metadata": {},
     "output_type": "display_data"
    },
    {
     "data": {
      "text/markdown": [
       "<span style=\"color:#ccaa33\">Check:</span> When you've updated the starter code, `check()` will tell you whether your code is correct. You need to update the code that creates variables `predictions`, `iowa_model`, `X`"
      ],
      "text/plain": [
       "Check: When you've updated the starter code, `check()` will tell you whether your code is correct. You need to update the code that creates variables `predictions`, `iowa_model`, `X`"
      ]
     },
     "metadata": {},
     "output_type": "display_data"
    }
   ],
   "source": [
    "predictions = ____\n",
    "print(predictions)\n",
    "\n",
    "# Check your answer\n",
    "step_4.check()"
   ]
  },
  {
   "cell_type": "code",
   "execution_count": 11,
   "id": "15e49e11",
   "metadata": {
    "collapsed": true,
    "execution": {
     "iopub.execute_input": "2022-11-11T07:51:41.011304Z",
     "iopub.status.busy": "2022-11-11T07:51:41.010368Z",
     "iopub.status.idle": "2022-11-11T07:51:41.015753Z",
     "shell.execute_reply": "2022-11-11T07:51:41.014330Z"
    },
    "jupyter": {
     "outputs_hidden": true
    },
    "papermill": {
     "duration": 0.015795,
     "end_time": "2022-11-11T07:51:41.018246",
     "exception": false,
     "start_time": "2022-11-11T07:51:41.002451",
     "status": "completed"
    },
    "tags": []
   },
   "outputs": [],
   "source": [
    "# step_4.hint()\n",
    "# step_4.solution()"
   ]
  },
  {
   "cell_type": "markdown",
   "id": "6fffc3de",
   "metadata": {
    "papermill": {
     "duration": 0.006288,
     "end_time": "2022-11-11T07:51:41.031305",
     "exception": false,
     "start_time": "2022-11-11T07:51:41.025017",
     "status": "completed"
    },
    "tags": []
   },
   "source": [
    "## Think About Your Results\n",
    "\n",
    "Use the `head` method to compare the top few predictions to the actual home values (in `y`) for those same homes. Anything surprising?\n"
   ]
  },
  {
   "cell_type": "code",
   "execution_count": 12,
   "id": "7c5aeb65",
   "metadata": {
    "execution": {
     "iopub.execute_input": "2022-11-11T07:51:41.046884Z",
     "iopub.status.busy": "2022-11-11T07:51:41.045898Z",
     "iopub.status.idle": "2022-11-11T07:51:41.051100Z",
     "shell.execute_reply": "2022-11-11T07:51:41.050024Z"
    },
    "papermill": {
     "duration": 0.015582,
     "end_time": "2022-11-11T07:51:41.053462",
     "exception": false,
     "start_time": "2022-11-11T07:51:41.037880",
     "status": "completed"
    },
    "tags": []
   },
   "outputs": [],
   "source": [
    "# You can write code in this cell\n"
   ]
  },
  {
   "cell_type": "markdown",
   "id": "29e737bd",
   "metadata": {
    "papermill": {
     "duration": 0.006419,
     "end_time": "2022-11-11T07:51:41.066600",
     "exception": false,
     "start_time": "2022-11-11T07:51:41.060181",
     "status": "completed"
    },
    "tags": []
   },
   "source": [
    "It's natural to ask how accurate the model's predictions will be and how you can improve that. That will be you're next step.\n",
    "\n",
    "# Keep Going\n",
    "\n",
    "You are ready for **[Model Validation](https://www.kaggle.com/dansbecker/model-validation).**\n"
   ]
  },
  {
   "cell_type": "markdown",
   "id": "876654e5",
   "metadata": {
    "papermill": {
     "duration": 0.006139,
     "end_time": "2022-11-11T07:51:41.079313",
     "exception": false,
     "start_time": "2022-11-11T07:51:41.073174",
     "status": "completed"
    },
    "tags": []
   },
   "source": [
    "---\n",
    "\n",
    "\n",
    "\n",
    "\n",
    "*Have questions or comments? Visit the [course discussion forum](https://www.kaggle.com/learn/intro-to-machine-learning/discussion) to chat with other learners.*"
   ]
  }
 ],
 "metadata": {
  "kernelspec": {
   "display_name": "Python 3",
   "language": "python",
   "name": "python3"
  },
  "language_info": {
   "codemirror_mode": {
    "name": "ipython",
    "version": 3
   },
   "file_extension": ".py",
   "mimetype": "text/x-python",
   "name": "python",
   "nbconvert_exporter": "python",
   "pygments_lexer": "ipython3",
   "version": "3.7.12"
  },
  "papermill": {
   "default_parameters": {},
   "duration": 12.5396,
   "end_time": "2022-11-11T07:51:41.910613",
   "environment_variables": {},
   "exception": null,
   "input_path": "__notebook__.ipynb",
   "output_path": "__notebook__.ipynb",
   "parameters": {},
   "start_time": "2022-11-11T07:51:29.371013",
   "version": "2.3.4"
  }
 },
 "nbformat": 4,
 "nbformat_minor": 5
}
