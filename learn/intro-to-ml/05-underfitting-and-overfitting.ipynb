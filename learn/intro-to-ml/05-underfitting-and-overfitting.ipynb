{
 "cells": [
  {
   "cell_type": "markdown",
   "id": "8714c550",
   "metadata": {
    "papermill": {
     "duration": 0.004731,
     "end_time": "2022-11-15T05:16:03.043790",
     "exception": false,
     "start_time": "2022-11-15T05:16:03.039059",
     "status": "completed"
    },
    "tags": []
   },
   "source": [
    "**This notebook is an exercise in the [Introduction to Machine Learning](https://www.kaggle.com/learn/intro-to-machine-learning) course.  You can reference the tutorial at [this link](https://www.kaggle.com/dansbecker/underfitting-and-overfitting).**\n",
    "\n",
    "---\n"
   ]
  },
  {
   "cell_type": "markdown",
   "id": "483d3c7d",
   "metadata": {
    "papermill": {
     "duration": 0.003093,
     "end_time": "2022-11-15T05:16:03.050503",
     "exception": false,
     "start_time": "2022-11-15T05:16:03.047410",
     "status": "completed"
    },
    "tags": []
   },
   "source": [
    "## Recap\n",
    "You've built your first model, and now it's time to optimize the size of the tree to make better predictions. Run this cell to set up your coding environment where the previous step left off."
   ]
  },
  {
   "cell_type": "code",
   "execution_count": 1,
   "id": "8bd30ec2",
   "metadata": {
    "execution": {
     "iopub.execute_input": "2022-11-15T05:16:03.060069Z",
     "iopub.status.busy": "2022-11-15T05:16:03.059505Z",
     "iopub.status.idle": "2022-11-15T05:16:04.492984Z",
     "shell.execute_reply": "2022-11-15T05:16:04.491103Z"
    },
    "papermill": {
     "duration": 1.442343,
     "end_time": "2022-11-15T05:16:04.496264",
     "exception": false,
     "start_time": "2022-11-15T05:16:03.053921",
     "status": "completed"
    },
    "tags": []
   },
   "outputs": [
    {
     "name": "stdout",
     "output_type": "stream",
     "text": [
      "Validation MAE: 29,653\n",
      "\n",
      "Setup complete\n"
     ]
    }
   ],
   "source": [
    "# Code you have previously used to load data\n",
    "import pandas as pd\n",
    "from sklearn.metrics import mean_absolute_error\n",
    "from sklearn.model_selection import train_test_split\n",
    "from sklearn.tree import DecisionTreeRegressor\n",
    "\n",
    "\n",
    "# Path of the file to read\n",
    "iowa_file_path = '../input/home-data-for-ml-course/train.csv'\n",
    "\n",
    "home_data = pd.read_csv(iowa_file_path)\n",
    "# Create target object and call it y\n",
    "y = home_data.SalePrice\n",
    "# Create X\n",
    "features = ['LotArea', 'YearBuilt', '1stFlrSF', '2ndFlrSF', 'FullBath', 'BedroomAbvGr', 'TotRmsAbvGrd']\n",
    "X = home_data[features]\n",
    "\n",
    "# Split into validation and training data\n",
    "train_X, val_X, train_y, val_y = train_test_split(X, y, random_state=1)\n",
    "\n",
    "# Specify Model\n",
    "iowa_model = DecisionTreeRegressor(random_state=1)\n",
    "# Fit Model\n",
    "iowa_model.fit(train_X, train_y)\n",
    "\n",
    "# Make validation predictions and calculate mean absolute error\n",
    "val_predictions = iowa_model.predict(val_X)\n",
    "val_mae = mean_absolute_error(val_predictions, val_y)\n",
    "print(\"Validation MAE: {:,.0f}\".format(val_mae))\n",
    "\n",
    "# Set up code checking\n",
    "from learntools.core import binder\n",
    "binder.bind(globals())\n",
    "from learntools.machine_learning.ex5 import *\n",
    "print(\"\\nSetup complete\")"
   ]
  },
  {
   "cell_type": "markdown",
   "id": "0f74ce41",
   "metadata": {
    "papermill": {
     "duration": 0.003222,
     "end_time": "2022-11-15T05:16:04.503300",
     "exception": false,
     "start_time": "2022-11-15T05:16:04.500078",
     "status": "completed"
    },
    "tags": []
   },
   "source": [
    "# Exercises\n",
    "You could write the function `get_mae` yourself. For now, we'll supply it. This is the same function you read about in the previous lesson. Just run the cell below."
   ]
  },
  {
   "cell_type": "code",
   "execution_count": 2,
   "id": "794bc6e3",
   "metadata": {
    "execution": {
     "iopub.execute_input": "2022-11-15T05:16:04.512139Z",
     "iopub.status.busy": "2022-11-15T05:16:04.511751Z",
     "iopub.status.idle": "2022-11-15T05:16:04.518875Z",
     "shell.execute_reply": "2022-11-15T05:16:04.517443Z"
    },
    "papermill": {
     "duration": 0.014363,
     "end_time": "2022-11-15T05:16:04.521232",
     "exception": false,
     "start_time": "2022-11-15T05:16:04.506869",
     "status": "completed"
    },
    "tags": []
   },
   "outputs": [],
   "source": [
    "def get_mae(max_leaf_nodes, train_X, val_X, train_y, val_y):\n",
    "    model = DecisionTreeRegressor(max_leaf_nodes=max_leaf_nodes, random_state=0)\n",
    "    model.fit(train_X, train_y)\n",
    "    preds_val = model.predict(val_X)\n",
    "    mae = mean_absolute_error(val_y, preds_val)\n",
    "    return(mae)"
   ]
  },
  {
   "cell_type": "markdown",
   "id": "665ebf6b",
   "metadata": {
    "papermill": {
     "duration": 0.003306,
     "end_time": "2022-11-15T05:16:04.528158",
     "exception": false,
     "start_time": "2022-11-15T05:16:04.524852",
     "status": "completed"
    },
    "tags": []
   },
   "source": [
    "## Step 1: Compare Different Tree Sizes\n",
    "Write a loop that tries the following values for *max_leaf_nodes* from a set of possible values.\n",
    "\n",
    "Call the *get_mae* function on each value of max_leaf_nodes. Store the output in some way that allows you to select the value of `max_leaf_nodes` that gives the most accurate model on your data."
   ]
  },
  {
   "cell_type": "code",
   "execution_count": 3,
   "id": "a6ff2823",
   "metadata": {
    "execution": {
     "iopub.execute_input": "2022-11-15T05:16:04.538138Z",
     "iopub.status.busy": "2022-11-15T05:16:04.537150Z",
     "iopub.status.idle": "2022-11-15T05:16:04.601811Z",
     "shell.execute_reply": "2022-11-15T05:16:04.600273Z"
    },
    "papermill": {
     "duration": 0.072527,
     "end_time": "2022-11-15T05:16:04.604499",
     "exception": false,
     "start_time": "2022-11-15T05:16:04.531972",
     "status": "completed"
    },
    "tags": []
   },
   "outputs": [
    {
     "name": "stdout",
     "output_type": "stream",
     "text": [
      "5 35044.51299744237\n",
      "25 29016.41319191076\n",
      "50 27405.930473214907\n",
      "100 27282.50803885739\n",
      "250 27893.822225701646\n",
      "500 29454.18598068598\n"
     ]
    },
    {
     "data": {
      "application/javascript": [
       "parent.postMessage({\"jupyterEvent\": \"custom.exercise_interaction\", \"data\": {\"outcomeType\": 1, \"valueTowardsCompletion\": 0.5, \"interactionType\": 1, \"questionType\": 1, \"questionId\": \"1_BestTreeSize\", \"learnToolsVersion\": \"0.3.4\", \"failureMessage\": \"\", \"exceptionClass\": \"\", \"trace\": \"\"}}, \"*\")"
      ],
      "text/plain": [
       "<IPython.core.display.Javascript object>"
      ]
     },
     "metadata": {},
     "output_type": "display_data"
    },
    {
     "data": {
      "text/markdown": [
       "<span style=\"color:#33cc33\">Correct</span>"
      ],
      "text/plain": [
       "Correct"
      ]
     },
     "metadata": {},
     "output_type": "display_data"
    }
   ],
   "source": [
    "candidate_max_leaf_nodes = [5, 25, 50, 100, 250, 500]\n",
    "# Write loop to find the ideal tree size from candidate_max_leaf_nodes\n",
    "best = (10 ** 18, -1)\n",
    "for max_leaf_nodes in candidate_max_leaf_nodes:\n",
    "    mae = get_mae(max_leaf_nodes, train_X, val_X, train_y, val_y)\n",
    "    print(max_leaf_nodes, mae)\n",
    "    if best[0] > mae:\n",
    "        best = (mae, max_leaf_nodes)\n",
    "\n",
    "# Store the best value of max_leaf_nodes (it will be either 5, 25, 50, 100, 250 or 500)\n",
    "best_tree_size = best[1]\n",
    "\n",
    "# Check your answer\n",
    "step_1.check()"
   ]
  },
  {
   "cell_type": "code",
   "execution_count": 4,
   "id": "5ce9a808",
   "metadata": {
    "execution": {
     "iopub.execute_input": "2022-11-15T05:16:04.614538Z",
     "iopub.status.busy": "2022-11-15T05:16:04.614058Z",
     "iopub.status.idle": "2022-11-15T05:16:04.619573Z",
     "shell.execute_reply": "2022-11-15T05:16:04.617963Z"
    },
    "papermill": {
     "duration": 0.013952,
     "end_time": "2022-11-15T05:16:04.622387",
     "exception": false,
     "start_time": "2022-11-15T05:16:04.608435",
     "status": "completed"
    },
    "tags": []
   },
   "outputs": [],
   "source": [
    "# The lines below will show you a hint or the solution.\n",
    "# step_1.hint() \n",
    "# step_1.solution()"
   ]
  },
  {
   "cell_type": "markdown",
   "id": "2945cbb9",
   "metadata": {
    "papermill": {
     "duration": 0.003497,
     "end_time": "2022-11-15T05:16:04.630054",
     "exception": false,
     "start_time": "2022-11-15T05:16:04.626557",
     "status": "completed"
    },
    "tags": []
   },
   "source": [
    "## Step 2: Fit Model Using All Data\n",
    "You know the best tree size. If you were going to deploy this model in practice, you would make it even more accurate by using all of the data and keeping that tree size.  That is, you don't need to hold out the validation data now that you've made all your modeling decisions."
   ]
  },
  {
   "cell_type": "code",
   "execution_count": 5,
   "id": "180608ca",
   "metadata": {
    "execution": {
     "iopub.execute_input": "2022-11-15T05:16:04.640275Z",
     "iopub.status.busy": "2022-11-15T05:16:04.639150Z",
     "iopub.status.idle": "2022-11-15T05:16:04.659304Z",
     "shell.execute_reply": "2022-11-15T05:16:04.657897Z"
    },
    "papermill": {
     "duration": 0.028458,
     "end_time": "2022-11-15T05:16:04.662252",
     "exception": false,
     "start_time": "2022-11-15T05:16:04.633794",
     "status": "completed"
    },
    "tags": []
   },
   "outputs": [
    {
     "data": {
      "application/javascript": [
       "parent.postMessage({\"jupyterEvent\": \"custom.exercise_interaction\", \"data\": {\"outcomeType\": 1, \"valueTowardsCompletion\": 0.5, \"interactionType\": 1, \"questionType\": 2, \"questionId\": \"2_FitModelWithAllData\", \"learnToolsVersion\": \"0.3.4\", \"failureMessage\": \"\", \"exceptionClass\": \"\", \"trace\": \"\"}}, \"*\")"
      ],
      "text/plain": [
       "<IPython.core.display.Javascript object>"
      ]
     },
     "metadata": {},
     "output_type": "display_data"
    },
    {
     "data": {
      "text/markdown": [
       "<span style=\"color:#33cc33\">Correct</span>"
      ],
      "text/plain": [
       "Correct"
      ]
     },
     "metadata": {},
     "output_type": "display_data"
    }
   ],
   "source": [
    "# Fill in argument to make optimal size and uncomment\n",
    "final_model = DecisionTreeRegressor(max_leaf_nodes=best_tree_size)\n",
    "\n",
    "# fit the final model and uncomment the next two lines\n",
    "final_model.fit(X, y)\n",
    "\n",
    "# Check your answer\n",
    "step_2.check()"
   ]
  },
  {
   "cell_type": "code",
   "execution_count": 6,
   "id": "46ef9cbd",
   "metadata": {
    "execution": {
     "iopub.execute_input": "2022-11-15T05:16:04.672954Z",
     "iopub.status.busy": "2022-11-15T05:16:04.672553Z",
     "iopub.status.idle": "2022-11-15T05:16:04.678246Z",
     "shell.execute_reply": "2022-11-15T05:16:04.677055Z"
    },
    "papermill": {
     "duration": 0.014547,
     "end_time": "2022-11-15T05:16:04.681301",
     "exception": false,
     "start_time": "2022-11-15T05:16:04.666754",
     "status": "completed"
    },
    "tags": []
   },
   "outputs": [],
   "source": [
    "# step_2.hint()\n",
    "# step_2.solution()"
   ]
  },
  {
   "cell_type": "markdown",
   "id": "397dfbe7",
   "metadata": {
    "papermill": {
     "duration": 0.004449,
     "end_time": "2022-11-15T05:16:04.690670",
     "exception": false,
     "start_time": "2022-11-15T05:16:04.686221",
     "status": "completed"
    },
    "tags": []
   },
   "source": [
    "You've tuned this model and improved your results. But we are still using Decision Tree models, which are not very sophisticated by modern machine learning standards. In the next step you will learn to use Random Forests to improve your models even more.\n",
    "\n",
    "# Keep Going\n",
    "\n",
    "You are ready for **[Random Forests](https://www.kaggle.com/dansbecker/random-forests).**\n"
   ]
  },
  {
   "cell_type": "markdown",
   "id": "07bf94d2",
   "metadata": {
    "papermill": {
     "duration": 0.004072,
     "end_time": "2022-11-15T05:16:04.699210",
     "exception": false,
     "start_time": "2022-11-15T05:16:04.695138",
     "status": "completed"
    },
    "tags": []
   },
   "source": [
    "---\n",
    "\n",
    "\n",
    "\n",
    "\n",
    "*Have questions or comments? Visit the [course discussion forum](https://www.kaggle.com/learn/intro-to-machine-learning/discussion) to chat with other learners.*"
   ]
  }
 ],
 "metadata": {
  "kernelspec": {
   "display_name": "Python 3",
   "language": "python",
   "name": "python3"
  },
  "language_info": {
   "codemirror_mode": {
    "name": "ipython",
    "version": 3
   },
   "file_extension": ".py",
   "mimetype": "text/x-python",
   "name": "python",
   "nbconvert_exporter": "python",
   "pygments_lexer": "ipython3",
   "version": "3.7.12"
  },
  "papermill": {
   "default_parameters": {},
   "duration": 11.142984,
   "end_time": "2022-11-15T05:16:05.527798",
   "environment_variables": {},
   "exception": null,
   "input_path": "__notebook__.ipynb",
   "output_path": "__notebook__.ipynb",
   "parameters": {},
   "start_time": "2022-11-15T05:15:54.384814",
   "version": "2.3.4"
  }
 },
 "nbformat": 4,
 "nbformat_minor": 5
}
