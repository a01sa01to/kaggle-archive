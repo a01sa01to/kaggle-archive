{
 "cells": [
  {
   "cell_type": "markdown",
   "id": "a672b124",
   "metadata": {
    "papermill": {
     "duration": 0.004105,
     "end_time": "2022-10-24T07:25:25.479201",
     "exception": false,
     "start_time": "2022-10-24T07:25:25.475096",
     "status": "completed"
    },
    "tags": []
   },
   "source": [
    "**[Machine Learning Course Home Page](https://www.kaggle.com/learn/machine-learning)**\n",
    "\n",
    "---\n"
   ]
  },
  {
   "cell_type": "markdown",
   "id": "89fb2748",
   "metadata": {
    "papermill": {
     "duration": 0.002852,
     "end_time": "2022-10-24T07:25:25.485467",
     "exception": false,
     "start_time": "2022-10-24T07:25:25.482615",
     "status": "completed"
    },
    "tags": []
   },
   "source": [
    "This exercise will test your ability to read a data file and understand statistics about the data.\n",
    "\n",
    "In later exercises, you will apply techniques to filter the data, build a machine learning model, and iteratively improve your model.\n",
    "\n",
    "The course examples use data from Melbourne. To ensure you can apply these techniques on your own, you will have to apply them to a new dataset (with house prices from Iowa).\n",
    "\n",
    "The exercises use a \"notebook\" coding environment.  In case you are unfamiliar with notebooks, we have a [90-second intro video](https://www.youtube.com/watch?v=4C2qMnaIKL4).\n",
    "\n",
    "# Exercises\n",
    "\n",
    "Run the following cell to set up code-checking, which will verify your work as you go."
   ]
  },
  {
   "cell_type": "code",
   "execution_count": 1,
   "id": "104e75ca",
   "metadata": {
    "collapsed": true,
    "execution": {
     "iopub.execute_input": "2022-10-24T07:25:25.494416Z",
     "iopub.status.busy": "2022-10-24T07:25:25.493942Z",
     "iopub.status.idle": "2022-10-24T07:25:25.559236Z",
     "shell.execute_reply": "2022-10-24T07:25:25.557937Z"
    },
    "jupyter": {
     "outputs_hidden": true
    },
    "papermill": {
     "duration": 0.073116,
     "end_time": "2022-10-24T07:25:25.562049",
     "exception": false,
     "start_time": "2022-10-24T07:25:25.488933",
     "status": "completed"
    },
    "tags": []
   },
   "outputs": [
    {
     "name": "stdout",
     "output_type": "stream",
     "text": [
      "Setup Complete\n"
     ]
    }
   ],
   "source": [
    "# Set up code checking\n",
    "from learntools.core import binder\n",
    "binder.bind(globals())\n",
    "from learntools.machine_learning.ex2 import *\n",
    "print(\"Setup Complete\")"
   ]
  },
  {
   "cell_type": "markdown",
   "id": "eedca645",
   "metadata": {
    "papermill": {
     "duration": 0.003432,
     "end_time": "2022-10-24T07:25:25.569070",
     "exception": false,
     "start_time": "2022-10-24T07:25:25.565638",
     "status": "completed"
    },
    "tags": []
   },
   "source": [
    "## Step 1: Loading Data\n",
    "Read the Iowa data file into a Pandas DataFrame called `home_data`."
   ]
  },
  {
   "cell_type": "code",
   "execution_count": 2,
   "id": "50b6591d",
   "metadata": {
    "collapsed": true,
    "execution": {
     "iopub.execute_input": "2022-10-24T07:25:25.579020Z",
     "iopub.status.busy": "2022-10-24T07:25:25.578565Z",
     "iopub.status.idle": "2022-10-24T07:25:25.591069Z",
     "shell.execute_reply": "2022-10-24T07:25:25.590182Z"
    },
    "jupyter": {
     "outputs_hidden": true
    },
    "papermill": {
     "duration": 0.020891,
     "end_time": "2022-10-24T07:25:25.593633",
     "exception": false,
     "start_time": "2022-10-24T07:25:25.572742",
     "status": "completed"
    },
    "tags": []
   },
   "outputs": [
    {
     "data": {
      "application/javascript": [
       "parent.postMessage({\"jupyterEvent\": \"custom.exercise_interaction\", \"data\": {\"outcomeType\": 4, \"interactionType\": 1, \"questionType\": 1, \"questionId\": \"1_LoadHomeData\", \"learnToolsVersion\": \"0.3.4\", \"valueTowardsCompletion\": 0.0, \"failureMessage\": \"\", \"exceptionClass\": \"\", \"trace\": \"\"}}, \"*\")"
      ],
      "text/plain": [
       "<IPython.core.display.Javascript object>"
      ]
     },
     "metadata": {},
     "output_type": "display_data"
    },
    {
     "data": {
      "text/markdown": [
       "<span style=\"color:#ccaa33\">Check:</span> When you've updated the starter code, `check()` will tell you whether your code is correct. You need to update the code that creates variable `home_data`"
      ],
      "text/plain": [
       "Check: When you've updated the starter code, `check()` will tell you whether your code is correct. You need to update the code that creates variable `home_data`"
      ]
     },
     "metadata": {},
     "output_type": "display_data"
    }
   ],
   "source": [
    "import pandas as pd\n",
    "\n",
    "# Path of the file to read\n",
    "iowa_file_path = '../input/home-data-for-ml-course/train.csv'\n",
    "\n",
    "# Fill in the line below to read the file into a variable home_data\n",
    "home_data = ____\n",
    "\n",
    "# Call line below with no argument to check that you've loaded the data correctly\n",
    "step_1.check()"
   ]
  },
  {
   "cell_type": "code",
   "execution_count": 3,
   "id": "cec60815",
   "metadata": {
    "collapsed": true,
    "execution": {
     "iopub.execute_input": "2022-10-24T07:25:25.603591Z",
     "iopub.status.busy": "2022-10-24T07:25:25.602795Z",
     "iopub.status.idle": "2022-10-24T07:25:25.607183Z",
     "shell.execute_reply": "2022-10-24T07:25:25.606073Z"
    },
    "jupyter": {
     "outputs_hidden": true
    },
    "papermill": {
     "duration": 0.011843,
     "end_time": "2022-10-24T07:25:25.609464",
     "exception": false,
     "start_time": "2022-10-24T07:25:25.597621",
     "status": "completed"
    },
    "tags": []
   },
   "outputs": [],
   "source": [
    "# Lines below will give you a hint or solution code\n",
    "#step_1.hint()\n",
    "#step_1.solution()"
   ]
  },
  {
   "cell_type": "markdown",
   "id": "a4e4d0cc",
   "metadata": {
    "papermill": {
     "duration": 0.003396,
     "end_time": "2022-10-24T07:25:25.616773",
     "exception": false,
     "start_time": "2022-10-24T07:25:25.613377",
     "status": "completed"
    },
    "tags": []
   },
   "source": [
    "## Step 2: Review The Data\n",
    "Use the command you learned to view summary statistics of the data. Then fill in variables to answer the following questions"
   ]
  },
  {
   "cell_type": "code",
   "execution_count": 4,
   "id": "123d49d7",
   "metadata": {
    "collapsed": true,
    "execution": {
     "iopub.execute_input": "2022-10-24T07:25:25.626274Z",
     "iopub.status.busy": "2022-10-24T07:25:25.625865Z",
     "iopub.status.idle": "2022-10-24T07:25:25.632635Z",
     "shell.execute_reply": "2022-10-24T07:25:25.631163Z"
    },
    "jupyter": {
     "outputs_hidden": true
    },
    "papermill": {
     "duration": 0.014686,
     "end_time": "2022-10-24T07:25:25.635216",
     "exception": false,
     "start_time": "2022-10-24T07:25:25.620530",
     "status": "completed"
    },
    "tags": []
   },
   "outputs": [
    {
     "data": {
      "text/markdown": [],
      "text/plain": [
       "<learntools.core.constants.PlaceholderValue at 0x7f0a0ee6f2d0>"
      ]
     },
     "execution_count": 4,
     "metadata": {},
     "output_type": "execute_result"
    }
   ],
   "source": [
    "# Print summary statistics in next line\n",
    "____"
   ]
  },
  {
   "cell_type": "code",
   "execution_count": 5,
   "id": "99d1c119",
   "metadata": {
    "execution": {
     "iopub.execute_input": "2022-10-24T07:25:25.645713Z",
     "iopub.status.busy": "2022-10-24T07:25:25.645294Z",
     "iopub.status.idle": "2022-10-24T07:25:25.654309Z",
     "shell.execute_reply": "2022-10-24T07:25:25.653269Z"
    },
    "papermill": {
     "duration": 0.016833,
     "end_time": "2022-10-24T07:25:25.656502",
     "exception": false,
     "start_time": "2022-10-24T07:25:25.639669",
     "status": "completed"
    },
    "tags": []
   },
   "outputs": [
    {
     "data": {
      "application/javascript": [
       "parent.postMessage({\"jupyterEvent\": \"custom.exercise_interaction\", \"data\": {\"outcomeType\": 4, \"interactionType\": 1, \"questionType\": 1, \"questionId\": \"2_HomeDescription\", \"learnToolsVersion\": \"0.3.4\", \"valueTowardsCompletion\": 0.0, \"failureMessage\": \"\", \"exceptionClass\": \"\", \"trace\": \"\"}}, \"*\")"
      ],
      "text/plain": [
       "<IPython.core.display.Javascript object>"
      ]
     },
     "metadata": {},
     "output_type": "display_data"
    },
    {
     "data": {
      "text/markdown": [
       "<span style=\"color:#ccaa33\">Check:</span> When you've updated the starter code, `check()` will tell you whether your code is correct. You need to update the code that creates variables `avg_lot_size`, `newest_home_age`"
      ],
      "text/plain": [
       "Check: When you've updated the starter code, `check()` will tell you whether your code is correct. You need to update the code that creates variables `avg_lot_size`, `newest_home_age`"
      ]
     },
     "metadata": {},
     "output_type": "display_data"
    }
   ],
   "source": [
    "# What is the average lot size (rounded to nearest integer)?\n",
    "avg_lot_size = ____\n",
    "\n",
    "# As of today, how old is the newest home (current year - the date in which it was built)\n",
    "newest_home_age = ____\n",
    "\n",
    "# Checks your answers\n",
    "step_2.check()"
   ]
  },
  {
   "cell_type": "code",
   "execution_count": 6,
   "id": "1acbad23",
   "metadata": {
    "collapsed": true,
    "execution": {
     "iopub.execute_input": "2022-10-24T07:25:25.667203Z",
     "iopub.status.busy": "2022-10-24T07:25:25.666314Z",
     "iopub.status.idle": "2022-10-24T07:25:25.671341Z",
     "shell.execute_reply": "2022-10-24T07:25:25.670188Z"
    },
    "jupyter": {
     "outputs_hidden": true
    },
    "papermill": {
     "duration": 0.012715,
     "end_time": "2022-10-24T07:25:25.673595",
     "exception": false,
     "start_time": "2022-10-24T07:25:25.660880",
     "status": "completed"
    },
    "tags": []
   },
   "outputs": [],
   "source": [
    "#step_2.hint()\n",
    "#step_2.solution()"
   ]
  },
  {
   "cell_type": "markdown",
   "id": "72cab59d",
   "metadata": {
    "papermill": {
     "duration": 0.003958,
     "end_time": "2022-10-24T07:25:25.681917",
     "exception": false,
     "start_time": "2022-10-24T07:25:25.677959",
     "status": "completed"
    },
    "tags": []
   },
   "source": [
    "## Think About Your Data\n",
    "\n",
    "The newest house in your data isn't that new.  A few potential explanations for this:\n",
    "1. They haven't built new houses where this data was collected.\n",
    "1. The data was collected a long time ago. Houses built after the data publication wouldn't show up.\n",
    "\n",
    "If the reason is explanation #1 above, does that affect your trust in the model you build with this data? What about if it is reason #2?\n",
    "\n",
    "How could you dig into the data to see which explanation is more plausible?\n",
    "\n",
    "Check out this **[discussion thread](https://www.kaggle.com/learn-forum/60581)** to see what others think or to add your ideas.\n",
    "\n",
    "# Keep Going\n",
    "\n",
    "You are ready for **[Your First Machine Learning Model](https://www.kaggle.com/dansbecker/your-first-machine-learning-model).**\n"
   ]
  },
  {
   "cell_type": "markdown",
   "id": "e2d4a62b",
   "metadata": {
    "papermill": {
     "duration": 0.003848,
     "end_time": "2022-10-24T07:25:25.690014",
     "exception": false,
     "start_time": "2022-10-24T07:25:25.686166",
     "status": "completed"
    },
    "tags": []
   },
   "source": [
    "---\n",
    "**[Machine Learning Course Home Page](https://www.kaggle.com/learn/machine-learning)**\n",
    "\n"
   ]
  }
 ],
 "metadata": {
  "kernelspec": {
   "display_name": "Python 3",
   "language": "python",
   "name": "python3"
  },
  "language_info": {
   "codemirror_mode": {
    "name": "ipython",
    "version": 3
   },
   "file_extension": ".py",
   "mimetype": "text/x-python",
   "name": "python",
   "nbconvert_exporter": "python",
   "pygments_lexer": "ipython3",
   "version": "3.7.12"
  },
  "papermill": {
   "default_parameters": {},
   "duration": 9.963913,
   "end_time": "2022-10-24T07:25:26.417097",
   "environment_variables": {},
   "exception": null,
   "input_path": "__notebook__.ipynb",
   "output_path": "__notebook__.ipynb",
   "parameters": {},
   "start_time": "2022-10-24T07:25:16.453184",
   "version": "2.3.4"
  }
 },
 "nbformat": 4,
 "nbformat_minor": 5
}
