{
 "cells": [
  {
   "cell_type": "markdown",
   "id": "7c7f0f4d",
   "metadata": {
    "papermill": {
     "duration": 0.007951,
     "end_time": "2022-10-24T04:12:26.198174",
     "exception": false,
     "start_time": "2022-10-24T04:12:26.190223",
     "status": "completed"
    },
    "tags": []
   },
   "source": [
    "**This notebook is an exercise in the [Intro to Programming](https://www.kaggle.com/learn/intro-to-programming) course.  You can reference the tutorial at [this link](https://www.kaggle.com/alexisbcook/data-types).**\n",
    "\n",
    "---\n"
   ]
  },
  {
   "cell_type": "markdown",
   "id": "67c5fe8e",
   "metadata": {
    "papermill": {
     "duration": 0.006467,
     "end_time": "2022-10-24T04:12:26.211296",
     "exception": false,
     "start_time": "2022-10-24T04:12:26.204829",
     "status": "completed"
    },
    "tags": []
   },
   "source": [
    "In the tutorial, you learned about four different data types: floats, integers, strings, and booleans.  In this exercise, you'll experiment with them.\n",
    "\n",
    "# Set up the notebook\n",
    "\n",
    "Run the next code cell without changes to set up the notebook."
   ]
  },
  {
   "cell_type": "code",
   "execution_count": 1,
   "id": "a5fb17b4",
   "metadata": {
    "execution": {
     "iopub.execute_input": "2022-10-24T04:12:26.229726Z",
     "iopub.status.busy": "2022-10-24T04:12:26.229077Z",
     "iopub.status.idle": "2022-10-24T04:12:26.295178Z",
     "shell.execute_reply": "2022-10-24T04:12:26.293812Z"
    },
    "papermill": {
     "duration": 0.081437,
     "end_time": "2022-10-24T04:12:26.299158",
     "exception": false,
     "start_time": "2022-10-24T04:12:26.217721",
     "status": "completed"
    },
    "tags": []
   },
   "outputs": [
    {
     "name": "stdout",
     "output_type": "stream",
     "text": [
      "Setup complete.\n"
     ]
    }
   ],
   "source": [
    "# Set up the exercise\n",
    "from learntools.core import binder\n",
    "binder.bind(globals())\n",
    "from learntools.intro_to_programming.ex3 import *\n",
    "print('Setup complete.')"
   ]
  },
  {
   "cell_type": "markdown",
   "id": "a8023222",
   "metadata": {
    "papermill": {
     "duration": 0.007203,
     "end_time": "2022-10-24T04:12:26.315391",
     "exception": false,
     "start_time": "2022-10-24T04:12:26.308188",
     "status": "completed"
    },
    "tags": []
   },
   "source": [
    "# Question 1\n",
    "\n",
    "You have seen how to convert a float to an integer with the `int` function.  Try this out yourself by running the code cell below."
   ]
  },
  {
   "cell_type": "code",
   "execution_count": 2,
   "id": "6feb23d5",
   "metadata": {
    "execution": {
     "iopub.execute_input": "2022-10-24T04:12:26.336100Z",
     "iopub.status.busy": "2022-10-24T04:12:26.335088Z",
     "iopub.status.idle": "2022-10-24T04:12:26.342861Z",
     "shell.execute_reply": "2022-10-24T04:12:26.341729Z"
    },
    "papermill": {
     "duration": 0.021969,
     "end_time": "2022-10-24T04:12:26.345527",
     "exception": false,
     "start_time": "2022-10-24T04:12:26.323558",
     "status": "completed"
    },
    "tags": []
   },
   "outputs": [
    {
     "name": "stdout",
     "output_type": "stream",
     "text": [
      "1.0\n",
      "<class 'float'>\n",
      "1\n",
      "<class 'int'>\n"
     ]
    }
   ],
   "source": [
    "# Define a float\n",
    "y = 1.\n",
    "print(y)\n",
    "print(type(y))\n",
    "\n",
    "# Convert float to integer with the int function\n",
    "z = int(y)\n",
    "print(z)\n",
    "print(type(z))"
   ]
  },
  {
   "cell_type": "markdown",
   "id": "cd681d30",
   "metadata": {
    "papermill": {
     "duration": 0.006351,
     "end_time": "2022-10-24T04:12:26.358718",
     "exception": false,
     "start_time": "2022-10-24T04:12:26.352367",
     "status": "completed"
    },
    "tags": []
   },
   "source": [
    "In this case, the float you are using has no numbers after the decimal.  \n",
    "- But what happens when you try to convert a float with a fractional part to an integer?  \n",
    "- How does the outcome of the `int` function change for positive and negative numbers?\n",
    "\n",
    "Use the next code cell to investigate and answer these questions.  Feel free to add or remove any lines of code -- it is your workspace!"
   ]
  },
  {
   "cell_type": "code",
   "execution_count": 3,
   "id": "755423ba",
   "metadata": {
    "execution": {
     "iopub.execute_input": "2022-10-24T04:12:26.374926Z",
     "iopub.status.busy": "2022-10-24T04:12:26.373901Z",
     "iopub.status.idle": "2022-10-24T04:12:26.382425Z",
     "shell.execute_reply": "2022-10-24T04:12:26.380928Z"
    },
    "papermill": {
     "duration": 0.020648,
     "end_time": "2022-10-24T04:12:26.386111",
     "exception": false,
     "start_time": "2022-10-24T04:12:26.365463",
     "status": "completed"
    },
    "tags": []
   },
   "outputs": [
    {
     "name": "stdout",
     "output_type": "stream",
     "text": [
      "1\n",
      "1\n",
      "-3\n",
      "-2\n"
     ]
    }
   ],
   "source": [
    "# Uncomment and run this code to get started!\n",
    "print(int(1.2321))\n",
    "print(int(1.747))\n",
    "print(int(-3.94535))\n",
    "print(int(-2.19774))"
   ]
  },
  {
   "cell_type": "markdown",
   "id": "696a08e0",
   "metadata": {
    "papermill": {
     "duration": 0.007949,
     "end_time": "2022-10-24T04:12:26.400839",
     "exception": false,
     "start_time": "2022-10-24T04:12:26.392890",
     "status": "completed"
    },
    "tags": []
   },
   "source": [
    "Once you have an answer, run the code cell below to see the solution.  Viewing the solution will give you credit for answering the problem."
   ]
  },
  {
   "cell_type": "code",
   "execution_count": 4,
   "id": "5ae8a855",
   "metadata": {
    "execution": {
     "iopub.execute_input": "2022-10-24T04:12:26.415766Z",
     "iopub.status.busy": "2022-10-24T04:12:26.415327Z",
     "iopub.status.idle": "2022-10-24T04:12:26.426716Z",
     "shell.execute_reply": "2022-10-24T04:12:26.425522Z"
    },
    "papermill": {
     "duration": 0.021671,
     "end_time": "2022-10-24T04:12:26.429136",
     "exception": false,
     "start_time": "2022-10-24T04:12:26.407465",
     "status": "completed"
    },
    "tags": []
   },
   "outputs": [
    {
     "data": {
      "application/javascript": [
       "parent.postMessage({\"jupyterEvent\": \"custom.exercise_interaction\", \"data\": {\"outcomeType\": 1, \"valueTowardsCompletion\": 0.2, \"interactionType\": 1, \"questionType\": 4, \"questionId\": \"1_FloatToInt\", \"learnToolsVersion\": \"0.3.4\", \"failureMessage\": \"\", \"exceptionClass\": \"\", \"trace\": \"\"}}, \"*\")"
      ],
      "text/plain": [
       "<IPython.core.display.Javascript object>"
      ]
     },
     "metadata": {},
     "output_type": "display_data"
    },
    {
     "data": {
      "text/markdown": [
       "<span style=\"color:#33cc33\">Correct:</span> \n",
       "\n",
       "Negative floats are always rounded UP to the closest integer (for instance, both -1.1 and -1.9 are rounded up to -1). Positive floats are always rounded DOWN to the closest integer (for instance, 2.1 and 2.9 are rounded down to 2)."
      ],
      "text/plain": [
       "Correct: \n",
       "\n",
       "Negative floats are always rounded UP to the closest integer (for instance, both -1.1 and -1.9 are rounded up to -1). Positive floats are always rounded DOWN to the closest integer (for instance, 2.1 and 2.9 are rounded down to 2)."
      ]
     },
     "metadata": {},
     "output_type": "display_data"
    }
   ],
   "source": [
    "# Check your answer (Run this code cell to receive credit!)\n",
    "q1.check()"
   ]
  },
  {
   "cell_type": "markdown",
   "id": "f693f148",
   "metadata": {
    "papermill": {
     "duration": 0.006573,
     "end_time": "2022-10-24T04:12:26.442713",
     "exception": false,
     "start_time": "2022-10-24T04:12:26.436140",
     "status": "completed"
    },
    "tags": []
   },
   "source": [
    "# Question 2\n",
    "\n",
    "In the tutorial, you learned about booleans (which can take a value of `True` or `False`), in addition to integers, floats, and strings.  For this question, your goal is to determine what happens when you multiply a boolean by any of these data types.  Specifically, \n",
    "- What happens when you multiply an integer or float by `True`?  What happens when you multiply them by `False`?  How does the answer change if the numbers are positive or negative?\n",
    "- What happens when you multiply a string by `True`?  By `False`?\n",
    "\n",
    "Use the next code cell for your investigation. "
   ]
  },
  {
   "cell_type": "code",
   "execution_count": 5,
   "id": "5fcf3fed",
   "metadata": {
    "execution": {
     "iopub.execute_input": "2022-10-24T04:12:26.458893Z",
     "iopub.status.busy": "2022-10-24T04:12:26.458210Z",
     "iopub.status.idle": "2022-10-24T04:12:26.464411Z",
     "shell.execute_reply": "2022-10-24T04:12:26.463611Z"
    },
    "papermill": {
     "duration": 0.017172,
     "end_time": "2022-10-24T04:12:26.466869",
     "exception": false,
     "start_time": "2022-10-24T04:12:26.449697",
     "status": "completed"
    },
    "tags": []
   },
   "outputs": [
    {
     "name": "stdout",
     "output_type": "stream",
     "text": [
      "3\n",
      "-3.1\n",
      "<class 'str'>\n",
      "0\n"
     ]
    }
   ],
   "source": [
    "# Uncomment and run this code to get started!\n",
    "print(3 * True)\n",
    "print(-3.1 * True)\n",
    "print(type(\"abc\" * False))\n",
    "print(len(\"abc\" * False))"
   ]
  },
  {
   "cell_type": "markdown",
   "id": "662e051b",
   "metadata": {
    "papermill": {
     "duration": 0.006579,
     "end_time": "2022-10-24T04:12:26.480536",
     "exception": false,
     "start_time": "2022-10-24T04:12:26.473957",
     "status": "completed"
    },
    "tags": []
   },
   "source": [
    "Once you have an answer, run the code cell below to see the solution.  Viewing the solution will give you credit for answering the problem."
   ]
  },
  {
   "cell_type": "code",
   "execution_count": 6,
   "id": "ac6412ce",
   "metadata": {
    "execution": {
     "iopub.execute_input": "2022-10-24T04:12:26.496922Z",
     "iopub.status.busy": "2022-10-24T04:12:26.496301Z",
     "iopub.status.idle": "2022-10-24T04:12:26.504833Z",
     "shell.execute_reply": "2022-10-24T04:12:26.503679Z"
    },
    "papermill": {
     "duration": 0.019782,
     "end_time": "2022-10-24T04:12:26.507699",
     "exception": false,
     "start_time": "2022-10-24T04:12:26.487917",
     "status": "completed"
    },
    "tags": []
   },
   "outputs": [
    {
     "data": {
      "application/javascript": [
       "parent.postMessage({\"jupyterEvent\": \"custom.exercise_interaction\", \"data\": {\"outcomeType\": 1, \"valueTowardsCompletion\": 0.2, \"interactionType\": 1, \"questionType\": 4, \"questionId\": \"2_MultiplyBooleans\", \"learnToolsVersion\": \"0.3.4\", \"failureMessage\": \"\", \"exceptionClass\": \"\", \"trace\": \"\"}}, \"*\")"
      ],
      "text/plain": [
       "<IPython.core.display.Javascript object>"
      ]
     },
     "metadata": {},
     "output_type": "display_data"
    },
    {
     "data": {
      "text/markdown": [
       "<span style=\"color:#33cc33\">Correct:</span> \n",
       "\n",
       "When you multiple an integer or float by a boolean with value `True`, it just returns that same integer or float (and is equivalent to multiplying by 1).  If you multiply an integer or float by a boolean with value `False`, it always returns 0.  This is true for both positive and negative numbers.  If you multiply a string by a boolean with value `True`, it just returns that same string.  And if you multiply a string by a boolean with value `False`, it returns an empty string (or a string with length zero)."
      ],
      "text/plain": [
       "Correct: \n",
       "\n",
       "When you multiple an integer or float by a boolean with value `True`, it just returns that same integer or float (and is equivalent to multiplying by 1).  If you multiply an integer or float by a boolean with value `False`, it always returns 0.  This is true for both positive and negative numbers.  If you multiply a string by a boolean with value `True`, it just returns that same string.  And if you multiply a string by a boolean with value `False`, it returns an empty string (or a string with length zero)."
      ]
     },
     "metadata": {},
     "output_type": "display_data"
    }
   ],
   "source": [
    "# Check your answer (Run this code cell to receive credit!)\n",
    "q2.check()"
   ]
  },
  {
   "cell_type": "markdown",
   "id": "ee06d5b1",
   "metadata": {
    "papermill": {
     "duration": 0.006853,
     "end_time": "2022-10-24T04:12:26.521983",
     "exception": false,
     "start_time": "2022-10-24T04:12:26.515130",
     "status": "completed"
    },
    "tags": []
   },
   "source": [
    "# Question 3\n",
    "\n",
    "In this question, you will build off your work from the previous exercise to write a function that estimates the value of a house.\n",
    "\n",
    "Use the next code cell to create a function `get_expected_cost` that takes as input three variables:\n",
    "- `beds` - number of bedrooms (data type float)\n",
    "- `baths` - number of bathrooms (data type float)\n",
    "- `has_basement` - whether or not the house has a basement (data type boolean)\n",
    "\n",
    "It should return the expected cost of a house with those characteristics. Assume that:\n",
    "- the expected cost for a house with 0 bedrooms and 0 bathrooms, and no basement is 80000, \n",
    "- each bedroom adds 30000 to the expected cost,\n",
    "- each bathroom adds 10000 to the expected cost, and\n",
    "- a basement adds 40000 to the expected cost.\n",
    "\n",
    "For instance,\n",
    "- a house with 1 bedroom, 1 bathroom, and no basement has an expected cost of 80000 + 30000 + 10000 = 120000.  This value will be calculated with `get_expected_cost(1, 1, False)`.\n",
    "- a house with 2 bedrooms, 1 bathroom, and a basement has an expected cost of 80000 + 2*30000 + 10000 + 40000 = 190000.  This value will be calculated with `get_expected_cost(2, 1, True)`.\n",
    "\n",
    "Remember you can always get a hint by uncommenting `q3.hint()` in the code cell following the next!"
   ]
  },
  {
   "cell_type": "code",
   "execution_count": 7,
   "id": "dc48babe",
   "metadata": {
    "execution": {
     "iopub.execute_input": "2022-10-24T04:12:26.537686Z",
     "iopub.status.busy": "2022-10-24T04:12:26.537284Z",
     "iopub.status.idle": "2022-10-24T04:12:26.546576Z",
     "shell.execute_reply": "2022-10-24T04:12:26.545797Z"
    },
    "papermill": {
     "duration": 0.019835,
     "end_time": "2022-10-24T04:12:26.548831",
     "exception": false,
     "start_time": "2022-10-24T04:12:26.528996",
     "status": "completed"
    },
    "tags": []
   },
   "outputs": [
    {
     "data": {
      "application/javascript": [
       "parent.postMessage({\"jupyterEvent\": \"custom.exercise_interaction\", \"data\": {\"outcomeType\": 1, \"valueTowardsCompletion\": 0.2, \"interactionType\": 1, \"questionType\": 2, \"questionId\": \"3_EstimateHouseValueBool\", \"learnToolsVersion\": \"0.3.4\", \"failureMessage\": \"\", \"exceptionClass\": \"\", \"trace\": \"\"}}, \"*\")"
      ],
      "text/plain": [
       "<IPython.core.display.Javascript object>"
      ]
     },
     "metadata": {},
     "output_type": "display_data"
    },
    {
     "data": {
      "text/markdown": [
       "<span style=\"color:#33cc33\">Correct</span>"
      ],
      "text/plain": [
       "Correct"
      ]
     },
     "metadata": {},
     "output_type": "display_data"
    }
   ],
   "source": [
    "# TODO: Complete the function\n",
    "def get_expected_cost(beds, baths, has_basement):\n",
    "    value = 80000 + 30000 * beds + 10000 * baths + 40000 * has_basement\n",
    "    return value\n",
    "\n",
    "# Check your answer \n",
    "q3.check()"
   ]
  },
  {
   "cell_type": "code",
   "execution_count": 8,
   "id": "a0730358",
   "metadata": {
    "execution": {
     "iopub.execute_input": "2022-10-24T04:12:26.566059Z",
     "iopub.status.busy": "2022-10-24T04:12:26.565374Z",
     "iopub.status.idle": "2022-10-24T04:12:26.571811Z",
     "shell.execute_reply": "2022-10-24T04:12:26.570648Z"
    },
    "papermill": {
     "duration": 0.017929,
     "end_time": "2022-10-24T04:12:26.574303",
     "exception": false,
     "start_time": "2022-10-24T04:12:26.556374",
     "status": "completed"
    },
    "tags": []
   },
   "outputs": [],
   "source": [
    "# Uncomment to see a hint\n",
    "#q3.hint()\n",
    "\n",
    "# Uncomment to view the solution\n",
    "#q3.solution()"
   ]
  },
  {
   "cell_type": "markdown",
   "id": "ed74c162",
   "metadata": {
    "papermill": {
     "duration": 0.007056,
     "end_time": "2022-10-24T04:12:26.588984",
     "exception": false,
     "start_time": "2022-10-24T04:12:26.581928",
     "status": "completed"
    },
    "tags": []
   },
   "source": [
    "# Question 4\n",
    "\n",
    "We'll continue our study of boolean arithmetic.  For this question, your task is to provide a description of what happpens when you add booleans. \n",
    "\n",
    "Use the next code cell for your investigation.  Feel free to add or remove any lines of code - use it as your workspace!"
   ]
  },
  {
   "cell_type": "code",
   "execution_count": 9,
   "id": "375fe903",
   "metadata": {
    "execution": {
     "iopub.execute_input": "2022-10-24T04:12:26.605866Z",
     "iopub.status.busy": "2022-10-24T04:12:26.605450Z",
     "iopub.status.idle": "2022-10-24T04:12:26.612205Z",
     "shell.execute_reply": "2022-10-24T04:12:26.610877Z"
    },
    "papermill": {
     "duration": 0.019395,
     "end_time": "2022-10-24T04:12:26.615883",
     "exception": false,
     "start_time": "2022-10-24T04:12:26.596488",
     "status": "completed"
    },
    "tags": []
   },
   "outputs": [
    {
     "name": "stdout",
     "output_type": "stream",
     "text": [
      "0\n",
      "1\n",
      "1\n",
      "2\n",
      "3\n"
     ]
    }
   ],
   "source": [
    "print(False + False)\n",
    "print(True + False)\n",
    "print(False + True)\n",
    "print(True + True)\n",
    "print(False + True + True + True)"
   ]
  },
  {
   "cell_type": "markdown",
   "id": "7182cdaf",
   "metadata": {
    "papermill": {
     "duration": 0.007836,
     "end_time": "2022-10-24T04:12:26.631705",
     "exception": false,
     "start_time": "2022-10-24T04:12:26.623869",
     "status": "completed"
    },
    "tags": []
   },
   "source": [
    "Once you have an answer, run the code cell below to see the solution.  Viewing the solution will give you credit for answering the problem."
   ]
  },
  {
   "cell_type": "code",
   "execution_count": 10,
   "id": "79a9d013",
   "metadata": {
    "execution": {
     "iopub.execute_input": "2022-10-24T04:12:26.648802Z",
     "iopub.status.busy": "2022-10-24T04:12:26.648375Z",
     "iopub.status.idle": "2022-10-24T04:12:26.658033Z",
     "shell.execute_reply": "2022-10-24T04:12:26.656765Z"
    },
    "papermill": {
     "duration": 0.021236,
     "end_time": "2022-10-24T04:12:26.660686",
     "exception": false,
     "start_time": "2022-10-24T04:12:26.639450",
     "status": "completed"
    },
    "tags": []
   },
   "outputs": [
    {
     "data": {
      "application/javascript": [
       "parent.postMessage({\"jupyterEvent\": \"custom.exercise_interaction\", \"data\": {\"outcomeType\": 1, \"valueTowardsCompletion\": 0.2, \"interactionType\": 1, \"questionType\": 4, \"questionId\": \"4_AddingBooleans\", \"learnToolsVersion\": \"0.3.4\", \"failureMessage\": \"\", \"exceptionClass\": \"\", \"trace\": \"\"}}, \"*\")"
      ],
      "text/plain": [
       "<IPython.core.display.Javascript object>"
      ]
     },
     "metadata": {},
     "output_type": "display_data"
    },
    {
     "data": {
      "text/markdown": [
       "<span style=\"color:#33cc33\">Correct:</span> \n",
       "\n",
       "When you add booleans, adding `False` is equivalent to adding 0, and adding `True` is equivalent to adding 1."
      ],
      "text/plain": [
       "Correct: \n",
       "\n",
       "When you add booleans, adding `False` is equivalent to adding 0, and adding `True` is equivalent to adding 1."
      ]
     },
     "metadata": {},
     "output_type": "display_data"
    }
   ],
   "source": [
    "# Check your answer (Run this code cell to receive credit!)\n",
    "q4.check()"
   ]
  },
  {
   "cell_type": "markdown",
   "id": "633d515a",
   "metadata": {
    "papermill": {
     "duration": 0.007664,
     "end_time": "2022-10-24T04:12:26.676367",
     "exception": false,
     "start_time": "2022-10-24T04:12:26.668703",
     "status": "completed"
    },
    "tags": []
   },
   "source": [
    "# 🌶️ Question 5\n",
    "\n",
    "You own an online shop where you sell rings with custom engravings.  You offer both gold plated and solid gold rings.\n",
    "- Gold plated rings have a base cost of \\\\$50, and you charge \\\\$7 per engraved unit.  \n",
    "- Solid gold rings have a base cost of \\\\$100, and you charge \\\\$10 per engraved unit.\n",
    "- Spaces and punctuation are counted as engraved units.\n",
    "\n",
    "Write a function `cost_of_project()` that takes two arguments:\n",
    "- `engraving` - a Python string with the text of the engraving\n",
    "- `solid_gold` - a Boolean that indicates whether the ring is solid gold\n",
    "\n",
    "It should return the cost of the project.  This question should be fairly challenging, and you may need a hint."
   ]
  },
  {
   "cell_type": "code",
   "execution_count": 11,
   "id": "2ebc1ac7",
   "metadata": {
    "execution": {
     "iopub.execute_input": "2022-10-24T04:12:26.693874Z",
     "iopub.status.busy": "2022-10-24T04:12:26.693441Z",
     "iopub.status.idle": "2022-10-24T04:12:26.703766Z",
     "shell.execute_reply": "2022-10-24T04:12:26.702517Z"
    },
    "papermill": {
     "duration": 0.021852,
     "end_time": "2022-10-24T04:12:26.706007",
     "exception": false,
     "start_time": "2022-10-24T04:12:26.684155",
     "status": "completed"
    },
    "tags": []
   },
   "outputs": [
    {
     "data": {
      "application/javascript": [
       "parent.postMessage({\"jupyterEvent\": \"custom.exercise_interaction\", \"data\": {\"outcomeType\": 2, \"failureMessage\": \"Expected return value of `240` given `engraving='Charlie+Denver'`, `solid_gold=True`, but got `100` instead.\", \"interactionType\": 1, \"questionType\": 2, \"questionId\": \"5_CustomEngravings\", \"learnToolsVersion\": \"0.3.4\", \"valueTowardsCompletion\": 0.0, \"exceptionClass\": \"\", \"trace\": \"\"}}, \"*\")"
      ],
      "text/plain": [
       "<IPython.core.display.Javascript object>"
      ]
     },
     "metadata": {},
     "output_type": "display_data"
    },
    {
     "data": {
      "text/markdown": [
       "<span style=\"color:#cc3333\">Incorrect:</span> Expected return value of `240` given `engraving='Charlie+Denver'`, `solid_gold=True`, but got `100` instead."
      ],
      "text/plain": [
       "Incorrect: Expected return value of `240` given `engraving='Charlie+Denver'`, `solid_gold=True`, but got `100` instead."
      ]
     },
     "metadata": {},
     "output_type": "display_data"
    }
   ],
   "source": [
    "def cost_of_project(engraving, solid_gold):\n",
    "    cost = 50 + (50 * solid_gold) + (7 + 3 * solid_gold) * (engraving.count(\" \") + engraving.count(\".\"))\n",
    "    return cost\n",
    "\n",
    "# Check your answer\n",
    "q5.check()"
   ]
  },
  {
   "cell_type": "code",
   "execution_count": 12,
   "id": "0b278bd7",
   "metadata": {
    "execution": {
     "iopub.execute_input": "2022-10-24T04:12:26.724161Z",
     "iopub.status.busy": "2022-10-24T04:12:26.723730Z",
     "iopub.status.idle": "2022-10-24T04:12:26.727971Z",
     "shell.execute_reply": "2022-10-24T04:12:26.726752Z"
    },
    "papermill": {
     "duration": 0.016063,
     "end_time": "2022-10-24T04:12:26.730181",
     "exception": false,
     "start_time": "2022-10-24T04:12:26.714118",
     "status": "completed"
    },
    "tags": []
   },
   "outputs": [],
   "source": [
    "# Uncomment to see a hint\n",
    "#q5.hint()\n",
    "\n",
    "# Uncomment to view the solution\n",
    "#q5.solution()"
   ]
  },
  {
   "cell_type": "markdown",
   "id": "d7617a4f",
   "metadata": {
    "papermill": {
     "duration": 0.007688,
     "end_time": "2022-10-24T04:12:26.745855",
     "exception": false,
     "start_time": "2022-10-24T04:12:26.738167",
     "status": "completed"
    },
    "tags": []
   },
   "source": [
    "Run the next code cell to calculate the cost of engraving `Charlie+Denver` on a solid gold ring."
   ]
  },
  {
   "cell_type": "code",
   "execution_count": 13,
   "id": "4ed5eb52",
   "metadata": {
    "execution": {
     "iopub.execute_input": "2022-10-24T04:12:26.763705Z",
     "iopub.status.busy": "2022-10-24T04:12:26.763330Z",
     "iopub.status.idle": "2022-10-24T04:12:26.770412Z",
     "shell.execute_reply": "2022-10-24T04:12:26.768406Z"
    },
    "papermill": {
     "duration": 0.019166,
     "end_time": "2022-10-24T04:12:26.772881",
     "exception": false,
     "start_time": "2022-10-24T04:12:26.753715",
     "status": "completed"
    },
    "tags": []
   },
   "outputs": [
    {
     "name": "stdout",
     "output_type": "stream",
     "text": [
      "100\n"
     ]
    }
   ],
   "source": [
    "project_one = cost_of_project(\"Charlie+Denver\", True)\n",
    "print(project_one)"
   ]
  },
  {
   "cell_type": "markdown",
   "id": "68938abe",
   "metadata": {
    "papermill": {
     "duration": 0.008123,
     "end_time": "2022-10-24T04:12:26.789257",
     "exception": false,
     "start_time": "2022-10-24T04:12:26.781134",
     "status": "completed"
    },
    "tags": []
   },
   "source": [
    "Use the next code cell to calculate the cost of engraving `08/10/2000` on a gold plated ring."
   ]
  },
  {
   "cell_type": "code",
   "execution_count": 14,
   "id": "debd3d48",
   "metadata": {
    "execution": {
     "iopub.execute_input": "2022-10-24T04:12:26.807344Z",
     "iopub.status.busy": "2022-10-24T04:12:26.806913Z",
     "iopub.status.idle": "2022-10-24T04:12:26.812111Z",
     "shell.execute_reply": "2022-10-24T04:12:26.811083Z"
    },
    "papermill": {
     "duration": 0.017386,
     "end_time": "2022-10-24T04:12:26.814672",
     "exception": false,
     "start_time": "2022-10-24T04:12:26.797286",
     "status": "completed"
    },
    "tags": []
   },
   "outputs": [
    {
     "name": "stdout",
     "output_type": "stream",
     "text": [
      "50\n"
     ]
    }
   ],
   "source": [
    "project_two = cost_of_project(\"08/10/2000\", False)\n",
    "print(project_two)"
   ]
  },
  {
   "cell_type": "markdown",
   "id": "ad279e79",
   "metadata": {
    "papermill": {
     "duration": 0.007722,
     "end_time": "2022-10-24T04:12:26.830708",
     "exception": false,
     "start_time": "2022-10-24T04:12:26.822986",
     "status": "completed"
    },
    "tags": []
   },
   "source": [
    "# Keep going\n",
    "\n",
    "Continue to the next lesson to **[learn about conditions and conditional statements](https://www.kaggle.com/alexisbcook/conditions-and-conditional-statements)**."
   ]
  },
  {
   "cell_type": "markdown",
   "id": "f38f6ed6",
   "metadata": {
    "papermill": {
     "duration": 0.007731,
     "end_time": "2022-10-24T04:12:26.846649",
     "exception": false,
     "start_time": "2022-10-24T04:12:26.838918",
     "status": "completed"
    },
    "tags": []
   },
   "source": [
    "---\n",
    "\n",
    "\n",
    "\n",
    "\n",
    "*Have questions or comments? Visit the [course discussion forum](https://www.kaggle.com/learn/intro-to-programming/discussion) to chat with other learners.*"
   ]
  }
 ],
 "metadata": {
  "kernelspec": {
   "display_name": "Python 3",
   "language": "python",
   "name": "python3"
  },
  "language_info": {
   "codemirror_mode": {
    "name": "ipython",
    "version": 3
   },
   "file_extension": ".py",
   "mimetype": "text/x-python",
   "name": "python",
   "nbconvert_exporter": "python",
   "pygments_lexer": "ipython3",
   "version": "3.7.12"
  },
  "papermill": {
   "default_parameters": {},
   "duration": 13.301328,
   "end_time": "2022-10-24T04:12:30.243834",
   "environment_variables": {},
   "exception": null,
   "input_path": "__notebook__.ipynb",
   "output_path": "__notebook__.ipynb",
   "parameters": {},
   "start_time": "2022-10-24T04:12:16.942506",
   "version": "2.3.4"
  }
 },
 "nbformat": 4,
 "nbformat_minor": 5
}
