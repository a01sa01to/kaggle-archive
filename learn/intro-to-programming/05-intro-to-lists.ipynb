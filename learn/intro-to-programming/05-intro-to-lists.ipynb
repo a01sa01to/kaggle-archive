{
 "cells": [
  {
   "cell_type": "markdown",
   "id": "86b1bf66",
   "metadata": {
    "papermill": {
     "duration": 0.00951,
     "end_time": "2022-10-24T04:15:58.809289",
     "exception": false,
     "start_time": "2022-10-24T04:15:58.799779",
     "status": "completed"
    },
    "tags": []
   },
   "source": [
    "**This notebook is an exercise in the [Intro to Programming](https://www.kaggle.com/learn/intro-to-programming) course.  You can reference the tutorial at [this link](https://www.kaggle.com/alexisbcook/intro-to-lists).**\n",
    "\n",
    "---\n"
   ]
  },
  {
   "cell_type": "markdown",
   "id": "603540f5",
   "metadata": {
    "papermill": {
     "duration": 0.007527,
     "end_time": "2022-10-24T04:15:58.824084",
     "exception": false,
     "start_time": "2022-10-24T04:15:58.816557",
     "status": "completed"
    },
    "tags": []
   },
   "source": [
    "In the tutorial, you learned how to define and modify Python lists.  In this exercise, you will use your new knowledge to solve several problems.\n",
    "\n",
    "# Set up the notebook\n",
    "\n",
    "Run the next code cell without changes to set up the notebook."
   ]
  },
  {
   "cell_type": "code",
   "execution_count": 1,
   "id": "698e4eeb",
   "metadata": {
    "execution": {
     "iopub.execute_input": "2022-10-24T04:15:58.840254Z",
     "iopub.status.busy": "2022-10-24T04:15:58.839506Z",
     "iopub.status.idle": "2022-10-24T04:15:58.904347Z",
     "shell.execute_reply": "2022-10-24T04:15:58.903048Z"
    },
    "papermill": {
     "duration": 0.076755,
     "end_time": "2022-10-24T04:15:58.907682",
     "exception": false,
     "start_time": "2022-10-24T04:15:58.830927",
     "status": "completed"
    },
    "tags": []
   },
   "outputs": [
    {
     "name": "stdout",
     "output_type": "stream",
     "text": [
      "Setup complete.\n"
     ]
    }
   ],
   "source": [
    "from learntools.core import binder\n",
    "binder.bind(globals())\n",
    "from learntools.intro_to_programming.ex5 import *\n",
    "print('Setup complete.')"
   ]
  },
  {
   "cell_type": "markdown",
   "id": "6903b4f1",
   "metadata": {
    "papermill": {
     "duration": 0.007042,
     "end_time": "2022-10-24T04:15:58.921686",
     "exception": false,
     "start_time": "2022-10-24T04:15:58.914644",
     "status": "completed"
    },
    "tags": []
   },
   "source": [
    "# Question 1\n",
    "\n",
    "You own a restaurant with five food dishes, organized in the Python list `menu` below.  One day, you decide to:\n",
    "- remove bean soup (`'bean soup'`) from the menu, and\n",
    "- add roasted beet salad (`'roasted beet salad'`) to the menu.\n",
    "\n",
    "Implement this change to the list below.  While completing this task, \n",
    "- do not change the line that creates the `menu` list.  \n",
    "- your answer should use `.remove()` and `.append()`.  "
   ]
  },
  {
   "cell_type": "code",
   "execution_count": 2,
   "id": "9ef3cd2a",
   "metadata": {
    "execution": {
     "iopub.execute_input": "2022-10-24T04:15:58.937276Z",
     "iopub.status.busy": "2022-10-24T04:15:58.936827Z",
     "iopub.status.idle": "2022-10-24T04:15:58.948282Z",
     "shell.execute_reply": "2022-10-24T04:15:58.947323Z"
    },
    "papermill": {
     "duration": 0.021992,
     "end_time": "2022-10-24T04:15:58.950396",
     "exception": false,
     "start_time": "2022-10-24T04:15:58.928404",
     "status": "completed"
    },
    "tags": []
   },
   "outputs": [
    {
     "data": {
      "application/javascript": [
       "parent.postMessage({\"jupyterEvent\": \"custom.exercise_interaction\", \"data\": {\"outcomeType\": 1, \"valueTowardsCompletion\": 0.2, \"interactionType\": 1, \"questionType\": 2, \"questionId\": \"1_FoodMenu\", \"learnToolsVersion\": \"0.3.4\", \"failureMessage\": \"\", \"exceptionClass\": \"\", \"trace\": \"\"}}, \"*\")"
      ],
      "text/plain": [
       "<IPython.core.display.Javascript object>"
      ]
     },
     "metadata": {},
     "output_type": "display_data"
    },
    {
     "data": {
      "text/markdown": [
       "<span style=\"color:#33cc33\">Correct</span>"
      ],
      "text/plain": [
       "Correct"
      ]
     },
     "metadata": {},
     "output_type": "display_data"
    }
   ],
   "source": [
    "# Do not change: Initial menu for your restaurant\n",
    "menu = ['stewed meat with onions', 'bean soup', 'risotto with trout and shrimp',\n",
    "       'fish soup with cream and onion', 'gyro']\n",
    "\n",
    "# TODO: remove 'bean soup', and add 'roasted beet salad' to the end of the menu\n",
    "menu.remove(\"bean soup\")\n",
    "menu.append(\"roasted beet salad\")\n",
    "\n",
    "# Do not change: Check your answer\n",
    "q1.check()"
   ]
  },
  {
   "cell_type": "code",
   "execution_count": 3,
   "id": "2175fe40",
   "metadata": {
    "execution": {
     "iopub.execute_input": "2022-10-24T04:15:58.966806Z",
     "iopub.status.busy": "2022-10-24T04:15:58.966115Z",
     "iopub.status.idle": "2022-10-24T04:15:58.970616Z",
     "shell.execute_reply": "2022-10-24T04:15:58.969549Z"
    },
    "papermill": {
     "duration": 0.015944,
     "end_time": "2022-10-24T04:15:58.973233",
     "exception": false,
     "start_time": "2022-10-24T04:15:58.957289",
     "status": "completed"
    },
    "tags": []
   },
   "outputs": [],
   "source": [
    "# Uncomment to see a hint\n",
    "#q1.hint()\n",
    "\n",
    "# Uncomment to see the solution\n",
    "#q1.solution()"
   ]
  },
  {
   "cell_type": "markdown",
   "id": "be8135f0",
   "metadata": {
    "papermill": {
     "duration": 0.006384,
     "end_time": "2022-10-24T04:15:58.986358",
     "exception": false,
     "start_time": "2022-10-24T04:15:58.979974",
     "status": "completed"
    },
    "tags": []
   },
   "source": [
    "# Question 2\n",
    "\n",
    "The list `num_customers` contains the number of customers who came into your restaurant every day over the last month (which lasted thirty days).  Fill in values for each of the following:\n",
    "- `avg_first_seven` - average number of customers who visited in the first seven days\n",
    "- `avg_last_seven` - average number of customers who visited in the last seven days\n",
    "- `max_month` - number of customers on the day that got the most customers in the last month\n",
    "- `min_month` - number of customers on the day that got the least customers in the last month\n",
    "\n",
    "Answer this question by writing code.  For instance, if you have to find the minimum value in a list, use `min()` instead of scanning for the smallest value and directly filling in a number."
   ]
  },
  {
   "cell_type": "code",
   "execution_count": 4,
   "id": "c46a2063",
   "metadata": {
    "execution": {
     "iopub.execute_input": "2022-10-24T04:15:59.003579Z",
     "iopub.status.busy": "2022-10-24T04:15:59.002899Z",
     "iopub.status.idle": "2022-10-24T04:15:59.014088Z",
     "shell.execute_reply": "2022-10-24T04:15:59.013037Z"
    },
    "papermill": {
     "duration": 0.023298,
     "end_time": "2022-10-24T04:15:59.016295",
     "exception": false,
     "start_time": "2022-10-24T04:15:58.992997",
     "status": "completed"
    },
    "tags": []
   },
   "outputs": [
    {
     "data": {
      "application/javascript": [
       "parent.postMessage({\"jupyterEvent\": \"custom.exercise_interaction\", \"data\": {\"outcomeType\": 1, \"valueTowardsCompletion\": 0.2, \"interactionType\": 1, \"questionType\": 1, \"questionId\": \"2_NumCustomers\", \"learnToolsVersion\": \"0.3.4\", \"failureMessage\": \"\", \"exceptionClass\": \"\", \"trace\": \"\"}}, \"*\")"
      ],
      "text/plain": [
       "<IPython.core.display.Javascript object>"
      ]
     },
     "metadata": {},
     "output_type": "display_data"
    },
    {
     "data": {
      "text/markdown": [
       "<span style=\"color:#33cc33\">Correct</span>"
      ],
      "text/plain": [
       "Correct"
      ]
     },
     "metadata": {},
     "output_type": "display_data"
    }
   ],
   "source": [
    "# Do not change: Number of customers each day for the last month\n",
    "num_customers = [137, 147, 135, 128, 170, 174, 165, 146, 126, 159,\n",
    "                 141, 148, 132, 147, 168, 153, 170, 161, 148, 152,\n",
    "                 141, 151, 131, 149, 164, 163, 143, 143, 166, 171]\n",
    "\n",
    "# TODO: Fill in values for the variables below\n",
    "avg_first_seven = sum(num_customers[:7]) / 7\n",
    "avg_last_seven = sum(num_customers[-7:]) / 7\n",
    "max_month = max(num_customers)\n",
    "min_month = min(num_customers)\n",
    "\n",
    "# Do not change: Check your answer\n",
    "q2.check()"
   ]
  },
  {
   "cell_type": "code",
   "execution_count": 5,
   "id": "7a6f57ce",
   "metadata": {
    "execution": {
     "iopub.execute_input": "2022-10-24T04:15:59.032476Z",
     "iopub.status.busy": "2022-10-24T04:15:59.031760Z",
     "iopub.status.idle": "2022-10-24T04:15:59.036269Z",
     "shell.execute_reply": "2022-10-24T04:15:59.035456Z"
    },
    "papermill": {
     "duration": 0.015308,
     "end_time": "2022-10-24T04:15:59.038471",
     "exception": false,
     "start_time": "2022-10-24T04:15:59.023163",
     "status": "completed"
    },
    "tags": []
   },
   "outputs": [],
   "source": [
    "# Uncomment to see a hint\n",
    "#q2.hint()\n",
    "\n",
    "# Uncomment to see the solution\n",
    "#q2.solution()"
   ]
  },
  {
   "cell_type": "markdown",
   "id": "7fce45ca",
   "metadata": {
    "papermill": {
     "duration": 0.00662,
     "end_time": "2022-10-24T04:15:59.051987",
     "exception": false,
     "start_time": "2022-10-24T04:15:59.045367",
     "status": "completed"
    },
    "tags": []
   },
   "source": [
    "# Question 3\n",
    "\n",
    "In the tutorial, we gave an example of a Python string with information that was better as a list."
   ]
  },
  {
   "cell_type": "code",
   "execution_count": 6,
   "id": "f98bda0d",
   "metadata": {
    "execution": {
     "iopub.execute_input": "2022-10-24T04:15:59.069116Z",
     "iopub.status.busy": "2022-10-24T04:15:59.068435Z",
     "iopub.status.idle": "2022-10-24T04:15:59.073858Z",
     "shell.execute_reply": "2022-10-24T04:15:59.072836Z"
    },
    "papermill": {
     "duration": 0.016774,
     "end_time": "2022-10-24T04:15:59.076457",
     "exception": false,
     "start_time": "2022-10-24T04:15:59.059683",
     "status": "completed"
    },
    "tags": []
   },
   "outputs": [],
   "source": [
    "flowers = \"pink primrose,hard-leaved pocket orchid,canterbury bells,sweet pea,english marigold,tiger lily,moon orchid,bird of paradise,monkshood,globe thistle\""
   ]
  },
  {
   "cell_type": "markdown",
   "id": "e26721e2",
   "metadata": {
    "papermill": {
     "duration": 0.006646,
     "end_time": "2022-10-24T04:15:59.090125",
     "exception": false,
     "start_time": "2022-10-24T04:15:59.083479",
     "status": "completed"
    },
    "tags": []
   },
   "source": [
    "You can actually use Python to quickly turn this string into a list with `.split()`.  In the parentheses, we need to provide the character should be used to mark the end of one list item and the beginning of another, and enclose it in quotation marks.  In this case, that character is a comma."
   ]
  },
  {
   "cell_type": "code",
   "execution_count": 7,
   "id": "055f9731",
   "metadata": {
    "execution": {
     "iopub.execute_input": "2022-10-24T04:15:59.106357Z",
     "iopub.status.busy": "2022-10-24T04:15:59.105668Z",
     "iopub.status.idle": "2022-10-24T04:15:59.112793Z",
     "shell.execute_reply": "2022-10-24T04:15:59.110940Z"
    },
    "papermill": {
     "duration": 0.017983,
     "end_time": "2022-10-24T04:15:59.115057",
     "exception": false,
     "start_time": "2022-10-24T04:15:59.097074",
     "status": "completed"
    },
    "tags": []
   },
   "outputs": [
    {
     "name": "stdout",
     "output_type": "stream",
     "text": [
      "['pink primrose', 'hard-leaved pocket orchid', 'canterbury bells', 'sweet pea', 'english marigold', 'tiger lily', 'moon orchid', 'bird of paradise', 'monkshood', 'globe thistle']\n"
     ]
    }
   ],
   "source": [
    " print(flowers.split(\",\"))"
   ]
  },
  {
   "cell_type": "markdown",
   "id": "9c327376",
   "metadata": {
    "papermill": {
     "duration": 0.007541,
     "end_time": "2022-10-24T04:15:59.130182",
     "exception": false,
     "start_time": "2022-10-24T04:15:59.122641",
     "status": "completed"
    },
    "tags": []
   },
   "source": [
    "Now it is your turn to try this out!  Create two Python lists:\n",
    "- `letters` should be a Python list where each entry is an uppercase letter of the English alphabet.  For instance, the first two entries should be `\"A\"` and `\"B\"`, and the final two entries should be `\"Y\"` and `\"Z\"`.  Use the string `alphabet` to create this list.\n",
    "- `address` should be a Python list where each row in `address` is a different item in the list.  Currently, each row in `address` is separated by a comma. "
   ]
  },
  {
   "cell_type": "code",
   "execution_count": 8,
   "id": "b85ffd0e",
   "metadata": {
    "execution": {
     "iopub.execute_input": "2022-10-24T04:15:59.146990Z",
     "iopub.status.busy": "2022-10-24T04:15:59.145934Z",
     "iopub.status.idle": "2022-10-24T04:15:59.155118Z",
     "shell.execute_reply": "2022-10-24T04:15:59.153844Z"
    },
    "papermill": {
     "duration": 0.020936,
     "end_time": "2022-10-24T04:15:59.158554",
     "exception": false,
     "start_time": "2022-10-24T04:15:59.137618",
     "status": "completed"
    },
    "tags": []
   },
   "outputs": [
    {
     "data": {
      "application/javascript": [
       "parent.postMessage({\"jupyterEvent\": \"custom.exercise_interaction\", \"data\": {\"outcomeType\": 1, \"valueTowardsCompletion\": 0.2, \"interactionType\": 1, \"questionType\": 1, \"questionId\": \"3_SplitString\", \"learnToolsVersion\": \"0.3.4\", \"failureMessage\": \"\", \"exceptionClass\": \"\", \"trace\": \"\"}}, \"*\")"
      ],
      "text/plain": [
       "<IPython.core.display.Javascript object>"
      ]
     },
     "metadata": {},
     "output_type": "display_data"
    },
    {
     "data": {
      "text/markdown": [
       "<span style=\"color:#33cc33\">Correct</span>"
      ],
      "text/plain": [
       "Correct"
      ]
     },
     "metadata": {},
     "output_type": "display_data"
    }
   ],
   "source": [
    "# DO not change: Define two Python strings\n",
    "alphabet = \"A.B.C.D.E.F.G.H.I.J.K.L.M.N.O.P.Q.R.S.T.U.V.W.X.Y.Z\"\n",
    "address = \"Mr. H. Potter,The cupboard under the Stairs,4 Privet Drive,Little Whinging,Surrey\"\n",
    "\n",
    "# TODO: Convert strings into Python lists\n",
    "letters = alphabet.split(\".\")\n",
    "formatted_address = address.split(\",\")\n",
    "\n",
    "# Do not change: Check your answer\n",
    "q3.check()"
   ]
  },
  {
   "cell_type": "code",
   "execution_count": 9,
   "id": "59441a27",
   "metadata": {
    "execution": {
     "iopub.execute_input": "2022-10-24T04:15:59.175413Z",
     "iopub.status.busy": "2022-10-24T04:15:59.174609Z",
     "iopub.status.idle": "2022-10-24T04:15:59.179820Z",
     "shell.execute_reply": "2022-10-24T04:15:59.178833Z"
    },
    "papermill": {
     "duration": 0.016393,
     "end_time": "2022-10-24T04:15:59.182279",
     "exception": false,
     "start_time": "2022-10-24T04:15:59.165886",
     "status": "completed"
    },
    "tags": []
   },
   "outputs": [],
   "source": [
    "# Uncomment to see a hint\n",
    "#q3.hint()\n",
    "\n",
    "# Uncomment to see the solution\n",
    "#q3.solution()"
   ]
  },
  {
   "cell_type": "markdown",
   "id": "7c606ecb",
   "metadata": {
    "papermill": {
     "duration": 0.006853,
     "end_time": "2022-10-24T04:15:59.196348",
     "exception": false,
     "start_time": "2022-10-24T04:15:59.189495",
     "status": "completed"
    },
    "tags": []
   },
   "source": [
    "# Question 4\n",
    "\n",
    "In the Python course, you'll learn all about **list comprehensions**, which allow you to create a list based on the values in another list.  In this question, you'll get a brief preview of how they work.\n",
    "\n",
    "Say we're working with the list below."
   ]
  },
  {
   "cell_type": "code",
   "execution_count": 10,
   "id": "51a88c79",
   "metadata": {
    "execution": {
     "iopub.execute_input": "2022-10-24T04:15:59.212778Z",
     "iopub.status.busy": "2022-10-24T04:15:59.211950Z",
     "iopub.status.idle": "2022-10-24T04:15:59.216980Z",
     "shell.execute_reply": "2022-10-24T04:15:59.216163Z"
    },
    "papermill": {
     "duration": 0.015871,
     "end_time": "2022-10-24T04:15:59.219334",
     "exception": false,
     "start_time": "2022-10-24T04:15:59.203463",
     "status": "completed"
    },
    "tags": []
   },
   "outputs": [],
   "source": [
    "test_ratings = [1, 2, 3, 4, 5]"
   ]
  },
  {
   "cell_type": "markdown",
   "id": "fd387369",
   "metadata": {
    "papermill": {
     "duration": 0.007035,
     "end_time": "2022-10-24T04:15:59.233642",
     "exception": false,
     "start_time": "2022-10-24T04:15:59.226607",
     "status": "completed"
    },
    "tags": []
   },
   "source": [
    "Then we can use this list (`test_ratings`) to create a new list (`test_liked`) where each item has been turned into a boolean, depending on whether or not the item is greater than or equal to four."
   ]
  },
  {
   "cell_type": "code",
   "execution_count": 11,
   "id": "8492def9",
   "metadata": {
    "execution": {
     "iopub.execute_input": "2022-10-24T04:15:59.250346Z",
     "iopub.status.busy": "2022-10-24T04:15:59.249914Z",
     "iopub.status.idle": "2022-10-24T04:15:59.256866Z",
     "shell.execute_reply": "2022-10-24T04:15:59.255390Z"
    },
    "papermill": {
     "duration": 0.019282,
     "end_time": "2022-10-24T04:15:59.260060",
     "exception": false,
     "start_time": "2022-10-24T04:15:59.240778",
     "status": "completed"
    },
    "tags": []
   },
   "outputs": [
    {
     "name": "stdout",
     "output_type": "stream",
     "text": [
      "[False, False, False, True, True]\n"
     ]
    }
   ],
   "source": [
    "test_liked = [i>=4 for i in test_ratings]\n",
    "print(test_liked)"
   ]
  },
  {
   "cell_type": "markdown",
   "id": "34e74d06",
   "metadata": {
    "papermill": {
     "duration": 0.007093,
     "end_time": "2022-10-24T04:15:59.274955",
     "exception": false,
     "start_time": "2022-10-24T04:15:59.267862",
     "status": "completed"
    },
    "tags": []
   },
   "source": [
    "In this question, you'll use this list comprehension to define a function `percentage_liked()` that takes one argument as input:\n",
    "- `ratings`: list of ratings that people gave to a movie, where each rating is a number between 1-5, inclusive\n",
    "\n",
    "We say someone liked the movie, if they gave a rating of either 4 or 5.  Your function should return the percentage of people who liked the movie.\n",
    "\n",
    "For instance, if we supply a value of `[1, 2, 3, 4, 5, 4, 5, 1]`, then 50% (4/8) of the people liked the movie, and the function should return `0.5`.\n",
    "\n",
    "Part of the function has already been completed for you.  You need only use `list_liked` to calculate `percentage_liked`."
   ]
  },
  {
   "cell_type": "code",
   "execution_count": 12,
   "id": "cc451e36",
   "metadata": {
    "execution": {
     "iopub.execute_input": "2022-10-24T04:15:59.291180Z",
     "iopub.status.busy": "2022-10-24T04:15:59.290759Z",
     "iopub.status.idle": "2022-10-24T04:15:59.301303Z",
     "shell.execute_reply": "2022-10-24T04:15:59.300183Z"
    },
    "papermill": {
     "duration": 0.021388,
     "end_time": "2022-10-24T04:15:59.303630",
     "exception": false,
     "start_time": "2022-10-24T04:15:59.282242",
     "status": "completed"
    },
    "tags": []
   },
   "outputs": [
    {
     "data": {
      "application/javascript": [
       "parent.postMessage({\"jupyterEvent\": \"custom.exercise_interaction\", \"data\": {\"outcomeType\": 1, \"valueTowardsCompletion\": 0.2, \"interactionType\": 1, \"questionType\": 2, \"questionId\": \"4_PercentageLiked\", \"learnToolsVersion\": \"0.3.4\", \"failureMessage\": \"\", \"exceptionClass\": \"\", \"trace\": \"\"}}, \"*\")"
      ],
      "text/plain": [
       "<IPython.core.display.Javascript object>"
      ]
     },
     "metadata": {},
     "output_type": "display_data"
    },
    {
     "data": {
      "text/markdown": [
       "<span style=\"color:#33cc33\">Correct</span>"
      ],
      "text/plain": [
       "Correct"
      ]
     },
     "metadata": {},
     "output_type": "display_data"
    }
   ],
   "source": [
    "\n",
    "def percentage_liked(ratings):\n",
    "    list_liked = [i>=4 for i in ratings]\n",
    "    # TODO: Complete the function\n",
    "    percentage_liked = sum(list_liked) / len(list_liked)\n",
    "    return percentage_liked\n",
    "\n",
    "# Do not change: should return 0.5\n",
    "percentage_liked([1, 2, 3, 4, 5, 4, 5, 1])\n",
    "\n",
    "# Do not change: Check your answer\n",
    "q4.check()"
   ]
  },
  {
   "cell_type": "code",
   "execution_count": 13,
   "id": "3a8b877c",
   "metadata": {
    "execution": {
     "iopub.execute_input": "2022-10-24T04:15:59.321646Z",
     "iopub.status.busy": "2022-10-24T04:15:59.320833Z",
     "iopub.status.idle": "2022-10-24T04:15:59.325802Z",
     "shell.execute_reply": "2022-10-24T04:15:59.324870Z"
    },
    "papermill": {
     "duration": 0.017059,
     "end_time": "2022-10-24T04:15:59.328267",
     "exception": false,
     "start_time": "2022-10-24T04:15:59.311208",
     "status": "completed"
    },
    "tags": []
   },
   "outputs": [],
   "source": [
    "# Uncomment to see a hint\n",
    "#q4.hint()\n",
    "\n",
    "# Uncomment to see the solution\n",
    "#q4.solution()"
   ]
  },
  {
   "cell_type": "markdown",
   "id": "ce4dfb3b",
   "metadata": {
    "papermill": {
     "duration": 0.007299,
     "end_time": "2022-10-24T04:15:59.343140",
     "exception": false,
     "start_time": "2022-10-24T04:15:59.335841",
     "status": "completed"
    },
    "tags": []
   },
   "source": [
    "# 🌶️ Question 5\n",
    " \n",
    "Say you're doing analytics for a website.  You need to write a function that returns the percentage growth in the total number of users relative to a specified number of years ago.\n",
    "\n",
    "Your function `percentage_growth()` should take two arguments as input:\n",
    "- `num_users` = Python list with the total number of users each year.  So `num_users[0]` is the total number of users in the first year, `num_users[1]` is the total number of users in the second year, and so on.  The final entry in the list gives the total number of users in the most recently completed year.\n",
    "- `yrs_ago` = number of years to go back in time when calculating the growth percentage\n",
    "\n",
    "For instance, say `num_users = [920344, 1043553, 1204334, 1458996, 1503323, 1593432, 1623463, 1843064, 1930992, 2001078]`.\n",
    "- if `yrs_ago = 1`, we want the function to return a value of about `0.036`. This corresponds to a percentage growth of approximately 3.6%, calculated as (2001078 - 1930992)/1930992.\n",
    "- if `years_ago = 7`, we would want to return approximately `0.66`.  This corresponds to a percentage growth of approximately 66%, calculated as (2001078 - 1204334)/1204334.\n",
    "\n",
    "Your coworker sent you a draft of a function, but it doesn't seem to be doing the correct calculation.  Can you figure out what has gone wrong and make the needed changes?"
   ]
  },
  {
   "cell_type": "code",
   "execution_count": 14,
   "id": "49062707",
   "metadata": {
    "execution": {
     "iopub.execute_input": "2022-10-24T04:15:59.360512Z",
     "iopub.status.busy": "2022-10-24T04:15:59.359822Z",
     "iopub.status.idle": "2022-10-24T04:15:59.373599Z",
     "shell.execute_reply": "2022-10-24T04:15:59.371972Z"
    },
    "papermill": {
     "duration": 0.025489,
     "end_time": "2022-10-24T04:15:59.376180",
     "exception": false,
     "start_time": "2022-10-24T04:15:59.350691",
     "status": "completed"
    },
    "tags": []
   },
   "outputs": [
    {
     "name": "stdout",
     "output_type": "stream",
     "text": [
      "0.03629533421163837\n",
      "0.6615639847417742\n"
     ]
    },
    {
     "data": {
      "application/javascript": [
       "parent.postMessage({\"jupyterEvent\": \"custom.exercise_interaction\", \"data\": {\"outcomeType\": 1, \"valueTowardsCompletion\": 0.2, \"interactionType\": 1, \"questionType\": 2, \"questionId\": \"5_WebsiteAnalytics\", \"learnToolsVersion\": \"0.3.4\", \"failureMessage\": \"\", \"exceptionClass\": \"\", \"trace\": \"\"}}, \"*\")"
      ],
      "text/plain": [
       "<IPython.core.display.Javascript object>"
      ]
     },
     "metadata": {},
     "output_type": "display_data"
    },
    {
     "data": {
      "text/markdown": [
       "<span style=\"color:#33cc33\">Correct</span>"
      ],
      "text/plain": [
       "Correct"
      ]
     },
     "metadata": {},
     "output_type": "display_data"
    }
   ],
   "source": [
    "# TODO: Edit the function\n",
    "def percentage_growth(num_users, yrs_ago):\n",
    "    growth = (num_users[len(num_users)-1] - num_users[len(num_users)-yrs_ago-1])/num_users[len(num_users)-yrs_ago-1]\n",
    "    return growth\n",
    "\n",
    "# Do not change: Variable for calculating some test examples\n",
    "num_users_test = [920344, 1043553, 1204334, 1458996, 1503323, 1593432, 1623463, 1843064, 1930992, 2001078]\n",
    "\n",
    "# Do not change: Should return .036\n",
    "print(percentage_growth(num_users_test, 1))\n",
    "\n",
    "# Do not change: Should return 0.66\n",
    "print(percentage_growth(num_users_test, 7))\n",
    "\n",
    "# Do not change: Check your answer\n",
    "q5.check()"
   ]
  },
  {
   "cell_type": "code",
   "execution_count": 15,
   "id": "0fe5c9d8",
   "metadata": {
    "execution": {
     "iopub.execute_input": "2022-10-24T04:15:59.393861Z",
     "iopub.status.busy": "2022-10-24T04:15:59.393448Z",
     "iopub.status.idle": "2022-10-24T04:15:59.397742Z",
     "shell.execute_reply": "2022-10-24T04:15:59.396530Z"
    },
    "papermill": {
     "duration": 0.015891,
     "end_time": "2022-10-24T04:15:59.400062",
     "exception": false,
     "start_time": "2022-10-24T04:15:59.384171",
     "status": "completed"
    },
    "tags": []
   },
   "outputs": [],
   "source": [
    "# Uncomment to see a hint\n",
    "#q5.hint()\n",
    "\n",
    "# Uncomment to see the solution\n",
    "#q5.solution()"
   ]
  },
  {
   "cell_type": "markdown",
   "id": "bdcca7de",
   "metadata": {
    "papermill": {
     "duration": 0.008364,
     "end_time": "2022-10-24T04:15:59.416642",
     "exception": false,
     "start_time": "2022-10-24T04:15:59.408278",
     "status": "completed"
    },
    "tags": []
   },
   "source": [
    "# Congratulations!\n",
    "\n",
    "Congratulations for finishing the Intro to Programming course!  You should be proud of your very first steps with learning programming.  As next steps, we recommend taking:\n",
    "- the **[Python course](http://www.kaggle.com/learn/python)**, and \n",
    "- the **[Intro to Machine Learning course](https://www.kaggle.com/learn/intro-to-machine-learning)**."
   ]
  },
  {
   "cell_type": "markdown",
   "id": "129a62ea",
   "metadata": {
    "papermill": {
     "duration": 0.007631,
     "end_time": "2022-10-24T04:15:59.432185",
     "exception": false,
     "start_time": "2022-10-24T04:15:59.424554",
     "status": "completed"
    },
    "tags": []
   },
   "source": [
    "---\n",
    "\n",
    "\n",
    "\n",
    "\n",
    "*Have questions or comments? Visit the [course discussion forum](https://www.kaggle.com/learn/intro-to-programming/discussion) to chat with other learners.*"
   ]
  }
 ],
 "metadata": {
  "kernelspec": {
   "display_name": "Python 3",
   "language": "python",
   "name": "python3"
  },
  "language_info": {
   "codemirror_mode": {
    "name": "ipython",
    "version": 3
   },
   "file_extension": ".py",
   "mimetype": "text/x-python",
   "name": "python",
   "nbconvert_exporter": "python",
   "pygments_lexer": "ipython3",
   "version": "3.7.12"
  },
  "papermill": {
   "default_parameters": {},
   "duration": 10.54191,
   "end_time": "2022-10-24T04:16:00.163969",
   "environment_variables": {},
   "exception": null,
   "input_path": "__notebook__.ipynb",
   "output_path": "__notebook__.ipynb",
   "parameters": {},
   "start_time": "2022-10-24T04:15:49.622059",
   "version": "2.3.4"
  }
 },
 "nbformat": 4,
 "nbformat_minor": 5
}
