{
 "cells": [
  {
   "cell_type": "markdown",
   "id": "ba27ec36",
   "metadata": {
    "papermill": {
     "duration": 0.006096,
     "end_time": "2022-10-24T04:04:07.760522",
     "exception": false,
     "start_time": "2022-10-24T04:04:07.754426",
     "status": "completed"
    },
    "tags": []
   },
   "source": [
    "**This notebook is an exercise in the [Intro to Programming](https://www.kaggle.com/learn/intro-to-programming) course.  You can reference the tutorial at [this link](https://www.kaggle.com/alexisbcook/functions).**\n",
    "\n",
    "---\n"
   ]
  },
  {
   "cell_type": "markdown",
   "id": "d075b00f",
   "metadata": {
    "papermill": {
     "duration": 0.004702,
     "end_time": "2022-10-24T04:04:07.770418",
     "exception": false,
     "start_time": "2022-10-24T04:04:07.765716",
     "status": "completed"
    },
    "tags": []
   },
   "source": [
    "In the tutorial, you learned about functions. In this exercise, you'll write some of your own!\n",
    "\n",
    "# Set up the notebook\n",
    "\n",
    "Run the next code cell without changes to set up the notebook."
   ]
  },
  {
   "cell_type": "code",
   "execution_count": 1,
   "id": "642da923",
   "metadata": {
    "execution": {
     "iopub.execute_input": "2022-10-24T04:04:07.782590Z",
     "iopub.status.busy": "2022-10-24T04:04:07.781840Z",
     "iopub.status.idle": "2022-10-24T04:04:07.832974Z",
     "shell.execute_reply": "2022-10-24T04:04:07.831998Z"
    },
    "papermill": {
     "duration": 0.059997,
     "end_time": "2022-10-24T04:04:07.835565",
     "exception": false,
     "start_time": "2022-10-24T04:04:07.775568",
     "status": "completed"
    },
    "tags": []
   },
   "outputs": [
    {
     "name": "stdout",
     "output_type": "stream",
     "text": [
      "Setup complete.\n"
     ]
    }
   ],
   "source": [
    "# Set up the exercise\n",
    "import math\n",
    "from learntools.core import binder\n",
    "binder.bind(globals())\n",
    "from learntools.intro_to_programming.ex2 import *\n",
    "print('Setup complete.')"
   ]
  },
  {
   "cell_type": "markdown",
   "id": "19a471e7",
   "metadata": {
    "papermill": {
     "duration": 0.005023,
     "end_time": "2022-10-24T04:04:07.846760",
     "exception": false,
     "start_time": "2022-10-24T04:04:07.841737",
     "status": "completed"
    },
    "tags": []
   },
   "source": [
    "# Question 1\n",
    "\n",
    "In the [House Prices - Advanced Regression Techniques competition](https://www.kaggle.com/c/house-prices-advanced-regression-techniques/overview), you need to use information like the number of bedrooms and bathrooms to predict the price of a house.  Inspired by this competition, you'll write your own function to do this.\n",
    "\n",
    "In the next code cell, create a function `get_expected_cost()` that has two arguments:\n",
    "- `beds` - number of bedrooms \n",
    "- `baths` - number of bathrooms\n",
    "\n",
    "It should return the expected cost of a house with that number of bedrooms and bathrooms.  Assume that:\n",
    "- the expected cost for a house with 0 bedrooms and 0 bathrooms is `80000`.  \n",
    "- each bedroom adds `30000` to the expected cost\n",
    "- each bathroom adds `10000` to the expected cost.\n",
    "\n",
    "For instance, \n",
    "- a house with 1 bedroom and 1 bathroom has an expected cost of `120000`, and \n",
    "- a house with 2 bedrooms and 1 bathroom has an expected cost of `150000`."
   ]
  },
  {
   "cell_type": "code",
   "execution_count": 2,
   "id": "bf3ef635",
   "metadata": {
    "execution": {
     "iopub.execute_input": "2022-10-24T04:04:07.858784Z",
     "iopub.status.busy": "2022-10-24T04:04:07.858386Z",
     "iopub.status.idle": "2022-10-24T04:04:07.867986Z",
     "shell.execute_reply": "2022-10-24T04:04:07.867149Z"
    },
    "papermill": {
     "duration": 0.018813,
     "end_time": "2022-10-24T04:04:07.870711",
     "exception": false,
     "start_time": "2022-10-24T04:04:07.851898",
     "status": "completed"
    },
    "tags": []
   },
   "outputs": [
    {
     "data": {
      "application/javascript": [
       "parent.postMessage({\"jupyterEvent\": \"custom.exercise_interaction\", \"data\": {\"outcomeType\": 1, \"valueTowardsCompletion\": 0.2, \"interactionType\": 1, \"questionType\": 2, \"questionId\": \"1_GetExpectedCost\", \"learnToolsVersion\": \"0.3.4\", \"failureMessage\": \"\", \"exceptionClass\": \"\", \"trace\": \"\"}}, \"*\")"
      ],
      "text/plain": [
       "<IPython.core.display.Javascript object>"
      ]
     },
     "metadata": {},
     "output_type": "display_data"
    },
    {
     "data": {
      "text/markdown": [
       "<span style=\"color:#33cc33\">Correct</span>"
      ],
      "text/plain": [
       "Correct"
      ]
     },
     "metadata": {},
     "output_type": "display_data"
    }
   ],
   "source": [
    "# TODO: Complete the function\n",
    "def get_expected_cost(beds, baths):\n",
    "    value = 80000 + beds * 30000 + baths * 10000\n",
    "    return value\n",
    "\n",
    "# Check your answer \n",
    "q1.check()"
   ]
  },
  {
   "cell_type": "code",
   "execution_count": 3,
   "id": "d4d1f94c",
   "metadata": {
    "execution": {
     "iopub.execute_input": "2022-10-24T04:04:07.883033Z",
     "iopub.status.busy": "2022-10-24T04:04:07.882688Z",
     "iopub.status.idle": "2022-10-24T04:04:07.887591Z",
     "shell.execute_reply": "2022-10-24T04:04:07.886069Z"
    },
    "papermill": {
     "duration": 0.013995,
     "end_time": "2022-10-24T04:04:07.890348",
     "exception": false,
     "start_time": "2022-10-24T04:04:07.876353",
     "status": "completed"
    },
    "tags": []
   },
   "outputs": [],
   "source": [
    "# Uncomment to see a hint\n",
    "#q1.hint()\n",
    "\n",
    "# Uncomment to view the solution\n",
    "#q1.solution()"
   ]
  },
  {
   "cell_type": "markdown",
   "id": "f85a7740",
   "metadata": {
    "papermill": {
     "duration": 0.005066,
     "end_time": "2022-10-24T04:04:07.901034",
     "exception": false,
     "start_time": "2022-10-24T04:04:07.895968",
     "status": "completed"
    },
    "tags": []
   },
   "source": [
    "# Question 2\n",
    "\n",
    "You are thinking about buying a home and want to get an idea of how much you will spend, based on the number of bedrooms and bathrooms.  You are trying to decide between four different options:\n",
    "- Option 1: house with two bedrooms and three bathrooms\n",
    "- Option 2: house with three bedrooms and two bathrooms\n",
    "- Option 3: house with three bedrooms and three bathrooms\n",
    "- Option 4: house with three bedrooms and four bathrooms\n",
    "\n",
    "Use the `get_expected_cost()` function you defined in question 1 to set `option_1`, `option_2`, `option_3`, and `option_4` to the expected cost of each option."
   ]
  },
  {
   "cell_type": "code",
   "execution_count": 4,
   "id": "16c6458b",
   "metadata": {
    "execution": {
     "iopub.execute_input": "2022-10-24T04:04:07.914986Z",
     "iopub.status.busy": "2022-10-24T04:04:07.914596Z",
     "iopub.status.idle": "2022-10-24T04:04:07.924379Z",
     "shell.execute_reply": "2022-10-24T04:04:07.923103Z"
    },
    "papermill": {
     "duration": 0.019935,
     "end_time": "2022-10-24T04:04:07.926497",
     "exception": false,
     "start_time": "2022-10-24T04:04:07.906562",
     "status": "completed"
    },
    "tags": []
   },
   "outputs": [
    {
     "name": "stdout",
     "output_type": "stream",
     "text": [
      "170000\n",
      "190000\n",
      "200000\n",
      "210000\n"
     ]
    },
    {
     "data": {
      "application/javascript": [
       "parent.postMessage({\"jupyterEvent\": \"custom.exercise_interaction\", \"data\": {\"outcomeType\": 1, \"valueTowardsCompletion\": 0.2, \"interactionType\": 1, \"questionType\": 1, \"questionId\": \"2_RunGetExpectedCost\", \"learnToolsVersion\": \"0.3.4\", \"failureMessage\": \"\", \"exceptionClass\": \"\", \"trace\": \"\"}}, \"*\")"
      ],
      "text/plain": [
       "<IPython.core.display.Javascript object>"
      ]
     },
     "metadata": {},
     "output_type": "display_data"
    },
    {
     "data": {
      "text/markdown": [
       "<span style=\"color:#33cc33\">Correct</span>"
      ],
      "text/plain": [
       "Correct"
      ]
     },
     "metadata": {},
     "output_type": "display_data"
    }
   ],
   "source": [
    "# TODO: Use the get_expected_cost function to fill in each value\n",
    "option_one = get_expected_cost(2, 3)\n",
    "option_two = get_expected_cost(3, 2)\n",
    "option_three = get_expected_cost(3, 3)\n",
    "option_four = get_expected_cost(3, 4)\n",
    "\n",
    "print(option_one)\n",
    "print(option_two)\n",
    "print(option_three)\n",
    "print(option_four)\n",
    "\n",
    "# Check your answer\n",
    "q2.check()"
   ]
  },
  {
   "cell_type": "code",
   "execution_count": 5,
   "id": "5f661895",
   "metadata": {
    "execution": {
     "iopub.execute_input": "2022-10-24T04:04:07.940447Z",
     "iopub.status.busy": "2022-10-24T04:04:07.939458Z",
     "iopub.status.idle": "2022-10-24T04:04:07.945414Z",
     "shell.execute_reply": "2022-10-24T04:04:07.943702Z"
    },
    "papermill": {
     "duration": 0.015654,
     "end_time": "2022-10-24T04:04:07.947843",
     "exception": false,
     "start_time": "2022-10-24T04:04:07.932189",
     "status": "completed"
    },
    "tags": []
   },
   "outputs": [],
   "source": [
    "# Uncomment to see a hint\n",
    "#q2.hint()\n",
    "\n",
    "# Uncomment to view the solution\n",
    "#q2.solution()"
   ]
  },
  {
   "cell_type": "markdown",
   "id": "a82c0058",
   "metadata": {
    "papermill": {
     "duration": 0.005557,
     "end_time": "2022-10-24T04:04:07.959504",
     "exception": false,
     "start_time": "2022-10-24T04:04:07.953947",
     "status": "completed"
    },
    "tags": []
   },
   "source": [
    "# Question 3\n",
    "\n",
    "You're a home decorator, and you'd like to use Python to streamline some of your work.  Specifically, you're creating a tool that you intend to use to calculate the cost of painting a room.\n",
    "\n",
    "As a first step, define a function `get_cost()` that takes as input:\n",
    "- `sqft_walls` = total square feet of walls to be painted\n",
    "- `sqft_ceiling` = square feet of ceiling to be painted\n",
    "- `sqft_per_gallon` = number of square feet that you can cover with one gallon of paint\n",
    "- `cost_per_gallon` = cost (in dollars) of one gallon of paint\n",
    "\n",
    "It should return the cost (in dollars) of putting one coat of paint on all walls and the ceiling.  Assume you can buy the exact amount of paint that you need, so you can buy partial gallons (e.g., if you need 7.523 gallons, you can buy that exact amount, instead of needing to buy 8 gallons and waste some paint).  Do not round your answer."
   ]
  },
  {
   "cell_type": "code",
   "execution_count": 6,
   "id": "20ecd4ce",
   "metadata": {
    "execution": {
     "iopub.execute_input": "2022-10-24T04:04:07.972484Z",
     "iopub.status.busy": "2022-10-24T04:04:07.972106Z",
     "iopub.status.idle": "2022-10-24T04:04:07.982916Z",
     "shell.execute_reply": "2022-10-24T04:04:07.981290Z"
    },
    "papermill": {
     "duration": 0.020462,
     "end_time": "2022-10-24T04:04:07.985703",
     "exception": false,
     "start_time": "2022-10-24T04:04:07.965241",
     "status": "completed"
    },
    "tags": []
   },
   "outputs": [
    {
     "data": {
      "application/javascript": [
       "parent.postMessage({\"jupyterEvent\": \"custom.exercise_interaction\", \"data\": {\"outcomeType\": 1, \"valueTowardsCompletion\": 0.2, \"interactionType\": 1, \"questionType\": 2, \"questionId\": \"3_GetCostPaint\", \"learnToolsVersion\": \"0.3.4\", \"failureMessage\": \"\", \"exceptionClass\": \"\", \"trace\": \"\"}}, \"*\")"
      ],
      "text/plain": [
       "<IPython.core.display.Javascript object>"
      ]
     },
     "metadata": {},
     "output_type": "display_data"
    },
    {
     "data": {
      "text/markdown": [
       "<span style=\"color:#33cc33\">Correct</span>"
      ],
      "text/plain": [
       "Correct"
      ]
     },
     "metadata": {},
     "output_type": "display_data"
    }
   ],
   "source": [
    "# TODO: Finish defining the function\n",
    "def get_cost(sqft_walls, sqft_ceiling, sqft_per_gallon, cost_per_gallon):\n",
    "    cost = (cost_per_gallon / sqft_per_gallon) * (sqft_walls + sqft_ceiling)\n",
    "    return cost\n",
    "\n",
    "# Check your answer\n",
    "q3.check()"
   ]
  },
  {
   "cell_type": "code",
   "execution_count": 7,
   "id": "dad6f084",
   "metadata": {
    "execution": {
     "iopub.execute_input": "2022-10-24T04:04:07.999150Z",
     "iopub.status.busy": "2022-10-24T04:04:07.998772Z",
     "iopub.status.idle": "2022-10-24T04:04:08.002992Z",
     "shell.execute_reply": "2022-10-24T04:04:08.002245Z"
    },
    "papermill": {
     "duration": 0.013546,
     "end_time": "2022-10-24T04:04:08.005248",
     "exception": false,
     "start_time": "2022-10-24T04:04:07.991702",
     "status": "completed"
    },
    "tags": []
   },
   "outputs": [],
   "source": [
    "# Uncomment to see a hint\n",
    "#q3.hint()\n",
    "\n",
    "# Uncomment to view the solution\n",
    "#q3.solution()"
   ]
  },
  {
   "cell_type": "markdown",
   "id": "1af654cf",
   "metadata": {
    "papermill": {
     "duration": 0.0057,
     "end_time": "2022-10-24T04:04:08.017078",
     "exception": false,
     "start_time": "2022-10-24T04:04:08.011378",
     "status": "completed"
    },
    "tags": []
   },
   "source": [
    "# Question 4\n",
    "\n",
    "Use the `get_cost()` function you defined in Question 3 to calculate the cost of applying one coat of paint to a room with:\n",
    "- 432 square feet of walls, and\n",
    "- 144 square feet of ceiling.\n",
    "\n",
    "Assume that one gallon of paint covers 400 square feet and costs $15.  As in Question 3, assume you can buy partial gallons of paint.  Do not round your answer."
   ]
  },
  {
   "cell_type": "code",
   "execution_count": 8,
   "id": "111117a0",
   "metadata": {
    "execution": {
     "iopub.execute_input": "2022-10-24T04:04:08.030668Z",
     "iopub.status.busy": "2022-10-24T04:04:08.030315Z",
     "iopub.status.idle": "2022-10-24T04:04:08.038096Z",
     "shell.execute_reply": "2022-10-24T04:04:08.037200Z"
    },
    "papermill": {
     "duration": 0.017559,
     "end_time": "2022-10-24T04:04:08.040507",
     "exception": false,
     "start_time": "2022-10-24T04:04:08.022948",
     "status": "completed"
    },
    "tags": []
   },
   "outputs": [
    {
     "data": {
      "application/javascript": [
       "parent.postMessage({\"jupyterEvent\": \"custom.exercise_interaction\", \"data\": {\"outcomeType\": 1, \"valueTowardsCompletion\": 0.2, \"interactionType\": 1, \"questionType\": 1, \"questionId\": \"4_GetCostPaintExample\", \"learnToolsVersion\": \"0.3.4\", \"failureMessage\": \"\", \"exceptionClass\": \"\", \"trace\": \"\"}}, \"*\")"
      ],
      "text/plain": [
       "<IPython.core.display.Javascript object>"
      ]
     },
     "metadata": {},
     "output_type": "display_data"
    },
    {
     "data": {
      "text/markdown": [
       "<span style=\"color:#33cc33\">Correct</span>"
      ],
      "text/plain": [
       "Correct"
      ]
     },
     "metadata": {},
     "output_type": "display_data"
    }
   ],
   "source": [
    "# TODO: Set the project_cost variable to the cost of the project\n",
    "project_cost = get_cost(432, 144, 400, 15)\n",
    "\n",
    "# Check your answer\n",
    "q4.check()"
   ]
  },
  {
   "cell_type": "code",
   "execution_count": 9,
   "id": "fc6e3cf7",
   "metadata": {
    "execution": {
     "iopub.execute_input": "2022-10-24T04:04:08.055072Z",
     "iopub.status.busy": "2022-10-24T04:04:08.054715Z",
     "iopub.status.idle": "2022-10-24T04:04:08.059186Z",
     "shell.execute_reply": "2022-10-24T04:04:08.057648Z"
    },
    "papermill": {
     "duration": 0.015057,
     "end_time": "2022-10-24T04:04:08.061982",
     "exception": false,
     "start_time": "2022-10-24T04:04:08.046925",
     "status": "completed"
    },
    "tags": []
   },
   "outputs": [],
   "source": [
    "# Uncomment to see a hint\n",
    "#q4.hint()\n",
    "\n",
    "# Uncomment to view the solution\n",
    "#q4.solution()"
   ]
  },
  {
   "cell_type": "markdown",
   "id": "d7850d10",
   "metadata": {
    "papermill": {
     "duration": 0.005951,
     "end_time": "2022-10-24T04:04:08.074346",
     "exception": false,
     "start_time": "2022-10-24T04:04:08.068395",
     "status": "completed"
    },
    "tags": []
   },
   "source": [
    "# 🌶️ Question 5\n",
    "\n",
    "Now say you can no longer buy fractions of a gallon.  (For instance, if you need 4.3 gallons to do a project, then you have to buy 5 gallons of paint.)\n",
    "\n",
    "With this new scenario, you will create a new function `get_actual_cost` that uses the same inputs and calculates the cost of your project.\n",
    "\n",
    "One function that you'll need to use to do this is `math.ceil()`.  We demonstrate usage of this function in the code cell below.  It takes as a number as input and rounds the number up to the nearest integer.  \n",
    "\n",
    "Run the next code cell to test this function for yourself.  Feel free to change the value of `test_value` and make sure `math.ceil()` returns the number you expect."
   ]
  },
  {
   "cell_type": "code",
   "execution_count": 10,
   "id": "71cef77f",
   "metadata": {
    "execution": {
     "iopub.execute_input": "2022-10-24T04:04:08.088683Z",
     "iopub.status.busy": "2022-10-24T04:04:08.088272Z",
     "iopub.status.idle": "2022-10-24T04:04:08.095153Z",
     "shell.execute_reply": "2022-10-24T04:04:08.093774Z"
    },
    "papermill": {
     "duration": 0.017195,
     "end_time": "2022-10-24T04:04:08.097724",
     "exception": false,
     "start_time": "2022-10-24T04:04:08.080529",
     "status": "completed"
    },
    "tags": []
   },
   "outputs": [
    {
     "name": "stdout",
     "output_type": "stream",
     "text": [
      "3\n"
     ]
    }
   ],
   "source": [
    "test_value = 2.17\n",
    "\n",
    "rounded_value = math.ceil(test_value)\n",
    "print(rounded_value)"
   ]
  },
  {
   "cell_type": "markdown",
   "id": "d2d54b44",
   "metadata": {
    "papermill": {
     "duration": 0.006041,
     "end_time": "2022-10-24T04:04:08.111700",
     "exception": false,
     "start_time": "2022-10-24T04:04:08.105659",
     "status": "completed"
    },
    "tags": []
   },
   "source": [
    "Use the next code cell to define the function `get_actual_cost()`.  You'll need to use the `math.ceil()` function to do this.\n",
    "\n",
    "When answering this question, note that it's completely valid to define a function that makes use of another function.  For instance, we can define a function `round_up_and_divide_by_three` that makes use of the `math.ceil` function:\n",
    "```\n",
    "def round_up_and_divide_by_three(num):\n",
    "    new_value = math.ceil(num)\n",
    "    final_value = new_value / 3\n",
    "    return final_value\n",
    "```"
   ]
  },
  {
   "cell_type": "code",
   "execution_count": 11,
   "id": "3a5447fd",
   "metadata": {
    "execution": {
     "iopub.execute_input": "2022-10-24T04:04:08.126496Z",
     "iopub.status.busy": "2022-10-24T04:04:08.126105Z",
     "iopub.status.idle": "2022-10-24T04:04:08.134662Z",
     "shell.execute_reply": "2022-10-24T04:04:08.133258Z"
    },
    "papermill": {
     "duration": 0.019274,
     "end_time": "2022-10-24T04:04:08.137606",
     "exception": false,
     "start_time": "2022-10-24T04:04:08.118332",
     "status": "completed"
    },
    "tags": []
   },
   "outputs": [
    {
     "data": {
      "application/javascript": [
       "parent.postMessage({\"jupyterEvent\": \"custom.exercise_interaction\", \"data\": {\"outcomeType\": 2, \"failureMessage\": \"Expected return value of `30` given `sqft_walls=432`, `sqft_ceiling=144`, `sqft_per_gallon=400`, `cost_per_gallon=15`, but got `8640` instead.\", \"interactionType\": 1, \"questionType\": 2, \"questionId\": \"5_NoMoreFractions\", \"learnToolsVersion\": \"0.3.4\", \"valueTowardsCompletion\": 0.0, \"exceptionClass\": \"\", \"trace\": \"\"}}, \"*\")"
      ],
      "text/plain": [
       "<IPython.core.display.Javascript object>"
      ]
     },
     "metadata": {},
     "output_type": "display_data"
    },
    {
     "data": {
      "text/markdown": [
       "<span style=\"color:#cc3333\">Incorrect:</span> Expected return value of `30` given `sqft_walls=432`, `sqft_ceiling=144`, `sqft_per_gallon=400`, `cost_per_gallon=15`, but got `8640` instead."
      ],
      "text/plain": [
       "Incorrect: Expected return value of `30` given `sqft_walls=432`, `sqft_ceiling=144`, `sqft_per_gallon=400`, `cost_per_gallon=15`, but got `8640` instead."
      ]
     },
     "metadata": {},
     "output_type": "display_data"
    }
   ],
   "source": [
    "def get_actual_cost(sqft_walls, sqft_ceiling, sqft_per_gallon, cost_per_gallon):\n",
    "    cost = cost_per_gallon * math.ceil((sqft_walls + sqft_ceiling))\n",
    "    return cost\n",
    "\n",
    "# Check your answer\n",
    "q5.check()"
   ]
  },
  {
   "cell_type": "code",
   "execution_count": 12,
   "id": "cc5f325d",
   "metadata": {
    "execution": {
     "iopub.execute_input": "2022-10-24T04:04:08.152292Z",
     "iopub.status.busy": "2022-10-24T04:04:08.151873Z",
     "iopub.status.idle": "2022-10-24T04:04:08.156156Z",
     "shell.execute_reply": "2022-10-24T04:04:08.155263Z"
    },
    "papermill": {
     "duration": 0.013705,
     "end_time": "2022-10-24T04:04:08.158061",
     "exception": false,
     "start_time": "2022-10-24T04:04:08.144356",
     "status": "completed"
    },
    "tags": []
   },
   "outputs": [],
   "source": [
    "# Uncomment to see a hint\n",
    "#q5.hint()\n",
    "\n",
    "# Uncomment to view the solution\n",
    "#q5.solution()"
   ]
  },
  {
   "cell_type": "markdown",
   "id": "fced1177",
   "metadata": {
    "papermill": {
     "duration": 0.006369,
     "end_time": "2022-10-24T04:04:08.171193",
     "exception": false,
     "start_time": "2022-10-24T04:04:08.164824",
     "status": "completed"
    },
    "tags": []
   },
   "source": [
    "Once your function is verified as correct, run the next code cell to calculate the updated cost of your project."
   ]
  },
  {
   "cell_type": "code",
   "execution_count": 13,
   "id": "c3e39de9",
   "metadata": {
    "execution": {
     "iopub.execute_input": "2022-10-24T04:04:08.185495Z",
     "iopub.status.busy": "2022-10-24T04:04:08.185076Z",
     "iopub.status.idle": "2022-10-24T04:04:08.193122Z",
     "shell.execute_reply": "2022-10-24T04:04:08.191729Z"
    },
    "papermill": {
     "duration": 0.018237,
     "end_time": "2022-10-24T04:04:08.195771",
     "exception": false,
     "start_time": "2022-10-24T04:04:08.177534",
     "status": "completed"
    },
    "tags": []
   },
   "outputs": [
    {
     "data": {
      "text/plain": [
       "8640"
      ]
     },
     "execution_count": 13,
     "metadata": {},
     "output_type": "execute_result"
    }
   ],
   "source": [
    "get_actual_cost(432, 144, 400, 15) "
   ]
  },
  {
   "cell_type": "markdown",
   "id": "d70081f1",
   "metadata": {
    "papermill": {
     "duration": 0.00625,
     "end_time": "2022-10-24T04:04:08.208659",
     "exception": false,
     "start_time": "2022-10-24T04:04:08.202409",
     "status": "completed"
    },
    "tags": []
   },
   "source": [
    "Say you're working with a slightly larger room.  Run the next code cell to calculate the cost of the project."
   ]
  },
  {
   "cell_type": "code",
   "execution_count": 14,
   "id": "4e3a2d7f",
   "metadata": {
    "execution": {
     "iopub.execute_input": "2022-10-24T04:04:08.223662Z",
     "iopub.status.busy": "2022-10-24T04:04:08.222573Z",
     "iopub.status.idle": "2022-10-24T04:04:08.229888Z",
     "shell.execute_reply": "2022-10-24T04:04:08.228388Z"
    },
    "papermill": {
     "duration": 0.017229,
     "end_time": "2022-10-24T04:04:08.232158",
     "exception": false,
     "start_time": "2022-10-24T04:04:08.214929",
     "status": "completed"
    },
    "tags": []
   },
   "outputs": [
    {
     "data": {
      "text/plain": [
       "13230"
      ]
     },
     "execution_count": 14,
     "metadata": {},
     "output_type": "execute_result"
    }
   ],
   "source": [
    "get_actual_cost(594, 288, 400, 15) "
   ]
  },
  {
   "cell_type": "markdown",
   "id": "e235aaa0",
   "metadata": {
    "papermill": {
     "duration": 0.006668,
     "end_time": "2022-10-24T04:04:08.245620",
     "exception": false,
     "start_time": "2022-10-24T04:04:08.238952",
     "status": "completed"
    },
    "tags": []
   },
   "source": [
    "# Keep going\n",
    "\n",
    "Continue to learn about **[data types](https://www.kaggle.com/alexisbcook/data-types)**."
   ]
  },
  {
   "cell_type": "markdown",
   "id": "a26b9b34",
   "metadata": {
    "papermill": {
     "duration": 0.006459,
     "end_time": "2022-10-24T04:04:08.258827",
     "exception": false,
     "start_time": "2022-10-24T04:04:08.252368",
     "status": "completed"
    },
    "tags": []
   },
   "source": [
    "---\n",
    "\n",
    "\n",
    "\n",
    "\n",
    "*Have questions or comments? Visit the [course discussion forum](https://www.kaggle.com/learn/intro-to-programming/discussion) to chat with other learners.*"
   ]
  }
 ],
 "metadata": {
  "kernelspec": {
   "display_name": "Python 3",
   "language": "python",
   "name": "python3"
  },
  "language_info": {
   "codemirror_mode": {
    "name": "ipython",
    "version": 3
   },
   "file_extension": ".py",
   "mimetype": "text/x-python",
   "name": "python",
   "nbconvert_exporter": "python",
   "pygments_lexer": "ipython3",
   "version": "3.7.12"
  },
  "papermill": {
   "default_parameters": {},
   "duration": 11.120877,
   "end_time": "2022-10-24T04:04:08.988615",
   "environment_variables": {},
   "exception": null,
   "input_path": "__notebook__.ipynb",
   "output_path": "__notebook__.ipynb",
   "parameters": {},
   "start_time": "2022-10-24T04:03:57.867738",
   "version": "2.3.4"
  }
 },
 "nbformat": 4,
 "nbformat_minor": 5
}
