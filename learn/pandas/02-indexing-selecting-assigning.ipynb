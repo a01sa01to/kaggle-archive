{
 "cells": [
  {
   "cell_type": "markdown",
   "id": "3c393d87",
   "metadata": {
    "papermill": {
     "duration": 0.008567,
     "end_time": "2022-11-10T05:01:01.459195",
     "exception": false,
     "start_time": "2022-11-10T05:01:01.450628",
     "status": "completed"
    },
    "tags": []
   },
   "source": [
    "**This notebook is an exercise in the [Pandas](https://www.kaggle.com/learn/pandas) course.  You can reference the tutorial at [this link](https://www.kaggle.com/residentmario/indexing-selecting-assigning).**\n",
    "\n",
    "---\n"
   ]
  },
  {
   "cell_type": "markdown",
   "id": "68e8e897",
   "metadata": {
    "papermill": {
     "duration": 0.007023,
     "end_time": "2022-11-10T05:01:01.473735",
     "exception": false,
     "start_time": "2022-11-10T05:01:01.466712",
     "status": "completed"
    },
    "tags": []
   },
   "source": [
    "# Introduction\n",
    "\n",
    "In this set of exercises we will work with the [Wine Reviews dataset](https://www.kaggle.com/zynicide/wine-reviews). "
   ]
  },
  {
   "cell_type": "markdown",
   "id": "bf33b581",
   "metadata": {
    "papermill": {
     "duration": 0.006733,
     "end_time": "2022-11-10T05:01:01.487636",
     "exception": false,
     "start_time": "2022-11-10T05:01:01.480903",
     "status": "completed"
    },
    "tags": []
   },
   "source": [
    "Run the following cell to load your data and some utility functions (including code to check your answers)."
   ]
  },
  {
   "cell_type": "code",
   "execution_count": 1,
   "id": "f41cf7b3",
   "metadata": {
    "execution": {
     "iopub.execute_input": "2022-11-10T05:01:01.504688Z",
     "iopub.status.busy": "2022-11-10T05:01:01.504030Z",
     "iopub.status.idle": "2022-11-10T05:01:05.131844Z",
     "shell.execute_reply": "2022-11-10T05:01:05.130444Z"
    },
    "papermill": {
     "duration": 3.641913,
     "end_time": "2022-11-10T05:01:05.136689",
     "exception": false,
     "start_time": "2022-11-10T05:01:01.494776",
     "status": "completed"
    },
    "tags": []
   },
   "outputs": [
    {
     "name": "stdout",
     "output_type": "stream",
     "text": [
      "Setup complete.\n"
     ]
    }
   ],
   "source": [
    "import pandas as pd\n",
    "\n",
    "reviews = pd.read_csv(\"../input/wine-reviews/winemag-data-130k-v2.csv\", index_col=0)\n",
    "pd.set_option(\"display.max_rows\", 5)\n",
    "\n",
    "from learntools.core import binder; binder.bind(globals())\n",
    "from learntools.pandas.indexing_selecting_and_assigning import *\n",
    "print(\"Setup complete.\")"
   ]
  },
  {
   "cell_type": "markdown",
   "id": "609e6c84",
   "metadata": {
    "papermill": {
     "duration": 0.007206,
     "end_time": "2022-11-10T05:01:05.152285",
     "exception": false,
     "start_time": "2022-11-10T05:01:05.145079",
     "status": "completed"
    },
    "tags": []
   },
   "source": [
    "Look at an overview of your data by running the following line."
   ]
  },
  {
   "cell_type": "code",
   "execution_count": 2,
   "id": "be82cfdc",
   "metadata": {
    "execution": {
     "iopub.execute_input": "2022-11-10T05:01:05.174198Z",
     "iopub.status.busy": "2022-11-10T05:01:05.172898Z",
     "iopub.status.idle": "2022-11-10T05:01:05.208819Z",
     "shell.execute_reply": "2022-11-10T05:01:05.207033Z"
    },
    "papermill": {
     "duration": 0.051464,
     "end_time": "2022-11-10T05:01:05.212040",
     "exception": false,
     "start_time": "2022-11-10T05:01:05.160576",
     "status": "completed"
    },
    "tags": []
   },
   "outputs": [
    {
     "data": {
      "text/html": [
       "<div>\n",
       "<style scoped>\n",
       "    .dataframe tbody tr th:only-of-type {\n",
       "        vertical-align: middle;\n",
       "    }\n",
       "\n",
       "    .dataframe tbody tr th {\n",
       "        vertical-align: top;\n",
       "    }\n",
       "\n",
       "    .dataframe thead th {\n",
       "        text-align: right;\n",
       "    }\n",
       "</style>\n",
       "<table border=\"1\" class=\"dataframe\">\n",
       "  <thead>\n",
       "    <tr style=\"text-align: right;\">\n",
       "      <th></th>\n",
       "      <th>country</th>\n",
       "      <th>description</th>\n",
       "      <th>designation</th>\n",
       "      <th>points</th>\n",
       "      <th>price</th>\n",
       "      <th>province</th>\n",
       "      <th>region_1</th>\n",
       "      <th>region_2</th>\n",
       "      <th>taster_name</th>\n",
       "      <th>taster_twitter_handle</th>\n",
       "      <th>title</th>\n",
       "      <th>variety</th>\n",
       "      <th>winery</th>\n",
       "    </tr>\n",
       "  </thead>\n",
       "  <tbody>\n",
       "    <tr>\n",
       "      <th>0</th>\n",
       "      <td>Italy</td>\n",
       "      <td>Aromas include tropical fruit, broom, brimston...</td>\n",
       "      <td>Vulkà Bianco</td>\n",
       "      <td>87</td>\n",
       "      <td>NaN</td>\n",
       "      <td>Sicily &amp; Sardinia</td>\n",
       "      <td>Etna</td>\n",
       "      <td>NaN</td>\n",
       "      <td>Kerin O’Keefe</td>\n",
       "      <td>@kerinokeefe</td>\n",
       "      <td>Nicosia 2013 Vulkà Bianco  (Etna)</td>\n",
       "      <td>White Blend</td>\n",
       "      <td>Nicosia</td>\n",
       "    </tr>\n",
       "    <tr>\n",
       "      <th>1</th>\n",
       "      <td>Portugal</td>\n",
       "      <td>This is ripe and fruity, a wine that is smooth...</td>\n",
       "      <td>Avidagos</td>\n",
       "      <td>87</td>\n",
       "      <td>15.0</td>\n",
       "      <td>Douro</td>\n",
       "      <td>NaN</td>\n",
       "      <td>NaN</td>\n",
       "      <td>Roger Voss</td>\n",
       "      <td>@vossroger</td>\n",
       "      <td>Quinta dos Avidagos 2011 Avidagos Red (Douro)</td>\n",
       "      <td>Portuguese Red</td>\n",
       "      <td>Quinta dos Avidagos</td>\n",
       "    </tr>\n",
       "    <tr>\n",
       "      <th>2</th>\n",
       "      <td>US</td>\n",
       "      <td>Tart and snappy, the flavors of lime flesh and...</td>\n",
       "      <td>NaN</td>\n",
       "      <td>87</td>\n",
       "      <td>14.0</td>\n",
       "      <td>Oregon</td>\n",
       "      <td>Willamette Valley</td>\n",
       "      <td>Willamette Valley</td>\n",
       "      <td>Paul Gregutt</td>\n",
       "      <td>@paulgwine</td>\n",
       "      <td>Rainstorm 2013 Pinot Gris (Willamette Valley)</td>\n",
       "      <td>Pinot Gris</td>\n",
       "      <td>Rainstorm</td>\n",
       "    </tr>\n",
       "    <tr>\n",
       "      <th>3</th>\n",
       "      <td>US</td>\n",
       "      <td>Pineapple rind, lemon pith and orange blossom ...</td>\n",
       "      <td>Reserve Late Harvest</td>\n",
       "      <td>87</td>\n",
       "      <td>13.0</td>\n",
       "      <td>Michigan</td>\n",
       "      <td>Lake Michigan Shore</td>\n",
       "      <td>NaN</td>\n",
       "      <td>Alexander Peartree</td>\n",
       "      <td>NaN</td>\n",
       "      <td>St. Julian 2013 Reserve Late Harvest Riesling ...</td>\n",
       "      <td>Riesling</td>\n",
       "      <td>St. Julian</td>\n",
       "    </tr>\n",
       "    <tr>\n",
       "      <th>4</th>\n",
       "      <td>US</td>\n",
       "      <td>Much like the regular bottling from 2012, this...</td>\n",
       "      <td>Vintner's Reserve Wild Child Block</td>\n",
       "      <td>87</td>\n",
       "      <td>65.0</td>\n",
       "      <td>Oregon</td>\n",
       "      <td>Willamette Valley</td>\n",
       "      <td>Willamette Valley</td>\n",
       "      <td>Paul Gregutt</td>\n",
       "      <td>@paulgwine</td>\n",
       "      <td>Sweet Cheeks 2012 Vintner's Reserve Wild Child...</td>\n",
       "      <td>Pinot Noir</td>\n",
       "      <td>Sweet Cheeks</td>\n",
       "    </tr>\n",
       "  </tbody>\n",
       "</table>\n",
       "</div>"
      ],
      "text/plain": [
       "    country                                        description  \\\n",
       "0     Italy  Aromas include tropical fruit, broom, brimston...   \n",
       "1  Portugal  This is ripe and fruity, a wine that is smooth...   \n",
       "2        US  Tart and snappy, the flavors of lime flesh and...   \n",
       "3        US  Pineapple rind, lemon pith and orange blossom ...   \n",
       "4        US  Much like the regular bottling from 2012, this...   \n",
       "\n",
       "                          designation  points  price           province  \\\n",
       "0                        Vulkà Bianco      87    NaN  Sicily & Sardinia   \n",
       "1                            Avidagos      87   15.0              Douro   \n",
       "2                                 NaN      87   14.0             Oregon   \n",
       "3                Reserve Late Harvest      87   13.0           Michigan   \n",
       "4  Vintner's Reserve Wild Child Block      87   65.0             Oregon   \n",
       "\n",
       "              region_1           region_2         taster_name  \\\n",
       "0                 Etna                NaN       Kerin O’Keefe   \n",
       "1                  NaN                NaN          Roger Voss   \n",
       "2    Willamette Valley  Willamette Valley        Paul Gregutt   \n",
       "3  Lake Michigan Shore                NaN  Alexander Peartree   \n",
       "4    Willamette Valley  Willamette Valley        Paul Gregutt   \n",
       "\n",
       "  taster_twitter_handle                                              title  \\\n",
       "0          @kerinokeefe                  Nicosia 2013 Vulkà Bianco  (Etna)   \n",
       "1            @vossroger      Quinta dos Avidagos 2011 Avidagos Red (Douro)   \n",
       "2           @paulgwine       Rainstorm 2013 Pinot Gris (Willamette Valley)   \n",
       "3                   NaN  St. Julian 2013 Reserve Late Harvest Riesling ...   \n",
       "4           @paulgwine   Sweet Cheeks 2012 Vintner's Reserve Wild Child...   \n",
       "\n",
       "          variety               winery  \n",
       "0     White Blend              Nicosia  \n",
       "1  Portuguese Red  Quinta dos Avidagos  \n",
       "2      Pinot Gris            Rainstorm  \n",
       "3        Riesling           St. Julian  \n",
       "4      Pinot Noir         Sweet Cheeks  "
      ]
     },
     "execution_count": 2,
     "metadata": {},
     "output_type": "execute_result"
    }
   ],
   "source": [
    "reviews.head()"
   ]
  },
  {
   "cell_type": "markdown",
   "id": "656f4757",
   "metadata": {
    "papermill": {
     "duration": 0.007726,
     "end_time": "2022-11-10T05:01:05.228217",
     "exception": false,
     "start_time": "2022-11-10T05:01:05.220491",
     "status": "completed"
    },
    "tags": []
   },
   "source": [
    "# Exercises"
   ]
  },
  {
   "cell_type": "markdown",
   "id": "98398164",
   "metadata": {
    "papermill": {
     "duration": 0.007314,
     "end_time": "2022-11-10T05:01:05.243474",
     "exception": false,
     "start_time": "2022-11-10T05:01:05.236160",
     "status": "completed"
    },
    "tags": []
   },
   "source": [
    "## 1.\n",
    "\n",
    "Select the `description` column from `reviews` and assign the result to the variable `desc`."
   ]
  },
  {
   "cell_type": "code",
   "execution_count": 3,
   "id": "9f03a70a",
   "metadata": {
    "execution": {
     "iopub.execute_input": "2022-11-10T05:01:05.263657Z",
     "iopub.status.busy": "2022-11-10T05:01:05.263062Z",
     "iopub.status.idle": "2022-11-10T05:01:05.275994Z",
     "shell.execute_reply": "2022-11-10T05:01:05.274461Z"
    },
    "papermill": {
     "duration": 0.026204,
     "end_time": "2022-11-10T05:01:05.279025",
     "exception": false,
     "start_time": "2022-11-10T05:01:05.252821",
     "status": "completed"
    },
    "tags": []
   },
   "outputs": [
    {
     "data": {
      "application/javascript": [
       "parent.postMessage({\"jupyterEvent\": \"custom.exercise_interaction\", \"data\": {\"outcomeType\": 4, \"interactionType\": 1, \"questionType\": 1, \"questionId\": \"1_SelectDescCol\", \"learnToolsVersion\": \"0.3.4\", \"valueTowardsCompletion\": 0.0, \"failureMessage\": \"\", \"exceptionClass\": \"\", \"trace\": \"\"}}, \"*\")"
      ],
      "text/plain": [
       "<IPython.core.display.Javascript object>"
      ]
     },
     "metadata": {},
     "output_type": "display_data"
    },
    {
     "data": {
      "text/markdown": [
       "<span style=\"color:#ccaa33\">Check:</span> When you've updated the starter code, `check()` will tell you whether your code is correct. You need to update the code that creates variable `desc`"
      ],
      "text/plain": [
       "Check: When you've updated the starter code, `check()` will tell you whether your code is correct. You need to update the code that creates variable `desc`"
      ]
     },
     "metadata": {},
     "output_type": "display_data"
    }
   ],
   "source": [
    "# Your code here\n",
    "desc = ____\n",
    "\n",
    "# Check your answer\n",
    "q1.check()"
   ]
  },
  {
   "cell_type": "markdown",
   "id": "0ed7c328",
   "metadata": {
    "papermill": {
     "duration": 0.007744,
     "end_time": "2022-11-10T05:01:05.295437",
     "exception": false,
     "start_time": "2022-11-10T05:01:05.287693",
     "status": "completed"
    },
    "tags": []
   },
   "source": [
    "Follow-up question: what type of object is `desc`? If you're not sure, you can check by calling Python's `type` function: `type(desc)`."
   ]
  },
  {
   "cell_type": "code",
   "execution_count": 4,
   "id": "1fdc9355",
   "metadata": {
    "execution": {
     "iopub.execute_input": "2022-11-10T05:01:05.313952Z",
     "iopub.status.busy": "2022-11-10T05:01:05.313441Z",
     "iopub.status.idle": "2022-11-10T05:01:05.318429Z",
     "shell.execute_reply": "2022-11-10T05:01:05.317092Z"
    },
    "papermill": {
     "duration": 0.017547,
     "end_time": "2022-11-10T05:01:05.321066",
     "exception": false,
     "start_time": "2022-11-10T05:01:05.303519",
     "status": "completed"
    },
    "tags": []
   },
   "outputs": [],
   "source": [
    "#q1.hint()\n",
    "#q1.solution()"
   ]
  },
  {
   "cell_type": "markdown",
   "id": "c9e6caab",
   "metadata": {
    "papermill": {
     "duration": 0.007959,
     "end_time": "2022-11-10T05:01:05.337033",
     "exception": false,
     "start_time": "2022-11-10T05:01:05.329074",
     "status": "completed"
    },
    "tags": []
   },
   "source": [
    "## 2.\n",
    "\n",
    "Select the first value from the description column of `reviews`, assigning it to variable `first_description`."
   ]
  },
  {
   "cell_type": "code",
   "execution_count": 5,
   "id": "bc011fcb",
   "metadata": {
    "execution": {
     "iopub.execute_input": "2022-11-10T05:01:05.355422Z",
     "iopub.status.busy": "2022-11-10T05:01:05.354892Z",
     "iopub.status.idle": "2022-11-10T05:01:05.366585Z",
     "shell.execute_reply": "2022-11-10T05:01:05.365555Z"
    },
    "papermill": {
     "duration": 0.024173,
     "end_time": "2022-11-10T05:01:05.369219",
     "exception": false,
     "start_time": "2022-11-10T05:01:05.345046",
     "status": "completed"
    },
    "tags": []
   },
   "outputs": [
    {
     "data": {
      "application/javascript": [
       "parent.postMessage({\"jupyterEvent\": \"custom.exercise_interaction\", \"data\": {\"outcomeType\": 4, \"interactionType\": 1, \"questionType\": 1, \"questionId\": \"2_FirstDesc\", \"learnToolsVersion\": \"0.3.4\", \"valueTowardsCompletion\": 0.0, \"failureMessage\": \"\", \"exceptionClass\": \"\", \"trace\": \"\"}}, \"*\")"
      ],
      "text/plain": [
       "<IPython.core.display.Javascript object>"
      ]
     },
     "metadata": {},
     "output_type": "display_data"
    },
    {
     "data": {
      "text/markdown": [
       "<span style=\"color:#ccaa33\">Check:</span> When you've updated the starter code, `check()` will tell you whether your code is correct. You need to update the code that creates variable `first_description`"
      ],
      "text/plain": [
       "Check: When you've updated the starter code, `check()` will tell you whether your code is correct. You need to update the code that creates variable `first_description`"
      ]
     },
     "metadata": {},
     "output_type": "display_data"
    },
    {
     "data": {
      "text/markdown": [],
      "text/plain": [
       "<learntools.core.constants.PlaceholderValue at 0x7fb4cae9a510>"
      ]
     },
     "execution_count": 5,
     "metadata": {},
     "output_type": "execute_result"
    }
   ],
   "source": [
    "first_description = ____\n",
    "\n",
    "# Check your answer\n",
    "q2.check()\n",
    "first_description"
   ]
  },
  {
   "cell_type": "code",
   "execution_count": 6,
   "id": "227a9717",
   "metadata": {
    "execution": {
     "iopub.execute_input": "2022-11-10T05:01:05.388371Z",
     "iopub.status.busy": "2022-11-10T05:01:05.387824Z",
     "iopub.status.idle": "2022-11-10T05:01:05.393423Z",
     "shell.execute_reply": "2022-11-10T05:01:05.392085Z"
    },
    "papermill": {
     "duration": 0.018549,
     "end_time": "2022-11-10T05:01:05.396387",
     "exception": false,
     "start_time": "2022-11-10T05:01:05.377838",
     "status": "completed"
    },
    "tags": []
   },
   "outputs": [],
   "source": [
    "#q2.hint()\n",
    "#q2.solution()"
   ]
  },
  {
   "cell_type": "markdown",
   "id": "af6b231d",
   "metadata": {
    "papermill": {
     "duration": 0.009624,
     "end_time": "2022-11-10T05:01:05.414899",
     "exception": false,
     "start_time": "2022-11-10T05:01:05.405275",
     "status": "completed"
    },
    "tags": []
   },
   "source": [
    "## 3. \n",
    "\n",
    "Select the first row of data (the first record) from `reviews`, assigning it to the variable `first_row`."
   ]
  },
  {
   "cell_type": "code",
   "execution_count": 7,
   "id": "9511660a",
   "metadata": {
    "execution": {
     "iopub.execute_input": "2022-11-10T05:01:05.434768Z",
     "iopub.status.busy": "2022-11-10T05:01:05.434247Z",
     "iopub.status.idle": "2022-11-10T05:01:05.448438Z",
     "shell.execute_reply": "2022-11-10T05:01:05.447028Z"
    },
    "papermill": {
     "duration": 0.027356,
     "end_time": "2022-11-10T05:01:05.451037",
     "exception": false,
     "start_time": "2022-11-10T05:01:05.423681",
     "status": "completed"
    },
    "tags": []
   },
   "outputs": [
    {
     "data": {
      "application/javascript": [
       "parent.postMessage({\"jupyterEvent\": \"custom.exercise_interaction\", \"data\": {\"outcomeType\": 4, \"interactionType\": 1, \"questionType\": 1, \"questionId\": \"3_FirstRow\", \"learnToolsVersion\": \"0.3.4\", \"valueTowardsCompletion\": 0.0, \"failureMessage\": \"\", \"exceptionClass\": \"\", \"trace\": \"\"}}, \"*\")"
      ],
      "text/plain": [
       "<IPython.core.display.Javascript object>"
      ]
     },
     "metadata": {},
     "output_type": "display_data"
    },
    {
     "data": {
      "text/markdown": [
       "<span style=\"color:#ccaa33\">Check:</span> When you've updated the starter code, `check()` will tell you whether your code is correct. You need to update the code that creates variable `first_row`"
      ],
      "text/plain": [
       "Check: When you've updated the starter code, `check()` will tell you whether your code is correct. You need to update the code that creates variable `first_row`"
      ]
     },
     "metadata": {},
     "output_type": "display_data"
    },
    {
     "data": {
      "text/markdown": [],
      "text/plain": [
       "<learntools.core.constants.PlaceholderValue at 0x7fb4cae9a510>"
      ]
     },
     "execution_count": 7,
     "metadata": {},
     "output_type": "execute_result"
    }
   ],
   "source": [
    "first_row = ____\n",
    "\n",
    "# Check your answer\n",
    "q3.check()\n",
    "first_row"
   ]
  },
  {
   "cell_type": "code",
   "execution_count": 8,
   "id": "ef5302ee",
   "metadata": {
    "execution": {
     "iopub.execute_input": "2022-11-10T05:01:05.471748Z",
     "iopub.status.busy": "2022-11-10T05:01:05.471193Z",
     "iopub.status.idle": "2022-11-10T05:01:05.476483Z",
     "shell.execute_reply": "2022-11-10T05:01:05.474987Z"
    },
    "papermill": {
     "duration": 0.01929,
     "end_time": "2022-11-10T05:01:05.479758",
     "exception": false,
     "start_time": "2022-11-10T05:01:05.460468",
     "status": "completed"
    },
    "tags": []
   },
   "outputs": [],
   "source": [
    "#q3.hint()\n",
    "#q3.solution()"
   ]
  },
  {
   "cell_type": "markdown",
   "id": "2d7b6e25",
   "metadata": {
    "papermill": {
     "duration": 0.009321,
     "end_time": "2022-11-10T05:01:05.498740",
     "exception": false,
     "start_time": "2022-11-10T05:01:05.489419",
     "status": "completed"
    },
    "tags": []
   },
   "source": [
    "## 4.\n",
    "\n",
    "Select the first 10 values from the `description` column in `reviews`, assigning the result to variable `first_descriptions`.\n",
    "\n",
    "Hint: format your output as a pandas Series."
   ]
  },
  {
   "cell_type": "code",
   "execution_count": 9,
   "id": "e4efa340",
   "metadata": {
    "execution": {
     "iopub.execute_input": "2022-11-10T05:01:05.521287Z",
     "iopub.status.busy": "2022-11-10T05:01:05.520768Z",
     "iopub.status.idle": "2022-11-10T05:01:05.533562Z",
     "shell.execute_reply": "2022-11-10T05:01:05.532275Z"
    },
    "papermill": {
     "duration": 0.028171,
     "end_time": "2022-11-10T05:01:05.536156",
     "exception": false,
     "start_time": "2022-11-10T05:01:05.507985",
     "status": "completed"
    },
    "tags": []
   },
   "outputs": [
    {
     "data": {
      "application/javascript": [
       "parent.postMessage({\"jupyterEvent\": \"custom.exercise_interaction\", \"data\": {\"outcomeType\": 4, \"interactionType\": 1, \"questionType\": 1, \"questionId\": \"4_FirstDescs\", \"learnToolsVersion\": \"0.3.4\", \"valueTowardsCompletion\": 0.0, \"failureMessage\": \"\", \"exceptionClass\": \"\", \"trace\": \"\"}}, \"*\")"
      ],
      "text/plain": [
       "<IPython.core.display.Javascript object>"
      ]
     },
     "metadata": {},
     "output_type": "display_data"
    },
    {
     "data": {
      "text/markdown": [
       "<span style=\"color:#ccaa33\">Check:</span> When you've updated the starter code, `check()` will tell you whether your code is correct. You need to update the code that creates variable `first_descriptions`"
      ],
      "text/plain": [
       "Check: When you've updated the starter code, `check()` will tell you whether your code is correct. You need to update the code that creates variable `first_descriptions`"
      ]
     },
     "metadata": {},
     "output_type": "display_data"
    },
    {
     "data": {
      "text/markdown": [],
      "text/plain": [
       "<learntools.core.constants.PlaceholderValue at 0x7fb4cae9a510>"
      ]
     },
     "execution_count": 9,
     "metadata": {},
     "output_type": "execute_result"
    }
   ],
   "source": [
    "first_descriptions = ____\n",
    "\n",
    "# Check your answer\n",
    "q4.check()\n",
    "first_descriptions"
   ]
  },
  {
   "cell_type": "code",
   "execution_count": 10,
   "id": "b0e2cf09",
   "metadata": {
    "execution": {
     "iopub.execute_input": "2022-11-10T05:01:05.558556Z",
     "iopub.status.busy": "2022-11-10T05:01:05.557931Z",
     "iopub.status.idle": "2022-11-10T05:01:05.562958Z",
     "shell.execute_reply": "2022-11-10T05:01:05.561824Z"
    },
    "papermill": {
     "duration": 0.019518,
     "end_time": "2022-11-10T05:01:05.565432",
     "exception": false,
     "start_time": "2022-11-10T05:01:05.545914",
     "status": "completed"
    },
    "tags": []
   },
   "outputs": [],
   "source": [
    "#q4.hint()\n",
    "#q4.solution()"
   ]
  },
  {
   "cell_type": "markdown",
   "id": "29535fe0",
   "metadata": {
    "papermill": {
     "duration": 0.009219,
     "end_time": "2022-11-10T05:01:05.584382",
     "exception": false,
     "start_time": "2022-11-10T05:01:05.575163",
     "status": "completed"
    },
    "tags": []
   },
   "source": [
    "## 5.\n",
    "\n",
    "Select the records with index labels `1`, `2`, `3`, `5`, and `8`, assigning the result to the variable `sample_reviews`.\n",
    "\n",
    "In other words, generate the following DataFrame:\n",
    "\n",
    "![](https://i.imgur.com/sHZvI1O.png)"
   ]
  },
  {
   "cell_type": "code",
   "execution_count": 11,
   "id": "96b229f8",
   "metadata": {
    "execution": {
     "iopub.execute_input": "2022-11-10T05:01:05.606396Z",
     "iopub.status.busy": "2022-11-10T05:01:05.605902Z",
     "iopub.status.idle": "2022-11-10T05:01:05.615780Z",
     "shell.execute_reply": "2022-11-10T05:01:05.614890Z"
    },
    "papermill": {
     "duration": 0.023867,
     "end_time": "2022-11-10T05:01:05.618414",
     "exception": false,
     "start_time": "2022-11-10T05:01:05.594547",
     "status": "completed"
    },
    "tags": []
   },
   "outputs": [
    {
     "data": {
      "application/javascript": [
       "parent.postMessage({\"jupyterEvent\": \"custom.exercise_interaction\", \"data\": {\"outcomeType\": 4, \"interactionType\": 1, \"questionType\": 1, \"questionId\": \"5_SampleReviews\", \"learnToolsVersion\": \"0.3.4\", \"valueTowardsCompletion\": 0.0, \"failureMessage\": \"\", \"exceptionClass\": \"\", \"trace\": \"\"}}, \"*\")"
      ],
      "text/plain": [
       "<IPython.core.display.Javascript object>"
      ]
     },
     "metadata": {},
     "output_type": "display_data"
    },
    {
     "data": {
      "text/markdown": [
       "<span style=\"color:#ccaa33\">Check:</span> When you've updated the starter code, `check()` will tell you whether your code is correct. You need to update the code that creates variable `sample_reviews`"
      ],
      "text/plain": [
       "Check: When you've updated the starter code, `check()` will tell you whether your code is correct. You need to update the code that creates variable `sample_reviews`"
      ]
     },
     "metadata": {},
     "output_type": "display_data"
    },
    {
     "data": {
      "text/markdown": [],
      "text/plain": [
       "<learntools.core.constants.PlaceholderValue at 0x7fb4cae9a510>"
      ]
     },
     "execution_count": 11,
     "metadata": {},
     "output_type": "execute_result"
    }
   ],
   "source": [
    "sample_reviews = ____\n",
    "\n",
    "# Check your answer\n",
    "q5.check()\n",
    "sample_reviews"
   ]
  },
  {
   "cell_type": "code",
   "execution_count": 12,
   "id": "daed1096",
   "metadata": {
    "execution": {
     "iopub.execute_input": "2022-11-10T05:01:05.640666Z",
     "iopub.status.busy": "2022-11-10T05:01:05.640098Z",
     "iopub.status.idle": "2022-11-10T05:01:05.644821Z",
     "shell.execute_reply": "2022-11-10T05:01:05.643537Z"
    },
    "papermill": {
     "duration": 0.019554,
     "end_time": "2022-11-10T05:01:05.647920",
     "exception": false,
     "start_time": "2022-11-10T05:01:05.628366",
     "status": "completed"
    },
    "tags": []
   },
   "outputs": [],
   "source": [
    "#q5.hint()\n",
    "#q5.solution()"
   ]
  },
  {
   "cell_type": "markdown",
   "id": "ae996d28",
   "metadata": {
    "papermill": {
     "duration": 0.010643,
     "end_time": "2022-11-10T05:01:05.668945",
     "exception": false,
     "start_time": "2022-11-10T05:01:05.658302",
     "status": "completed"
    },
    "tags": []
   },
   "source": [
    "## 6.\n",
    "\n",
    "Create a variable `df` containing the `country`, `province`, `region_1`, and `region_2` columns of the records with the index labels `0`, `1`, `10`, and `100`. In other words, generate the following DataFrame:\n",
    "\n",
    "![](https://i.imgur.com/FUCGiKP.png)"
   ]
  },
  {
   "cell_type": "code",
   "execution_count": 13,
   "id": "8731767c",
   "metadata": {
    "execution": {
     "iopub.execute_input": "2022-11-10T05:01:05.692841Z",
     "iopub.status.busy": "2022-11-10T05:01:05.692255Z",
     "iopub.status.idle": "2022-11-10T05:01:05.704893Z",
     "shell.execute_reply": "2022-11-10T05:01:05.703638Z"
    },
    "papermill": {
     "duration": 0.027211,
     "end_time": "2022-11-10T05:01:05.707417",
     "exception": false,
     "start_time": "2022-11-10T05:01:05.680206",
     "status": "completed"
    },
    "tags": []
   },
   "outputs": [
    {
     "data": {
      "application/javascript": [
       "parent.postMessage({\"jupyterEvent\": \"custom.exercise_interaction\", \"data\": {\"outcomeType\": 4, \"interactionType\": 1, \"questionType\": 1, \"questionId\": \"6_RowColSelect\", \"learnToolsVersion\": \"0.3.4\", \"valueTowardsCompletion\": 0.0, \"failureMessage\": \"\", \"exceptionClass\": \"\", \"trace\": \"\"}}, \"*\")"
      ],
      "text/plain": [
       "<IPython.core.display.Javascript object>"
      ]
     },
     "metadata": {},
     "output_type": "display_data"
    },
    {
     "data": {
      "text/markdown": [
       "<span style=\"color:#ccaa33\">Check:</span> When you've updated the starter code, `check()` will tell you whether your code is correct. You need to update the code that creates variable `df`"
      ],
      "text/plain": [
       "Check: When you've updated the starter code, `check()` will tell you whether your code is correct. You need to update the code that creates variable `df`"
      ]
     },
     "metadata": {},
     "output_type": "display_data"
    },
    {
     "data": {
      "text/markdown": [],
      "text/plain": [
       "<learntools.core.constants.PlaceholderValue at 0x7fb4cae9a510>"
      ]
     },
     "execution_count": 13,
     "metadata": {},
     "output_type": "execute_result"
    }
   ],
   "source": [
    "df = ____\n",
    "\n",
    "# Check your answer\n",
    "q6.check()\n",
    "df"
   ]
  },
  {
   "cell_type": "code",
   "execution_count": 14,
   "id": "d5e3d1ef",
   "metadata": {
    "execution": {
     "iopub.execute_input": "2022-11-10T05:01:05.730474Z",
     "iopub.status.busy": "2022-11-10T05:01:05.729684Z",
     "iopub.status.idle": "2022-11-10T05:01:05.734401Z",
     "shell.execute_reply": "2022-11-10T05:01:05.733517Z"
    },
    "papermill": {
     "duration": 0.018816,
     "end_time": "2022-11-10T05:01:05.736594",
     "exception": false,
     "start_time": "2022-11-10T05:01:05.717778",
     "status": "completed"
    },
    "tags": []
   },
   "outputs": [],
   "source": [
    "#q6.hint()\n",
    "#q6.solution()"
   ]
  },
  {
   "cell_type": "markdown",
   "id": "971f9741",
   "metadata": {
    "papermill": {
     "duration": 0.010052,
     "end_time": "2022-11-10T05:01:05.757112",
     "exception": false,
     "start_time": "2022-11-10T05:01:05.747060",
     "status": "completed"
    },
    "tags": []
   },
   "source": [
    "## 7.\n",
    "\n",
    "Create a variable `df` containing the `country` and `variety` columns of the first 100 records. \n",
    "\n",
    "Hint: you may use `loc` or `iloc`. When working on the answer this question and the several of the ones that follow, keep the following \"gotcha\" described in the tutorial:\n",
    "\n",
    "> `iloc` uses the Python stdlib indexing scheme, where the first element of the range is included and the last one excluded. \n",
    "`loc`, meanwhile, indexes inclusively. \n",
    "\n",
    "> This is particularly confusing when the DataFrame index is a simple numerical list, e.g. `0,...,1000`. In this case `df.iloc[0:1000]` will return 1000 entries, while `df.loc[0:1000]` return 1001 of them! To get 1000 elements using `loc`, you will need to go one lower and ask for `df.iloc[0:999]`. "
   ]
  },
  {
   "cell_type": "code",
   "execution_count": 15,
   "id": "04a86cd9",
   "metadata": {
    "execution": {
     "iopub.execute_input": "2022-11-10T05:01:05.780945Z",
     "iopub.status.busy": "2022-11-10T05:01:05.780108Z",
     "iopub.status.idle": "2022-11-10T05:01:05.793048Z",
     "shell.execute_reply": "2022-11-10T05:01:05.791712Z"
    },
    "papermill": {
     "duration": 0.027883,
     "end_time": "2022-11-10T05:01:05.795559",
     "exception": false,
     "start_time": "2022-11-10T05:01:05.767676",
     "status": "completed"
    },
    "tags": []
   },
   "outputs": [
    {
     "data": {
      "application/javascript": [
       "parent.postMessage({\"jupyterEvent\": \"custom.exercise_interaction\", \"data\": {\"outcomeType\": 4, \"interactionType\": 1, \"questionType\": 1, \"questionId\": \"7_RowColSelect2\", \"learnToolsVersion\": \"0.3.4\", \"valueTowardsCompletion\": 0.0, \"failureMessage\": \"\", \"exceptionClass\": \"\", \"trace\": \"\"}}, \"*\")"
      ],
      "text/plain": [
       "<IPython.core.display.Javascript object>"
      ]
     },
     "metadata": {},
     "output_type": "display_data"
    },
    {
     "data": {
      "text/markdown": [
       "<span style=\"color:#ccaa33\">Check:</span> When you've updated the starter code, `check()` will tell you whether your code is correct. You need to update the code that creates variable `df`"
      ],
      "text/plain": [
       "Check: When you've updated the starter code, `check()` will tell you whether your code is correct. You need to update the code that creates variable `df`"
      ]
     },
     "metadata": {},
     "output_type": "display_data"
    },
    {
     "data": {
      "text/markdown": [],
      "text/plain": [
       "<learntools.core.constants.PlaceholderValue at 0x7fb4cae9a510>"
      ]
     },
     "execution_count": 15,
     "metadata": {},
     "output_type": "execute_result"
    }
   ],
   "source": [
    "df = ____\n",
    "\n",
    "# Check your answer\n",
    "q7.check()\n",
    "df"
   ]
  },
  {
   "cell_type": "code",
   "execution_count": 16,
   "id": "7d59a58e",
   "metadata": {
    "execution": {
     "iopub.execute_input": "2022-11-10T05:01:05.820201Z",
     "iopub.status.busy": "2022-11-10T05:01:05.819370Z",
     "iopub.status.idle": "2022-11-10T05:01:05.825250Z",
     "shell.execute_reply": "2022-11-10T05:01:05.823800Z"
    },
    "papermill": {
     "duration": 0.02167,
     "end_time": "2022-11-10T05:01:05.828224",
     "exception": false,
     "start_time": "2022-11-10T05:01:05.806554",
     "status": "completed"
    },
    "tags": []
   },
   "outputs": [],
   "source": [
    "#q7.hint()\n",
    "#q7.solution()"
   ]
  },
  {
   "cell_type": "markdown",
   "id": "daa2a1b3",
   "metadata": {
    "papermill": {
     "duration": 0.010955,
     "end_time": "2022-11-10T05:01:05.850623",
     "exception": false,
     "start_time": "2022-11-10T05:01:05.839668",
     "status": "completed"
    },
    "tags": []
   },
   "source": [
    "## 8.\n",
    "\n",
    "Create a DataFrame `italian_wines` containing reviews of wines made in `Italy`. Hint: `reviews.country` equals what?"
   ]
  },
  {
   "cell_type": "code",
   "execution_count": 17,
   "id": "869c9618",
   "metadata": {
    "execution": {
     "iopub.execute_input": "2022-11-10T05:01:05.875830Z",
     "iopub.status.busy": "2022-11-10T05:01:05.874569Z",
     "iopub.status.idle": "2022-11-10T05:01:05.883777Z",
     "shell.execute_reply": "2022-11-10T05:01:05.882568Z"
    },
    "papermill": {
     "duration": 0.02412,
     "end_time": "2022-11-10T05:01:05.886317",
     "exception": false,
     "start_time": "2022-11-10T05:01:05.862197",
     "status": "completed"
    },
    "tags": []
   },
   "outputs": [
    {
     "data": {
      "application/javascript": [
       "parent.postMessage({\"jupyterEvent\": \"custom.exercise_interaction\", \"data\": {\"outcomeType\": 4, \"interactionType\": 1, \"questionType\": 1, \"questionId\": \"8_ItalianWines\", \"learnToolsVersion\": \"0.3.4\", \"valueTowardsCompletion\": 0.0, \"failureMessage\": \"\", \"exceptionClass\": \"\", \"trace\": \"\"}}, \"*\")"
      ],
      "text/plain": [
       "<IPython.core.display.Javascript object>"
      ]
     },
     "metadata": {},
     "output_type": "display_data"
    },
    {
     "data": {
      "text/markdown": [
       "<span style=\"color:#ccaa33\">Check:</span> When you've updated the starter code, `check()` will tell you whether your code is correct. You need to update the code that creates variable `italian_wines`"
      ],
      "text/plain": [
       "Check: When you've updated the starter code, `check()` will tell you whether your code is correct. You need to update the code that creates variable `italian_wines`"
      ]
     },
     "metadata": {},
     "output_type": "display_data"
    }
   ],
   "source": [
    "italian_wines = ____\n",
    "\n",
    "# Check your answer\n",
    "q8.check()"
   ]
  },
  {
   "cell_type": "code",
   "execution_count": 18,
   "id": "160ec344",
   "metadata": {
    "execution": {
     "iopub.execute_input": "2022-11-10T05:01:05.911693Z",
     "iopub.status.busy": "2022-11-10T05:01:05.910676Z",
     "iopub.status.idle": "2022-11-10T05:01:05.915939Z",
     "shell.execute_reply": "2022-11-10T05:01:05.914903Z"
    },
    "papermill": {
     "duration": 0.020859,
     "end_time": "2022-11-10T05:01:05.918503",
     "exception": false,
     "start_time": "2022-11-10T05:01:05.897644",
     "status": "completed"
    },
    "tags": []
   },
   "outputs": [],
   "source": [
    "#q8.hint()\n",
    "#q8.solution()"
   ]
  },
  {
   "cell_type": "markdown",
   "id": "6207a2cd",
   "metadata": {
    "papermill": {
     "duration": 0.01068,
     "end_time": "2022-11-10T05:01:05.940434",
     "exception": false,
     "start_time": "2022-11-10T05:01:05.929754",
     "status": "completed"
    },
    "tags": []
   },
   "source": [
    "## 9.\n",
    "\n",
    "Create a DataFrame `top_oceania_wines` containing all reviews with at least 95 points (out of 100) for wines from Australia or New Zealand."
   ]
  },
  {
   "cell_type": "code",
   "execution_count": 19,
   "id": "98f19b0a",
   "metadata": {
    "execution": {
     "iopub.execute_input": "2022-11-10T05:01:05.965313Z",
     "iopub.status.busy": "2022-11-10T05:01:05.964538Z",
     "iopub.status.idle": "2022-11-10T05:01:05.975496Z",
     "shell.execute_reply": "2022-11-10T05:01:05.974516Z"
    },
    "papermill": {
     "duration": 0.026294,
     "end_time": "2022-11-10T05:01:05.977958",
     "exception": false,
     "start_time": "2022-11-10T05:01:05.951664",
     "status": "completed"
    },
    "tags": []
   },
   "outputs": [
    {
     "data": {
      "application/javascript": [
       "parent.postMessage({\"jupyterEvent\": \"custom.exercise_interaction\", \"data\": {\"outcomeType\": 4, \"interactionType\": 1, \"questionType\": 1, \"questionId\": \"9_TopOceanicWines\", \"learnToolsVersion\": \"0.3.4\", \"valueTowardsCompletion\": 0.0, \"failureMessage\": \"\", \"exceptionClass\": \"\", \"trace\": \"\"}}, \"*\")"
      ],
      "text/plain": [
       "<IPython.core.display.Javascript object>"
      ]
     },
     "metadata": {},
     "output_type": "display_data"
    },
    {
     "data": {
      "text/markdown": [
       "<span style=\"color:#ccaa33\">Check:</span> When you've updated the starter code, `check()` will tell you whether your code is correct. You need to update the code that creates variable `top_oceania_wines`"
      ],
      "text/plain": [
       "Check: When you've updated the starter code, `check()` will tell you whether your code is correct. You need to update the code that creates variable `top_oceania_wines`"
      ]
     },
     "metadata": {},
     "output_type": "display_data"
    },
    {
     "data": {
      "text/markdown": [],
      "text/plain": [
       "<learntools.core.constants.PlaceholderValue at 0x7fb4cae9a510>"
      ]
     },
     "execution_count": 19,
     "metadata": {},
     "output_type": "execute_result"
    }
   ],
   "source": [
    "top_oceania_wines = ____\n",
    "\n",
    "# Check your answer\n",
    "q9.check()\n",
    "top_oceania_wines"
   ]
  },
  {
   "cell_type": "code",
   "execution_count": 20,
   "id": "770ab2d5",
   "metadata": {
    "execution": {
     "iopub.execute_input": "2022-11-10T05:01:06.004813Z",
     "iopub.status.busy": "2022-11-10T05:01:06.003948Z",
     "iopub.status.idle": "2022-11-10T05:01:06.008990Z",
     "shell.execute_reply": "2022-11-10T05:01:06.007716Z"
    },
    "papermill": {
     "duration": 0.021505,
     "end_time": "2022-11-10T05:01:06.011878",
     "exception": false,
     "start_time": "2022-11-10T05:01:05.990373",
     "status": "completed"
    },
    "tags": []
   },
   "outputs": [],
   "source": [
    "#q9.hint()\n",
    "#q9.solution()"
   ]
  },
  {
   "cell_type": "markdown",
   "id": "08e83205",
   "metadata": {
    "papermill": {
     "duration": 0.011428,
     "end_time": "2022-11-10T05:01:06.034925",
     "exception": false,
     "start_time": "2022-11-10T05:01:06.023497",
     "status": "completed"
    },
    "tags": []
   },
   "source": [
    "# Keep going\n",
    "\n",
    "Move on to learn about **[summary functions and maps](https://www.kaggle.com/residentmario/summary-functions-and-maps)**."
   ]
  },
  {
   "cell_type": "markdown",
   "id": "229394c8",
   "metadata": {
    "papermill": {
     "duration": 0.012731,
     "end_time": "2022-11-10T05:01:06.059744",
     "exception": false,
     "start_time": "2022-11-10T05:01:06.047013",
     "status": "completed"
    },
    "tags": []
   },
   "source": [
    "---\n",
    "\n",
    "\n",
    "\n",
    "\n",
    "*Have questions or comments? Visit the [course discussion forum](https://www.kaggle.com/learn/pandas/discussion) to chat with other learners.*"
   ]
  }
 ],
 "metadata": {
  "kernelspec": {
   "display_name": "Python 3",
   "language": "python",
   "name": "python3"
  },
  "language_info": {
   "codemirror_mode": {
    "name": "ipython",
    "version": 3
   },
   "file_extension": ".py",
   "mimetype": "text/x-python",
   "name": "python",
   "nbconvert_exporter": "python",
   "pygments_lexer": "ipython3",
   "version": "3.7.12"
  },
  "papermill": {
   "default_parameters": {},
   "duration": 16.324529,
   "end_time": "2022-11-10T05:01:07.098764",
   "environment_variables": {},
   "exception": null,
   "input_path": "__notebook__.ipynb",
   "output_path": "__notebook__.ipynb",
   "parameters": {},
   "start_time": "2022-11-10T05:00:50.774235",
   "version": "2.3.4"
  }
 },
 "nbformat": 4,
 "nbformat_minor": 5
}
