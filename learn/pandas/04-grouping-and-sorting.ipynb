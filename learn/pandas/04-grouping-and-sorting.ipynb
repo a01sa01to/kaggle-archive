{
 "cells": [
  {
   "cell_type": "markdown",
   "id": "0e81063f",
   "metadata": {
    "papermill": {
     "duration": 0.00566,
     "end_time": "2022-11-11T00:05:37.775686",
     "exception": false,
     "start_time": "2022-11-11T00:05:37.770026",
     "status": "completed"
    },
    "tags": []
   },
   "source": [
    "**This notebook is an exercise in the [Pandas](https://www.kaggle.com/learn/pandas) course.  You can reference the tutorial at [this link](https://www.kaggle.com/residentmario/grouping-and-sorting).**\n",
    "\n",
    "---\n"
   ]
  },
  {
   "cell_type": "markdown",
   "id": "e60ccafd",
   "metadata": {
    "papermill": {
     "duration": 0.004407,
     "end_time": "2022-11-11T00:05:37.784955",
     "exception": false,
     "start_time": "2022-11-11T00:05:37.780548",
     "status": "completed"
    },
    "tags": []
   },
   "source": [
    "# Introduction\n",
    "\n",
    "In these exercises we'll apply groupwise analysis to our dataset.\n",
    "\n",
    "Run the code cell below to load the data before running the exercises."
   ]
  },
  {
   "cell_type": "code",
   "execution_count": 1,
   "id": "3f349912",
   "metadata": {
    "execution": {
     "iopub.execute_input": "2022-11-11T00:05:37.796425Z",
     "iopub.status.busy": "2022-11-11T00:05:37.795748Z",
     "iopub.status.idle": "2022-11-11T00:05:40.296247Z",
     "shell.execute_reply": "2022-11-11T00:05:40.295264Z"
    },
    "papermill": {
     "duration": 2.508874,
     "end_time": "2022-11-11T00:05:40.298471",
     "exception": false,
     "start_time": "2022-11-11T00:05:37.789597",
     "status": "completed"
    },
    "tags": []
   },
   "outputs": [
    {
     "name": "stdout",
     "output_type": "stream",
     "text": [
      "Setup complete.\n"
     ]
    }
   ],
   "source": [
    "import pandas as pd\n",
    "\n",
    "reviews = pd.read_csv(\"../input/wine-reviews/winemag-data-130k-v2.csv\", index_col=0)\n",
    "#pd.set_option(\"display.max_rows\", 5)\n",
    "\n",
    "from learntools.core import binder; binder.bind(globals())\n",
    "from learntools.pandas.grouping_and_sorting import *\n",
    "print(\"Setup complete.\")"
   ]
  },
  {
   "cell_type": "markdown",
   "id": "a7ff27e4",
   "metadata": {
    "papermill": {
     "duration": 0.004699,
     "end_time": "2022-11-11T00:05:40.309150",
     "exception": false,
     "start_time": "2022-11-11T00:05:40.304451",
     "status": "completed"
    },
    "tags": []
   },
   "source": [
    "# Exercises"
   ]
  },
  {
   "cell_type": "markdown",
   "id": "6f92fecd",
   "metadata": {
    "papermill": {
     "duration": 0.004802,
     "end_time": "2022-11-11T00:05:40.318985",
     "exception": false,
     "start_time": "2022-11-11T00:05:40.314183",
     "status": "completed"
    },
    "tags": []
   },
   "source": [
    "## 1.\n",
    "Who are the most common wine reviewers in the dataset? Create a `Series` whose index is the `taster_twitter_handle` category from the dataset, and whose values count how many reviews each person wrote."
   ]
  },
  {
   "cell_type": "code",
   "execution_count": 2,
   "id": "ee1f1597",
   "metadata": {
    "execution": {
     "iopub.execute_input": "2022-11-11T00:05:40.330512Z",
     "iopub.status.busy": "2022-11-11T00:05:40.330158Z",
     "iopub.status.idle": "2022-11-11T00:05:40.354049Z",
     "shell.execute_reply": "2022-11-11T00:05:40.353172Z"
    },
    "papermill": {
     "duration": 0.031995,
     "end_time": "2022-11-11T00:05:40.356020",
     "exception": false,
     "start_time": "2022-11-11T00:05:40.324025",
     "status": "completed"
    },
    "tags": []
   },
   "outputs": [
    {
     "data": {
      "application/javascript": [
       "parent.postMessage({\"jupyterEvent\": \"custom.exercise_interaction\", \"data\": {\"outcomeType\": 1, \"valueTowardsCompletion\": 0.16666666666666666, \"interactionType\": 1, \"questionType\": 1, \"questionId\": \"1_ReviewsWritten\", \"learnToolsVersion\": \"0.3.4\", \"failureMessage\": \"\", \"exceptionClass\": \"\", \"trace\": \"\"}}, \"*\")"
      ],
      "text/plain": [
       "<IPython.core.display.Javascript object>"
      ]
     },
     "metadata": {},
     "output_type": "display_data"
    },
    {
     "data": {
      "text/markdown": [
       "<span style=\"color:#33cc33\">Correct:</span> \n",
       "\n",
       "\n",
       "```python\n",
       "reviews_written = reviews.groupby('taster_twitter_handle').size()\n",
       "```\n",
       "or\n",
       "```python\n",
       "reviews_written = reviews.groupby('taster_twitter_handle').taster_twitter_handle.count()\n",
       "```\n"
      ],
      "text/plain": [
       "Correct: \n",
       "\n",
       "\n",
       "```python\n",
       "reviews_written = reviews.groupby('taster_twitter_handle').size()\n",
       "```\n",
       "or\n",
       "```python\n",
       "reviews_written = reviews.groupby('taster_twitter_handle').taster_twitter_handle.count()\n",
       "```"
      ]
     },
     "metadata": {},
     "output_type": "display_data"
    }
   ],
   "source": [
    "# Your code here\n",
    "reviews_written = reviews.groupby(\"taster_twitter_handle\").taster_twitter_handle.count()\n",
    "\n",
    "# Check your answer\n",
    "q1.check()"
   ]
  },
  {
   "cell_type": "code",
   "execution_count": 3,
   "id": "7e73ff92",
   "metadata": {
    "execution": {
     "iopub.execute_input": "2022-11-11T00:05:40.368589Z",
     "iopub.status.busy": "2022-11-11T00:05:40.367693Z",
     "iopub.status.idle": "2022-11-11T00:05:40.372522Z",
     "shell.execute_reply": "2022-11-11T00:05:40.371581Z"
    },
    "papermill": {
     "duration": 0.013053,
     "end_time": "2022-11-11T00:05:40.374388",
     "exception": false,
     "start_time": "2022-11-11T00:05:40.361335",
     "status": "completed"
    },
    "tags": []
   },
   "outputs": [],
   "source": [
    "#q1.hint()\n",
    "#q1.solution()"
   ]
  },
  {
   "cell_type": "markdown",
   "id": "67d0c888",
   "metadata": {
    "papermill": {
     "duration": 0.006049,
     "end_time": "2022-11-11T00:05:40.385724",
     "exception": false,
     "start_time": "2022-11-11T00:05:40.379675",
     "status": "completed"
    },
    "tags": []
   },
   "source": [
    "## 2.\n",
    "What is the best wine I can buy for a given amount of money? Create a `Series` whose index is wine prices and whose values is the maximum number of points a wine costing that much was given in a review. Sort the values by price, ascending (so that `4.0` dollars is at the top and `3300.0` dollars is at the bottom)."
   ]
  },
  {
   "cell_type": "code",
   "execution_count": 4,
   "id": "1d37e380",
   "metadata": {
    "execution": {
     "iopub.execute_input": "2022-11-11T00:05:40.397408Z",
     "iopub.status.busy": "2022-11-11T00:05:40.397030Z",
     "iopub.status.idle": "2022-11-11T00:05:40.409085Z",
     "shell.execute_reply": "2022-11-11T00:05:40.408153Z"
    },
    "papermill": {
     "duration": 0.020062,
     "end_time": "2022-11-11T00:05:40.410876",
     "exception": false,
     "start_time": "2022-11-11T00:05:40.390814",
     "status": "completed"
    },
    "tags": []
   },
   "outputs": [
    {
     "data": {
      "application/javascript": [
       "parent.postMessage({\"jupyterEvent\": \"custom.exercise_interaction\", \"data\": {\"outcomeType\": 1, \"valueTowardsCompletion\": 0.16666666666666666, \"interactionType\": 1, \"questionType\": 1, \"questionId\": \"2_BestRatingPerPrice\", \"learnToolsVersion\": \"0.3.4\", \"failureMessage\": \"\", \"exceptionClass\": \"\", \"trace\": \"\"}}, \"*\")"
      ],
      "text/plain": [
       "<IPython.core.display.Javascript object>"
      ]
     },
     "metadata": {},
     "output_type": "display_data"
    },
    {
     "data": {
      "text/markdown": [
       "<span style=\"color:#33cc33\">Correct</span>"
      ],
      "text/plain": [
       "Correct"
      ]
     },
     "metadata": {},
     "output_type": "display_data"
    }
   ],
   "source": [
    "best_rating_per_price = reviews.groupby(\"price\").points.max()\n",
    "\n",
    "# Check your answer\n",
    "q2.check()"
   ]
  },
  {
   "cell_type": "code",
   "execution_count": 5,
   "id": "5d02a857",
   "metadata": {
    "execution": {
     "iopub.execute_input": "2022-11-11T00:05:40.423293Z",
     "iopub.status.busy": "2022-11-11T00:05:40.422952Z",
     "iopub.status.idle": "2022-11-11T00:05:40.427091Z",
     "shell.execute_reply": "2022-11-11T00:05:40.426093Z"
    },
    "papermill": {
     "duration": 0.012562,
     "end_time": "2022-11-11T00:05:40.429048",
     "exception": false,
     "start_time": "2022-11-11T00:05:40.416486",
     "status": "completed"
    },
    "tags": []
   },
   "outputs": [],
   "source": [
    "#q2.hint()\n",
    "#q2.solution()"
   ]
  },
  {
   "cell_type": "markdown",
   "id": "7a2a564f",
   "metadata": {
    "papermill": {
     "duration": 0.005158,
     "end_time": "2022-11-11T00:05:40.439627",
     "exception": false,
     "start_time": "2022-11-11T00:05:40.434469",
     "status": "completed"
    },
    "tags": []
   },
   "source": [
    "## 3.\n",
    "What are the minimum and maximum prices for each `variety` of wine? Create a `DataFrame` whose index is the `variety` category from the dataset and whose values are the `min` and `max` values thereof."
   ]
  },
  {
   "cell_type": "code",
   "execution_count": 6,
   "id": "06145e88",
   "metadata": {
    "execution": {
     "iopub.execute_input": "2022-11-11T00:05:40.451747Z",
     "iopub.status.busy": "2022-11-11T00:05:40.451425Z",
     "iopub.status.idle": "2022-11-11T00:05:40.473313Z",
     "shell.execute_reply": "2022-11-11T00:05:40.472266Z"
    },
    "papermill": {
     "duration": 0.031176,
     "end_time": "2022-11-11T00:05:40.476097",
     "exception": false,
     "start_time": "2022-11-11T00:05:40.444921",
     "status": "completed"
    },
    "tags": []
   },
   "outputs": [
    {
     "data": {
      "application/javascript": [
       "parent.postMessage({\"jupyterEvent\": \"custom.exercise_interaction\", \"data\": {\"outcomeType\": 1, \"valueTowardsCompletion\": 0.16666666666666666, \"interactionType\": 1, \"questionType\": 1, \"questionId\": \"3_PriceExtremes\", \"learnToolsVersion\": \"0.3.4\", \"failureMessage\": \"\", \"exceptionClass\": \"\", \"trace\": \"\"}}, \"*\")"
      ],
      "text/plain": [
       "<IPython.core.display.Javascript object>"
      ]
     },
     "metadata": {},
     "output_type": "display_data"
    },
    {
     "data": {
      "text/markdown": [
       "<span style=\"color:#33cc33\">Correct</span>"
      ],
      "text/plain": [
       "Correct"
      ]
     },
     "metadata": {},
     "output_type": "display_data"
    }
   ],
   "source": [
    "price_extremes = reviews.groupby(\"variety\").price.agg([min, max])\n",
    "\n",
    "# Check your answer\n",
    "q3.check()"
   ]
  },
  {
   "cell_type": "code",
   "execution_count": 7,
   "id": "0a1baf0d",
   "metadata": {
    "execution": {
     "iopub.execute_input": "2022-11-11T00:05:40.489556Z",
     "iopub.status.busy": "2022-11-11T00:05:40.489154Z",
     "iopub.status.idle": "2022-11-11T00:05:40.494054Z",
     "shell.execute_reply": "2022-11-11T00:05:40.492872Z"
    },
    "papermill": {
     "duration": 0.013914,
     "end_time": "2022-11-11T00:05:40.496051",
     "exception": false,
     "start_time": "2022-11-11T00:05:40.482137",
     "status": "completed"
    },
    "tags": []
   },
   "outputs": [],
   "source": [
    "#q3.hint()\n",
    "#q3.solution()"
   ]
  },
  {
   "cell_type": "markdown",
   "id": "d4331d76",
   "metadata": {
    "papermill": {
     "duration": 0.005533,
     "end_time": "2022-11-11T00:05:40.507530",
     "exception": false,
     "start_time": "2022-11-11T00:05:40.501997",
     "status": "completed"
    },
    "tags": []
   },
   "source": [
    "## 4.\n",
    "What are the most expensive wine varieties? Create a variable `sorted_varieties` containing a copy of the dataframe from the previous question where varieties are sorted in descending order based on minimum price, then on maximum price (to break ties)."
   ]
  },
  {
   "cell_type": "code",
   "execution_count": 8,
   "id": "fd6e1547",
   "metadata": {
    "execution": {
     "iopub.execute_input": "2022-11-11T00:05:40.521149Z",
     "iopub.status.busy": "2022-11-11T00:05:40.520773Z",
     "iopub.status.idle": "2022-11-11T00:05:40.531931Z",
     "shell.execute_reply": "2022-11-11T00:05:40.530408Z"
    },
    "papermill": {
     "duration": 0.021265,
     "end_time": "2022-11-11T00:05:40.534606",
     "exception": false,
     "start_time": "2022-11-11T00:05:40.513341",
     "status": "completed"
    },
    "tags": []
   },
   "outputs": [
    {
     "data": {
      "application/javascript": [
       "parent.postMessage({\"jupyterEvent\": \"custom.exercise_interaction\", \"data\": {\"outcomeType\": 1, \"valueTowardsCompletion\": 0.16666666666666666, \"interactionType\": 1, \"questionType\": 1, \"questionId\": \"4_SortedVarieties\", \"learnToolsVersion\": \"0.3.4\", \"failureMessage\": \"\", \"exceptionClass\": \"\", \"trace\": \"\"}}, \"*\")"
      ],
      "text/plain": [
       "<IPython.core.display.Javascript object>"
      ]
     },
     "metadata": {},
     "output_type": "display_data"
    },
    {
     "data": {
      "text/markdown": [
       "<span style=\"color:#33cc33\">Correct</span>"
      ],
      "text/plain": [
       "Correct"
      ]
     },
     "metadata": {},
     "output_type": "display_data"
    }
   ],
   "source": [
    "sorted_varieties = price_extremes.sort_values([\"min\", \"max\"], ascending=False)\n",
    "sorted_varieties\n",
    "\n",
    "# Check your answer\n",
    "q4.check()"
   ]
  },
  {
   "cell_type": "code",
   "execution_count": 9,
   "id": "ddeeded8",
   "metadata": {
    "execution": {
     "iopub.execute_input": "2022-11-11T00:05:40.548723Z",
     "iopub.status.busy": "2022-11-11T00:05:40.548368Z",
     "iopub.status.idle": "2022-11-11T00:05:40.552794Z",
     "shell.execute_reply": "2022-11-11T00:05:40.551789Z"
    },
    "papermill": {
     "duration": 0.013914,
     "end_time": "2022-11-11T00:05:40.554785",
     "exception": false,
     "start_time": "2022-11-11T00:05:40.540871",
     "status": "completed"
    },
    "tags": []
   },
   "outputs": [],
   "source": [
    "#q4.hint()\n",
    "#q4.solution()"
   ]
  },
  {
   "cell_type": "markdown",
   "id": "b460da5a",
   "metadata": {
    "papermill": {
     "duration": 0.005878,
     "end_time": "2022-11-11T00:05:40.566819",
     "exception": false,
     "start_time": "2022-11-11T00:05:40.560941",
     "status": "completed"
    },
    "tags": []
   },
   "source": [
    "## 5.\n",
    "Create a `Series` whose index is reviewers and whose values is the average review score given out by that reviewer. Hint: you will need the `taster_name` and `points` columns."
   ]
  },
  {
   "cell_type": "code",
   "execution_count": 10,
   "id": "adea1bd1",
   "metadata": {
    "execution": {
     "iopub.execute_input": "2022-11-11T00:05:40.581372Z",
     "iopub.status.busy": "2022-11-11T00:05:40.580123Z",
     "iopub.status.idle": "2022-11-11T00:05:40.599647Z",
     "shell.execute_reply": "2022-11-11T00:05:40.598678Z"
    },
    "papermill": {
     "duration": 0.029033,
     "end_time": "2022-11-11T00:05:40.601816",
     "exception": false,
     "start_time": "2022-11-11T00:05:40.572783",
     "status": "completed"
    },
    "tags": []
   },
   "outputs": [
    {
     "data": {
      "application/javascript": [
       "parent.postMessage({\"jupyterEvent\": \"custom.exercise_interaction\", \"data\": {\"outcomeType\": 1, \"valueTowardsCompletion\": 0.16666666666666666, \"interactionType\": 1, \"questionType\": 1, \"questionId\": \"5_ReviewerMeanRatings\", \"learnToolsVersion\": \"0.3.4\", \"failureMessage\": \"\", \"exceptionClass\": \"\", \"trace\": \"\"}}, \"*\")"
      ],
      "text/plain": [
       "<IPython.core.display.Javascript object>"
      ]
     },
     "metadata": {},
     "output_type": "display_data"
    },
    {
     "data": {
      "text/markdown": [
       "<span style=\"color:#33cc33\">Correct</span>"
      ],
      "text/plain": [
       "Correct"
      ]
     },
     "metadata": {},
     "output_type": "display_data"
    }
   ],
   "source": [
    "reviewer_mean_ratings = reviews.groupby(\"taster_name\").points.mean()\n",
    "\n",
    "# Check your answer\n",
    "q5.check()"
   ]
  },
  {
   "cell_type": "code",
   "execution_count": 11,
   "id": "753e7a12",
   "metadata": {
    "execution": {
     "iopub.execute_input": "2022-11-11T00:05:40.615817Z",
     "iopub.status.busy": "2022-11-11T00:05:40.615503Z",
     "iopub.status.idle": "2022-11-11T00:05:40.618514Z",
     "shell.execute_reply": "2022-11-11T00:05:40.617917Z"
    },
    "papermill": {
     "duration": 0.01252,
     "end_time": "2022-11-11T00:05:40.620555",
     "exception": false,
     "start_time": "2022-11-11T00:05:40.608035",
     "status": "completed"
    },
    "tags": []
   },
   "outputs": [],
   "source": [
    "#q5.hint()\n",
    "#q5.solution()"
   ]
  },
  {
   "cell_type": "markdown",
   "id": "598dd654",
   "metadata": {
    "papermill": {
     "duration": 0.005696,
     "end_time": "2022-11-11T00:05:40.632443",
     "exception": false,
     "start_time": "2022-11-11T00:05:40.626747",
     "status": "completed"
    },
    "tags": []
   },
   "source": [
    "Are there significant differences in the average scores assigned by the various reviewers? Run the cell below to use the `describe()` method to see a summary of the range of values."
   ]
  },
  {
   "cell_type": "code",
   "execution_count": 12,
   "id": "4a96a504",
   "metadata": {
    "execution": {
     "iopub.execute_input": "2022-11-11T00:05:40.646344Z",
     "iopub.status.busy": "2022-11-11T00:05:40.645753Z",
     "iopub.status.idle": "2022-11-11T00:05:40.656810Z",
     "shell.execute_reply": "2022-11-11T00:05:40.655995Z"
    },
    "papermill": {
     "duration": 0.020344,
     "end_time": "2022-11-11T00:05:40.658699",
     "exception": false,
     "start_time": "2022-11-11T00:05:40.638355",
     "status": "completed"
    },
    "tags": []
   },
   "outputs": [
    {
     "data": {
      "text/plain": [
       "count    19.000000\n",
       "mean     88.233026\n",
       "std       1.243610\n",
       "min      85.855422\n",
       "25%      87.323501\n",
       "50%      88.536235\n",
       "75%      88.975256\n",
       "max      90.562551\n",
       "Name: points, dtype: float64"
      ]
     },
     "execution_count": 12,
     "metadata": {},
     "output_type": "execute_result"
    }
   ],
   "source": [
    "reviewer_mean_ratings.describe()"
   ]
  },
  {
   "cell_type": "markdown",
   "id": "37402f59",
   "metadata": {
    "papermill": {
     "duration": 0.005987,
     "end_time": "2022-11-11T00:05:40.671084",
     "exception": false,
     "start_time": "2022-11-11T00:05:40.665097",
     "status": "completed"
    },
    "tags": []
   },
   "source": [
    "## 6.\n",
    "What combination of countries and varieties are most common? Create a `Series` whose index is a `MultiIndex`of `{country, variety}` pairs. For example, a pinot noir produced in the US should map to `{\"US\", \"Pinot Noir\"}`. Sort the values in the `Series` in descending order based on wine count."
   ]
  },
  {
   "cell_type": "code",
   "execution_count": 13,
   "id": "6b08335e",
   "metadata": {
    "execution": {
     "iopub.execute_input": "2022-11-11T00:05:40.685359Z",
     "iopub.status.busy": "2022-11-11T00:05:40.684995Z",
     "iopub.status.idle": "2022-11-11T00:05:40.719411Z",
     "shell.execute_reply": "2022-11-11T00:05:40.717958Z"
    },
    "papermill": {
     "duration": 0.044511,
     "end_time": "2022-11-11T00:05:40.721920",
     "exception": false,
     "start_time": "2022-11-11T00:05:40.677409",
     "status": "completed"
    },
    "tags": []
   },
   "outputs": [
    {
     "data": {
      "application/javascript": [
       "parent.postMessage({\"jupyterEvent\": \"custom.exercise_interaction\", \"data\": {\"outcomeType\": 1, \"valueTowardsCompletion\": 0.16666666666666666, \"interactionType\": 1, \"questionType\": 1, \"questionId\": \"6_GroupbyCountryVariety\", \"learnToolsVersion\": \"0.3.4\", \"failureMessage\": \"\", \"exceptionClass\": \"\", \"trace\": \"\"}}, \"*\")"
      ],
      "text/plain": [
       "<IPython.core.display.Javascript object>"
      ]
     },
     "metadata": {},
     "output_type": "display_data"
    },
    {
     "data": {
      "text/markdown": [
       "<span style=\"color:#33cc33\">Correct</span>"
      ],
      "text/plain": [
       "Correct"
      ]
     },
     "metadata": {},
     "output_type": "display_data"
    }
   ],
   "source": [
    "country_variety_counts = reviews.groupby([\"country\", \"variety\"]).size().sort_values(ascending=False)\n",
    "\n",
    "# Check your answer\n",
    "q6.check()"
   ]
  },
  {
   "cell_type": "code",
   "execution_count": 14,
   "id": "762a13a3",
   "metadata": {
    "execution": {
     "iopub.execute_input": "2022-11-11T00:05:40.739931Z",
     "iopub.status.busy": "2022-11-11T00:05:40.739563Z",
     "iopub.status.idle": "2022-11-11T00:05:40.746089Z",
     "shell.execute_reply": "2022-11-11T00:05:40.744738Z"
    },
    "papermill": {
     "duration": 0.018397,
     "end_time": "2022-11-11T00:05:40.748584",
     "exception": false,
     "start_time": "2022-11-11T00:05:40.730187",
     "status": "completed"
    },
    "tags": []
   },
   "outputs": [],
   "source": [
    "#q6.hint()\n",
    "#q6.solution()"
   ]
  },
  {
   "cell_type": "markdown",
   "id": "bcf4bf44",
   "metadata": {
    "papermill": {
     "duration": 0.006153,
     "end_time": "2022-11-11T00:05:40.761869",
     "exception": false,
     "start_time": "2022-11-11T00:05:40.755716",
     "status": "completed"
    },
    "tags": []
   },
   "source": [
    "# Keep going\n",
    "\n",
    "Move on to the [**data types and missing data**](https://www.kaggle.com/residentmario/data-types-and-missing-values)."
   ]
  },
  {
   "cell_type": "markdown",
   "id": "f69aa3cc",
   "metadata": {
    "papermill": {
     "duration": 0.006203,
     "end_time": "2022-11-11T00:05:40.774296",
     "exception": false,
     "start_time": "2022-11-11T00:05:40.768093",
     "status": "completed"
    },
    "tags": []
   },
   "source": [
    "---\n",
    "\n",
    "\n",
    "\n",
    "\n",
    "*Have questions or comments? Visit the [course discussion forum](https://www.kaggle.com/learn/pandas/discussion) to chat with other learners.*"
   ]
  }
 ],
 "metadata": {
  "kernelspec": {
   "display_name": "Python 3",
   "language": "python",
   "name": "python3"
  },
  "language_info": {
   "codemirror_mode": {
    "name": "ipython",
    "version": 3
   },
   "file_extension": ".py",
   "mimetype": "text/x-python",
   "name": "python",
   "nbconvert_exporter": "python",
   "pygments_lexer": "ipython3",
   "version": "3.7.12"
  },
  "papermill": {
   "default_parameters": {},
   "duration": 10.990046,
   "end_time": "2022-11-11T00:05:41.502525",
   "environment_variables": {},
   "exception": null,
   "input_path": "__notebook__.ipynb",
   "output_path": "__notebook__.ipynb",
   "parameters": {},
   "start_time": "2022-11-11T00:05:30.512479",
   "version": "2.3.4"
  }
 },
 "nbformat": 4,
 "nbformat_minor": 5
}
