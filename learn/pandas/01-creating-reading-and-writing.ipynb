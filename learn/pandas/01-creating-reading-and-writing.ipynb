{
 "cells": [
  {
   "cell_type": "markdown",
   "id": "6400d289",
   "metadata": {
    "papermill": {
     "duration": 0.007047,
     "end_time": "2022-11-10T04:42:45.241086",
     "exception": false,
     "start_time": "2022-11-10T04:42:45.234039",
     "status": "completed"
    },
    "tags": []
   },
   "source": [
    "**This notebook is an exercise in the [Pandas](https://www.kaggle.com/learn/pandas) course.  You can reference the tutorial at [this link](https://www.kaggle.com/residentmario/creating-reading-and-writing).**\n",
    "\n",
    "---\n"
   ]
  },
  {
   "cell_type": "markdown",
   "id": "c270d4bc",
   "metadata": {
    "papermill": {
     "duration": 0.004542,
     "end_time": "2022-11-10T04:42:45.252725",
     "exception": false,
     "start_time": "2022-11-10T04:42:45.248183",
     "status": "completed"
    },
    "tags": []
   },
   "source": [
    "# Introduction\n",
    "\n",
    "The first step in most data analytics projects is reading the data file. In this exercise, you'll create Series and DataFrame objects, both by hand and by reading data files.\n",
    "\n",
    "Run the code cell below to load libraries you will need (including code to check your answers)."
   ]
  },
  {
   "cell_type": "code",
   "execution_count": 1,
   "id": "ef4964db",
   "metadata": {
    "execution": {
     "iopub.execute_input": "2022-11-10T04:42:45.265232Z",
     "iopub.status.busy": "2022-11-10T04:42:45.264226Z",
     "iopub.status.idle": "2022-11-10T04:42:47.075119Z",
     "shell.execute_reply": "2022-11-10T04:42:47.073968Z"
    },
    "papermill": {
     "duration": 1.820376,
     "end_time": "2022-11-10T04:42:47.077976",
     "exception": false,
     "start_time": "2022-11-10T04:42:45.257600",
     "status": "completed"
    },
    "tags": []
   },
   "outputs": [
    {
     "name": "stdout",
     "output_type": "stream",
     "text": [
      "Setup complete.\n"
     ]
    }
   ],
   "source": [
    "import pandas as pd\n",
    "pd.set_option('max_rows', 5)\n",
    "from learntools.core import binder; binder.bind(globals())\n",
    "from learntools.pandas.creating_reading_and_writing import *\n",
    "print(\"Setup complete.\")"
   ]
  },
  {
   "cell_type": "markdown",
   "id": "c15a65c8",
   "metadata": {
    "papermill": {
     "duration": 0.004535,
     "end_time": "2022-11-10T04:42:47.087623",
     "exception": false,
     "start_time": "2022-11-10T04:42:47.083088",
     "status": "completed"
    },
    "tags": []
   },
   "source": [
    "# Exercises"
   ]
  },
  {
   "cell_type": "markdown",
   "id": "08861a70",
   "metadata": {
    "papermill": {
     "duration": 0.004572,
     "end_time": "2022-11-10T04:42:47.097242",
     "exception": false,
     "start_time": "2022-11-10T04:42:47.092670",
     "status": "completed"
    },
    "tags": []
   },
   "source": [
    "## 1.\n",
    "\n",
    "In the cell below, create a DataFrame `fruits` that looks like this:\n",
    "\n",
    "![](https://i.imgur.com/Ax3pp2A.png)"
   ]
  },
  {
   "cell_type": "code",
   "execution_count": 2,
   "id": "039f4602",
   "metadata": {
    "execution": {
     "iopub.execute_input": "2022-11-10T04:42:47.109640Z",
     "iopub.status.busy": "2022-11-10T04:42:47.109175Z",
     "iopub.status.idle": "2022-11-10T04:42:47.121665Z",
     "shell.execute_reply": "2022-11-10T04:42:47.120653Z"
    },
    "papermill": {
     "duration": 0.021215,
     "end_time": "2022-11-10T04:42:47.124011",
     "exception": false,
     "start_time": "2022-11-10T04:42:47.102796",
     "status": "completed"
    },
    "tags": []
   },
   "outputs": [
    {
     "data": {
      "application/javascript": [
       "parent.postMessage({\"jupyterEvent\": \"custom.exercise_interaction\", \"data\": {\"outcomeType\": 4, \"interactionType\": 1, \"questionType\": 1, \"questionId\": \"1_FruitDfCreation\", \"learnToolsVersion\": \"0.3.4\", \"valueTowardsCompletion\": 0.0, \"failureMessage\": \"\", \"exceptionClass\": \"\", \"trace\": \"\"}}, \"*\")"
      ],
      "text/plain": [
       "<IPython.core.display.Javascript object>"
      ]
     },
     "metadata": {},
     "output_type": "display_data"
    },
    {
     "data": {
      "text/markdown": [
       "<span style=\"color:#ccaa33\">Check:</span> When you've updated the starter code, `check()` will tell you whether your code is correct. You need to update the code that creates variable `fruits`"
      ],
      "text/plain": [
       "Check: When you've updated the starter code, `check()` will tell you whether your code is correct. You need to update the code that creates variable `fruits`"
      ]
     },
     "metadata": {},
     "output_type": "display_data"
    },
    {
     "data": {
      "text/markdown": [],
      "text/plain": [
       "<learntools.core.constants.PlaceholderValue at 0x7f7e4b6a0750>"
      ]
     },
     "execution_count": 2,
     "metadata": {},
     "output_type": "execute_result"
    }
   ],
   "source": [
    "# Your code goes here. Create a dataframe matching the above diagram and assign it to the variable fruits.\n",
    "fruits = ____\n",
    "\n",
    "# Check your answer\n",
    "q1.check()\n",
    "fruits"
   ]
  },
  {
   "cell_type": "code",
   "execution_count": 3,
   "id": "e8301c94",
   "metadata": {
    "execution": {
     "iopub.execute_input": "2022-11-10T04:42:47.136833Z",
     "iopub.status.busy": "2022-11-10T04:42:47.136018Z",
     "iopub.status.idle": "2022-11-10T04:42:47.140091Z",
     "shell.execute_reply": "2022-11-10T04:42:47.139232Z"
    },
    "papermill": {
     "duration": 0.013414,
     "end_time": "2022-11-10T04:42:47.142622",
     "exception": false,
     "start_time": "2022-11-10T04:42:47.129208",
     "status": "completed"
    },
    "tags": []
   },
   "outputs": [],
   "source": [
    "#q1.hint()\n",
    "#q1.solution()"
   ]
  },
  {
   "cell_type": "markdown",
   "id": "bb3002fe",
   "metadata": {
    "papermill": {
     "duration": 0.005064,
     "end_time": "2022-11-10T04:42:47.153116",
     "exception": false,
     "start_time": "2022-11-10T04:42:47.148052",
     "status": "completed"
    },
    "tags": []
   },
   "source": [
    "## 2.\n",
    "\n",
    "Create a dataframe `fruit_sales` that matches the diagram below:\n",
    "\n",
    "![](https://i.imgur.com/CHPn7ZF.png)"
   ]
  },
  {
   "cell_type": "code",
   "execution_count": 4,
   "id": "ba109594",
   "metadata": {
    "execution": {
     "iopub.execute_input": "2022-11-10T04:42:47.167341Z",
     "iopub.status.busy": "2022-11-10T04:42:47.166634Z",
     "iopub.status.idle": "2022-11-10T04:42:47.177199Z",
     "shell.execute_reply": "2022-11-10T04:42:47.176110Z"
    },
    "papermill": {
     "duration": 0.021299,
     "end_time": "2022-11-10T04:42:47.179681",
     "exception": false,
     "start_time": "2022-11-10T04:42:47.158382",
     "status": "completed"
    },
    "tags": []
   },
   "outputs": [
    {
     "data": {
      "application/javascript": [
       "parent.postMessage({\"jupyterEvent\": \"custom.exercise_interaction\", \"data\": {\"outcomeType\": 4, \"interactionType\": 1, \"questionType\": 1, \"questionId\": \"2_FruitSalesDfCreation\", \"learnToolsVersion\": \"0.3.4\", \"valueTowardsCompletion\": 0.0, \"failureMessage\": \"\", \"exceptionClass\": \"\", \"trace\": \"\"}}, \"*\")"
      ],
      "text/plain": [
       "<IPython.core.display.Javascript object>"
      ]
     },
     "metadata": {},
     "output_type": "display_data"
    },
    {
     "data": {
      "text/markdown": [
       "<span style=\"color:#ccaa33\">Check:</span> When you've updated the starter code, `check()` will tell you whether your code is correct. You need to update the code that creates variable `fruit_sales`"
      ],
      "text/plain": [
       "Check: When you've updated the starter code, `check()` will tell you whether your code is correct. You need to update the code that creates variable `fruit_sales`"
      ]
     },
     "metadata": {},
     "output_type": "display_data"
    },
    {
     "data": {
      "text/markdown": [],
      "text/plain": [
       "<learntools.core.constants.PlaceholderValue at 0x7f7e4b6a0750>"
      ]
     },
     "execution_count": 4,
     "metadata": {},
     "output_type": "execute_result"
    }
   ],
   "source": [
    "# Your code goes here. Create a dataframe matching the above diagram and assign it to the variable fruit_sales.\n",
    "fruit_sales = ____\n",
    "\n",
    "# Check your answer\n",
    "q2.check()\n",
    "fruit_sales"
   ]
  },
  {
   "cell_type": "code",
   "execution_count": 5,
   "id": "52791e18",
   "metadata": {
    "execution": {
     "iopub.execute_input": "2022-11-10T04:42:47.193539Z",
     "iopub.status.busy": "2022-11-10T04:42:47.192816Z",
     "iopub.status.idle": "2022-11-10T04:42:47.197390Z",
     "shell.execute_reply": "2022-11-10T04:42:47.196497Z"
    },
    "papermill": {
     "duration": 0.014468,
     "end_time": "2022-11-10T04:42:47.199849",
     "exception": false,
     "start_time": "2022-11-10T04:42:47.185381",
     "status": "completed"
    },
    "tags": []
   },
   "outputs": [],
   "source": [
    "#q2.hint()\n",
    "#q2.solution()"
   ]
  },
  {
   "cell_type": "markdown",
   "id": "32162a72",
   "metadata": {
    "papermill": {
     "duration": 0.005808,
     "end_time": "2022-11-10T04:42:47.211583",
     "exception": false,
     "start_time": "2022-11-10T04:42:47.205775",
     "status": "completed"
    },
    "tags": []
   },
   "source": [
    "## 3.\n",
    "\n",
    "Create a variable `ingredients` with a Series that looks like:\n",
    "\n",
    "```\n",
    "Flour     4 cups\n",
    "Milk       1 cup\n",
    "Eggs     2 large\n",
    "Spam       1 can\n",
    "Name: Dinner, dtype: object\n",
    "```"
   ]
  },
  {
   "cell_type": "code",
   "execution_count": 6,
   "id": "1ed15068",
   "metadata": {
    "execution": {
     "iopub.execute_input": "2022-11-10T04:42:47.225738Z",
     "iopub.status.busy": "2022-11-10T04:42:47.224964Z",
     "iopub.status.idle": "2022-11-10T04:42:47.237043Z",
     "shell.execute_reply": "2022-11-10T04:42:47.235830Z"
    },
    "papermill": {
     "duration": 0.021855,
     "end_time": "2022-11-10T04:42:47.239353",
     "exception": false,
     "start_time": "2022-11-10T04:42:47.217498",
     "status": "completed"
    },
    "tags": []
   },
   "outputs": [
    {
     "data": {
      "application/javascript": [
       "parent.postMessage({\"jupyterEvent\": \"custom.exercise_interaction\", \"data\": {\"outcomeType\": 4, \"interactionType\": 1, \"questionType\": 2, \"questionId\": \"3_RecipeSeriesCreation\", \"learnToolsVersion\": \"0.3.4\", \"valueTowardsCompletion\": 0.0, \"failureMessage\": \"\", \"exceptionClass\": \"\", \"trace\": \"\"}}, \"*\")"
      ],
      "text/plain": [
       "<IPython.core.display.Javascript object>"
      ]
     },
     "metadata": {},
     "output_type": "display_data"
    },
    {
     "data": {
      "text/markdown": [
       "<span style=\"color:#ccaa33\">Check:</span> When you've updated the starter code, `check()` will tell you whether your code is correct. You need to update the code that creates variable `ingredients`"
      ],
      "text/plain": [
       "Check: When you've updated the starter code, `check()` will tell you whether your code is correct. You need to update the code that creates variable `ingredients`"
      ]
     },
     "metadata": {},
     "output_type": "display_data"
    },
    {
     "data": {
      "text/markdown": [],
      "text/plain": [
       "<learntools.core.constants.PlaceholderValue at 0x7f7e4b6a0750>"
      ]
     },
     "execution_count": 6,
     "metadata": {},
     "output_type": "execute_result"
    }
   ],
   "source": [
    "ingredients = ____\n",
    "\n",
    "# Check your answer\n",
    "q3.check()\n",
    "ingredients"
   ]
  },
  {
   "cell_type": "code",
   "execution_count": 7,
   "id": "0052ec49",
   "metadata": {
    "execution": {
     "iopub.execute_input": "2022-11-10T04:42:47.254106Z",
     "iopub.status.busy": "2022-11-10T04:42:47.253383Z",
     "iopub.status.idle": "2022-11-10T04:42:47.257232Z",
     "shell.execute_reply": "2022-11-10T04:42:47.256407Z"
    },
    "papermill": {
     "duration": 0.013678,
     "end_time": "2022-11-10T04:42:47.259386",
     "exception": false,
     "start_time": "2022-11-10T04:42:47.245708",
     "status": "completed"
    },
    "tags": []
   },
   "outputs": [],
   "source": [
    "#q3.hint()\n",
    "#q3.solution()"
   ]
  },
  {
   "cell_type": "markdown",
   "id": "ddeae7e2",
   "metadata": {
    "papermill": {
     "duration": 0.005752,
     "end_time": "2022-11-10T04:42:47.271359",
     "exception": false,
     "start_time": "2022-11-10T04:42:47.265607",
     "status": "completed"
    },
    "tags": []
   },
   "source": [
    "## 4.\n",
    "\n",
    "Read the following csv dataset of wine reviews into a DataFrame called `reviews`:\n",
    "\n",
    "![](https://i.imgur.com/74RCZtU.png)\n",
    "\n",
    "The filepath to the csv file is `../input/wine-reviews/winemag-data_first150k.csv`. The first few lines look like:\n",
    "\n",
    "```\n",
    ",country,description,designation,points,price,province,region_1,region_2,variety,winery\n",
    "0,US,\"This tremendous 100% varietal wine[...]\",Martha's Vineyard,96,235.0,California,Napa Valley,Napa,Cabernet Sauvignon,Heitz\n",
    "1,Spain,\"Ripe aromas of fig, blackberry and[...]\",Carodorum Selección Especial Reserva,96,110.0,Northern Spain,Toro,,Tinta de Toro,Bodega Carmen Rodríguez\n",
    "```"
   ]
  },
  {
   "cell_type": "code",
   "execution_count": 8,
   "id": "a9c50f4b",
   "metadata": {
    "execution": {
     "iopub.execute_input": "2022-11-10T04:42:47.286122Z",
     "iopub.status.busy": "2022-11-10T04:42:47.285670Z",
     "iopub.status.idle": "2022-11-10T04:42:47.298961Z",
     "shell.execute_reply": "2022-11-10T04:42:47.297982Z"
    },
    "papermill": {
     "duration": 0.023684,
     "end_time": "2022-11-10T04:42:47.301349",
     "exception": false,
     "start_time": "2022-11-10T04:42:47.277665",
     "status": "completed"
    },
    "tags": []
   },
   "outputs": [
    {
     "data": {
      "application/javascript": [
       "parent.postMessage({\"jupyterEvent\": \"custom.exercise_interaction\", \"data\": {\"outcomeType\": 4, \"interactionType\": 1, \"questionType\": 1, \"questionId\": \"4_ReadWineCsv\", \"learnToolsVersion\": \"0.3.4\", \"valueTowardsCompletion\": 0.0, \"failureMessage\": \"\", \"exceptionClass\": \"\", \"trace\": \"\"}}, \"*\")"
      ],
      "text/plain": [
       "<IPython.core.display.Javascript object>"
      ]
     },
     "metadata": {},
     "output_type": "display_data"
    },
    {
     "data": {
      "text/markdown": [
       "<span style=\"color:#ccaa33\">Check:</span> When you've updated the starter code, `check()` will tell you whether your code is correct. You need to update the code that creates variable `reviews`"
      ],
      "text/plain": [
       "Check: When you've updated the starter code, `check()` will tell you whether your code is correct. You need to update the code that creates variable `reviews`"
      ]
     },
     "metadata": {},
     "output_type": "display_data"
    },
    {
     "data": {
      "text/markdown": [],
      "text/plain": [
       "<learntools.core.constants.PlaceholderValue at 0x7f7e4b6a0750>"
      ]
     },
     "execution_count": 8,
     "metadata": {},
     "output_type": "execute_result"
    }
   ],
   "source": [
    "reviews = ____\n",
    "\n",
    "# Check your answer\n",
    "q4.check()\n",
    "reviews"
   ]
  },
  {
   "cell_type": "code",
   "execution_count": 9,
   "id": "3c8005a8",
   "metadata": {
    "execution": {
     "iopub.execute_input": "2022-11-10T04:42:47.316909Z",
     "iopub.status.busy": "2022-11-10T04:42:47.316089Z",
     "iopub.status.idle": "2022-11-10T04:42:47.320811Z",
     "shell.execute_reply": "2022-11-10T04:42:47.319726Z"
    },
    "papermill": {
     "duration": 0.015175,
     "end_time": "2022-11-10T04:42:47.323200",
     "exception": false,
     "start_time": "2022-11-10T04:42:47.308025",
     "status": "completed"
    },
    "tags": []
   },
   "outputs": [],
   "source": [
    "#q4.hint()\n",
    "#q4.solution()"
   ]
  },
  {
   "cell_type": "markdown",
   "id": "7d84ae44",
   "metadata": {
    "papermill": {
     "duration": 0.006201,
     "end_time": "2022-11-10T04:42:47.336115",
     "exception": false,
     "start_time": "2022-11-10T04:42:47.329914",
     "status": "completed"
    },
    "tags": []
   },
   "source": [
    "## 5.\n",
    "\n",
    "Run the cell below to create and display a DataFrame called `animals`:"
   ]
  },
  {
   "cell_type": "code",
   "execution_count": 10,
   "id": "dc283f1a",
   "metadata": {
    "execution": {
     "iopub.execute_input": "2022-11-10T04:42:47.350861Z",
     "iopub.status.busy": "2022-11-10T04:42:47.350433Z",
     "iopub.status.idle": "2022-11-10T04:42:47.365087Z",
     "shell.execute_reply": "2022-11-10T04:42:47.363918Z"
    },
    "papermill": {
     "duration": 0.024721,
     "end_time": "2022-11-10T04:42:47.367387",
     "exception": false,
     "start_time": "2022-11-10T04:42:47.342666",
     "status": "completed"
    },
    "tags": []
   },
   "outputs": [
    {
     "data": {
      "text/html": [
       "<div>\n",
       "<style scoped>\n",
       "    .dataframe tbody tr th:only-of-type {\n",
       "        vertical-align: middle;\n",
       "    }\n",
       "\n",
       "    .dataframe tbody tr th {\n",
       "        vertical-align: top;\n",
       "    }\n",
       "\n",
       "    .dataframe thead th {\n",
       "        text-align: right;\n",
       "    }\n",
       "</style>\n",
       "<table border=\"1\" class=\"dataframe\">\n",
       "  <thead>\n",
       "    <tr style=\"text-align: right;\">\n",
       "      <th></th>\n",
       "      <th>Cows</th>\n",
       "      <th>Goats</th>\n",
       "    </tr>\n",
       "  </thead>\n",
       "  <tbody>\n",
       "    <tr>\n",
       "      <th>Year 1</th>\n",
       "      <td>12</td>\n",
       "      <td>22</td>\n",
       "    </tr>\n",
       "    <tr>\n",
       "      <th>Year 2</th>\n",
       "      <td>20</td>\n",
       "      <td>19</td>\n",
       "    </tr>\n",
       "  </tbody>\n",
       "</table>\n",
       "</div>"
      ],
      "text/plain": [
       "        Cows  Goats\n",
       "Year 1    12     22\n",
       "Year 2    20     19"
      ]
     },
     "execution_count": 10,
     "metadata": {},
     "output_type": "execute_result"
    }
   ],
   "source": [
    "animals = pd.DataFrame({'Cows': [12, 20], 'Goats': [22, 19]}, index=['Year 1', 'Year 2'])\n",
    "animals"
   ]
  },
  {
   "cell_type": "markdown",
   "id": "4be5752a",
   "metadata": {
    "papermill": {
     "duration": 0.006438,
     "end_time": "2022-11-10T04:42:47.380822",
     "exception": false,
     "start_time": "2022-11-10T04:42:47.374384",
     "status": "completed"
    },
    "tags": []
   },
   "source": [
    "In the cell below, write code to save this DataFrame to disk as a csv file with the name `cows_and_goats.csv`."
   ]
  },
  {
   "cell_type": "code",
   "execution_count": 11,
   "id": "acd0560f",
   "metadata": {
    "execution": {
     "iopub.execute_input": "2022-11-10T04:42:47.396441Z",
     "iopub.status.busy": "2022-11-10T04:42:47.395414Z",
     "iopub.status.idle": "2022-11-10T04:42:47.404870Z",
     "shell.execute_reply": "2022-11-10T04:42:47.403775Z"
    },
    "papermill": {
     "duration": 0.019601,
     "end_time": "2022-11-10T04:42:47.407076",
     "exception": false,
     "start_time": "2022-11-10T04:42:47.387475",
     "status": "completed"
    },
    "tags": []
   },
   "outputs": [
    {
     "data": {
      "application/javascript": [
       "parent.postMessage({\"jupyterEvent\": \"custom.exercise_interaction\", \"data\": {\"outcomeType\": 2, \"failureMessage\": \"Expected file to exist with name `cows_and_goats.csv`\", \"interactionType\": 1, \"questionType\": 2, \"questionId\": \"5_SaveAnimalsCsv\", \"learnToolsVersion\": \"0.3.4\", \"valueTowardsCompletion\": 0.0, \"exceptionClass\": \"\", \"trace\": \"\"}}, \"*\")"
      ],
      "text/plain": [
       "<IPython.core.display.Javascript object>"
      ]
     },
     "metadata": {},
     "output_type": "display_data"
    },
    {
     "data": {
      "text/markdown": [
       "<span style=\"color:#cc3333\">Incorrect:</span> Expected file to exist with name `cows_and_goats.csv`"
      ],
      "text/plain": [
       "Incorrect: Expected file to exist with name `cows_and_goats.csv`"
      ]
     },
     "metadata": {},
     "output_type": "display_data"
    }
   ],
   "source": [
    "# Your code goes here\n",
    "\n",
    "# Check your answer\n",
    "q5.check()"
   ]
  },
  {
   "cell_type": "code",
   "execution_count": 12,
   "id": "00bdeba0",
   "metadata": {
    "execution": {
     "iopub.execute_input": "2022-11-10T04:42:47.423430Z",
     "iopub.status.busy": "2022-11-10T04:42:47.422715Z",
     "iopub.status.idle": "2022-11-10T04:42:47.426398Z",
     "shell.execute_reply": "2022-11-10T04:42:47.425649Z"
    },
    "papermill": {
     "duration": 0.014573,
     "end_time": "2022-11-10T04:42:47.428867",
     "exception": false,
     "start_time": "2022-11-10T04:42:47.414294",
     "status": "completed"
    },
    "tags": []
   },
   "outputs": [],
   "source": [
    "#q5.hint()\n",
    "#q5.solution()"
   ]
  },
  {
   "cell_type": "markdown",
   "id": "c497aea2",
   "metadata": {
    "papermill": {
     "duration": 0.007429,
     "end_time": "2022-11-10T04:42:47.443715",
     "exception": false,
     "start_time": "2022-11-10T04:42:47.436286",
     "status": "completed"
    },
    "tags": []
   },
   "source": [
    "# Keep going\n",
    "\n",
    "Move on to learn about **[indexing, selecting and assigning](https://www.kaggle.com/residentmario/indexing-selecting-assigning)**."
   ]
  },
  {
   "cell_type": "markdown",
   "id": "977efec0",
   "metadata": {
    "papermill": {
     "duration": 0.006886,
     "end_time": "2022-11-10T04:42:47.457876",
     "exception": false,
     "start_time": "2022-11-10T04:42:47.450990",
     "status": "completed"
    },
    "tags": []
   },
   "source": [
    "---\n",
    "\n",
    "\n",
    "\n",
    "\n",
    "*Have questions or comments? Visit the [course discussion forum](https://www.kaggle.com/learn/pandas/discussion) to chat with other learners.*"
   ]
  }
 ],
 "metadata": {
  "kernelspec": {
   "display_name": "Python 3",
   "language": "python",
   "name": "python3"
  },
  "language_info": {
   "codemirror_mode": {
    "name": "ipython",
    "version": 3
   },
   "file_extension": ".py",
   "mimetype": "text/x-python",
   "name": "python",
   "nbconvert_exporter": "python",
   "pygments_lexer": "ipython3",
   "version": "3.7.12"
  },
  "papermill": {
   "default_parameters": {},
   "duration": 11.948891,
   "end_time": "2022-11-10T04:42:48.187314",
   "environment_variables": {},
   "exception": null,
   "input_path": "__notebook__.ipynb",
   "output_path": "__notebook__.ipynb",
   "parameters": {},
   "start_time": "2022-11-10T04:42:36.238423",
   "version": "2.3.4"
  }
 },
 "nbformat": 4,
 "nbformat_minor": 5
}
