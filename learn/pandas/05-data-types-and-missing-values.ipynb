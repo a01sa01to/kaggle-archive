{
 "cells": [
  {
   "cell_type": "markdown",
   "id": "c135c441",
   "metadata": {
    "papermill": {
     "duration": 0.00566,
     "end_time": "2022-11-11T01:13:26.617068",
     "exception": false,
     "start_time": "2022-11-11T01:13:26.611408",
     "status": "completed"
    },
    "tags": []
   },
   "source": [
    "**This notebook is an exercise in the [Pandas](https://www.kaggle.com/learn/pandas) course.  You can reference the tutorial at [this link](https://www.kaggle.com/residentmario/data-types-and-missing-values).**\n",
    "\n",
    "---\n"
   ]
  },
  {
   "cell_type": "markdown",
   "id": "8b46b61c",
   "metadata": {
    "papermill": {
     "duration": 0.004029,
     "end_time": "2022-11-11T01:13:26.625740",
     "exception": false,
     "start_time": "2022-11-11T01:13:26.621711",
     "status": "completed"
    },
    "tags": []
   },
   "source": [
    "# Introduction\n",
    "\n",
    "Run the following cell to load your data and some utility functions."
   ]
  },
  {
   "cell_type": "code",
   "execution_count": 1,
   "id": "6e85c5a7",
   "metadata": {
    "execution": {
     "iopub.execute_input": "2022-11-11T01:13:26.636385Z",
     "iopub.status.busy": "2022-11-11T01:13:26.635895Z",
     "iopub.status.idle": "2022-11-11T01:13:29.851581Z",
     "shell.execute_reply": "2022-11-11T01:13:29.850094Z"
    },
    "papermill": {
     "duration": 3.224585,
     "end_time": "2022-11-11T01:13:29.854689",
     "exception": false,
     "start_time": "2022-11-11T01:13:26.630104",
     "status": "completed"
    },
    "tags": []
   },
   "outputs": [
    {
     "name": "stdout",
     "output_type": "stream",
     "text": [
      "Setup complete.\n"
     ]
    }
   ],
   "source": [
    "import pandas as pd\n",
    "\n",
    "reviews = pd.read_csv(\"../input/wine-reviews/winemag-data-130k-v2.csv\", index_col=0)\n",
    "\n",
    "from learntools.core import binder; binder.bind(globals())\n",
    "from learntools.pandas.data_types_and_missing_data import *\n",
    "print(\"Setup complete.\")"
   ]
  },
  {
   "cell_type": "markdown",
   "id": "b55a41d7",
   "metadata": {
    "papermill": {
     "duration": 0.004285,
     "end_time": "2022-11-11T01:13:29.863576",
     "exception": false,
     "start_time": "2022-11-11T01:13:29.859291",
     "status": "completed"
    },
    "tags": []
   },
   "source": [
    "# Exercises"
   ]
  },
  {
   "cell_type": "markdown",
   "id": "13f03b7d",
   "metadata": {
    "papermill": {
     "duration": 0.004129,
     "end_time": "2022-11-11T01:13:29.872300",
     "exception": false,
     "start_time": "2022-11-11T01:13:29.868171",
     "status": "completed"
    },
    "tags": []
   },
   "source": [
    "## 1. \n",
    "What is the data type of the `points` column in the dataset?"
   ]
  },
  {
   "cell_type": "code",
   "execution_count": 2,
   "id": "a93f62dc",
   "metadata": {
    "execution": {
     "iopub.execute_input": "2022-11-11T01:13:29.883199Z",
     "iopub.status.busy": "2022-11-11T01:13:29.882758Z",
     "iopub.status.idle": "2022-11-11T01:13:29.895227Z",
     "shell.execute_reply": "2022-11-11T01:13:29.894053Z"
    },
    "papermill": {
     "duration": 0.021067,
     "end_time": "2022-11-11T01:13:29.897844",
     "exception": false,
     "start_time": "2022-11-11T01:13:29.876777",
     "status": "completed"
    },
    "tags": []
   },
   "outputs": [
    {
     "data": {
      "application/javascript": [
       "parent.postMessage({\"jupyterEvent\": \"custom.exercise_interaction\", \"data\": {\"outcomeType\": 1, \"valueTowardsCompletion\": 0.25, \"interactionType\": 1, \"questionType\": 1, \"questionId\": \"1_PointsDtype\", \"learnToolsVersion\": \"0.3.4\", \"failureMessage\": \"\", \"exceptionClass\": \"\", \"trace\": \"\"}}, \"*\")"
      ],
      "text/plain": [
       "<IPython.core.display.Javascript object>"
      ]
     },
     "metadata": {},
     "output_type": "display_data"
    },
    {
     "data": {
      "text/markdown": [
       "<span style=\"color:#33cc33\">Correct</span>"
      ],
      "text/plain": [
       "Correct"
      ]
     },
     "metadata": {},
     "output_type": "display_data"
    }
   ],
   "source": [
    "# Your code here\n",
    "dtype = reviews.points.dtype\n",
    "\n",
    "# Check your answer\n",
    "q1.check()"
   ]
  },
  {
   "cell_type": "code",
   "execution_count": 3,
   "id": "bce01c86",
   "metadata": {
    "execution": {
     "iopub.execute_input": "2022-11-11T01:13:29.909997Z",
     "iopub.status.busy": "2022-11-11T01:13:29.909519Z",
     "iopub.status.idle": "2022-11-11T01:13:29.914678Z",
     "shell.execute_reply": "2022-11-11T01:13:29.913187Z"
    },
    "papermill": {
     "duration": 0.014246,
     "end_time": "2022-11-11T01:13:29.917094",
     "exception": false,
     "start_time": "2022-11-11T01:13:29.902848",
     "status": "completed"
    },
    "tags": []
   },
   "outputs": [],
   "source": [
    "#q1.hint()\n",
    "#q1.solution()"
   ]
  },
  {
   "cell_type": "markdown",
   "id": "613c068b",
   "metadata": {
    "papermill": {
     "duration": 0.004547,
     "end_time": "2022-11-11T01:13:29.926827",
     "exception": false,
     "start_time": "2022-11-11T01:13:29.922280",
     "status": "completed"
    },
    "tags": []
   },
   "source": [
    "## 2. \n",
    "Create a Series from entries in the `points` column, but convert the entries to strings. Hint: strings are `str` in native Python."
   ]
  },
  {
   "cell_type": "code",
   "execution_count": 4,
   "id": "f34b1bd2",
   "metadata": {
    "execution": {
     "iopub.execute_input": "2022-11-11T01:13:29.938264Z",
     "iopub.status.busy": "2022-11-11T01:13:29.937867Z",
     "iopub.status.idle": "2022-11-11T01:13:30.021300Z",
     "shell.execute_reply": "2022-11-11T01:13:30.020110Z"
    },
    "papermill": {
     "duration": 0.0921,
     "end_time": "2022-11-11T01:13:30.023806",
     "exception": false,
     "start_time": "2022-11-11T01:13:29.931706",
     "status": "completed"
    },
    "tags": []
   },
   "outputs": [
    {
     "data": {
      "application/javascript": [
       "parent.postMessage({\"jupyterEvent\": \"custom.exercise_interaction\", \"data\": {\"outcomeType\": 1, \"valueTowardsCompletion\": 0.25, \"interactionType\": 1, \"questionType\": 1, \"questionId\": \"2_StrPoints\", \"learnToolsVersion\": \"0.3.4\", \"failureMessage\": \"\", \"exceptionClass\": \"\", \"trace\": \"\"}}, \"*\")"
      ],
      "text/plain": [
       "<IPython.core.display.Javascript object>"
      ]
     },
     "metadata": {},
     "output_type": "display_data"
    },
    {
     "data": {
      "text/markdown": [
       "<span style=\"color:#33cc33\">Correct</span>"
      ],
      "text/plain": [
       "Correct"
      ]
     },
     "metadata": {},
     "output_type": "display_data"
    }
   ],
   "source": [
    "point_strings = reviews.points.astype(\"str\")\n",
    "\n",
    "# Check your answer\n",
    "q2.check()"
   ]
  },
  {
   "cell_type": "code",
   "execution_count": 5,
   "id": "14bb201b",
   "metadata": {
    "execution": {
     "iopub.execute_input": "2022-11-11T01:13:30.035684Z",
     "iopub.status.busy": "2022-11-11T01:13:30.035286Z",
     "iopub.status.idle": "2022-11-11T01:13:30.039972Z",
     "shell.execute_reply": "2022-11-11T01:13:30.038810Z"
    },
    "papermill": {
     "duration": 0.013678,
     "end_time": "2022-11-11T01:13:30.042414",
     "exception": false,
     "start_time": "2022-11-11T01:13:30.028736",
     "status": "completed"
    },
    "tags": []
   },
   "outputs": [],
   "source": [
    "#q2.hint()\n",
    "#q2.solution()"
   ]
  },
  {
   "cell_type": "markdown",
   "id": "e0ff7cd8",
   "metadata": {
    "papermill": {
     "duration": 0.004692,
     "end_time": "2022-11-11T01:13:30.052896",
     "exception": false,
     "start_time": "2022-11-11T01:13:30.048204",
     "status": "completed"
    },
    "tags": []
   },
   "source": [
    "## 3.\n",
    "Sometimes the price column is null. How many reviews in the dataset are missing a price?"
   ]
  },
  {
   "cell_type": "code",
   "execution_count": 6,
   "id": "57c52049",
   "metadata": {
    "execution": {
     "iopub.execute_input": "2022-11-11T01:13:30.064821Z",
     "iopub.status.busy": "2022-11-11T01:13:30.064374Z",
     "iopub.status.idle": "2022-11-11T01:13:30.082816Z",
     "shell.execute_reply": "2022-11-11T01:13:30.081496Z"
    },
    "papermill": {
     "duration": 0.027463,
     "end_time": "2022-11-11T01:13:30.085383",
     "exception": false,
     "start_time": "2022-11-11T01:13:30.057920",
     "status": "completed"
    },
    "tags": []
   },
   "outputs": [
    {
     "data": {
      "application/javascript": [
       "parent.postMessage({\"jupyterEvent\": \"custom.exercise_interaction\", \"data\": {\"outcomeType\": 1, \"valueTowardsCompletion\": 0.25, \"interactionType\": 1, \"questionType\": 1, \"questionId\": \"3_CountMissingPrices\", \"learnToolsVersion\": \"0.3.4\", \"failureMessage\": \"\", \"exceptionClass\": \"\", \"trace\": \"\"}}, \"*\")"
      ],
      "text/plain": [
       "<IPython.core.display.Javascript object>"
      ]
     },
     "metadata": {},
     "output_type": "display_data"
    },
    {
     "data": {
      "text/markdown": [
       "<span style=\"color:#33cc33\">Correct</span>"
      ],
      "text/plain": [
       "Correct"
      ]
     },
     "metadata": {},
     "output_type": "display_data"
    }
   ],
   "source": [
    "n_missing_prices = len(reviews[pd.isnull(reviews.price)])\n",
    "\n",
    "# Check your answer\n",
    "q3.check()"
   ]
  },
  {
   "cell_type": "code",
   "execution_count": 7,
   "id": "4530cd74",
   "metadata": {
    "execution": {
     "iopub.execute_input": "2022-11-11T01:13:30.098841Z",
     "iopub.status.busy": "2022-11-11T01:13:30.097536Z",
     "iopub.status.idle": "2022-11-11T01:13:30.102326Z",
     "shell.execute_reply": "2022-11-11T01:13:30.101232Z"
    },
    "papermill": {
     "duration": 0.014135,
     "end_time": "2022-11-11T01:13:30.105043",
     "exception": false,
     "start_time": "2022-11-11T01:13:30.090908",
     "status": "completed"
    },
    "tags": []
   },
   "outputs": [],
   "source": [
    "#q3.hint()\n",
    "#q3.solution()"
   ]
  },
  {
   "cell_type": "markdown",
   "id": "3915e138",
   "metadata": {
    "papermill": {
     "duration": 0.004911,
     "end_time": "2022-11-11T01:13:30.115440",
     "exception": false,
     "start_time": "2022-11-11T01:13:30.110529",
     "status": "completed"
    },
    "tags": []
   },
   "source": [
    "## 4.\n",
    "What are the most common wine-producing regions? Create a Series counting the number of times each value occurs in the `region_1` field. This field is often missing data, so replace missing values with `Unknown`. Sort in descending order.  Your output should look something like this:\n",
    "\n",
    "```\n",
    "Unknown                    21247\n",
    "Napa Valley                 4480\n",
    "                           ...  \n",
    "Bardolino Superiore            1\n",
    "Primitivo del Tarantino        1\n",
    "Name: region_1, Length: 1230, dtype: int64\n",
    "```"
   ]
  },
  {
   "cell_type": "code",
   "execution_count": 8,
   "id": "3279d910",
   "metadata": {
    "execution": {
     "iopub.execute_input": "2022-11-11T01:13:30.128886Z",
     "iopub.status.busy": "2022-11-11T01:13:30.128385Z",
     "iopub.status.idle": "2022-11-11T01:13:30.172933Z",
     "shell.execute_reply": "2022-11-11T01:13:30.171639Z"
    },
    "papermill": {
     "duration": 0.054954,
     "end_time": "2022-11-11T01:13:30.175632",
     "exception": false,
     "start_time": "2022-11-11T01:13:30.120678",
     "status": "completed"
    },
    "tags": []
   },
   "outputs": [
    {
     "data": {
      "application/javascript": [
       "parent.postMessage({\"jupyterEvent\": \"custom.exercise_interaction\", \"data\": {\"outcomeType\": 1, \"valueTowardsCompletion\": 0.25, \"interactionType\": 1, \"questionType\": 2, \"questionId\": \"4_ReviewsPerRegion\", \"learnToolsVersion\": \"0.3.4\", \"failureMessage\": \"\", \"exceptionClass\": \"\", \"trace\": \"\"}}, \"*\")"
      ],
      "text/plain": [
       "<IPython.core.display.Javascript object>"
      ]
     },
     "metadata": {},
     "output_type": "display_data"
    },
    {
     "data": {
      "text/markdown": [
       "<span style=\"color:#33cc33\">Correct</span>"
      ],
      "text/plain": [
       "Correct"
      ]
     },
     "metadata": {},
     "output_type": "display_data"
    }
   ],
   "source": [
    "reviews_per_region = reviews.region_1.fillna(\"Unknown\").value_counts().sort_values(ascending=False)\n",
    "\n",
    "# Check your answer\n",
    "q4.check()"
   ]
  },
  {
   "cell_type": "code",
   "execution_count": 9,
   "id": "21dc5ed6",
   "metadata": {
    "execution": {
     "iopub.execute_input": "2022-11-11T01:13:30.188449Z",
     "iopub.status.busy": "2022-11-11T01:13:30.188047Z",
     "iopub.status.idle": "2022-11-11T01:13:30.192789Z",
     "shell.execute_reply": "2022-11-11T01:13:30.191564Z"
    },
    "papermill": {
     "duration": 0.014113,
     "end_time": "2022-11-11T01:13:30.195239",
     "exception": false,
     "start_time": "2022-11-11T01:13:30.181126",
     "status": "completed"
    },
    "tags": []
   },
   "outputs": [],
   "source": [
    "#q4.hint()\n",
    "#q4.solution()"
   ]
  },
  {
   "cell_type": "markdown",
   "id": "c28d6557",
   "metadata": {
    "papermill": {
     "duration": 0.005429,
     "end_time": "2022-11-11T01:13:30.206177",
     "exception": false,
     "start_time": "2022-11-11T01:13:30.200748",
     "status": "completed"
    },
    "tags": []
   },
   "source": [
    "# Keep going\n",
    "\n",
    "Move on to **[renaming and combining](https://www.kaggle.com/residentmario/renaming-and-combining)**."
   ]
  },
  {
   "cell_type": "markdown",
   "id": "ed8768b2",
   "metadata": {
    "papermill": {
     "duration": 0.005208,
     "end_time": "2022-11-11T01:13:30.217009",
     "exception": false,
     "start_time": "2022-11-11T01:13:30.211801",
     "status": "completed"
    },
    "tags": []
   },
   "source": [
    "---\n",
    "\n",
    "\n",
    "\n",
    "\n",
    "*Have questions or comments? Visit the [course discussion forum](https://www.kaggle.com/learn/pandas/discussion) to chat with other learners.*"
   ]
  }
 ],
 "metadata": {
  "kernelspec": {
   "display_name": "Python 3",
   "language": "python",
   "name": "python3"
  },
  "language_info": {
   "codemirror_mode": {
    "name": "ipython",
    "version": 3
   },
   "file_extension": ".py",
   "mimetype": "text/x-python",
   "name": "python",
   "nbconvert_exporter": "python",
   "pygments_lexer": "ipython3",
   "version": "3.7.12"
  },
  "papermill": {
   "default_parameters": {},
   "duration": 14.021355,
   "end_time": "2022-11-11T01:13:30.945030",
   "environment_variables": {},
   "exception": null,
   "input_path": "__notebook__.ipynb",
   "output_path": "__notebook__.ipynb",
   "parameters": {},
   "start_time": "2022-11-11T01:13:16.923675",
   "version": "2.3.4"
  }
 },
 "nbformat": 4,
 "nbformat_minor": 5
}
