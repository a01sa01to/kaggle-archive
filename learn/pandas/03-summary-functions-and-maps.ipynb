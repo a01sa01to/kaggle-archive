{
 "cells": [
  {
   "cell_type": "markdown",
   "id": "4f8711ed",
   "metadata": {
    "papermill": {
     "duration": 0.006771,
     "end_time": "2022-11-10T06:01:27.849651",
     "exception": false,
     "start_time": "2022-11-10T06:01:27.842880",
     "status": "completed"
    },
    "tags": []
   },
   "source": [
    "**This notebook is an exercise in the [Pandas](https://www.kaggle.com/learn/pandas) course.  You can reference the tutorial at [this link](https://www.kaggle.com/residentmario/summary-functions-and-maps).**\n",
    "\n",
    "---\n"
   ]
  },
  {
   "cell_type": "markdown",
   "id": "9b724b7b",
   "metadata": {
    "papermill": {
     "duration": 0.005411,
     "end_time": "2022-11-10T06:01:27.860876",
     "exception": false,
     "start_time": "2022-11-10T06:01:27.855465",
     "status": "completed"
    },
    "tags": []
   },
   "source": [
    "# Introduction\n",
    "\n",
    "Now you are ready to get a deeper understanding of your data.\n",
    "\n",
    "Run the following cell to load your data and some utility functions (including code to check your answers)."
   ]
  },
  {
   "cell_type": "code",
   "execution_count": 1,
   "id": "126c20dd",
   "metadata": {
    "execution": {
     "iopub.execute_input": "2022-11-10T06:01:27.875870Z",
     "iopub.status.busy": "2022-11-10T06:01:27.875075Z",
     "iopub.status.idle": "2022-11-10T06:01:34.883215Z",
     "shell.execute_reply": "2022-11-10T06:01:34.881632Z"
    },
    "papermill": {
     "duration": 7.019261,
     "end_time": "2022-11-10T06:01:34.886523",
     "exception": false,
     "start_time": "2022-11-10T06:01:27.867262",
     "status": "completed"
    },
    "tags": []
   },
   "outputs": [
    {
     "name": "stdout",
     "output_type": "stream",
     "text": [
      "Setup complete.\n"
     ]
    },
    {
     "data": {
      "text/html": [
       "<div>\n",
       "<style scoped>\n",
       "    .dataframe tbody tr th:only-of-type {\n",
       "        vertical-align: middle;\n",
       "    }\n",
       "\n",
       "    .dataframe tbody tr th {\n",
       "        vertical-align: top;\n",
       "    }\n",
       "\n",
       "    .dataframe thead th {\n",
       "        text-align: right;\n",
       "    }\n",
       "</style>\n",
       "<table border=\"1\" class=\"dataframe\">\n",
       "  <thead>\n",
       "    <tr style=\"text-align: right;\">\n",
       "      <th></th>\n",
       "      <th>country</th>\n",
       "      <th>description</th>\n",
       "      <th>designation</th>\n",
       "      <th>points</th>\n",
       "      <th>price</th>\n",
       "      <th>province</th>\n",
       "      <th>region_1</th>\n",
       "      <th>region_2</th>\n",
       "      <th>taster_name</th>\n",
       "      <th>taster_twitter_handle</th>\n",
       "      <th>title</th>\n",
       "      <th>variety</th>\n",
       "      <th>winery</th>\n",
       "    </tr>\n",
       "  </thead>\n",
       "  <tbody>\n",
       "    <tr>\n",
       "      <th>0</th>\n",
       "      <td>Italy</td>\n",
       "      <td>Aromas include tropical fruit, broom, brimston...</td>\n",
       "      <td>Vulkà Bianco</td>\n",
       "      <td>87</td>\n",
       "      <td>NaN</td>\n",
       "      <td>Sicily &amp; Sardinia</td>\n",
       "      <td>Etna</td>\n",
       "      <td>NaN</td>\n",
       "      <td>Kerin O’Keefe</td>\n",
       "      <td>@kerinokeefe</td>\n",
       "      <td>Nicosia 2013 Vulkà Bianco  (Etna)</td>\n",
       "      <td>White Blend</td>\n",
       "      <td>Nicosia</td>\n",
       "    </tr>\n",
       "    <tr>\n",
       "      <th>1</th>\n",
       "      <td>Portugal</td>\n",
       "      <td>This is ripe and fruity, a wine that is smooth...</td>\n",
       "      <td>Avidagos</td>\n",
       "      <td>87</td>\n",
       "      <td>15.0</td>\n",
       "      <td>Douro</td>\n",
       "      <td>NaN</td>\n",
       "      <td>NaN</td>\n",
       "      <td>Roger Voss</td>\n",
       "      <td>@vossroger</td>\n",
       "      <td>Quinta dos Avidagos 2011 Avidagos Red (Douro)</td>\n",
       "      <td>Portuguese Red</td>\n",
       "      <td>Quinta dos Avidagos</td>\n",
       "    </tr>\n",
       "    <tr>\n",
       "      <th>2</th>\n",
       "      <td>US</td>\n",
       "      <td>Tart and snappy, the flavors of lime flesh and...</td>\n",
       "      <td>NaN</td>\n",
       "      <td>87</td>\n",
       "      <td>14.0</td>\n",
       "      <td>Oregon</td>\n",
       "      <td>Willamette Valley</td>\n",
       "      <td>Willamette Valley</td>\n",
       "      <td>Paul Gregutt</td>\n",
       "      <td>@paulgwine</td>\n",
       "      <td>Rainstorm 2013 Pinot Gris (Willamette Valley)</td>\n",
       "      <td>Pinot Gris</td>\n",
       "      <td>Rainstorm</td>\n",
       "    </tr>\n",
       "    <tr>\n",
       "      <th>3</th>\n",
       "      <td>US</td>\n",
       "      <td>Pineapple rind, lemon pith and orange blossom ...</td>\n",
       "      <td>Reserve Late Harvest</td>\n",
       "      <td>87</td>\n",
       "      <td>13.0</td>\n",
       "      <td>Michigan</td>\n",
       "      <td>Lake Michigan Shore</td>\n",
       "      <td>NaN</td>\n",
       "      <td>Alexander Peartree</td>\n",
       "      <td>NaN</td>\n",
       "      <td>St. Julian 2013 Reserve Late Harvest Riesling ...</td>\n",
       "      <td>Riesling</td>\n",
       "      <td>St. Julian</td>\n",
       "    </tr>\n",
       "    <tr>\n",
       "      <th>4</th>\n",
       "      <td>US</td>\n",
       "      <td>Much like the regular bottling from 2012, this...</td>\n",
       "      <td>Vintner's Reserve Wild Child Block</td>\n",
       "      <td>87</td>\n",
       "      <td>65.0</td>\n",
       "      <td>Oregon</td>\n",
       "      <td>Willamette Valley</td>\n",
       "      <td>Willamette Valley</td>\n",
       "      <td>Paul Gregutt</td>\n",
       "      <td>@paulgwine</td>\n",
       "      <td>Sweet Cheeks 2012 Vintner's Reserve Wild Child...</td>\n",
       "      <td>Pinot Noir</td>\n",
       "      <td>Sweet Cheeks</td>\n",
       "    </tr>\n",
       "  </tbody>\n",
       "</table>\n",
       "</div>"
      ],
      "text/plain": [
       "    country                                        description  \\\n",
       "0     Italy  Aromas include tropical fruit, broom, brimston...   \n",
       "1  Portugal  This is ripe and fruity, a wine that is smooth...   \n",
       "2        US  Tart and snappy, the flavors of lime flesh and...   \n",
       "3        US  Pineapple rind, lemon pith and orange blossom ...   \n",
       "4        US  Much like the regular bottling from 2012, this...   \n",
       "\n",
       "                          designation  points  price           province  \\\n",
       "0                        Vulkà Bianco      87    NaN  Sicily & Sardinia   \n",
       "1                            Avidagos      87   15.0              Douro   \n",
       "2                                 NaN      87   14.0             Oregon   \n",
       "3                Reserve Late Harvest      87   13.0           Michigan   \n",
       "4  Vintner's Reserve Wild Child Block      87   65.0             Oregon   \n",
       "\n",
       "              region_1           region_2         taster_name  \\\n",
       "0                 Etna                NaN       Kerin O’Keefe   \n",
       "1                  NaN                NaN          Roger Voss   \n",
       "2    Willamette Valley  Willamette Valley        Paul Gregutt   \n",
       "3  Lake Michigan Shore                NaN  Alexander Peartree   \n",
       "4    Willamette Valley  Willamette Valley        Paul Gregutt   \n",
       "\n",
       "  taster_twitter_handle                                              title  \\\n",
       "0          @kerinokeefe                  Nicosia 2013 Vulkà Bianco  (Etna)   \n",
       "1            @vossroger      Quinta dos Avidagos 2011 Avidagos Red (Douro)   \n",
       "2           @paulgwine       Rainstorm 2013 Pinot Gris (Willamette Valley)   \n",
       "3                   NaN  St. Julian 2013 Reserve Late Harvest Riesling ...   \n",
       "4           @paulgwine   Sweet Cheeks 2012 Vintner's Reserve Wild Child...   \n",
       "\n",
       "          variety               winery  \n",
       "0     White Blend              Nicosia  \n",
       "1  Portuguese Red  Quinta dos Avidagos  \n",
       "2      Pinot Gris            Rainstorm  \n",
       "3        Riesling           St. Julian  \n",
       "4      Pinot Noir         Sweet Cheeks  "
      ]
     },
     "execution_count": 1,
     "metadata": {},
     "output_type": "execute_result"
    }
   ],
   "source": [
    "import pandas as pd\n",
    "pd.set_option(\"display.max_rows\", 5)\n",
    "reviews = pd.read_csv(\"../input/wine-reviews/winemag-data-130k-v2.csv\", index_col=0)\n",
    "\n",
    "from learntools.core import binder; binder.bind(globals())\n",
    "from learntools.pandas.summary_functions_and_maps import *\n",
    "print(\"Setup complete.\")\n",
    "\n",
    "reviews.head()"
   ]
  },
  {
   "cell_type": "markdown",
   "id": "a7a69192",
   "metadata": {
    "papermill": {
     "duration": 0.005881,
     "end_time": "2022-11-10T06:01:34.898943",
     "exception": false,
     "start_time": "2022-11-10T06:01:34.893062",
     "status": "completed"
    },
    "tags": []
   },
   "source": [
    "# Exercises"
   ]
  },
  {
   "cell_type": "markdown",
   "id": "b2891e7b",
   "metadata": {
    "papermill": {
     "duration": 0.006271,
     "end_time": "2022-11-10T06:01:34.911447",
     "exception": false,
     "start_time": "2022-11-10T06:01:34.905176",
     "status": "completed"
    },
    "tags": []
   },
   "source": [
    "## 1.\n",
    "\n",
    "What is the median of the `points` column in the `reviews` DataFrame?"
   ]
  },
  {
   "cell_type": "code",
   "execution_count": 2,
   "id": "03acf484",
   "metadata": {
    "execution": {
     "iopub.execute_input": "2022-11-10T06:01:34.926094Z",
     "iopub.status.busy": "2022-11-10T06:01:34.925648Z",
     "iopub.status.idle": "2022-11-10T06:01:34.938834Z",
     "shell.execute_reply": "2022-11-10T06:01:34.937477Z"
    },
    "papermill": {
     "duration": 0.023587,
     "end_time": "2022-11-10T06:01:34.941230",
     "exception": false,
     "start_time": "2022-11-10T06:01:34.917643",
     "status": "completed"
    },
    "tags": []
   },
   "outputs": [
    {
     "data": {
      "application/javascript": [
       "parent.postMessage({\"jupyterEvent\": \"custom.exercise_interaction\", \"data\": {\"outcomeType\": 1, \"valueTowardsCompletion\": 0.14285714285714285, \"interactionType\": 1, \"questionType\": 1, \"questionId\": \"1_MedianPoints\", \"learnToolsVersion\": \"0.3.4\", \"failureMessage\": \"\", \"exceptionClass\": \"\", \"trace\": \"\"}}, \"*\")"
      ],
      "text/plain": [
       "<IPython.core.display.Javascript object>"
      ]
     },
     "metadata": {},
     "output_type": "display_data"
    },
    {
     "data": {
      "text/markdown": [
       "<span style=\"color:#33cc33\">Correct</span>"
      ],
      "text/plain": [
       "Correct"
      ]
     },
     "metadata": {},
     "output_type": "display_data"
    }
   ],
   "source": [
    "median_points = reviews.points.median()\n",
    "\n",
    "# Check your answer\n",
    "q1.check()"
   ]
  },
  {
   "cell_type": "code",
   "execution_count": 3,
   "id": "8e8d13b5",
   "metadata": {
    "execution": {
     "iopub.execute_input": "2022-11-10T06:01:34.956408Z",
     "iopub.status.busy": "2022-11-10T06:01:34.955957Z",
     "iopub.status.idle": "2022-11-10T06:01:34.960455Z",
     "shell.execute_reply": "2022-11-10T06:01:34.959322Z"
    },
    "papermill": {
     "duration": 0.014734,
     "end_time": "2022-11-10T06:01:34.962782",
     "exception": false,
     "start_time": "2022-11-10T06:01:34.948048",
     "status": "completed"
    },
    "tags": []
   },
   "outputs": [],
   "source": [
    "#q1.hint()\n",
    "#q1.solution()"
   ]
  },
  {
   "cell_type": "markdown",
   "id": "1c3465b4",
   "metadata": {
    "papermill": {
     "duration": 0.007715,
     "end_time": "2022-11-10T06:01:34.977018",
     "exception": false,
     "start_time": "2022-11-10T06:01:34.969303",
     "status": "completed"
    },
    "tags": []
   },
   "source": [
    "## 2. \n",
    "What countries are represented in the dataset? (Your answer should not include any duplicates.)"
   ]
  },
  {
   "cell_type": "code",
   "execution_count": 4,
   "id": "999fd1dd",
   "metadata": {
    "execution": {
     "iopub.execute_input": "2022-11-10T06:01:34.991703Z",
     "iopub.status.busy": "2022-11-10T06:01:34.991279Z",
     "iopub.status.idle": "2022-11-10T06:01:35.007840Z",
     "shell.execute_reply": "2022-11-10T06:01:35.006644Z"
    },
    "papermill": {
     "duration": 0.026697,
     "end_time": "2022-11-10T06:01:35.010245",
     "exception": false,
     "start_time": "2022-11-10T06:01:34.983548",
     "status": "completed"
    },
    "tags": []
   },
   "outputs": [
    {
     "data": {
      "application/javascript": [
       "parent.postMessage({\"jupyterEvent\": \"custom.exercise_interaction\", \"data\": {\"outcomeType\": 1, \"valueTowardsCompletion\": 0.14285714285714285, \"interactionType\": 1, \"questionType\": 2, \"questionId\": \"2_UniqueCountries\", \"learnToolsVersion\": \"0.3.4\", \"failureMessage\": \"\", \"exceptionClass\": \"\", \"trace\": \"\"}}, \"*\")"
      ],
      "text/plain": [
       "<IPython.core.display.Javascript object>"
      ]
     },
     "metadata": {},
     "output_type": "display_data"
    },
    {
     "data": {
      "text/markdown": [
       "<span style=\"color:#33cc33\">Correct</span>"
      ],
      "text/plain": [
       "Correct"
      ]
     },
     "metadata": {},
     "output_type": "display_data"
    }
   ],
   "source": [
    "countries = reviews.country.unique()\n",
    "\n",
    "# Check your answer\n",
    "q2.check()"
   ]
  },
  {
   "cell_type": "code",
   "execution_count": 5,
   "id": "832275ba",
   "metadata": {
    "execution": {
     "iopub.execute_input": "2022-11-10T06:01:35.025655Z",
     "iopub.status.busy": "2022-11-10T06:01:35.025241Z",
     "iopub.status.idle": "2022-11-10T06:01:35.029493Z",
     "shell.execute_reply": "2022-11-10T06:01:35.028333Z"
    },
    "papermill": {
     "duration": 0.01466,
     "end_time": "2022-11-10T06:01:35.031647",
     "exception": false,
     "start_time": "2022-11-10T06:01:35.016987",
     "status": "completed"
    },
    "tags": []
   },
   "outputs": [],
   "source": [
    "#q2.hint()\n",
    "#q2.solution()"
   ]
  },
  {
   "cell_type": "markdown",
   "id": "fdf3f901",
   "metadata": {
    "papermill": {
     "duration": 0.00643,
     "end_time": "2022-11-10T06:01:35.044882",
     "exception": false,
     "start_time": "2022-11-10T06:01:35.038452",
     "status": "completed"
    },
    "tags": []
   },
   "source": [
    "## 3.\n",
    "How often does each country appear in the dataset? Create a Series `reviews_per_country` mapping countries to the count of reviews of wines from that country."
   ]
  },
  {
   "cell_type": "code",
   "execution_count": 6,
   "id": "7d15d951",
   "metadata": {
    "execution": {
     "iopub.execute_input": "2022-11-10T06:01:35.060144Z",
     "iopub.status.busy": "2022-11-10T06:01:35.059689Z",
     "iopub.status.idle": "2022-11-10T06:01:35.076167Z",
     "shell.execute_reply": "2022-11-10T06:01:35.075332Z"
    },
    "papermill": {
     "duration": 0.026706,
     "end_time": "2022-11-10T06:01:35.078404",
     "exception": false,
     "start_time": "2022-11-10T06:01:35.051698",
     "status": "completed"
    },
    "tags": []
   },
   "outputs": [
    {
     "data": {
      "application/javascript": [
       "parent.postMessage({\"jupyterEvent\": \"custom.exercise_interaction\", \"data\": {\"outcomeType\": 1, \"valueTowardsCompletion\": 0.14285714285714285, \"interactionType\": 1, \"questionType\": 1, \"questionId\": \"3_ReviewsPerCountry\", \"learnToolsVersion\": \"0.3.4\", \"failureMessage\": \"\", \"exceptionClass\": \"\", \"trace\": \"\"}}, \"*\")"
      ],
      "text/plain": [
       "<IPython.core.display.Javascript object>"
      ]
     },
     "metadata": {},
     "output_type": "display_data"
    },
    {
     "data": {
      "text/markdown": [
       "<span style=\"color:#33cc33\">Correct</span>"
      ],
      "text/plain": [
       "Correct"
      ]
     },
     "metadata": {},
     "output_type": "display_data"
    }
   ],
   "source": [
    "reviews_per_country = reviews.country.value_counts()\n",
    "\n",
    "# Check your answer\n",
    "q3.check()"
   ]
  },
  {
   "cell_type": "code",
   "execution_count": 7,
   "id": "06ea2c82",
   "metadata": {
    "execution": {
     "iopub.execute_input": "2022-11-10T06:01:35.095034Z",
     "iopub.status.busy": "2022-11-10T06:01:35.094024Z",
     "iopub.status.idle": "2022-11-10T06:01:35.098465Z",
     "shell.execute_reply": "2022-11-10T06:01:35.097557Z"
    },
    "papermill": {
     "duration": 0.015115,
     "end_time": "2022-11-10T06:01:35.100540",
     "exception": false,
     "start_time": "2022-11-10T06:01:35.085425",
     "status": "completed"
    },
    "tags": []
   },
   "outputs": [],
   "source": [
    "#q3.hint()\n",
    "#q3.solution()"
   ]
  },
  {
   "cell_type": "markdown",
   "id": "1855c442",
   "metadata": {
    "papermill": {
     "duration": 0.006547,
     "end_time": "2022-11-10T06:01:35.114243",
     "exception": false,
     "start_time": "2022-11-10T06:01:35.107696",
     "status": "completed"
    },
    "tags": []
   },
   "source": [
    "## 4.\n",
    "Create variable `centered_price` containing a version of the `price` column with the mean price subtracted.\n",
    "\n",
    "(Note: this 'centering' transformation is a common preprocessing step before applying various machine learning algorithms.) "
   ]
  },
  {
   "cell_type": "code",
   "execution_count": 8,
   "id": "f1dcd25e",
   "metadata": {
    "execution": {
     "iopub.execute_input": "2022-11-10T06:01:35.130121Z",
     "iopub.status.busy": "2022-11-10T06:01:35.129432Z",
     "iopub.status.idle": "2022-11-10T06:01:35.140089Z",
     "shell.execute_reply": "2022-11-10T06:01:35.139041Z"
    },
    "papermill": {
     "duration": 0.021174,
     "end_time": "2022-11-10T06:01:35.142277",
     "exception": false,
     "start_time": "2022-11-10T06:01:35.121103",
     "status": "completed"
    },
    "tags": []
   },
   "outputs": [
    {
     "data": {
      "application/javascript": [
       "parent.postMessage({\"jupyterEvent\": \"custom.exercise_interaction\", \"data\": {\"outcomeType\": 1, \"valueTowardsCompletion\": 0.14285714285714285, \"interactionType\": 1, \"questionType\": 1, \"questionId\": \"4_CenteredPrice\", \"learnToolsVersion\": \"0.3.4\", \"failureMessage\": \"\", \"exceptionClass\": \"\", \"trace\": \"\"}}, \"*\")"
      ],
      "text/plain": [
       "<IPython.core.display.Javascript object>"
      ]
     },
     "metadata": {},
     "output_type": "display_data"
    },
    {
     "data": {
      "text/markdown": [
       "<span style=\"color:#33cc33\">Correct</span>"
      ],
      "text/plain": [
       "Correct"
      ]
     },
     "metadata": {},
     "output_type": "display_data"
    }
   ],
   "source": [
    "centered_price = reviews.price - reviews.price.mean()\n",
    "\n",
    "# Check your answer\n",
    "q4.check()"
   ]
  },
  {
   "cell_type": "code",
   "execution_count": 9,
   "id": "44647083",
   "metadata": {
    "execution": {
     "iopub.execute_input": "2022-11-10T06:01:35.158470Z",
     "iopub.status.busy": "2022-11-10T06:01:35.158026Z",
     "iopub.status.idle": "2022-11-10T06:01:35.162317Z",
     "shell.execute_reply": "2022-11-10T06:01:35.161227Z"
    },
    "papermill": {
     "duration": 0.015051,
     "end_time": "2022-11-10T06:01:35.164469",
     "exception": false,
     "start_time": "2022-11-10T06:01:35.149418",
     "status": "completed"
    },
    "tags": []
   },
   "outputs": [],
   "source": [
    "#q4.hint()\n",
    "#q4.solution()"
   ]
  },
  {
   "cell_type": "markdown",
   "id": "223cb27b",
   "metadata": {
    "papermill": {
     "duration": 0.006934,
     "end_time": "2022-11-10T06:01:35.178668",
     "exception": false,
     "start_time": "2022-11-10T06:01:35.171734",
     "status": "completed"
    },
    "tags": []
   },
   "source": [
    "## 5.\n",
    "I'm an economical wine buyer. Which wine is the \"best bargain\"? Create a variable `bargain_wine` with the title of the wine with the highest points-to-price ratio in the dataset."
   ]
  },
  {
   "cell_type": "code",
   "execution_count": 10,
   "id": "85952cf4",
   "metadata": {
    "execution": {
     "iopub.execute_input": "2022-11-10T06:01:35.195333Z",
     "iopub.status.busy": "2022-11-10T06:01:35.194516Z",
     "iopub.status.idle": "2022-11-10T06:01:35.205147Z",
     "shell.execute_reply": "2022-11-10T06:01:35.203996Z"
    },
    "papermill": {
     "duration": 0.021564,
     "end_time": "2022-11-10T06:01:35.207535",
     "exception": false,
     "start_time": "2022-11-10T06:01:35.185971",
     "status": "completed"
    },
    "tags": []
   },
   "outputs": [
    {
     "data": {
      "application/javascript": [
       "parent.postMessage({\"jupyterEvent\": \"custom.exercise_interaction\", \"data\": {\"outcomeType\": 1, \"valueTowardsCompletion\": 0.14285714285714285, \"interactionType\": 1, \"questionType\": 2, \"questionId\": \"5_BargainWine\", \"learnToolsVersion\": \"0.3.4\", \"failureMessage\": \"\", \"exceptionClass\": \"\", \"trace\": \"\"}}, \"*\")"
      ],
      "text/plain": [
       "<IPython.core.display.Javascript object>"
      ]
     },
     "metadata": {},
     "output_type": "display_data"
    },
    {
     "data": {
      "text/markdown": [
       "<span style=\"color:#33cc33\">Correct</span>"
      ],
      "text/plain": [
       "Correct"
      ]
     },
     "metadata": {},
     "output_type": "display_data"
    }
   ],
   "source": [
    "bargain_idx = (reviews.points / reviews.price).idxmax()\n",
    "bargain_wine = reviews[\"title\"].iloc[bargain_idx]\n",
    "\n",
    "# Check your answer\n",
    "q5.check()"
   ]
  },
  {
   "cell_type": "code",
   "execution_count": 11,
   "id": "a212b400",
   "metadata": {
    "execution": {
     "iopub.execute_input": "2022-11-10T06:01:35.225673Z",
     "iopub.status.busy": "2022-11-10T06:01:35.224665Z",
     "iopub.status.idle": "2022-11-10T06:01:35.229036Z",
     "shell.execute_reply": "2022-11-10T06:01:35.228217Z"
    },
    "papermill": {
     "duration": 0.015761,
     "end_time": "2022-11-10T06:01:35.231210",
     "exception": false,
     "start_time": "2022-11-10T06:01:35.215449",
     "status": "completed"
    },
    "tags": []
   },
   "outputs": [],
   "source": [
    "#q5.hint()\n",
    "#q5.solution()"
   ]
  },
  {
   "cell_type": "markdown",
   "id": "8e8cbb46",
   "metadata": {
    "papermill": {
     "duration": 0.007224,
     "end_time": "2022-11-10T06:01:35.246077",
     "exception": false,
     "start_time": "2022-11-10T06:01:35.238853",
     "status": "completed"
    },
    "tags": []
   },
   "source": [
    "## 6.\n",
    "There are only so many words you can use when describing a bottle of wine. Is a wine more likely to be \"tropical\" or \"fruity\"? Create a Series `descriptor_counts` counting how many times each of these two words appears in the `description` column in the dataset. (For simplicity, let's ignore the capitalized versions of these words.)"
   ]
  },
  {
   "cell_type": "code",
   "execution_count": 12,
   "id": "3abeba44",
   "metadata": {
    "execution": {
     "iopub.execute_input": "2022-11-10T06:01:35.262873Z",
     "iopub.status.busy": "2022-11-10T06:01:35.262462Z",
     "iopub.status.idle": "2022-11-10T06:01:35.410280Z",
     "shell.execute_reply": "2022-11-10T06:01:35.409312Z"
    },
    "papermill": {
     "duration": 0.159266,
     "end_time": "2022-11-10T06:01:35.412834",
     "exception": false,
     "start_time": "2022-11-10T06:01:35.253568",
     "status": "completed"
    },
    "tags": []
   },
   "outputs": [
    {
     "data": {
      "application/javascript": [
       "parent.postMessage({\"jupyterEvent\": \"custom.exercise_interaction\", \"data\": {\"outcomeType\": 1, \"valueTowardsCompletion\": 0.14285714285714285, \"interactionType\": 1, \"questionType\": 1, \"questionId\": \"6_DescriptorCounts\", \"learnToolsVersion\": \"0.3.4\", \"failureMessage\": \"\", \"exceptionClass\": \"\", \"trace\": \"\"}}, \"*\")"
      ],
      "text/plain": [
       "<IPython.core.display.Javascript object>"
      ]
     },
     "metadata": {},
     "output_type": "display_data"
    },
    {
     "data": {
      "text/markdown": [
       "<span style=\"color:#33cc33\">Correct</span>"
      ],
      "text/plain": [
       "Correct"
      ]
     },
     "metadata": {},
     "output_type": "display_data"
    }
   ],
   "source": [
    "tropical_cnt = reviews.description.map(lambda d: \"tropical\" in d).sum()\n",
    "fruity_cnt = reviews.description.map(lambda d: \"fruity\" in d).sum()\n",
    "\n",
    "descriptor_counts = pd.Series([tropical_cnt, fruity_cnt], index=[\"tropical\", \"fruity\"])\n",
    "\n",
    "# Check your answer\n",
    "q6.check()"
   ]
  },
  {
   "cell_type": "code",
   "execution_count": 13,
   "id": "a0c644cf",
   "metadata": {
    "execution": {
     "iopub.execute_input": "2022-11-10T06:01:35.430539Z",
     "iopub.status.busy": "2022-11-10T06:01:35.430168Z",
     "iopub.status.idle": "2022-11-10T06:01:35.434315Z",
     "shell.execute_reply": "2022-11-10T06:01:35.433150Z"
    },
    "papermill": {
     "duration": 0.015745,
     "end_time": "2022-11-10T06:01:35.436435",
     "exception": false,
     "start_time": "2022-11-10T06:01:35.420690",
     "status": "completed"
    },
    "tags": []
   },
   "outputs": [],
   "source": [
    "#q6.hint()\n",
    "#q6.solution()"
   ]
  },
  {
   "cell_type": "markdown",
   "id": "83d83074",
   "metadata": {
    "papermill": {
     "duration": 0.007389,
     "end_time": "2022-11-10T06:01:35.451559",
     "exception": false,
     "start_time": "2022-11-10T06:01:35.444170",
     "status": "completed"
    },
    "tags": []
   },
   "source": [
    "## 7.\n",
    "We'd like to host these wine reviews on our website, but a rating system ranging from 80 to 100 points is too hard to understand - we'd like to translate them into simple star ratings. A score of 95 or higher counts as 3 stars, a score of at least 85 but less than 95 is 2 stars. Any other score is 1 star.\n",
    "\n",
    "Also, the Canadian Vintners Association bought a lot of ads on the site, so any wines from Canada should automatically get 3 stars, regardless of points.\n",
    "\n",
    "Create a series `star_ratings` with the number of stars corresponding to each review in the dataset."
   ]
  },
  {
   "cell_type": "code",
   "execution_count": 14,
   "id": "43d5c63a",
   "metadata": {
    "execution": {
     "iopub.execute_input": "2022-11-10T06:01:35.469010Z",
     "iopub.status.busy": "2022-11-10T06:01:35.468279Z",
     "iopub.status.idle": "2022-11-10T06:01:35.532024Z",
     "shell.execute_reply": "2022-11-10T06:01:35.531145Z"
    },
    "papermill": {
     "duration": 0.075211,
     "end_time": "2022-11-10T06:01:35.534529",
     "exception": false,
     "start_time": "2022-11-10T06:01:35.459318",
     "status": "completed"
    },
    "tags": []
   },
   "outputs": [
    {
     "data": {
      "application/javascript": [
       "parent.postMessage({\"jupyterEvent\": \"custom.exercise_interaction\", \"data\": {\"outcomeType\": 1, \"valueTowardsCompletion\": 0.14285714285714285, \"interactionType\": 1, \"questionType\": 1, \"questionId\": \"7_StarRatings\", \"learnToolsVersion\": \"0.3.4\", \"failureMessage\": \"\", \"exceptionClass\": \"\", \"trace\": \"\"}}, \"*\")"
      ],
      "text/plain": [
       "<IPython.core.display.Javascript object>"
      ]
     },
     "metadata": {},
     "output_type": "display_data"
    },
    {
     "data": {
      "text/markdown": [
       "<span style=\"color:#33cc33\">Correct</span>"
      ],
      "text/plain": [
       "Correct"
      ]
     },
     "metadata": {},
     "output_type": "display_data"
    }
   ],
   "source": [
    "def score2star(score):\n",
    "    if score >= 95:\n",
    "        return 3\n",
    "    elif score >= 85:\n",
    "        return 2\n",
    "    else:\n",
    "        return 1\n",
    "\n",
    "star_ratings = reviews.points.map(score2star)\n",
    "\n",
    "# Check your answer\n",
    "q7.check()"
   ]
  },
  {
   "cell_type": "code",
   "execution_count": 15,
   "id": "63eceb6a",
   "metadata": {
    "execution": {
     "iopub.execute_input": "2022-11-10T06:01:35.552553Z",
     "iopub.status.busy": "2022-11-10T06:01:35.552150Z",
     "iopub.status.idle": "2022-11-10T06:01:35.556714Z",
     "shell.execute_reply": "2022-11-10T06:01:35.555690Z"
    },
    "papermill": {
     "duration": 0.016558,
     "end_time": "2022-11-10T06:01:35.559043",
     "exception": false,
     "start_time": "2022-11-10T06:01:35.542485",
     "status": "completed"
    },
    "tags": []
   },
   "outputs": [],
   "source": [
    "#q7.hint()\n",
    "#q7.solution()"
   ]
  },
  {
   "cell_type": "markdown",
   "id": "d4e424ed",
   "metadata": {
    "papermill": {
     "duration": 0.007624,
     "end_time": "2022-11-10T06:01:35.574828",
     "exception": false,
     "start_time": "2022-11-10T06:01:35.567204",
     "status": "completed"
    },
    "tags": []
   },
   "source": [
    "# Keep going\n",
    "Continue to **[grouping and sorting](https://www.kaggle.com/residentmario/grouping-and-sorting)**."
   ]
  },
  {
   "cell_type": "markdown",
   "id": "d0d142bd",
   "metadata": {
    "papermill": {
     "duration": 0.007604,
     "end_time": "2022-11-10T06:01:35.590423",
     "exception": false,
     "start_time": "2022-11-10T06:01:35.582819",
     "status": "completed"
    },
    "tags": []
   },
   "source": [
    "---\n",
    "\n",
    "\n",
    "\n",
    "\n",
    "*Have questions or comments? Visit the [course discussion forum](https://www.kaggle.com/learn/pandas/discussion) to chat with other learners.*"
   ]
  }
 ],
 "metadata": {
  "kernelspec": {
   "display_name": "Python 3",
   "language": "python",
   "name": "python3"
  },
  "language_info": {
   "codemirror_mode": {
    "name": "ipython",
    "version": 3
   },
   "file_extension": ".py",
   "mimetype": "text/x-python",
   "name": "python",
   "nbconvert_exporter": "python",
   "pygments_lexer": "ipython3",
   "version": "3.7.12"
  },
  "papermill": {
   "default_parameters": {},
   "duration": 16.89919,
   "end_time": "2022-11-10T06:01:36.321981",
   "environment_variables": {},
   "exception": null,
   "input_path": "__notebook__.ipynb",
   "output_path": "__notebook__.ipynb",
   "parameters": {},
   "start_time": "2022-11-10T06:01:19.422791",
   "version": "2.3.4"
  }
 },
 "nbformat": 4,
 "nbformat_minor": 5
}
