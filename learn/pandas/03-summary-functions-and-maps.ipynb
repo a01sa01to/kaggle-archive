{
 "cells": [
  {
   "cell_type": "markdown",
   "id": "24cb2dbd",
   "metadata": {
    "papermill": {
     "duration": 0.007821,
     "end_time": "2022-11-10T05:28:08.701341",
     "exception": false,
     "start_time": "2022-11-10T05:28:08.693520",
     "status": "completed"
    },
    "tags": []
   },
   "source": [
    "**This notebook is an exercise in the [Pandas](https://www.kaggle.com/learn/pandas) course.  You can reference the tutorial at [this link](https://www.kaggle.com/residentmario/summary-functions-and-maps).**\n",
    "\n",
    "---\n"
   ]
  },
  {
   "cell_type": "markdown",
   "id": "6e40aac4",
   "metadata": {
    "papermill": {
     "duration": 0.005991,
     "end_time": "2022-11-10T05:28:08.713944",
     "exception": false,
     "start_time": "2022-11-10T05:28:08.707953",
     "status": "completed"
    },
    "tags": []
   },
   "source": [
    "# Introduction\n",
    "\n",
    "Now you are ready to get a deeper understanding of your data.\n",
    "\n",
    "Run the following cell to load your data and some utility functions (including code to check your answers)."
   ]
  },
  {
   "cell_type": "code",
   "execution_count": 1,
   "id": "5c620692",
   "metadata": {
    "execution": {
     "iopub.execute_input": "2022-11-10T05:28:08.732304Z",
     "iopub.status.busy": "2022-11-10T05:28:08.731103Z",
     "iopub.status.idle": "2022-11-10T05:28:15.741854Z",
     "shell.execute_reply": "2022-11-10T05:28:15.740167Z"
    },
    "papermill": {
     "duration": 7.023997,
     "end_time": "2022-11-10T05:28:15.744791",
     "exception": false,
     "start_time": "2022-11-10T05:28:08.720794",
     "status": "completed"
    },
    "tags": []
   },
   "outputs": [
    {
     "name": "stdout",
     "output_type": "stream",
     "text": [
      "Setup complete.\n"
     ]
    },
    {
     "data": {
      "text/html": [
       "<div>\n",
       "<style scoped>\n",
       "    .dataframe tbody tr th:only-of-type {\n",
       "        vertical-align: middle;\n",
       "    }\n",
       "\n",
       "    .dataframe tbody tr th {\n",
       "        vertical-align: top;\n",
       "    }\n",
       "\n",
       "    .dataframe thead th {\n",
       "        text-align: right;\n",
       "    }\n",
       "</style>\n",
       "<table border=\"1\" class=\"dataframe\">\n",
       "  <thead>\n",
       "    <tr style=\"text-align: right;\">\n",
       "      <th></th>\n",
       "      <th>country</th>\n",
       "      <th>description</th>\n",
       "      <th>designation</th>\n",
       "      <th>points</th>\n",
       "      <th>price</th>\n",
       "      <th>province</th>\n",
       "      <th>region_1</th>\n",
       "      <th>region_2</th>\n",
       "      <th>taster_name</th>\n",
       "      <th>taster_twitter_handle</th>\n",
       "      <th>title</th>\n",
       "      <th>variety</th>\n",
       "      <th>winery</th>\n",
       "    </tr>\n",
       "  </thead>\n",
       "  <tbody>\n",
       "    <tr>\n",
       "      <th>0</th>\n",
       "      <td>Italy</td>\n",
       "      <td>Aromas include tropical fruit, broom, brimston...</td>\n",
       "      <td>Vulkà Bianco</td>\n",
       "      <td>87</td>\n",
       "      <td>NaN</td>\n",
       "      <td>Sicily &amp; Sardinia</td>\n",
       "      <td>Etna</td>\n",
       "      <td>NaN</td>\n",
       "      <td>Kerin O’Keefe</td>\n",
       "      <td>@kerinokeefe</td>\n",
       "      <td>Nicosia 2013 Vulkà Bianco  (Etna)</td>\n",
       "      <td>White Blend</td>\n",
       "      <td>Nicosia</td>\n",
       "    </tr>\n",
       "    <tr>\n",
       "      <th>1</th>\n",
       "      <td>Portugal</td>\n",
       "      <td>This is ripe and fruity, a wine that is smooth...</td>\n",
       "      <td>Avidagos</td>\n",
       "      <td>87</td>\n",
       "      <td>15.0</td>\n",
       "      <td>Douro</td>\n",
       "      <td>NaN</td>\n",
       "      <td>NaN</td>\n",
       "      <td>Roger Voss</td>\n",
       "      <td>@vossroger</td>\n",
       "      <td>Quinta dos Avidagos 2011 Avidagos Red (Douro)</td>\n",
       "      <td>Portuguese Red</td>\n",
       "      <td>Quinta dos Avidagos</td>\n",
       "    </tr>\n",
       "    <tr>\n",
       "      <th>2</th>\n",
       "      <td>US</td>\n",
       "      <td>Tart and snappy, the flavors of lime flesh and...</td>\n",
       "      <td>NaN</td>\n",
       "      <td>87</td>\n",
       "      <td>14.0</td>\n",
       "      <td>Oregon</td>\n",
       "      <td>Willamette Valley</td>\n",
       "      <td>Willamette Valley</td>\n",
       "      <td>Paul Gregutt</td>\n",
       "      <td>@paulgwine</td>\n",
       "      <td>Rainstorm 2013 Pinot Gris (Willamette Valley)</td>\n",
       "      <td>Pinot Gris</td>\n",
       "      <td>Rainstorm</td>\n",
       "    </tr>\n",
       "    <tr>\n",
       "      <th>3</th>\n",
       "      <td>US</td>\n",
       "      <td>Pineapple rind, lemon pith and orange blossom ...</td>\n",
       "      <td>Reserve Late Harvest</td>\n",
       "      <td>87</td>\n",
       "      <td>13.0</td>\n",
       "      <td>Michigan</td>\n",
       "      <td>Lake Michigan Shore</td>\n",
       "      <td>NaN</td>\n",
       "      <td>Alexander Peartree</td>\n",
       "      <td>NaN</td>\n",
       "      <td>St. Julian 2013 Reserve Late Harvest Riesling ...</td>\n",
       "      <td>Riesling</td>\n",
       "      <td>St. Julian</td>\n",
       "    </tr>\n",
       "    <tr>\n",
       "      <th>4</th>\n",
       "      <td>US</td>\n",
       "      <td>Much like the regular bottling from 2012, this...</td>\n",
       "      <td>Vintner's Reserve Wild Child Block</td>\n",
       "      <td>87</td>\n",
       "      <td>65.0</td>\n",
       "      <td>Oregon</td>\n",
       "      <td>Willamette Valley</td>\n",
       "      <td>Willamette Valley</td>\n",
       "      <td>Paul Gregutt</td>\n",
       "      <td>@paulgwine</td>\n",
       "      <td>Sweet Cheeks 2012 Vintner's Reserve Wild Child...</td>\n",
       "      <td>Pinot Noir</td>\n",
       "      <td>Sweet Cheeks</td>\n",
       "    </tr>\n",
       "  </tbody>\n",
       "</table>\n",
       "</div>"
      ],
      "text/plain": [
       "    country                                        description  \\\n",
       "0     Italy  Aromas include tropical fruit, broom, brimston...   \n",
       "1  Portugal  This is ripe and fruity, a wine that is smooth...   \n",
       "2        US  Tart and snappy, the flavors of lime flesh and...   \n",
       "3        US  Pineapple rind, lemon pith and orange blossom ...   \n",
       "4        US  Much like the regular bottling from 2012, this...   \n",
       "\n",
       "                          designation  points  price           province  \\\n",
       "0                        Vulkà Bianco      87    NaN  Sicily & Sardinia   \n",
       "1                            Avidagos      87   15.0              Douro   \n",
       "2                                 NaN      87   14.0             Oregon   \n",
       "3                Reserve Late Harvest      87   13.0           Michigan   \n",
       "4  Vintner's Reserve Wild Child Block      87   65.0             Oregon   \n",
       "\n",
       "              region_1           region_2         taster_name  \\\n",
       "0                 Etna                NaN       Kerin O’Keefe   \n",
       "1                  NaN                NaN          Roger Voss   \n",
       "2    Willamette Valley  Willamette Valley        Paul Gregutt   \n",
       "3  Lake Michigan Shore                NaN  Alexander Peartree   \n",
       "4    Willamette Valley  Willamette Valley        Paul Gregutt   \n",
       "\n",
       "  taster_twitter_handle                                              title  \\\n",
       "0          @kerinokeefe                  Nicosia 2013 Vulkà Bianco  (Etna)   \n",
       "1            @vossroger      Quinta dos Avidagos 2011 Avidagos Red (Douro)   \n",
       "2           @paulgwine       Rainstorm 2013 Pinot Gris (Willamette Valley)   \n",
       "3                   NaN  St. Julian 2013 Reserve Late Harvest Riesling ...   \n",
       "4           @paulgwine   Sweet Cheeks 2012 Vintner's Reserve Wild Child...   \n",
       "\n",
       "          variety               winery  \n",
       "0     White Blend              Nicosia  \n",
       "1  Portuguese Red  Quinta dos Avidagos  \n",
       "2      Pinot Gris            Rainstorm  \n",
       "3        Riesling           St. Julian  \n",
       "4      Pinot Noir         Sweet Cheeks  "
      ]
     },
     "execution_count": 1,
     "metadata": {},
     "output_type": "execute_result"
    }
   ],
   "source": [
    "import pandas as pd\n",
    "pd.set_option(\"display.max_rows\", 5)\n",
    "reviews = pd.read_csv(\"../input/wine-reviews/winemag-data-130k-v2.csv\", index_col=0)\n",
    "\n",
    "from learntools.core import binder; binder.bind(globals())\n",
    "from learntools.pandas.summary_functions_and_maps import *\n",
    "print(\"Setup complete.\")\n",
    "\n",
    "reviews.head()"
   ]
  },
  {
   "cell_type": "markdown",
   "id": "010537d0",
   "metadata": {
    "papermill": {
     "duration": 0.005519,
     "end_time": "2022-11-10T05:28:15.756582",
     "exception": false,
     "start_time": "2022-11-10T05:28:15.751063",
     "status": "completed"
    },
    "tags": []
   },
   "source": [
    "# Exercises"
   ]
  },
  {
   "cell_type": "markdown",
   "id": "3c91da89",
   "metadata": {
    "papermill": {
     "duration": 0.005351,
     "end_time": "2022-11-10T05:28:15.767569",
     "exception": false,
     "start_time": "2022-11-10T05:28:15.762218",
     "status": "completed"
    },
    "tags": []
   },
   "source": [
    "## 1.\n",
    "\n",
    "What is the median of the `points` column in the `reviews` DataFrame?"
   ]
  },
  {
   "cell_type": "code",
   "execution_count": 2,
   "id": "01584fa5",
   "metadata": {
    "execution": {
     "iopub.execute_input": "2022-11-10T05:28:15.781159Z",
     "iopub.status.busy": "2022-11-10T05:28:15.780138Z",
     "iopub.status.idle": "2022-11-10T05:28:15.789822Z",
     "shell.execute_reply": "2022-11-10T05:28:15.788581Z"
    },
    "papermill": {
     "duration": 0.019102,
     "end_time": "2022-11-10T05:28:15.792293",
     "exception": false,
     "start_time": "2022-11-10T05:28:15.773191",
     "status": "completed"
    },
    "tags": []
   },
   "outputs": [
    {
     "data": {
      "application/javascript": [
       "parent.postMessage({\"jupyterEvent\": \"custom.exercise_interaction\", \"data\": {\"outcomeType\": 4, \"interactionType\": 1, \"questionType\": 1, \"questionId\": \"1_MedianPoints\", \"learnToolsVersion\": \"0.3.4\", \"valueTowardsCompletion\": 0.0, \"failureMessage\": \"\", \"exceptionClass\": \"\", \"trace\": \"\"}}, \"*\")"
      ],
      "text/plain": [
       "<IPython.core.display.Javascript object>"
      ]
     },
     "metadata": {},
     "output_type": "display_data"
    },
    {
     "data": {
      "text/markdown": [
       "<span style=\"color:#ccaa33\">Check:</span> When you've updated the starter code, `check()` will tell you whether your code is correct. You need to update the code that creates variable `median_points`"
      ],
      "text/plain": [
       "Check: When you've updated the starter code, `check()` will tell you whether your code is correct. You need to update the code that creates variable `median_points`"
      ]
     },
     "metadata": {},
     "output_type": "display_data"
    }
   ],
   "source": [
    "median_points = ____\n",
    "\n",
    "# Check your answer\n",
    "q1.check()"
   ]
  },
  {
   "cell_type": "code",
   "execution_count": 3,
   "id": "bea9ac90",
   "metadata": {
    "execution": {
     "iopub.execute_input": "2022-11-10T05:28:15.805852Z",
     "iopub.status.busy": "2022-11-10T05:28:15.805133Z",
     "iopub.status.idle": "2022-11-10T05:28:15.809925Z",
     "shell.execute_reply": "2022-11-10T05:28:15.808835Z"
    },
    "papermill": {
     "duration": 0.014124,
     "end_time": "2022-11-10T05:28:15.812300",
     "exception": false,
     "start_time": "2022-11-10T05:28:15.798176",
     "status": "completed"
    },
    "tags": []
   },
   "outputs": [],
   "source": [
    "#q1.hint()\n",
    "#q1.solution()"
   ]
  },
  {
   "cell_type": "markdown",
   "id": "33a3ed71",
   "metadata": {
    "papermill": {
     "duration": 0.007297,
     "end_time": "2022-11-10T05:28:15.825626",
     "exception": false,
     "start_time": "2022-11-10T05:28:15.818329",
     "status": "completed"
    },
    "tags": []
   },
   "source": [
    "## 2. \n",
    "What countries are represented in the dataset? (Your answer should not include any duplicates.)"
   ]
  },
  {
   "cell_type": "code",
   "execution_count": 4,
   "id": "ccead9d3",
   "metadata": {
    "execution": {
     "iopub.execute_input": "2022-11-10T05:28:15.839473Z",
     "iopub.status.busy": "2022-11-10T05:28:15.838684Z",
     "iopub.status.idle": "2022-11-10T05:28:15.846694Z",
     "shell.execute_reply": "2022-11-10T05:28:15.845861Z"
    },
    "papermill": {
     "duration": 0.017206,
     "end_time": "2022-11-10T05:28:15.848737",
     "exception": false,
     "start_time": "2022-11-10T05:28:15.831531",
     "status": "completed"
    },
    "tags": []
   },
   "outputs": [
    {
     "data": {
      "application/javascript": [
       "parent.postMessage({\"jupyterEvent\": \"custom.exercise_interaction\", \"data\": {\"outcomeType\": 4, \"interactionType\": 1, \"questionType\": 2, \"questionId\": \"2_UniqueCountries\", \"learnToolsVersion\": \"0.3.4\", \"valueTowardsCompletion\": 0.0, \"failureMessage\": \"\", \"exceptionClass\": \"\", \"trace\": \"\"}}, \"*\")"
      ],
      "text/plain": [
       "<IPython.core.display.Javascript object>"
      ]
     },
     "metadata": {},
     "output_type": "display_data"
    },
    {
     "data": {
      "text/markdown": [
       "<span style=\"color:#ccaa33\">Check:</span> When you've updated the starter code, `check()` will tell you whether your code is correct. You need to update the code that creates variable `countries`"
      ],
      "text/plain": [
       "Check: When you've updated the starter code, `check()` will tell you whether your code is correct. You need to update the code that creates variable `countries`"
      ]
     },
     "metadata": {},
     "output_type": "display_data"
    }
   ],
   "source": [
    "countries = ____\n",
    "\n",
    "# Check your answer\n",
    "q2.check()"
   ]
  },
  {
   "cell_type": "code",
   "execution_count": 5,
   "id": "fbd791e1",
   "metadata": {
    "execution": {
     "iopub.execute_input": "2022-11-10T05:28:15.864646Z",
     "iopub.status.busy": "2022-11-10T05:28:15.863899Z",
     "iopub.status.idle": "2022-11-10T05:28:15.867958Z",
     "shell.execute_reply": "2022-11-10T05:28:15.867042Z"
    },
    "papermill": {
     "duration": 0.014713,
     "end_time": "2022-11-10T05:28:15.870272",
     "exception": false,
     "start_time": "2022-11-10T05:28:15.855559",
     "status": "completed"
    },
    "tags": []
   },
   "outputs": [],
   "source": [
    "#q2.hint()\n",
    "#q2.solution()"
   ]
  },
  {
   "cell_type": "markdown",
   "id": "a194711a",
   "metadata": {
    "papermill": {
     "duration": 0.00686,
     "end_time": "2022-11-10T05:28:15.883668",
     "exception": false,
     "start_time": "2022-11-10T05:28:15.876808",
     "status": "completed"
    },
    "tags": []
   },
   "source": [
    "## 3.\n",
    "How often does each country appear in the dataset? Create a Series `reviews_per_country` mapping countries to the count of reviews of wines from that country."
   ]
  },
  {
   "cell_type": "code",
   "execution_count": 6,
   "id": "134a6248",
   "metadata": {
    "execution": {
     "iopub.execute_input": "2022-11-10T05:28:15.898463Z",
     "iopub.status.busy": "2022-11-10T05:28:15.897741Z",
     "iopub.status.idle": "2022-11-10T05:28:15.905903Z",
     "shell.execute_reply": "2022-11-10T05:28:15.904936Z"
    },
    "papermill": {
     "duration": 0.01822,
     "end_time": "2022-11-10T05:28:15.908166",
     "exception": false,
     "start_time": "2022-11-10T05:28:15.889946",
     "status": "completed"
    },
    "tags": []
   },
   "outputs": [
    {
     "data": {
      "application/javascript": [
       "parent.postMessage({\"jupyterEvent\": \"custom.exercise_interaction\", \"data\": {\"outcomeType\": 4, \"interactionType\": 1, \"questionType\": 1, \"questionId\": \"3_ReviewsPerCountry\", \"learnToolsVersion\": \"0.3.4\", \"valueTowardsCompletion\": 0.0, \"failureMessage\": \"\", \"exceptionClass\": \"\", \"trace\": \"\"}}, \"*\")"
      ],
      "text/plain": [
       "<IPython.core.display.Javascript object>"
      ]
     },
     "metadata": {},
     "output_type": "display_data"
    },
    {
     "data": {
      "text/markdown": [
       "<span style=\"color:#ccaa33\">Check:</span> When you've updated the starter code, `check()` will tell you whether your code is correct. You need to update the code that creates variable `reviews_per_country`"
      ],
      "text/plain": [
       "Check: When you've updated the starter code, `check()` will tell you whether your code is correct. You need to update the code that creates variable `reviews_per_country`"
      ]
     },
     "metadata": {},
     "output_type": "display_data"
    }
   ],
   "source": [
    "reviews_per_country = ____\n",
    "\n",
    "# Check your answer\n",
    "q3.check()"
   ]
  },
  {
   "cell_type": "code",
   "execution_count": 7,
   "id": "4ef21949",
   "metadata": {
    "execution": {
     "iopub.execute_input": "2022-11-10T05:28:15.923373Z",
     "iopub.status.busy": "2022-11-10T05:28:15.922960Z",
     "iopub.status.idle": "2022-11-10T05:28:15.927132Z",
     "shell.execute_reply": "2022-11-10T05:28:15.926318Z"
    },
    "papermill": {
     "duration": 0.014144,
     "end_time": "2022-11-10T05:28:15.929176",
     "exception": false,
     "start_time": "2022-11-10T05:28:15.915032",
     "status": "completed"
    },
    "tags": []
   },
   "outputs": [],
   "source": [
    "#q3.hint()\n",
    "#q3.solution()"
   ]
  },
  {
   "cell_type": "markdown",
   "id": "642d88d7",
   "metadata": {
    "papermill": {
     "duration": 0.006842,
     "end_time": "2022-11-10T05:28:15.943113",
     "exception": false,
     "start_time": "2022-11-10T05:28:15.936271",
     "status": "completed"
    },
    "tags": []
   },
   "source": [
    "## 4.\n",
    "Create variable `centered_price` containing a version of the `price` column with the mean price subtracted.\n",
    "\n",
    "(Note: this 'centering' transformation is a common preprocessing step before applying various machine learning algorithms.) "
   ]
  },
  {
   "cell_type": "code",
   "execution_count": 8,
   "id": "6030c27c",
   "metadata": {
    "execution": {
     "iopub.execute_input": "2022-11-10T05:28:15.958702Z",
     "iopub.status.busy": "2022-11-10T05:28:15.957964Z",
     "iopub.status.idle": "2022-11-10T05:28:15.966206Z",
     "shell.execute_reply": "2022-11-10T05:28:15.965040Z"
    },
    "papermill": {
     "duration": 0.018536,
     "end_time": "2022-11-10T05:28:15.968362",
     "exception": false,
     "start_time": "2022-11-10T05:28:15.949826",
     "status": "completed"
    },
    "tags": []
   },
   "outputs": [
    {
     "data": {
      "application/javascript": [
       "parent.postMessage({\"jupyterEvent\": \"custom.exercise_interaction\", \"data\": {\"outcomeType\": 4, \"interactionType\": 1, \"questionType\": 1, \"questionId\": \"4_CenteredPrice\", \"learnToolsVersion\": \"0.3.4\", \"valueTowardsCompletion\": 0.0, \"failureMessage\": \"\", \"exceptionClass\": \"\", \"trace\": \"\"}}, \"*\")"
      ],
      "text/plain": [
       "<IPython.core.display.Javascript object>"
      ]
     },
     "metadata": {},
     "output_type": "display_data"
    },
    {
     "data": {
      "text/markdown": [
       "<span style=\"color:#ccaa33\">Check:</span> When you've updated the starter code, `check()` will tell you whether your code is correct. You need to update the code that creates variable `centered_price`"
      ],
      "text/plain": [
       "Check: When you've updated the starter code, `check()` will tell you whether your code is correct. You need to update the code that creates variable `centered_price`"
      ]
     },
     "metadata": {},
     "output_type": "display_data"
    }
   ],
   "source": [
    "centered_price = ____\n",
    "\n",
    "# Check your answer\n",
    "q4.check()"
   ]
  },
  {
   "cell_type": "code",
   "execution_count": 9,
   "id": "b9e7ecca",
   "metadata": {
    "execution": {
     "iopub.execute_input": "2022-11-10T05:28:15.984538Z",
     "iopub.status.busy": "2022-11-10T05:28:15.983749Z",
     "iopub.status.idle": "2022-11-10T05:28:15.988484Z",
     "shell.execute_reply": "2022-11-10T05:28:15.987353Z"
    },
    "papermill": {
     "duration": 0.015401,
     "end_time": "2022-11-10T05:28:15.990755",
     "exception": false,
     "start_time": "2022-11-10T05:28:15.975354",
     "status": "completed"
    },
    "tags": []
   },
   "outputs": [],
   "source": [
    "#q4.hint()\n",
    "#q4.solution()"
   ]
  },
  {
   "cell_type": "markdown",
   "id": "0ce7f4c7",
   "metadata": {
    "papermill": {
     "duration": 0.007145,
     "end_time": "2022-11-10T05:28:16.005811",
     "exception": false,
     "start_time": "2022-11-10T05:28:15.998666",
     "status": "completed"
    },
    "tags": []
   },
   "source": [
    "## 5.\n",
    "I'm an economical wine buyer. Which wine is the \"best bargain\"? Create a variable `bargain_wine` with the title of the wine with the highest points-to-price ratio in the dataset."
   ]
  },
  {
   "cell_type": "code",
   "execution_count": 10,
   "id": "d1d20fad",
   "metadata": {
    "execution": {
     "iopub.execute_input": "2022-11-10T05:28:16.021953Z",
     "iopub.status.busy": "2022-11-10T05:28:16.021363Z",
     "iopub.status.idle": "2022-11-10T05:28:16.029315Z",
     "shell.execute_reply": "2022-11-10T05:28:16.028564Z"
    },
    "papermill": {
     "duration": 0.018579,
     "end_time": "2022-11-10T05:28:16.031452",
     "exception": false,
     "start_time": "2022-11-10T05:28:16.012873",
     "status": "completed"
    },
    "tags": []
   },
   "outputs": [
    {
     "data": {
      "application/javascript": [
       "parent.postMessage({\"jupyterEvent\": \"custom.exercise_interaction\", \"data\": {\"outcomeType\": 4, \"interactionType\": 1, \"questionType\": 2, \"questionId\": \"5_BargainWine\", \"learnToolsVersion\": \"0.3.4\", \"valueTowardsCompletion\": 0.0, \"failureMessage\": \"\", \"exceptionClass\": \"\", \"trace\": \"\"}}, \"*\")"
      ],
      "text/plain": [
       "<IPython.core.display.Javascript object>"
      ]
     },
     "metadata": {},
     "output_type": "display_data"
    },
    {
     "data": {
      "text/markdown": [
       "<span style=\"color:#ccaa33\">Check:</span> When you've updated the starter code, `check()` will tell you whether your code is correct. You need to update the code that creates variable `bargain_wine`"
      ],
      "text/plain": [
       "Check: When you've updated the starter code, `check()` will tell you whether your code is correct. You need to update the code that creates variable `bargain_wine`"
      ]
     },
     "metadata": {},
     "output_type": "display_data"
    }
   ],
   "source": [
    "bargain_wine = ____\n",
    "\n",
    "# Check your answer\n",
    "q5.check()"
   ]
  },
  {
   "cell_type": "code",
   "execution_count": 11,
   "id": "cd0d586e",
   "metadata": {
    "execution": {
     "iopub.execute_input": "2022-11-10T05:28:16.048411Z",
     "iopub.status.busy": "2022-11-10T05:28:16.047699Z",
     "iopub.status.idle": "2022-11-10T05:28:16.051393Z",
     "shell.execute_reply": "2022-11-10T05:28:16.050643Z"
    },
    "papermill": {
     "duration": 0.014629,
     "end_time": "2022-11-10T05:28:16.053402",
     "exception": false,
     "start_time": "2022-11-10T05:28:16.038773",
     "status": "completed"
    },
    "tags": []
   },
   "outputs": [],
   "source": [
    "#q5.hint()\n",
    "#q5.solution()"
   ]
  },
  {
   "cell_type": "markdown",
   "id": "1aa30bc6",
   "metadata": {
    "papermill": {
     "duration": 0.007067,
     "end_time": "2022-11-10T05:28:16.067803",
     "exception": false,
     "start_time": "2022-11-10T05:28:16.060736",
     "status": "completed"
    },
    "tags": []
   },
   "source": [
    "## 6.\n",
    "There are only so many words you can use when describing a bottle of wine. Is a wine more likely to be \"tropical\" or \"fruity\"? Create a Series `descriptor_counts` counting how many times each of these two words appears in the `description` column in the dataset. (For simplicity, let's ignore the capitalized versions of these words.)"
   ]
  },
  {
   "cell_type": "code",
   "execution_count": 12,
   "id": "1f0d2ca1",
   "metadata": {
    "execution": {
     "iopub.execute_input": "2022-11-10T05:28:16.085963Z",
     "iopub.status.busy": "2022-11-10T05:28:16.085226Z",
     "iopub.status.idle": "2022-11-10T05:28:16.093773Z",
     "shell.execute_reply": "2022-11-10T05:28:16.092435Z"
    },
    "papermill": {
     "duration": 0.02094,
     "end_time": "2022-11-10T05:28:16.096415",
     "exception": false,
     "start_time": "2022-11-10T05:28:16.075475",
     "status": "completed"
    },
    "tags": []
   },
   "outputs": [
    {
     "data": {
      "application/javascript": [
       "parent.postMessage({\"jupyterEvent\": \"custom.exercise_interaction\", \"data\": {\"outcomeType\": 4, \"interactionType\": 1, \"questionType\": 1, \"questionId\": \"6_DescriptorCounts\", \"learnToolsVersion\": \"0.3.4\", \"valueTowardsCompletion\": 0.0, \"failureMessage\": \"\", \"exceptionClass\": \"\", \"trace\": \"\"}}, \"*\")"
      ],
      "text/plain": [
       "<IPython.core.display.Javascript object>"
      ]
     },
     "metadata": {},
     "output_type": "display_data"
    },
    {
     "data": {
      "text/markdown": [
       "<span style=\"color:#ccaa33\">Check:</span> When you've updated the starter code, `check()` will tell you whether your code is correct. You need to update the code that creates variable `descriptor_counts`"
      ],
      "text/plain": [
       "Check: When you've updated the starter code, `check()` will tell you whether your code is correct. You need to update the code that creates variable `descriptor_counts`"
      ]
     },
     "metadata": {},
     "output_type": "display_data"
    }
   ],
   "source": [
    "descriptor_counts = ____\n",
    "\n",
    "# Check your answer\n",
    "q6.check()"
   ]
  },
  {
   "cell_type": "code",
   "execution_count": 13,
   "id": "a97a30e0",
   "metadata": {
    "execution": {
     "iopub.execute_input": "2022-11-10T05:28:16.115026Z",
     "iopub.status.busy": "2022-11-10T05:28:16.114590Z",
     "iopub.status.idle": "2022-11-10T05:28:16.120746Z",
     "shell.execute_reply": "2022-11-10T05:28:16.118818Z"
    },
    "papermill": {
     "duration": 0.01929,
     "end_time": "2022-11-10T05:28:16.123638",
     "exception": false,
     "start_time": "2022-11-10T05:28:16.104348",
     "status": "completed"
    },
    "tags": []
   },
   "outputs": [],
   "source": [
    "#q6.hint()\n",
    "#q6.solution()"
   ]
  },
  {
   "cell_type": "markdown",
   "id": "130e81e7",
   "metadata": {
    "papermill": {
     "duration": 0.00766,
     "end_time": "2022-11-10T05:28:16.139295",
     "exception": false,
     "start_time": "2022-11-10T05:28:16.131635",
     "status": "completed"
    },
    "tags": []
   },
   "source": [
    "## 7.\n",
    "We'd like to host these wine reviews on our website, but a rating system ranging from 80 to 100 points is too hard to understand - we'd like to translate them into simple star ratings. A score of 95 or higher counts as 3 stars, a score of at least 85 but less than 95 is 2 stars. Any other score is 1 star.\n",
    "\n",
    "Also, the Canadian Vintners Association bought a lot of ads on the site, so any wines from Canada should automatically get 3 stars, regardless of points.\n",
    "\n",
    "Create a series `star_ratings` with the number of stars corresponding to each review in the dataset."
   ]
  },
  {
   "cell_type": "code",
   "execution_count": 14,
   "id": "d0cc81ba",
   "metadata": {
    "execution": {
     "iopub.execute_input": "2022-11-10T05:28:16.157335Z",
     "iopub.status.busy": "2022-11-10T05:28:16.156765Z",
     "iopub.status.idle": "2022-11-10T05:28:16.168180Z",
     "shell.execute_reply": "2022-11-10T05:28:16.166861Z"
    },
    "papermill": {
     "duration": 0.023964,
     "end_time": "2022-11-10T05:28:16.171003",
     "exception": false,
     "start_time": "2022-11-10T05:28:16.147039",
     "status": "completed"
    },
    "tags": []
   },
   "outputs": [
    {
     "data": {
      "application/javascript": [
       "parent.postMessage({\"jupyterEvent\": \"custom.exercise_interaction\", \"data\": {\"outcomeType\": 4, \"interactionType\": 1, \"questionType\": 1, \"questionId\": \"7_StarRatings\", \"learnToolsVersion\": \"0.3.4\", \"valueTowardsCompletion\": 0.0, \"failureMessage\": \"\", \"exceptionClass\": \"\", \"trace\": \"\"}}, \"*\")"
      ],
      "text/plain": [
       "<IPython.core.display.Javascript object>"
      ]
     },
     "metadata": {},
     "output_type": "display_data"
    },
    {
     "data": {
      "text/markdown": [
       "<span style=\"color:#ccaa33\">Check:</span> When you've updated the starter code, `check()` will tell you whether your code is correct. You need to update the code that creates variable `star_ratings`"
      ],
      "text/plain": [
       "Check: When you've updated the starter code, `check()` will tell you whether your code is correct. You need to update the code that creates variable `star_ratings`"
      ]
     },
     "metadata": {},
     "output_type": "display_data"
    }
   ],
   "source": [
    "star_ratings = ____\n",
    "\n",
    "# Check your answer\n",
    "q7.check()"
   ]
  },
  {
   "cell_type": "code",
   "execution_count": 15,
   "id": "8eac09aa",
   "metadata": {
    "execution": {
     "iopub.execute_input": "2022-11-10T05:28:16.189936Z",
     "iopub.status.busy": "2022-11-10T05:28:16.189427Z",
     "iopub.status.idle": "2022-11-10T05:28:16.195291Z",
     "shell.execute_reply": "2022-11-10T05:28:16.193529Z"
    },
    "papermill": {
     "duration": 0.018287,
     "end_time": "2022-11-10T05:28:16.197931",
     "exception": false,
     "start_time": "2022-11-10T05:28:16.179644",
     "status": "completed"
    },
    "tags": []
   },
   "outputs": [],
   "source": [
    "#q7.hint()\n",
    "#q7.solution()"
   ]
  },
  {
   "cell_type": "markdown",
   "id": "5048481a",
   "metadata": {
    "papermill": {
     "duration": 0.008071,
     "end_time": "2022-11-10T05:28:16.214331",
     "exception": false,
     "start_time": "2022-11-10T05:28:16.206260",
     "status": "completed"
    },
    "tags": []
   },
   "source": [
    "# Keep going\n",
    "Continue to **[grouping and sorting](https://www.kaggle.com/residentmario/grouping-and-sorting)**."
   ]
  },
  {
   "cell_type": "markdown",
   "id": "af714ba4",
   "metadata": {
    "papermill": {
     "duration": 0.008255,
     "end_time": "2022-11-10T05:28:16.230785",
     "exception": false,
     "start_time": "2022-11-10T05:28:16.222530",
     "status": "completed"
    },
    "tags": []
   },
   "source": [
    "---\n",
    "\n",
    "\n",
    "\n",
    "\n",
    "*Have questions or comments? Visit the [course discussion forum](https://www.kaggle.com/learn/pandas/discussion) to chat with other learners.*"
   ]
  }
 ],
 "metadata": {
  "kernelspec": {
   "display_name": "Python 3",
   "language": "python",
   "name": "python3"
  },
  "language_info": {
   "codemirror_mode": {
    "name": "ipython",
    "version": 3
   },
   "file_extension": ".py",
   "mimetype": "text/x-python",
   "name": "python",
   "nbconvert_exporter": "python",
   "pygments_lexer": "ipython3",
   "version": "3.7.12"
  },
  "papermill": {
   "default_parameters": {},
   "duration": 19.239032,
   "end_time": "2022-11-10T05:28:16.963684",
   "environment_variables": {},
   "exception": null,
   "input_path": "__notebook__.ipynb",
   "output_path": "__notebook__.ipynb",
   "parameters": {},
   "start_time": "2022-11-10T05:27:57.724652",
   "version": "2.3.4"
  }
 },
 "nbformat": 4,
 "nbformat_minor": 5
}
